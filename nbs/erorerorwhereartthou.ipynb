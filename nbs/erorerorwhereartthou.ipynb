{
 "cells": [
  {
   "cell_type": "code",
   "execution_count": 1,
   "metadata": {},
   "outputs": [],
   "source": [
    "import matplotlib.pyplot as plt\n",
    "import numpy as np\n",
    "import pandas as pd\n",
    "import itertools\n",
    "import seaborn as sns\n",
    "import pickle\n",
    "import joblib\n",
    "import os\n",
    "\n",
    "from sklearn.metrics import mean_squared_error, r2_score, mean_absolute_error\n",
    "from sklearn.neighbors import KNeighborsRegressor\n",
    "from sklearn.linear_model import LinearRegression\n",
    "from sklearn.model_selection import GridSearchCV, RandomizedSearchCV\n",
    "from sklearn.ensemble import RandomForestRegressor"
   ]
  },
  {
   "cell_type": "code",
   "execution_count": 6,
   "metadata": {},
   "outputs": [],
   "source": [
    "def load_dataset(folder_name):\n"
   ]
  },
  {
   "cell_type": "code",
   "execution_count": 8,
   "metadata": {},
   "outputs": [],
   "source": [
    "# load dataset\n",
    "folder_name = 'hot_norm'\n",
    "\n",
    "with open(f'../data/{folder_name}/train.pkl', 'rb') as f:\n",
    "    X_train, y_train = pickle.load(f)\n",
    "with open(f'../data/{folder_name}/val.pkl', 'rb') as f:\n",
    "    X_val, y_val = pickle.load(f)\n",
    "with open(f'../data/{folder_name}/test.pkl', 'rb') as f:\n",
    "    X_test, y_test = pickle.load(f)\n",
    "\n",
    "with open(f'../data/scaler_y.pkl', 'rb') as f:\n",
    "    scaler_y = pickle.load(f)\n"
   ]
  },
  {
   "cell_type": "code",
   "execution_count": 9,
   "metadata": {},
   "outputs": [],
   "source": [
    "original = []\n",
    "\n",
    "# Load model\n",
    "knn = KNeighborsRegressor(n_neighbors=5)\n",
    "# Fit model\n",
    "knn.fit(X_train, y_train)\n",
    "# Zip data and labels\n",
    "for x, y, nsplit in zip([X_train, X_val, X_test], [y_train, y_val, y_test], ['train', 'val', 'test']):\n",
    "    # Make predictions                \n",
    "    preds = knn.predict(x)\n",
    "    # Inverse transform normalized predictions\n",
    "    preds_original = scaler_y.inverse_transform(preds.reshape(-1, 1)).flatten()\n",
    "    # Inverse transform true values\n",
    "    y_original = scaler_y.inverse_transform(y.reshape(-1, 1)).flatten()\n",
    "    # Get MAE\n",
    "    mae = mean_absolute_error(y_original, preds_original)\n",
    "    # Append to performances\n",
    "    original.append({\n",
    "        'model': 'KNN-5',\n",
    "        'split': nsplit,\n",
    "        'mae': mae.round(4),\n",
    "        'preds': preds_original,\n",
    "        'y': y_original\n",
    "    })"
   ]
  },
  {
   "cell_type": "code",
   "execution_count": 10,
   "metadata": {},
   "outputs": [
    {
     "name": "stdout",
     "output_type": "stream",
     "text": [
      "Model      | Split |   MAE\n",
      "KNN-5      | train | 55.0942\n",
      "KNN-5      | val   | 69.2441\n",
      "KNN-5      | test  | 69.4657\n"
     ]
    }
   ],
   "source": [
    "# Define the models and splits we are interested in\n",
    "models_of_interest = ['KNN-5']\n",
    "splits_of_interest = ['train', 'val', 'test']\n",
    "\n",
    "# Header for the output\n",
    "print(f\"{'Model':<10} | {'Split':<5} | {'MAE':>5}\")\n",
    "\n",
    "# Loop through each model and split to print the MAE scores\n",
    "for model in models_of_interest:\n",
    "    for split in splits_of_interest:\n",
    "        # Find the relevant performance entry\n",
    "        entry = next((item for item in original if item['model'] == model and item['split'] == split), None)\n",
    "        if entry is not None:\n",
    "            # Print the model, split, and MAE score\n",
    "            print(f\"{model:<10} | {split:<5} | {entry['mae']:>5.4f}\")\n",
    "        else:\n",
    "            # Handle cases where no entry is found\n",
    "            print(f\"{model:<10} | {split:<5} | {'N/A':>5}\")\n"
   ]
  }
 ],
 "metadata": {
  "kernelspec": {
   "display_name": "airbnb",
   "language": "python",
   "name": "airbnb"
  },
  "language_info": {
   "codemirror_mode": {
    "name": "ipython",
    "version": 3
   },
   "file_extension": ".py",
   "mimetype": "text/x-python",
   "name": "python",
   "nbconvert_exporter": "python",
   "pygments_lexer": "ipython3",
   "version": "3.10.12"
  },
  "orig_nbformat": 4
 },
 "nbformat": 4,
 "nbformat_minor": 2
}
