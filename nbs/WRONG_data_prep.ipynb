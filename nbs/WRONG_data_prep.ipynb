{
 "cells": [
  {
   "cell_type": "code",
   "execution_count": 39,
   "metadata": {},
   "outputs": [],
   "source": [
    "import pandas as pd\n",
    "import os\n",
    "import pickle\n",
    "import numpy as np\n",
    "import joblib\n",
    "\n",
    "from sklearn.preprocessing import MinMaxScaler\n",
    "from sklearn.model_selection import train_test_split\n",
    "\n",
    "import matplotlib.pyplot as plt\n",
    "import numpy as np\n",
    "import pandas as pd\n",
    "import itertools\n",
    "import seaborn as sns\n",
    "import pickle\n",
    "import joblib\n",
    "import os\n",
    "\n",
    "from sklearn.metrics import mean_squared_error, r2_score, mean_absolute_error\n",
    "from sklearn.neighbors import KNeighborsRegressor\n",
    "from sklearn.linear_model import LinearRegression\n",
    "from sklearn.model_selection import GridSearchCV, RandomizedSearchCV\n",
    "from sklearn.ensemble import RandomForestRegressor"
   ]
  },
  {
   "cell_type": "markdown",
   "metadata": {},
   "source": [
    "# Save df"
   ]
  },
  {
   "cell_type": "code",
   "execution_count": 40,
   "metadata": {},
   "outputs": [],
   "source": [
    "# load the data\n",
    "data = pd.read_csv('../data/clean_data.csv')\n",
    "\n",
    "# Start by selecting only the chosen columns\n",
    "data = data[['realSum','room_type', 'person_capacity', 'biz', 'bedrooms', 'dist', 'metro_dist', 'city', 'period', 'attr_index', 'GDP']]\n",
    "\n",
    "hot_cols = ['room_type', 'city', 'period'] # Columns to one-hot encode\n",
    "\n",
    "norm_cols = ['person_capacity', # Columns to normalize\n",
    "            'bedrooms',\n",
    "            'dist',\n",
    "            'metro_dist',\n",
    "            'attr_index',\n",
    "            'GDP'] "
   ]
  },
  {
   "cell_type": "code",
   "execution_count": null,
   "metadata": {},
   "outputs": [],
   "source": []
  },
  {
   "cell_type": "markdown",
   "metadata": {},
   "source": [
    "# Split data"
   ]
  },
  {
   "cell_type": "code",
   "execution_count": 41,
   "metadata": {},
   "outputs": [],
   "source": [
    "y = data[['realSum']]\n",
    "X = data.drop(columns='realSum')\n",
    "\n"
   ]
  },
  {
   "cell_type": "markdown",
   "metadata": {},
   "source": [
    "# Encoding and scaling"
   ]
  },
  {
   "cell_type": "code",
   "execution_count": 42,
   "metadata": {},
   "outputs": [],
   "source": [
    "def one_hot_encode(df, categorical_cols):\n",
    "    return pd.get_dummies(df, columns=categorical_cols)\n",
    "\n",
    "def preprocess_data(X, categorical_cols, numerical_cols, y):\n",
    "    # One-hot encoded data\n",
    "    X_hot = one_hot_encode(X.copy(), categorical_cols)\n",
    "\n",
    "    del X_hot['period_Weekdays']\n",
    "\n",
    "    # Convert all Boolean columns to integers (0 and 1)\n",
    "    for col in X_hot.columns:\n",
    "        if X_hot[col].dtype == bool:\n",
    "            X_hot[col] = X_hot[col].astype(int)\n",
    "    \n",
    "    # delete the column ['period_Weekdays']\n",
    "   # X_hot = X_hot.drop(columns=['period_Weekdays'])\n",
    "\n",
    "    \n",
    "    hot = (X_hot, y)\n",
    "    \n",
    "    # Normalized data \n",
    "    scaler_X = MinMaxScaler()\n",
    "    X_hot_norm = scaler_X.fit_transform(X_hot.copy())\n",
    "\n",
    "    scaler_y = MinMaxScaler()\n",
    "    y_hot_norm = scaler_y.fit_transform(y.copy())\n",
    "    \n",
    "    # Collect the final datasets\n",
    "    hot_norm = (X_hot_norm, y_hot_norm)\n",
    "    \n",
    "    return hot, hot_norm, scaler_X, scaler_y\n",
    "\n",
    "\n"
   ]
  },
  {
   "cell_type": "code",
   "execution_count": 43,
   "metadata": {},
   "outputs": [],
   "source": [
    "\n",
    "\n",
    "# Preprocess data\n",
    "hot, hot_norm, scaler_X, scaler_y = preprocess_data(X=X, y=y,\n",
    "                                                    categorical_cols=hot_cols, \n",
    "                                                    numerical_cols=norm_cols)\n",
    "\n"
   ]
  },
  {
   "cell_type": "code",
   "execution_count": 44,
   "metadata": {},
   "outputs": [
    {
     "data": {
      "text/plain": [
       "array([[0.5, 1. , 0.1, ..., 0. , 0. , 0. ],\n",
       "       [0. , 0. , 0.1, ..., 0. , 0. , 0. ],\n",
       "       [0.5, 1. , 0.1, ..., 0. , 0. , 0. ],\n",
       "       ...,\n",
       "       [1. , 0. , 0.3, ..., 1. , 0. , 1. ],\n",
       "       [0.5, 0. , 0.1, ..., 1. , 0. , 1. ],\n",
       "       [1. , 1. , 0.2, ..., 1. , 0. , 1. ]])"
      ]
     },
     "execution_count": 44,
     "metadata": {},
     "output_type": "execute_result"
    }
   ],
   "source": [
    "hot_norm[0]"
   ]
  },
  {
   "cell_type": "code",
   "execution_count": 45,
   "metadata": {},
   "outputs": [],
   "source": [
    "# 15% saved for testing\n",
    "X_train, X_test, y_train, y_test = train_test_split(hot_norm[0], \n",
    "                                                    hot_norm[1], \n",
    "                                                    test_size=0.15, \n",
    "                                                    random_state=42)\n",
    "\n",
    "# 15% of the remaining saved for validation\n",
    "X_train, X_val, y_train, y_val = train_test_split(X_train, \n",
    "                                                  y_train,\n",
    "                                                  test_size=X_test.shape[0] / X_train.shape[0],  \n",
    "                                                  random_state=42)"
   ]
  },
  {
   "cell_type": "code",
   "execution_count": 46,
   "metadata": {},
   "outputs": [],
   "source": [
    "original = []\n",
    "\n",
    "# Load model\n",
    "knn = KNeighborsRegressor(n_neighbors=5)\n",
    "# Fit model\n",
    "knn.fit(X_train, y_train)\n",
    "# Zip data and labels\n",
    "for x, y, nsplit in zip([X_train, X_val, X_test], [y_train, y_val, y_test], ['train', 'val', 'test']):\n",
    "    # Make predictions                \n",
    "    preds = knn.predict(x)\n",
    "    # Inverse transform normalized predictions\n",
    "    preds_original = scaler_y.inverse_transform(preds.reshape(-1, 1)).flatten()\n",
    "    # Inverse transform true values\n",
    "    y_original = scaler_y.inverse_transform(y.reshape(-1, 1)).flatten()\n",
    "    # Get MAE\n",
    "    mae = mean_absolute_error(y_original, preds_original)\n",
    "    # Append to performances\n",
    "    original.append({\n",
    "        'model': 'KNN-5',\n",
    "        'split': nsplit,\n",
    "        'mae': mae.round(4),\n",
    "        'preds': preds_original,\n",
    "        'y': y_original\n",
    "    })"
   ]
  },
  {
   "cell_type": "code",
   "execution_count": 47,
   "metadata": {},
   "outputs": [
    {
     "name": "stdout",
     "output_type": "stream",
     "text": [
      "Model      | Split |   MAE\n",
      "KNN-5      | train | 55.3467\n",
      "KNN-5      | val   | 69.3309\n",
      "KNN-5      | test  | 69.8080\n"
     ]
    }
   ],
   "source": [
    "# Define the models and splits we are interested in\n",
    "models_of_interest = ['KNN-5']\n",
    "splits_of_interest = ['train', 'val', 'test']\n",
    "\n",
    "# Header for the output\n",
    "print(f\"{'Model':<10} | {'Split':<5} | {'MAE':>5}\")\n",
    "\n",
    "# Loop through each model and split to print the MAE scores\n",
    "for model in models_of_interest:\n",
    "    for split in splits_of_interest:\n",
    "        # Find the relevant performance entry\n",
    "        entry = next((item for item in original if item['model'] == model and item['split'] == split), None)\n",
    "        if entry is not None:\n",
    "            # Print the model, split, and MAE score\n",
    "            print(f\"{model:<10} | {split:<5} | {entry['mae']:>5.4f}\")\n",
    "        else:\n",
    "            # Handle cases where no entry is found\n",
    "            print(f\"{model:<10} | {split:<5} | {'N/A':>5}\")\n"
   ]
  }
 ],
 "metadata": {
  "kernelspec": {
   "display_name": "airbnb",
   "language": "python",
   "name": "airbnb"
  },
  "language_info": {
   "codemirror_mode": {
    "name": "ipython",
    "version": 3
   },
   "file_extension": ".py",
   "mimetype": "text/x-python",
   "name": "python",
   "nbconvert_exporter": "python",
   "pygments_lexer": "ipython3",
   "version": "3.10.12"
  },
  "orig_nbformat": 4
 },
 "nbformat": 4,
 "nbformat_minor": 2
}
