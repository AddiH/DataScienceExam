{
 "cells": [
  {
   "cell_type": "code",
   "execution_count": 1,
   "metadata": {},
   "outputs": [],
   "source": [
    "import matplotlib.pyplot as plt\n",
    "import numpy as np\n",
    "import pandas as pd\n",
    "import itertools\n",
    "import seaborn as sns\n",
    "import pickle\n",
    "import joblib\n",
    "import os\n",
    "\n",
    "from sklearn.metrics import mean_squared_error, r2_score, mean_absolute_error\n",
    "from sklearn.neighbors import KNeighborsRegressor\n",
    "from sklearn.linear_model import LinearRegression\n",
    "from sklearn.model_selection import GridSearchCV, RandomizedSearchCV\n",
    "from sklearn.ensemble import RandomForestRegressor\n",
    "from sklearn.tree import DecisionTreeRegressor"
   ]
  },
  {
   "cell_type": "markdown",
   "metadata": {},
   "source": [
    "# Functions"
   ]
  },
  {
   "cell_type": "code",
   "execution_count": 2,
   "metadata": {},
   "outputs": [],
   "source": [
    "def save_model(model, model_path):\n",
    "    with open(model_path, 'wb') as f:\n",
    "        pickle.dump(model, f)\n",
    "\n",
    "def load_model(model_path):\n",
    "    with open(model_path, 'rb') as f:\n",
    "        return pickle.load(f)\n",
    "\n",
    "def load_dataset(folder_name):\n",
    "    with open(f'../data/{folder_name}/train.pkl', 'rb') as f:\n",
    "        X_train, y_train = pickle.load(f)\n",
    "    with open(f'../data/{folder_name}/val.pkl', 'rb') as f:\n",
    "        X_val, y_val = pickle.load(f)\n",
    "    with open(f'../data/{folder_name}/test.pkl', 'rb') as f:\n",
    "        X_test, y_test = pickle.load(f)\n",
    "    \n",
    "    scaler_y = None\n",
    "    if folder_name in ['norm', 'hot_norm']:\n",
    "        with open(f'../data/scaler_y.pkl', 'rb') as f:\n",
    "            scaler_y = pickle.load(f)\n",
    "    \n",
    "    return X_train, X_val, X_test, y_train, y_val, y_test, scaler_y\n",
    "\n",
    "def evaluate_model(model, model_path, X_train, X_val, X_test, y_train, y_val, y_test, scaler_y=None, dataset_name=''):\n",
    "    performances = []\n",
    "    data_splits = [(X_train, y_train, 'train'), (X_val, y_val, 'val'), (X_test, y_test, 'test')]\n",
    "    \n",
    "    for x, y, nsplit in data_splits:\n",
    "        preds = model.predict(x)\n",
    "        r2 = r2_score(y, preds)\n",
    "        rmse = np.sqrt(mean_squared_error(y, preds))\n",
    "        mae = mean_absolute_error(y, preds)\n",
    "        \n",
    "        # Update model name to include number of neighbors, weights, and metric if KNN\n",
    "        model_name = model.__class__.__name__\n",
    "        if model_name == 'KNeighborsRegressor':\n",
    "            model_name += f\" (k={model.n_neighbors}, weights={model.weights}, metric={model.metric})\"\n",
    "        if model_name == 'DecisionTreeRegressor':\n",
    "            model_name += f\" (max_depth={model.max_depth}, min_samples_split={model.min_samples_split}, min_samples_leaf={model.min_samples_leaf})\"\n",
    "        if model_name == 'RandomForestRegressor':\n",
    "            model_name += f\" (n_estimators={model.n_estimators}, max_depth={model.max_depth}, min_samples_split={model.min_samples_split}, min_samples_leaf={model.min_samples_leaf})\"\n",
    "\n",
    "        performances.append({\n",
    "            'model': model_name,\n",
    "            'dataset': dataset_name,\n",
    "            'split': nsplit,\n",
    "            'rmse': rmse.round(4),\n",
    "            'mae': mae.round(4),\n",
    "            'r2': r2.round(4),\n",
    "            'inversed': False,\n",
    "            'model_path': model_path\n",
    "        })\n",
    "        \n",
    "        if scaler_y is not None:\n",
    "            preds_original = scaler_y.inverse_transform(preds.reshape(-1, 1)).flatten()\n",
    "            y_original = scaler_y.inverse_transform(y.reshape(-1, 1)).flatten()\n",
    "            \n",
    "            r2_original = r2_score(y_original, preds_original)\n",
    "            rmse_original = np.sqrt(mean_squared_error(y_original, preds_original))\n",
    "            mae_original = mean_absolute_error(y_original, preds_original)\n",
    "            \n",
    "            performances.append({\n",
    "                'model': model_name,\n",
    "                'dataset': dataset_name,\n",
    "                'split': nsplit,\n",
    "                'rmse': rmse_original.round(4),\n",
    "                'mae': mae_original.round(4),\n",
    "                'r2': r2_original.round(4),\n",
    "                'inversed': True,\n",
    "                'model_path': model_path\n",
    "            })\n",
    "    \n",
    "    return performances\n",
    "\n",
    "# Custom grid search function\n",
    "def custom_grid_search_knn(X_train, y_train, param_grid, dataset_name):\n",
    "    model_dir = '../models'\n",
    "    os.makedirs(model_dir, exist_ok=True)\n",
    "    \n",
    "    for params in param_grid:\n",
    "        knn = KNeighborsRegressor(**params)\n",
    "        knn.fit(X_train, y_train)\n",
    "        \n",
    "        model_path = os.path.join(model_dir, f'knn_{params[\"n_neighbors\"]}_neighbors_{params[\"weights\"]}_{params[\"metric\"]}_{dataset_name}.pkl')\n",
    "        save_model(knn, model_path)\n",
    "        print(f\"Trained and saved KNeighborsRegressor model with parameters {params} to {model_path}\")\n",
    "\n",
    "# Custom grid search function for Decision Tree\n",
    "def custom_grid_search_dt(X_train, y_train, param_grid, dataset_name):\n",
    "    model_dir = '../models'\n",
    "    os.makedirs(model_dir, exist_ok=True)\n",
    "    \n",
    "    for params in param_grid:\n",
    "        dt = DecisionTreeRegressor(**params)\n",
    "        dt.fit(X_train, y_train)\n",
    "        \n",
    "        model_path = os.path.join(model_dir, f'dt_{params[\"max_depth\"]}_depth_{params[\"min_samples_split\"]}_minsplit_{params[\"min_samples_leaf\"]}_minleaf_{dataset_name}.pkl')\n",
    "        save_model(dt, model_path)\n",
    "        print(f\"Trained and saved DecisionTreeRegressor model with parameters {params} to {model_path}\")\n",
    "\n",
    "# Custom grid search function for Random Forest\n",
    "def custom_grid_search_rf(X_train, y_train, param_grid, dataset_name):\n",
    "    model_dir = '../models'\n",
    "    os.makedirs(model_dir, exist_ok=True)\n",
    "    \n",
    "    for params in param_grid:\n",
    "        rf = RandomForestRegressor(**params)\n",
    "        rf.fit(X_train, y_train)\n",
    "        \n",
    "        model_path = os.path.join(model_dir, f'rf_{params[\"n_estimators\"]}_estimators_{params[\"max_depth\"]}_depth_{params[\"min_samples_split\"]}_minsplit_{params[\"min_samples_leaf\"]}_minleaf_{dataset_name}.pkl')\n",
    "        save_model(rf, model_path)\n",
    "        print(f\"Trained and saved RandomForestRegressor model with parameters {params} to {model_path}\")\n",
    "\n"
   ]
  },
  {
   "cell_type": "markdown",
   "metadata": {},
   "source": [
    "# Fit models"
   ]
  },
  {
   "cell_type": "markdown",
   "metadata": {},
   "source": [
    "# KNN"
   ]
  },
  {
   "cell_type": "code",
   "execution_count": null,
   "metadata": {},
   "outputs": [],
   "source": [
    "# Define parameter grid for KNN\n",
    "param_grid_knn = [{'n_neighbors': k, 'weights': w, 'metric': m} for k in [5, 15, 20, 25, 30, 50] for w in ['uniform', 'distance'] for m in ['euclidean', 'manhattan']]\n",
    "\n",
    "# Initialize a list to store all performances\n",
    "all_performances = []\n",
    "\n",
    "# List of dataset names and their corresponding folder names\n",
    "dataset_names = ['hot_norm']\n",
    "\n",
    "# Load each dataset and perform custom grid search\n",
    "for dataset_name in dataset_names:\n",
    "    X_train, X_val, X_test, y_train, y_val, y_test, scaler_y = load_dataset(dataset_name)\n",
    "    custom_grid_search_knn(X_train, y_train, param_grid_knn, dataset_name)\n",
    "    \n",
    "    # Evaluate all saved models\n",
    "    for params in param_grid_knn:\n",
    "        model_path = os.path.join('../models', f'knn_{params[\"n_neighbors\"]}_neighbors_{params[\"weights\"]}_{params[\"metric\"]}_{dataset_name}.pkl')\n",
    "        knn = load_model(model_path)\n",
    "        performances = evaluate_model(knn, model_path, X_train, X_val, X_test, y_train, y_val, y_test, scaler_y=scaler_y, dataset_name=dataset_name)\n",
    "        all_performances.extend(performances)\n",
    "\n",
    "# Display performances\n",
    "for performance in all_performances:\n",
    "    print(performance)\n",
    "\n",
    "# Save performances to a CSV file\n",
    "perf_df = pd.DataFrame(all_performances)\n",
    "perf_df.to_csv('../data/knn_performances.csv', index=False)\n"
   ]
  },
  {
   "cell_type": "markdown",
   "metadata": {},
   "source": [
    "# Descision tree"
   ]
  },
  {
   "cell_type": "code",
   "execution_count": null,
   "metadata": {},
   "outputs": [],
   "source": [
    "\n",
    "# Define parameter grid for Decision Tree\n",
    "param_grid_dt = [{'max_depth': d, 'min_samples_split': s, 'min_samples_leaf': l} for d in [None, 10, 20, 30, 40] for s in [2, 10, 20, 30] for l in [1, 5, 10, 20]]\n",
    "\n",
    "# Initialize a list to store all performances\n",
    "all_performances = []\n",
    "\n",
    "# List of dataset names and their corresponding folder names\n",
    "dataset_names = ['hot']\n",
    "\n",
    "# Load each dataset and perform custom grid search\n",
    "for dataset_name in dataset_names:\n",
    "    X_train, X_val, X_test, y_train, y_val, y_test, scaler_y = load_dataset(dataset_name)\n",
    "    \n",
    "    # Decision Tree Grid Search\n",
    "    custom_grid_search_dt(X_train, y_train, param_grid_dt, dataset_name)\n",
    "    \n",
    "    # Evaluate all saved Decision Tree models\n",
    "    for params in param_grid_dt:\n",
    "        model_path = os.path.join('../models', f'dt_{params[\"max_depth\"]}_depth_{params[\"min_samples_split\"]}_minsplit_{params[\"min_samples_leaf\"]}_minleaf_{dataset_name}.pkl')\n",
    "        dt = load_model(model_path)\n",
    "        performances = evaluate_model(dt, model_path, X_train, X_val, X_test, y_train, y_val, y_test, scaler_y=scaler_y, dataset_name=dataset_name)\n",
    "        all_performances.extend(performances)\n",
    "\n",
    "# Display performances\n",
    "for performance in all_performances:\n",
    "    print(performance)\n",
    "\n",
    "# Turn into pd.DataFrame\n",
    "perf_df = pd.DataFrame(all_performances)\n",
    "\n",
    "# Save performances to a CSV file\n",
    "perf_df.to_csv('../data/dt_performances.csv', index=False)\n"
   ]
  },
  {
   "cell_type": "markdown",
   "metadata": {},
   "source": [
    "# Random forest"
   ]
  },
  {
   "cell_type": "code",
   "execution_count": 3,
   "metadata": {},
   "outputs": [
    {
     "name": "stderr",
     "output_type": "stream",
     "text": [
      "/work/Exam/DataScienceExam/env/airbnb/lib/python3.10/site-packages/sklearn/base.py:1474: DataConversionWarning: A column-vector y was passed when a 1d array was expected. Please change the shape of y to (n_samples,), for example using ravel().\n",
      "  return fit_method(estimator, *args, **kwargs)\n"
     ]
    },
    {
     "name": "stdout",
     "output_type": "stream",
     "text": [
      "Trained and saved RandomForestRegressor model with parameters {'n_estimators': 100, 'max_depth': None, 'min_samples_split': 2, 'min_samples_leaf': 1} to ../models/rf_100_estimators_None_depth_2_minsplit_1_minleaf_hot.pkl\n"
     ]
    },
    {
     "name": "stderr",
     "output_type": "stream",
     "text": [
      "/work/Exam/DataScienceExam/env/airbnb/lib/python3.10/site-packages/sklearn/base.py:1474: DataConversionWarning: A column-vector y was passed when a 1d array was expected. Please change the shape of y to (n_samples,), for example using ravel().\n",
      "  return fit_method(estimator, *args, **kwargs)\n"
     ]
    },
    {
     "name": "stdout",
     "output_type": "stream",
     "text": [
      "Trained and saved RandomForestRegressor model with parameters {'n_estimators': 100, 'max_depth': None, 'min_samples_split': 2, 'min_samples_leaf': 5} to ../models/rf_100_estimators_None_depth_2_minsplit_5_minleaf_hot.pkl\n"
     ]
    },
    {
     "name": "stderr",
     "output_type": "stream",
     "text": [
      "/work/Exam/DataScienceExam/env/airbnb/lib/python3.10/site-packages/sklearn/base.py:1474: DataConversionWarning: A column-vector y was passed when a 1d array was expected. Please change the shape of y to (n_samples,), for example using ravel().\n",
      "  return fit_method(estimator, *args, **kwargs)\n"
     ]
    },
    {
     "name": "stdout",
     "output_type": "stream",
     "text": [
      "Trained and saved RandomForestRegressor model with parameters {'n_estimators': 100, 'max_depth': None, 'min_samples_split': 2, 'min_samples_leaf': 10} to ../models/rf_100_estimators_None_depth_2_minsplit_10_minleaf_hot.pkl\n"
     ]
    },
    {
     "name": "stderr",
     "output_type": "stream",
     "text": [
      "/work/Exam/DataScienceExam/env/airbnb/lib/python3.10/site-packages/sklearn/base.py:1474: DataConversionWarning: A column-vector y was passed when a 1d array was expected. Please change the shape of y to (n_samples,), for example using ravel().\n",
      "  return fit_method(estimator, *args, **kwargs)\n"
     ]
    },
    {
     "name": "stdout",
     "output_type": "stream",
     "text": [
      "Trained and saved RandomForestRegressor model with parameters {'n_estimators': 100, 'max_depth': None, 'min_samples_split': 2, 'min_samples_leaf': 20} to ../models/rf_100_estimators_None_depth_2_minsplit_20_minleaf_hot.pkl\n"
     ]
    },
    {
     "name": "stderr",
     "output_type": "stream",
     "text": [
      "/work/Exam/DataScienceExam/env/airbnb/lib/python3.10/site-packages/sklearn/base.py:1474: DataConversionWarning: A column-vector y was passed when a 1d array was expected. Please change the shape of y to (n_samples,), for example using ravel().\n",
      "  return fit_method(estimator, *args, **kwargs)\n"
     ]
    },
    {
     "name": "stdout",
     "output_type": "stream",
     "text": [
      "Trained and saved RandomForestRegressor model with parameters {'n_estimators': 100, 'max_depth': None, 'min_samples_split': 10, 'min_samples_leaf': 1} to ../models/rf_100_estimators_None_depth_10_minsplit_1_minleaf_hot.pkl\n"
     ]
    },
    {
     "name": "stderr",
     "output_type": "stream",
     "text": [
      "/work/Exam/DataScienceExam/env/airbnb/lib/python3.10/site-packages/sklearn/base.py:1474: DataConversionWarning: A column-vector y was passed when a 1d array was expected. Please change the shape of y to (n_samples,), for example using ravel().\n",
      "  return fit_method(estimator, *args, **kwargs)\n"
     ]
    },
    {
     "name": "stdout",
     "output_type": "stream",
     "text": [
      "Trained and saved RandomForestRegressor model with parameters {'n_estimators': 100, 'max_depth': None, 'min_samples_split': 10, 'min_samples_leaf': 5} to ../models/rf_100_estimators_None_depth_10_minsplit_5_minleaf_hot.pkl\n"
     ]
    },
    {
     "name": "stderr",
     "output_type": "stream",
     "text": [
      "/work/Exam/DataScienceExam/env/airbnb/lib/python3.10/site-packages/sklearn/base.py:1474: DataConversionWarning: A column-vector y was passed when a 1d array was expected. Please change the shape of y to (n_samples,), for example using ravel().\n",
      "  return fit_method(estimator, *args, **kwargs)\n"
     ]
    },
    {
     "name": "stdout",
     "output_type": "stream",
     "text": [
      "Trained and saved RandomForestRegressor model with parameters {'n_estimators': 100, 'max_depth': None, 'min_samples_split': 10, 'min_samples_leaf': 10} to ../models/rf_100_estimators_None_depth_10_minsplit_10_minleaf_hot.pkl\n"
     ]
    },
    {
     "name": "stderr",
     "output_type": "stream",
     "text": [
      "/work/Exam/DataScienceExam/env/airbnb/lib/python3.10/site-packages/sklearn/base.py:1474: DataConversionWarning: A column-vector y was passed when a 1d array was expected. Please change the shape of y to (n_samples,), for example using ravel().\n",
      "  return fit_method(estimator, *args, **kwargs)\n"
     ]
    },
    {
     "name": "stdout",
     "output_type": "stream",
     "text": [
      "Trained and saved RandomForestRegressor model with parameters {'n_estimators': 100, 'max_depth': None, 'min_samples_split': 10, 'min_samples_leaf': 20} to ../models/rf_100_estimators_None_depth_10_minsplit_20_minleaf_hot.pkl\n"
     ]
    },
    {
     "name": "stderr",
     "output_type": "stream",
     "text": [
      "/work/Exam/DataScienceExam/env/airbnb/lib/python3.10/site-packages/sklearn/base.py:1474: DataConversionWarning: A column-vector y was passed when a 1d array was expected. Please change the shape of y to (n_samples,), for example using ravel().\n",
      "  return fit_method(estimator, *args, **kwargs)\n"
     ]
    },
    {
     "name": "stdout",
     "output_type": "stream",
     "text": [
      "Trained and saved RandomForestRegressor model with parameters {'n_estimators': 100, 'max_depth': None, 'min_samples_split': 20, 'min_samples_leaf': 1} to ../models/rf_100_estimators_None_depth_20_minsplit_1_minleaf_hot.pkl\n"
     ]
    },
    {
     "name": "stderr",
     "output_type": "stream",
     "text": [
      "/work/Exam/DataScienceExam/env/airbnb/lib/python3.10/site-packages/sklearn/base.py:1474: DataConversionWarning: A column-vector y was passed when a 1d array was expected. Please change the shape of y to (n_samples,), for example using ravel().\n",
      "  return fit_method(estimator, *args, **kwargs)\n"
     ]
    },
    {
     "name": "stdout",
     "output_type": "stream",
     "text": [
      "Trained and saved RandomForestRegressor model with parameters {'n_estimators': 100, 'max_depth': None, 'min_samples_split': 20, 'min_samples_leaf': 5} to ../models/rf_100_estimators_None_depth_20_minsplit_5_minleaf_hot.pkl\n"
     ]
    },
    {
     "name": "stderr",
     "output_type": "stream",
     "text": [
      "/work/Exam/DataScienceExam/env/airbnb/lib/python3.10/site-packages/sklearn/base.py:1474: DataConversionWarning: A column-vector y was passed when a 1d array was expected. Please change the shape of y to (n_samples,), for example using ravel().\n",
      "  return fit_method(estimator, *args, **kwargs)\n"
     ]
    },
    {
     "name": "stdout",
     "output_type": "stream",
     "text": [
      "Trained and saved RandomForestRegressor model with parameters {'n_estimators': 100, 'max_depth': None, 'min_samples_split': 20, 'min_samples_leaf': 10} to ../models/rf_100_estimators_None_depth_20_minsplit_10_minleaf_hot.pkl\n"
     ]
    },
    {
     "name": "stderr",
     "output_type": "stream",
     "text": [
      "/work/Exam/DataScienceExam/env/airbnb/lib/python3.10/site-packages/sklearn/base.py:1474: DataConversionWarning: A column-vector y was passed when a 1d array was expected. Please change the shape of y to (n_samples,), for example using ravel().\n",
      "  return fit_method(estimator, *args, **kwargs)\n"
     ]
    },
    {
     "name": "stdout",
     "output_type": "stream",
     "text": [
      "Trained and saved RandomForestRegressor model with parameters {'n_estimators': 100, 'max_depth': None, 'min_samples_split': 20, 'min_samples_leaf': 20} to ../models/rf_100_estimators_None_depth_20_minsplit_20_minleaf_hot.pkl\n"
     ]
    },
    {
     "name": "stderr",
     "output_type": "stream",
     "text": [
      "/work/Exam/DataScienceExam/env/airbnb/lib/python3.10/site-packages/sklearn/base.py:1474: DataConversionWarning: A column-vector y was passed when a 1d array was expected. Please change the shape of y to (n_samples,), for example using ravel().\n",
      "  return fit_method(estimator, *args, **kwargs)\n"
     ]
    },
    {
     "name": "stdout",
     "output_type": "stream",
     "text": [
      "Trained and saved RandomForestRegressor model with parameters {'n_estimators': 100, 'max_depth': None, 'min_samples_split': 30, 'min_samples_leaf': 1} to ../models/rf_100_estimators_None_depth_30_minsplit_1_minleaf_hot.pkl\n"
     ]
    },
    {
     "name": "stderr",
     "output_type": "stream",
     "text": [
      "/work/Exam/DataScienceExam/env/airbnb/lib/python3.10/site-packages/sklearn/base.py:1474: DataConversionWarning: A column-vector y was passed when a 1d array was expected. Please change the shape of y to (n_samples,), for example using ravel().\n",
      "  return fit_method(estimator, *args, **kwargs)\n"
     ]
    },
    {
     "name": "stdout",
     "output_type": "stream",
     "text": [
      "Trained and saved RandomForestRegressor model with parameters {'n_estimators': 100, 'max_depth': None, 'min_samples_split': 30, 'min_samples_leaf': 5} to ../models/rf_100_estimators_None_depth_30_minsplit_5_minleaf_hot.pkl\n"
     ]
    },
    {
     "name": "stderr",
     "output_type": "stream",
     "text": [
      "/work/Exam/DataScienceExam/env/airbnb/lib/python3.10/site-packages/sklearn/base.py:1474: DataConversionWarning: A column-vector y was passed when a 1d array was expected. Please change the shape of y to (n_samples,), for example using ravel().\n",
      "  return fit_method(estimator, *args, **kwargs)\n"
     ]
    },
    {
     "name": "stdout",
     "output_type": "stream",
     "text": [
      "Trained and saved RandomForestRegressor model with parameters {'n_estimators': 100, 'max_depth': None, 'min_samples_split': 30, 'min_samples_leaf': 10} to ../models/rf_100_estimators_None_depth_30_minsplit_10_minleaf_hot.pkl\n"
     ]
    },
    {
     "name": "stderr",
     "output_type": "stream",
     "text": [
      "/work/Exam/DataScienceExam/env/airbnb/lib/python3.10/site-packages/sklearn/base.py:1474: DataConversionWarning: A column-vector y was passed when a 1d array was expected. Please change the shape of y to (n_samples,), for example using ravel().\n",
      "  return fit_method(estimator, *args, **kwargs)\n"
     ]
    },
    {
     "name": "stdout",
     "output_type": "stream",
     "text": [
      "Trained and saved RandomForestRegressor model with parameters {'n_estimators': 100, 'max_depth': None, 'min_samples_split': 30, 'min_samples_leaf': 20} to ../models/rf_100_estimators_None_depth_30_minsplit_20_minleaf_hot.pkl\n"
     ]
    },
    {
     "name": "stderr",
     "output_type": "stream",
     "text": [
      "/work/Exam/DataScienceExam/env/airbnb/lib/python3.10/site-packages/sklearn/base.py:1474: DataConversionWarning: A column-vector y was passed when a 1d array was expected. Please change the shape of y to (n_samples,), for example using ravel().\n",
      "  return fit_method(estimator, *args, **kwargs)\n"
     ]
    },
    {
     "name": "stdout",
     "output_type": "stream",
     "text": [
      "Trained and saved RandomForestRegressor model with parameters {'n_estimators': 100, 'max_depth': 10, 'min_samples_split': 2, 'min_samples_leaf': 1} to ../models/rf_100_estimators_10_depth_2_minsplit_1_minleaf_hot.pkl\n"
     ]
    },
    {
     "name": "stderr",
     "output_type": "stream",
     "text": [
      "/work/Exam/DataScienceExam/env/airbnb/lib/python3.10/site-packages/sklearn/base.py:1474: DataConversionWarning: A column-vector y was passed when a 1d array was expected. Please change the shape of y to (n_samples,), for example using ravel().\n",
      "  return fit_method(estimator, *args, **kwargs)\n"
     ]
    },
    {
     "name": "stdout",
     "output_type": "stream",
     "text": [
      "Trained and saved RandomForestRegressor model with parameters {'n_estimators': 100, 'max_depth': 10, 'min_samples_split': 2, 'min_samples_leaf': 5} to ../models/rf_100_estimators_10_depth_2_minsplit_5_minleaf_hot.pkl\n"
     ]
    },
    {
     "name": "stderr",
     "output_type": "stream",
     "text": [
      "/work/Exam/DataScienceExam/env/airbnb/lib/python3.10/site-packages/sklearn/base.py:1474: DataConversionWarning: A column-vector y was passed when a 1d array was expected. Please change the shape of y to (n_samples,), for example using ravel().\n",
      "  return fit_method(estimator, *args, **kwargs)\n"
     ]
    },
    {
     "name": "stdout",
     "output_type": "stream",
     "text": [
      "Trained and saved RandomForestRegressor model with parameters {'n_estimators': 100, 'max_depth': 10, 'min_samples_split': 2, 'min_samples_leaf': 10} to ../models/rf_100_estimators_10_depth_2_minsplit_10_minleaf_hot.pkl\n"
     ]
    },
    {
     "name": "stderr",
     "output_type": "stream",
     "text": [
      "/work/Exam/DataScienceExam/env/airbnb/lib/python3.10/site-packages/sklearn/base.py:1474: DataConversionWarning: A column-vector y was passed when a 1d array was expected. Please change the shape of y to (n_samples,), for example using ravel().\n",
      "  return fit_method(estimator, *args, **kwargs)\n"
     ]
    },
    {
     "name": "stdout",
     "output_type": "stream",
     "text": [
      "Trained and saved RandomForestRegressor model with parameters {'n_estimators': 100, 'max_depth': 10, 'min_samples_split': 2, 'min_samples_leaf': 20} to ../models/rf_100_estimators_10_depth_2_minsplit_20_minleaf_hot.pkl\n"
     ]
    },
    {
     "name": "stderr",
     "output_type": "stream",
     "text": [
      "/work/Exam/DataScienceExam/env/airbnb/lib/python3.10/site-packages/sklearn/base.py:1474: DataConversionWarning: A column-vector y was passed when a 1d array was expected. Please change the shape of y to (n_samples,), for example using ravel().\n",
      "  return fit_method(estimator, *args, **kwargs)\n"
     ]
    },
    {
     "name": "stdout",
     "output_type": "stream",
     "text": [
      "Trained and saved RandomForestRegressor model with parameters {'n_estimators': 100, 'max_depth': 10, 'min_samples_split': 10, 'min_samples_leaf': 1} to ../models/rf_100_estimators_10_depth_10_minsplit_1_minleaf_hot.pkl\n"
     ]
    },
    {
     "name": "stderr",
     "output_type": "stream",
     "text": [
      "/work/Exam/DataScienceExam/env/airbnb/lib/python3.10/site-packages/sklearn/base.py:1474: DataConversionWarning: A column-vector y was passed when a 1d array was expected. Please change the shape of y to (n_samples,), for example using ravel().\n",
      "  return fit_method(estimator, *args, **kwargs)\n"
     ]
    },
    {
     "name": "stdout",
     "output_type": "stream",
     "text": [
      "Trained and saved RandomForestRegressor model with parameters {'n_estimators': 100, 'max_depth': 10, 'min_samples_split': 10, 'min_samples_leaf': 5} to ../models/rf_100_estimators_10_depth_10_minsplit_5_minleaf_hot.pkl\n"
     ]
    },
    {
     "name": "stderr",
     "output_type": "stream",
     "text": [
      "/work/Exam/DataScienceExam/env/airbnb/lib/python3.10/site-packages/sklearn/base.py:1474: DataConversionWarning: A column-vector y was passed when a 1d array was expected. Please change the shape of y to (n_samples,), for example using ravel().\n",
      "  return fit_method(estimator, *args, **kwargs)\n"
     ]
    },
    {
     "name": "stdout",
     "output_type": "stream",
     "text": [
      "Trained and saved RandomForestRegressor model with parameters {'n_estimators': 100, 'max_depth': 10, 'min_samples_split': 10, 'min_samples_leaf': 10} to ../models/rf_100_estimators_10_depth_10_minsplit_10_minleaf_hot.pkl\n"
     ]
    },
    {
     "name": "stderr",
     "output_type": "stream",
     "text": [
      "/work/Exam/DataScienceExam/env/airbnb/lib/python3.10/site-packages/sklearn/base.py:1474: DataConversionWarning: A column-vector y was passed when a 1d array was expected. Please change the shape of y to (n_samples,), for example using ravel().\n",
      "  return fit_method(estimator, *args, **kwargs)\n"
     ]
    },
    {
     "name": "stdout",
     "output_type": "stream",
     "text": [
      "Trained and saved RandomForestRegressor model with parameters {'n_estimators': 100, 'max_depth': 10, 'min_samples_split': 10, 'min_samples_leaf': 20} to ../models/rf_100_estimators_10_depth_10_minsplit_20_minleaf_hot.pkl\n"
     ]
    },
    {
     "name": "stderr",
     "output_type": "stream",
     "text": [
      "/work/Exam/DataScienceExam/env/airbnb/lib/python3.10/site-packages/sklearn/base.py:1474: DataConversionWarning: A column-vector y was passed when a 1d array was expected. Please change the shape of y to (n_samples,), for example using ravel().\n",
      "  return fit_method(estimator, *args, **kwargs)\n"
     ]
    },
    {
     "name": "stdout",
     "output_type": "stream",
     "text": [
      "Trained and saved RandomForestRegressor model with parameters {'n_estimators': 100, 'max_depth': 10, 'min_samples_split': 20, 'min_samples_leaf': 1} to ../models/rf_100_estimators_10_depth_20_minsplit_1_minleaf_hot.pkl\n"
     ]
    },
    {
     "name": "stderr",
     "output_type": "stream",
     "text": [
      "/work/Exam/DataScienceExam/env/airbnb/lib/python3.10/site-packages/sklearn/base.py:1474: DataConversionWarning: A column-vector y was passed when a 1d array was expected. Please change the shape of y to (n_samples,), for example using ravel().\n",
      "  return fit_method(estimator, *args, **kwargs)\n"
     ]
    },
    {
     "name": "stdout",
     "output_type": "stream",
     "text": [
      "Trained and saved RandomForestRegressor model with parameters {'n_estimators': 100, 'max_depth': 10, 'min_samples_split': 20, 'min_samples_leaf': 5} to ../models/rf_100_estimators_10_depth_20_minsplit_5_minleaf_hot.pkl\n"
     ]
    },
    {
     "name": "stderr",
     "output_type": "stream",
     "text": [
      "/work/Exam/DataScienceExam/env/airbnb/lib/python3.10/site-packages/sklearn/base.py:1474: DataConversionWarning: A column-vector y was passed when a 1d array was expected. Please change the shape of y to (n_samples,), for example using ravel().\n",
      "  return fit_method(estimator, *args, **kwargs)\n"
     ]
    },
    {
     "name": "stdout",
     "output_type": "stream",
     "text": [
      "Trained and saved RandomForestRegressor model with parameters {'n_estimators': 100, 'max_depth': 10, 'min_samples_split': 20, 'min_samples_leaf': 10} to ../models/rf_100_estimators_10_depth_20_minsplit_10_minleaf_hot.pkl\n"
     ]
    },
    {
     "name": "stderr",
     "output_type": "stream",
     "text": [
      "/work/Exam/DataScienceExam/env/airbnb/lib/python3.10/site-packages/sklearn/base.py:1474: DataConversionWarning: A column-vector y was passed when a 1d array was expected. Please change the shape of y to (n_samples,), for example using ravel().\n",
      "  return fit_method(estimator, *args, **kwargs)\n"
     ]
    },
    {
     "name": "stdout",
     "output_type": "stream",
     "text": [
      "Trained and saved RandomForestRegressor model with parameters {'n_estimators': 100, 'max_depth': 10, 'min_samples_split': 20, 'min_samples_leaf': 20} to ../models/rf_100_estimators_10_depth_20_minsplit_20_minleaf_hot.pkl\n"
     ]
    },
    {
     "name": "stderr",
     "output_type": "stream",
     "text": [
      "/work/Exam/DataScienceExam/env/airbnb/lib/python3.10/site-packages/sklearn/base.py:1474: DataConversionWarning: A column-vector y was passed when a 1d array was expected. Please change the shape of y to (n_samples,), for example using ravel().\n",
      "  return fit_method(estimator, *args, **kwargs)\n"
     ]
    },
    {
     "name": "stdout",
     "output_type": "stream",
     "text": [
      "Trained and saved RandomForestRegressor model with parameters {'n_estimators': 100, 'max_depth': 10, 'min_samples_split': 30, 'min_samples_leaf': 1} to ../models/rf_100_estimators_10_depth_30_minsplit_1_minleaf_hot.pkl\n"
     ]
    },
    {
     "name": "stderr",
     "output_type": "stream",
     "text": [
      "/work/Exam/DataScienceExam/env/airbnb/lib/python3.10/site-packages/sklearn/base.py:1474: DataConversionWarning: A column-vector y was passed when a 1d array was expected. Please change the shape of y to (n_samples,), for example using ravel().\n",
      "  return fit_method(estimator, *args, **kwargs)\n"
     ]
    },
    {
     "name": "stdout",
     "output_type": "stream",
     "text": [
      "Trained and saved RandomForestRegressor model with parameters {'n_estimators': 100, 'max_depth': 10, 'min_samples_split': 30, 'min_samples_leaf': 5} to ../models/rf_100_estimators_10_depth_30_minsplit_5_minleaf_hot.pkl\n"
     ]
    },
    {
     "name": "stderr",
     "output_type": "stream",
     "text": [
      "/work/Exam/DataScienceExam/env/airbnb/lib/python3.10/site-packages/sklearn/base.py:1474: DataConversionWarning: A column-vector y was passed when a 1d array was expected. Please change the shape of y to (n_samples,), for example using ravel().\n",
      "  return fit_method(estimator, *args, **kwargs)\n"
     ]
    },
    {
     "name": "stdout",
     "output_type": "stream",
     "text": [
      "Trained and saved RandomForestRegressor model with parameters {'n_estimators': 100, 'max_depth': 10, 'min_samples_split': 30, 'min_samples_leaf': 10} to ../models/rf_100_estimators_10_depth_30_minsplit_10_minleaf_hot.pkl\n"
     ]
    },
    {
     "name": "stderr",
     "output_type": "stream",
     "text": [
      "/work/Exam/DataScienceExam/env/airbnb/lib/python3.10/site-packages/sklearn/base.py:1474: DataConversionWarning: A column-vector y was passed when a 1d array was expected. Please change the shape of y to (n_samples,), for example using ravel().\n",
      "  return fit_method(estimator, *args, **kwargs)\n"
     ]
    },
    {
     "name": "stdout",
     "output_type": "stream",
     "text": [
      "Trained and saved RandomForestRegressor model with parameters {'n_estimators': 100, 'max_depth': 10, 'min_samples_split': 30, 'min_samples_leaf': 20} to ../models/rf_100_estimators_10_depth_30_minsplit_20_minleaf_hot.pkl\n"
     ]
    },
    {
     "name": "stderr",
     "output_type": "stream",
     "text": [
      "/work/Exam/DataScienceExam/env/airbnb/lib/python3.10/site-packages/sklearn/base.py:1474: DataConversionWarning: A column-vector y was passed when a 1d array was expected. Please change the shape of y to (n_samples,), for example using ravel().\n",
      "  return fit_method(estimator, *args, **kwargs)\n"
     ]
    },
    {
     "name": "stdout",
     "output_type": "stream",
     "text": [
      "Trained and saved RandomForestRegressor model with parameters {'n_estimators': 100, 'max_depth': 20, 'min_samples_split': 2, 'min_samples_leaf': 1} to ../models/rf_100_estimators_20_depth_2_minsplit_1_minleaf_hot.pkl\n"
     ]
    },
    {
     "name": "stderr",
     "output_type": "stream",
     "text": [
      "/work/Exam/DataScienceExam/env/airbnb/lib/python3.10/site-packages/sklearn/base.py:1474: DataConversionWarning: A column-vector y was passed when a 1d array was expected. Please change the shape of y to (n_samples,), for example using ravel().\n",
      "  return fit_method(estimator, *args, **kwargs)\n"
     ]
    },
    {
     "name": "stdout",
     "output_type": "stream",
     "text": [
      "Trained and saved RandomForestRegressor model with parameters {'n_estimators': 100, 'max_depth': 20, 'min_samples_split': 2, 'min_samples_leaf': 5} to ../models/rf_100_estimators_20_depth_2_minsplit_5_minleaf_hot.pkl\n"
     ]
    },
    {
     "name": "stderr",
     "output_type": "stream",
     "text": [
      "/work/Exam/DataScienceExam/env/airbnb/lib/python3.10/site-packages/sklearn/base.py:1474: DataConversionWarning: A column-vector y was passed when a 1d array was expected. Please change the shape of y to (n_samples,), for example using ravel().\n",
      "  return fit_method(estimator, *args, **kwargs)\n"
     ]
    },
    {
     "name": "stdout",
     "output_type": "stream",
     "text": [
      "Trained and saved RandomForestRegressor model with parameters {'n_estimators': 100, 'max_depth': 20, 'min_samples_split': 2, 'min_samples_leaf': 10} to ../models/rf_100_estimators_20_depth_2_minsplit_10_minleaf_hot.pkl\n"
     ]
    },
    {
     "name": "stderr",
     "output_type": "stream",
     "text": [
      "/work/Exam/DataScienceExam/env/airbnb/lib/python3.10/site-packages/sklearn/base.py:1474: DataConversionWarning: A column-vector y was passed when a 1d array was expected. Please change the shape of y to (n_samples,), for example using ravel().\n",
      "  return fit_method(estimator, *args, **kwargs)\n"
     ]
    },
    {
     "name": "stdout",
     "output_type": "stream",
     "text": [
      "Trained and saved RandomForestRegressor model with parameters {'n_estimators': 100, 'max_depth': 20, 'min_samples_split': 2, 'min_samples_leaf': 20} to ../models/rf_100_estimators_20_depth_2_minsplit_20_minleaf_hot.pkl\n"
     ]
    },
    {
     "name": "stderr",
     "output_type": "stream",
     "text": [
      "/work/Exam/DataScienceExam/env/airbnb/lib/python3.10/site-packages/sklearn/base.py:1474: DataConversionWarning: A column-vector y was passed when a 1d array was expected. Please change the shape of y to (n_samples,), for example using ravel().\n",
      "  return fit_method(estimator, *args, **kwargs)\n"
     ]
    },
    {
     "name": "stdout",
     "output_type": "stream",
     "text": [
      "Trained and saved RandomForestRegressor model with parameters {'n_estimators': 100, 'max_depth': 20, 'min_samples_split': 10, 'min_samples_leaf': 1} to ../models/rf_100_estimators_20_depth_10_minsplit_1_minleaf_hot.pkl\n"
     ]
    },
    {
     "name": "stderr",
     "output_type": "stream",
     "text": [
      "/work/Exam/DataScienceExam/env/airbnb/lib/python3.10/site-packages/sklearn/base.py:1474: DataConversionWarning: A column-vector y was passed when a 1d array was expected. Please change the shape of y to (n_samples,), for example using ravel().\n",
      "  return fit_method(estimator, *args, **kwargs)\n"
     ]
    },
    {
     "name": "stdout",
     "output_type": "stream",
     "text": [
      "Trained and saved RandomForestRegressor model with parameters {'n_estimators': 100, 'max_depth': 20, 'min_samples_split': 10, 'min_samples_leaf': 5} to ../models/rf_100_estimators_20_depth_10_minsplit_5_minleaf_hot.pkl\n"
     ]
    },
    {
     "name": "stderr",
     "output_type": "stream",
     "text": [
      "/work/Exam/DataScienceExam/env/airbnb/lib/python3.10/site-packages/sklearn/base.py:1474: DataConversionWarning: A column-vector y was passed when a 1d array was expected. Please change the shape of y to (n_samples,), for example using ravel().\n",
      "  return fit_method(estimator, *args, **kwargs)\n"
     ]
    },
    {
     "name": "stdout",
     "output_type": "stream",
     "text": [
      "Trained and saved RandomForestRegressor model with parameters {'n_estimators': 100, 'max_depth': 20, 'min_samples_split': 10, 'min_samples_leaf': 10} to ../models/rf_100_estimators_20_depth_10_minsplit_10_minleaf_hot.pkl\n"
     ]
    },
    {
     "name": "stderr",
     "output_type": "stream",
     "text": [
      "/work/Exam/DataScienceExam/env/airbnb/lib/python3.10/site-packages/sklearn/base.py:1474: DataConversionWarning: A column-vector y was passed when a 1d array was expected. Please change the shape of y to (n_samples,), for example using ravel().\n",
      "  return fit_method(estimator, *args, **kwargs)\n"
     ]
    },
    {
     "name": "stdout",
     "output_type": "stream",
     "text": [
      "Trained and saved RandomForestRegressor model with parameters {'n_estimators': 100, 'max_depth': 20, 'min_samples_split': 10, 'min_samples_leaf': 20} to ../models/rf_100_estimators_20_depth_10_minsplit_20_minleaf_hot.pkl\n"
     ]
    },
    {
     "name": "stderr",
     "output_type": "stream",
     "text": [
      "/work/Exam/DataScienceExam/env/airbnb/lib/python3.10/site-packages/sklearn/base.py:1474: DataConversionWarning: A column-vector y was passed when a 1d array was expected. Please change the shape of y to (n_samples,), for example using ravel().\n",
      "  return fit_method(estimator, *args, **kwargs)\n"
     ]
    },
    {
     "name": "stdout",
     "output_type": "stream",
     "text": [
      "Trained and saved RandomForestRegressor model with parameters {'n_estimators': 100, 'max_depth': 20, 'min_samples_split': 20, 'min_samples_leaf': 1} to ../models/rf_100_estimators_20_depth_20_minsplit_1_minleaf_hot.pkl\n"
     ]
    },
    {
     "name": "stderr",
     "output_type": "stream",
     "text": [
      "/work/Exam/DataScienceExam/env/airbnb/lib/python3.10/site-packages/sklearn/base.py:1474: DataConversionWarning: A column-vector y was passed when a 1d array was expected. Please change the shape of y to (n_samples,), for example using ravel().\n",
      "  return fit_method(estimator, *args, **kwargs)\n"
     ]
    },
    {
     "name": "stdout",
     "output_type": "stream",
     "text": [
      "Trained and saved RandomForestRegressor model with parameters {'n_estimators': 100, 'max_depth': 20, 'min_samples_split': 20, 'min_samples_leaf': 5} to ../models/rf_100_estimators_20_depth_20_minsplit_5_minleaf_hot.pkl\n"
     ]
    },
    {
     "name": "stderr",
     "output_type": "stream",
     "text": [
      "/work/Exam/DataScienceExam/env/airbnb/lib/python3.10/site-packages/sklearn/base.py:1474: DataConversionWarning: A column-vector y was passed when a 1d array was expected. Please change the shape of y to (n_samples,), for example using ravel().\n",
      "  return fit_method(estimator, *args, **kwargs)\n"
     ]
    },
    {
     "name": "stdout",
     "output_type": "stream",
     "text": [
      "Trained and saved RandomForestRegressor model with parameters {'n_estimators': 100, 'max_depth': 20, 'min_samples_split': 20, 'min_samples_leaf': 10} to ../models/rf_100_estimators_20_depth_20_minsplit_10_minleaf_hot.pkl\n"
     ]
    },
    {
     "name": "stderr",
     "output_type": "stream",
     "text": [
      "/work/Exam/DataScienceExam/env/airbnb/lib/python3.10/site-packages/sklearn/base.py:1474: DataConversionWarning: A column-vector y was passed when a 1d array was expected. Please change the shape of y to (n_samples,), for example using ravel().\n",
      "  return fit_method(estimator, *args, **kwargs)\n"
     ]
    },
    {
     "name": "stdout",
     "output_type": "stream",
     "text": [
      "Trained and saved RandomForestRegressor model with parameters {'n_estimators': 100, 'max_depth': 20, 'min_samples_split': 20, 'min_samples_leaf': 20} to ../models/rf_100_estimators_20_depth_20_minsplit_20_minleaf_hot.pkl\n"
     ]
    },
    {
     "name": "stderr",
     "output_type": "stream",
     "text": [
      "/work/Exam/DataScienceExam/env/airbnb/lib/python3.10/site-packages/sklearn/base.py:1474: DataConversionWarning: A column-vector y was passed when a 1d array was expected. Please change the shape of y to (n_samples,), for example using ravel().\n",
      "  return fit_method(estimator, *args, **kwargs)\n"
     ]
    },
    {
     "name": "stdout",
     "output_type": "stream",
     "text": [
      "Trained and saved RandomForestRegressor model with parameters {'n_estimators': 100, 'max_depth': 20, 'min_samples_split': 30, 'min_samples_leaf': 1} to ../models/rf_100_estimators_20_depth_30_minsplit_1_minleaf_hot.pkl\n"
     ]
    },
    {
     "name": "stderr",
     "output_type": "stream",
     "text": [
      "/work/Exam/DataScienceExam/env/airbnb/lib/python3.10/site-packages/sklearn/base.py:1474: DataConversionWarning: A column-vector y was passed when a 1d array was expected. Please change the shape of y to (n_samples,), for example using ravel().\n",
      "  return fit_method(estimator, *args, **kwargs)\n"
     ]
    },
    {
     "name": "stdout",
     "output_type": "stream",
     "text": [
      "Trained and saved RandomForestRegressor model with parameters {'n_estimators': 100, 'max_depth': 20, 'min_samples_split': 30, 'min_samples_leaf': 5} to ../models/rf_100_estimators_20_depth_30_minsplit_5_minleaf_hot.pkl\n"
     ]
    },
    {
     "name": "stderr",
     "output_type": "stream",
     "text": [
      "/work/Exam/DataScienceExam/env/airbnb/lib/python3.10/site-packages/sklearn/base.py:1474: DataConversionWarning: A column-vector y was passed when a 1d array was expected. Please change the shape of y to (n_samples,), for example using ravel().\n",
      "  return fit_method(estimator, *args, **kwargs)\n"
     ]
    },
    {
     "name": "stdout",
     "output_type": "stream",
     "text": [
      "Trained and saved RandomForestRegressor model with parameters {'n_estimators': 100, 'max_depth': 20, 'min_samples_split': 30, 'min_samples_leaf': 10} to ../models/rf_100_estimators_20_depth_30_minsplit_10_minleaf_hot.pkl\n"
     ]
    },
    {
     "name": "stderr",
     "output_type": "stream",
     "text": [
      "/work/Exam/DataScienceExam/env/airbnb/lib/python3.10/site-packages/sklearn/base.py:1474: DataConversionWarning: A column-vector y was passed when a 1d array was expected. Please change the shape of y to (n_samples,), for example using ravel().\n",
      "  return fit_method(estimator, *args, **kwargs)\n"
     ]
    },
    {
     "name": "stdout",
     "output_type": "stream",
     "text": [
      "Trained and saved RandomForestRegressor model with parameters {'n_estimators': 100, 'max_depth': 20, 'min_samples_split': 30, 'min_samples_leaf': 20} to ../models/rf_100_estimators_20_depth_30_minsplit_20_minleaf_hot.pkl\n"
     ]
    },
    {
     "name": "stderr",
     "output_type": "stream",
     "text": [
      "/work/Exam/DataScienceExam/env/airbnb/lib/python3.10/site-packages/sklearn/base.py:1474: DataConversionWarning: A column-vector y was passed when a 1d array was expected. Please change the shape of y to (n_samples,), for example using ravel().\n",
      "  return fit_method(estimator, *args, **kwargs)\n"
     ]
    },
    {
     "name": "stdout",
     "output_type": "stream",
     "text": [
      "Trained and saved RandomForestRegressor model with parameters {'n_estimators': 100, 'max_depth': 30, 'min_samples_split': 2, 'min_samples_leaf': 1} to ../models/rf_100_estimators_30_depth_2_minsplit_1_minleaf_hot.pkl\n"
     ]
    },
    {
     "name": "stderr",
     "output_type": "stream",
     "text": [
      "/work/Exam/DataScienceExam/env/airbnb/lib/python3.10/site-packages/sklearn/base.py:1474: DataConversionWarning: A column-vector y was passed when a 1d array was expected. Please change the shape of y to (n_samples,), for example using ravel().\n",
      "  return fit_method(estimator, *args, **kwargs)\n"
     ]
    },
    {
     "name": "stdout",
     "output_type": "stream",
     "text": [
      "Trained and saved RandomForestRegressor model with parameters {'n_estimators': 100, 'max_depth': 30, 'min_samples_split': 2, 'min_samples_leaf': 5} to ../models/rf_100_estimators_30_depth_2_minsplit_5_minleaf_hot.pkl\n"
     ]
    },
    {
     "name": "stderr",
     "output_type": "stream",
     "text": [
      "/work/Exam/DataScienceExam/env/airbnb/lib/python3.10/site-packages/sklearn/base.py:1474: DataConversionWarning: A column-vector y was passed when a 1d array was expected. Please change the shape of y to (n_samples,), for example using ravel().\n",
      "  return fit_method(estimator, *args, **kwargs)\n"
     ]
    },
    {
     "name": "stdout",
     "output_type": "stream",
     "text": [
      "Trained and saved RandomForestRegressor model with parameters {'n_estimators': 100, 'max_depth': 30, 'min_samples_split': 2, 'min_samples_leaf': 10} to ../models/rf_100_estimators_30_depth_2_minsplit_10_minleaf_hot.pkl\n"
     ]
    },
    {
     "name": "stderr",
     "output_type": "stream",
     "text": [
      "/work/Exam/DataScienceExam/env/airbnb/lib/python3.10/site-packages/sklearn/base.py:1474: DataConversionWarning: A column-vector y was passed when a 1d array was expected. Please change the shape of y to (n_samples,), for example using ravel().\n",
      "  return fit_method(estimator, *args, **kwargs)\n"
     ]
    },
    {
     "name": "stdout",
     "output_type": "stream",
     "text": [
      "Trained and saved RandomForestRegressor model with parameters {'n_estimators': 100, 'max_depth': 30, 'min_samples_split': 2, 'min_samples_leaf': 20} to ../models/rf_100_estimators_30_depth_2_minsplit_20_minleaf_hot.pkl\n"
     ]
    },
    {
     "name": "stderr",
     "output_type": "stream",
     "text": [
      "/work/Exam/DataScienceExam/env/airbnb/lib/python3.10/site-packages/sklearn/base.py:1474: DataConversionWarning: A column-vector y was passed when a 1d array was expected. Please change the shape of y to (n_samples,), for example using ravel().\n",
      "  return fit_method(estimator, *args, **kwargs)\n"
     ]
    },
    {
     "name": "stdout",
     "output_type": "stream",
     "text": [
      "Trained and saved RandomForestRegressor model with parameters {'n_estimators': 100, 'max_depth': 30, 'min_samples_split': 10, 'min_samples_leaf': 1} to ../models/rf_100_estimators_30_depth_10_minsplit_1_minleaf_hot.pkl\n"
     ]
    },
    {
     "name": "stderr",
     "output_type": "stream",
     "text": [
      "/work/Exam/DataScienceExam/env/airbnb/lib/python3.10/site-packages/sklearn/base.py:1474: DataConversionWarning: A column-vector y was passed when a 1d array was expected. Please change the shape of y to (n_samples,), for example using ravel().\n",
      "  return fit_method(estimator, *args, **kwargs)\n"
     ]
    },
    {
     "name": "stdout",
     "output_type": "stream",
     "text": [
      "Trained and saved RandomForestRegressor model with parameters {'n_estimators': 100, 'max_depth': 30, 'min_samples_split': 10, 'min_samples_leaf': 5} to ../models/rf_100_estimators_30_depth_10_minsplit_5_minleaf_hot.pkl\n"
     ]
    },
    {
     "name": "stderr",
     "output_type": "stream",
     "text": [
      "/work/Exam/DataScienceExam/env/airbnb/lib/python3.10/site-packages/sklearn/base.py:1474: DataConversionWarning: A column-vector y was passed when a 1d array was expected. Please change the shape of y to (n_samples,), for example using ravel().\n",
      "  return fit_method(estimator, *args, **kwargs)\n"
     ]
    },
    {
     "name": "stdout",
     "output_type": "stream",
     "text": [
      "Trained and saved RandomForestRegressor model with parameters {'n_estimators': 100, 'max_depth': 30, 'min_samples_split': 10, 'min_samples_leaf': 10} to ../models/rf_100_estimators_30_depth_10_minsplit_10_minleaf_hot.pkl\n"
     ]
    },
    {
     "name": "stderr",
     "output_type": "stream",
     "text": [
      "/work/Exam/DataScienceExam/env/airbnb/lib/python3.10/site-packages/sklearn/base.py:1474: DataConversionWarning: A column-vector y was passed when a 1d array was expected. Please change the shape of y to (n_samples,), for example using ravel().\n",
      "  return fit_method(estimator, *args, **kwargs)\n"
     ]
    },
    {
     "name": "stdout",
     "output_type": "stream",
     "text": [
      "Trained and saved RandomForestRegressor model with parameters {'n_estimators': 100, 'max_depth': 30, 'min_samples_split': 10, 'min_samples_leaf': 20} to ../models/rf_100_estimators_30_depth_10_minsplit_20_minleaf_hot.pkl\n"
     ]
    },
    {
     "name": "stderr",
     "output_type": "stream",
     "text": [
      "/work/Exam/DataScienceExam/env/airbnb/lib/python3.10/site-packages/sklearn/base.py:1474: DataConversionWarning: A column-vector y was passed when a 1d array was expected. Please change the shape of y to (n_samples,), for example using ravel().\n",
      "  return fit_method(estimator, *args, **kwargs)\n"
     ]
    },
    {
     "name": "stdout",
     "output_type": "stream",
     "text": [
      "Trained and saved RandomForestRegressor model with parameters {'n_estimators': 100, 'max_depth': 30, 'min_samples_split': 20, 'min_samples_leaf': 1} to ../models/rf_100_estimators_30_depth_20_minsplit_1_minleaf_hot.pkl\n"
     ]
    },
    {
     "name": "stderr",
     "output_type": "stream",
     "text": [
      "/work/Exam/DataScienceExam/env/airbnb/lib/python3.10/site-packages/sklearn/base.py:1474: DataConversionWarning: A column-vector y was passed when a 1d array was expected. Please change the shape of y to (n_samples,), for example using ravel().\n",
      "  return fit_method(estimator, *args, **kwargs)\n"
     ]
    },
    {
     "name": "stdout",
     "output_type": "stream",
     "text": [
      "Trained and saved RandomForestRegressor model with parameters {'n_estimators': 100, 'max_depth': 30, 'min_samples_split': 20, 'min_samples_leaf': 5} to ../models/rf_100_estimators_30_depth_20_minsplit_5_minleaf_hot.pkl\n"
     ]
    },
    {
     "name": "stderr",
     "output_type": "stream",
     "text": [
      "/work/Exam/DataScienceExam/env/airbnb/lib/python3.10/site-packages/sklearn/base.py:1474: DataConversionWarning: A column-vector y was passed when a 1d array was expected. Please change the shape of y to (n_samples,), for example using ravel().\n",
      "  return fit_method(estimator, *args, **kwargs)\n"
     ]
    },
    {
     "name": "stdout",
     "output_type": "stream",
     "text": [
      "Trained and saved RandomForestRegressor model with parameters {'n_estimators': 100, 'max_depth': 30, 'min_samples_split': 20, 'min_samples_leaf': 10} to ../models/rf_100_estimators_30_depth_20_minsplit_10_minleaf_hot.pkl\n"
     ]
    },
    {
     "name": "stderr",
     "output_type": "stream",
     "text": [
      "/work/Exam/DataScienceExam/env/airbnb/lib/python3.10/site-packages/sklearn/base.py:1474: DataConversionWarning: A column-vector y was passed when a 1d array was expected. Please change the shape of y to (n_samples,), for example using ravel().\n",
      "  return fit_method(estimator, *args, **kwargs)\n"
     ]
    },
    {
     "name": "stdout",
     "output_type": "stream",
     "text": [
      "Trained and saved RandomForestRegressor model with parameters {'n_estimators': 100, 'max_depth': 30, 'min_samples_split': 20, 'min_samples_leaf': 20} to ../models/rf_100_estimators_30_depth_20_minsplit_20_minleaf_hot.pkl\n"
     ]
    },
    {
     "name": "stderr",
     "output_type": "stream",
     "text": [
      "/work/Exam/DataScienceExam/env/airbnb/lib/python3.10/site-packages/sklearn/base.py:1474: DataConversionWarning: A column-vector y was passed when a 1d array was expected. Please change the shape of y to (n_samples,), for example using ravel().\n",
      "  return fit_method(estimator, *args, **kwargs)\n"
     ]
    },
    {
     "name": "stdout",
     "output_type": "stream",
     "text": [
      "Trained and saved RandomForestRegressor model with parameters {'n_estimators': 100, 'max_depth': 30, 'min_samples_split': 30, 'min_samples_leaf': 1} to ../models/rf_100_estimators_30_depth_30_minsplit_1_minleaf_hot.pkl\n"
     ]
    },
    {
     "name": "stderr",
     "output_type": "stream",
     "text": [
      "/work/Exam/DataScienceExam/env/airbnb/lib/python3.10/site-packages/sklearn/base.py:1474: DataConversionWarning: A column-vector y was passed when a 1d array was expected. Please change the shape of y to (n_samples,), for example using ravel().\n",
      "  return fit_method(estimator, *args, **kwargs)\n"
     ]
    }
   ],
   "source": [
    "# Define parameter grid for Random Forest\n",
    "param_grid_rf = [{'n_estimators': n, 'max_depth': d, 'min_samples_split': s, 'min_samples_leaf': l} for n in [100, 200, 300] for d in [None, 10, 20, 30, 40] for s in [2, 10, 20, 30] for l in [1, 5, 10, 20]]\n",
    "\n",
    "# Initialize a list to store all performances\n",
    "all_performances = []\n",
    "\n",
    "# List of dataset names and their corresponding folder names\n",
    "dataset_names = ['hot']\n",
    "\n",
    "# Load each dataset and perform custom grid search\n",
    "for dataset_name in dataset_names:\n",
    "    X_train, X_val, X_test, y_train, y_val, y_test, scaler_y = load_dataset(dataset_name)\n",
    "    \n",
    "    # Random Forest Grid Search\n",
    "    custom_grid_search_rf(X_train, y_train, param_grid_rf, dataset_name)\n",
    "    \n",
    "    # Evaluate all saved Random Forest models\n",
    "    for params in param_grid_rf:\n",
    "        model_path = os.path.join('../models', f'rf_{params[\"n_estimators\"]}_estimators_{params[\"max_depth\"]}_depth_{params[\"min_samples_split\"]}_minsplit_{params[\"min_samples_leaf\"]}_minleaf_{dataset_name}.pkl')\n",
    "        rf = load_model(model_path)\n",
    "        performances = evaluate_model(rf, model_path, X_train, X_val, X_test, y_train, y_val, y_test, scaler_y=scaler_y, dataset_name=dataset_name)\n",
    "        all_performances.extend(performances)\n",
    "\n",
    "# Turn into pd.DataFrame\n",
    "perf_df = pd.DataFrame(all_performances)\n",
    "\n",
    "# Save performances to a CSV file\n",
    "perf_df.to_csv('../data/rf_performances.csv', index=False)\n",
    "\n"
   ]
  }
 ],
 "metadata": {
  "kernelspec": {
   "display_name": "airbnb",
   "language": "python",
   "name": "airbnb"
  },
  "language_info": {
   "codemirror_mode": {
    "name": "ipython",
    "version": 3
   },
   "file_extension": ".py",
   "mimetype": "text/x-python",
   "name": "python",
   "nbconvert_exporter": "python",
   "pygments_lexer": "ipython3",
   "version": "3.10.12"
  },
  "orig_nbformat": 4
 },
 "nbformat": 4,
 "nbformat_minor": 2
}
