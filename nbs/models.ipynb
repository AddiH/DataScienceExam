{
 "cells": [
  {
   "cell_type": "code",
   "execution_count": 1,
   "metadata": {},
   "outputs": [],
   "source": [
    "import matplotlib.pyplot as plt\n",
    "import numpy as np\n",
    "import pandas as pd\n",
    "import itertools\n",
    "import seaborn as sns\n",
    "import pickle\n",
    "import joblib\n",
    "import os\n",
    "\n",
    "from sklearn.metrics import mean_squared_error, r2_score, mean_absolute_error\n",
    "from sklearn.neighbors import KNeighborsRegressor\n",
    "from sklearn.linear_model import LinearRegression\n",
    "from sklearn.model_selection import GridSearchCV, RandomizedSearchCV\n",
    "from sklearn.ensemble import RandomForestRegressor\n",
    "from sklearn.tree import DecisionTreeRegressor"
   ]
  },
  {
   "cell_type": "markdown",
   "metadata": {},
   "source": [
    "# Functions"
   ]
  },
  {
   "cell_type": "code",
   "execution_count": 15,
   "metadata": {},
   "outputs": [],
   "source": [
    "def save_model(model, model_path):\n",
    "    with open(model_path, 'wb') as f:\n",
    "        pickle.dump(model, f)\n",
    "\n",
    "def load_model(model_path):\n",
    "    with open(model_path, 'rb') as f:\n",
    "        return pickle.load(f)\n",
    "\n",
    "def load_dataset(folder_name):\n",
    "    with open(f'../data/{folder_name}/train.pkl', 'rb') as f:\n",
    "        X_train, y_train = pickle.load(f)\n",
    "    with open(f'../data/{folder_name}/val.pkl', 'rb') as f:\n",
    "        X_val, y_val = pickle.load(f)\n",
    "    with open(f'../data/{folder_name}/test.pkl', 'rb') as f:\n",
    "        X_test, y_test = pickle.load(f)\n",
    "    \n",
    "    scaler_y = None\n",
    "    if folder_name in ['norm', 'hot_norm']:\n",
    "        with open(f'../data/scaler_y.pkl', 'rb') as f:\n",
    "            scaler_y = pickle.load(f)\n",
    "    \n",
    "    return X_train, X_val, X_test, y_train, y_val, y_test, scaler_y\n",
    "\n",
    "def evaluate_model(model, model_path, X_train, X_val, X_test, y_train, y_val, y_test, scaler_y=None, dataset_name=''):\n",
    "    performances = []\n",
    "    data_splits = [(X_train, y_train, 'train'), (X_val, y_val, 'val'), (X_test, y_test, 'test')]\n",
    "    \n",
    "    for x, y, nsplit in data_splits:\n",
    "        preds = model.predict(x)\n",
    "        r2 = r2_score(y, preds)\n",
    "        rmse = np.sqrt(mean_squared_error(y, preds))\n",
    "        mae = mean_absolute_error(y, preds)\n",
    "        \n",
    "        model_name = model.__class__.__name__\n",
    "        if model_name == 'KNeighborsRegressor':\n",
    "            model_name += f\" (k={model.n_neighbors}, weights={model.weights}, metric={model.metric})\"\n",
    "        if model_name == 'DecisionTreeRegressor':\n",
    "            model_name += f\" (max_depth={model.max_depth}, min_samples_split={model.min_samples_split}, min_samples_leaf={model.min_samples_leaf})\"\n",
    "        if model_name == 'RandomForestRegressor':\n",
    "            model_name += f\" (n_estimators={model.n_estimators}, max_depth={model.max_depth}, min_samples_split={model.min_samples_split}, min_samples_leaf={model.min_samples_leaf}, max_features={model.max_features}, bootstrap={model.bootstrap})\"\n",
    "\n",
    "        performances.append({\n",
    "            'model': model_name,\n",
    "            'dataset': dataset_name,\n",
    "            'split': nsplit,\n",
    "            'rmse': rmse.round(4),\n",
    "            'mae': mae.round(4),\n",
    "            'r2': r2.round(4),\n",
    "            'inversed': False,\n",
    "            'model_path': model_path\n",
    "        })\n",
    "        \n",
    "        if scaler_y is not None:\n",
    "            preds_original = scaler_y.inverse_transform(preds.reshape(-1, 1)).flatten()\n",
    "            y_original = scaler_y.inverse_transform(y.reshape(-1, 1)).flatten()\n",
    "            \n",
    "            r2_original = r2_score(y_original, preds_original)\n",
    "            rmse_original = np.sqrt(mean_squared_error(y_original, preds_original))\n",
    "            mae_original = mean_absolute_error(y_original, preds_original)\n",
    "            \n",
    "            performances.append({\n",
    "                'model': model_name,\n",
    "                'dataset': dataset_name,\n",
    "                'split': nsplit,\n",
    "                'rmse': rmse_original.round(4),\n",
    "                'mae': mae_original.round(4),\n",
    "                'r2': r2_original.round(4),\n",
    "                'inversed': True,\n",
    "                'model_path': model_path\n",
    "            })\n",
    "    \n",
    "    return performances\n",
    "\n",
    "# Custom grid search function\n",
    "def custom_grid_search_knn(X_train, y_train, param_grid, dataset_name):\n",
    "    model_dir = '../models'\n",
    "    os.makedirs(model_dir, exist_ok=True)\n",
    "    \n",
    "    for params in param_grid:\n",
    "        knn = KNeighborsRegressor(**params)\n",
    "        knn.fit(X_train, y_train)\n",
    "        \n",
    "        model_path = os.path.join(model_dir, f'knn_{params[\"n_neighbors\"]}_neighbors_{params[\"weights\"]}_{params[\"metric\"]}_{dataset_name}.pkl')\n",
    "        save_model(knn, model_path)\n",
    "        print(f\"Trained and saved KNeighborsRegressor model with parameters {params} to {model_path}\")\n",
    "\n",
    "# Custom grid search function for Decision Tree\n",
    "def custom_grid_search_dt(X_train, y_train, param_grid, dataset_name):\n",
    "    model_dir = '../models'\n",
    "    os.makedirs(model_dir, exist_ok=True)\n",
    "    \n",
    "    for params in param_grid:\n",
    "        dt = DecisionTreeRegressor(**params)\n",
    "        dt.fit(X_train, y_train)\n",
    "        \n",
    "        model_path = os.path.join(model_dir, f'dt_{params[\"max_depth\"]}_depth_{params[\"min_samples_split\"]}_minsplit_{params[\"min_samples_leaf\"]}_minleaf_{dataset_name}.pkl')\n",
    "        save_model(dt, model_path)\n",
    "        print(f\"Trained and saved DecisionTreeRegressor model with parameters {params} to {model_path}\")\n",
    "\n",
    "# Custom grid search function for Random Forest\n",
    "def custom_grid_search_rf(X_train, y_train, param_grid, dataset_name):\n",
    "    model_dir = '../models'\n",
    "    os.makedirs(model_dir, exist_ok=True)\n",
    "    \n",
    "    for params in param_grid:\n",
    "        model_path = os.path.join(model_dir, f'rf_{params[\"n_estimators\"]}_estimators_{params[\"max_depth\"]}_depth_{params[\"min_samples_split\"]}_minsplit_{params[\"min_samples_leaf\"]}_minleaf_{params[\"max_features\"]}_features_{params[\"bootstrap\"]}_bootstrap_{dataset_name}.pkl')\n",
    "        \n",
    "        if os.path.exists(model_path):\n",
    "            print(f\"Model with parameters {params} already exists. Loading model from {model_path}\")\n",
    "            rf = load_model(model_path)\n",
    "        else:\n",
    "            rf = RandomForestRegressor(**params)\n",
    "            rf.fit(X_train, y_train)\n",
    "            save_model(rf, model_path)\n",
    "            print(f\"Trained and saved RandomForestRegressor model with parameters {params} to {model_path}\")\n",
    "        \n",
    "        performances = evaluate_model(rf, model_path, X_train, X_val, X_test, y_train, y_val, y_test, scaler_y=scaler_y, dataset_name=dataset_name)\n",
    "        all_performances.extend(performances)\n"
   ]
  },
  {
   "cell_type": "markdown",
   "metadata": {},
   "source": [
    "# Fit models"
   ]
  },
  {
   "cell_type": "markdown",
   "metadata": {},
   "source": [
    "# Median model"
   ]
  },
  {
   "cell_type": "code",
   "execution_count": 4,
   "metadata": {},
   "outputs": [
    {
     "data": {
      "text/html": [
       "<div>\n",
       "<style scoped>\n",
       "    .dataframe tbody tr th:only-of-type {\n",
       "        vertical-align: middle;\n",
       "    }\n",
       "\n",
       "    .dataframe tbody tr th {\n",
       "        vertical-align: top;\n",
       "    }\n",
       "\n",
       "    .dataframe thead th {\n",
       "        text-align: right;\n",
       "    }\n",
       "</style>\n",
       "<table border=\"1\" class=\"dataframe\">\n",
       "  <thead>\n",
       "    <tr style=\"text-align: right;\">\n",
       "      <th></th>\n",
       "      <th>model</th>\n",
       "      <th>split</th>\n",
       "      <th>rmse</th>\n",
       "      <th>mae</th>\n",
       "      <th>r2</th>\n",
       "    </tr>\n",
       "  </thead>\n",
       "  <tbody>\n",
       "    <tr>\n",
       "      <th>0</th>\n",
       "      <td>median</td>\n",
       "      <td>train</td>\n",
       "      <td>192.9508</td>\n",
       "      <td>119.3824</td>\n",
       "      <td>-0.0896</td>\n",
       "    </tr>\n",
       "    <tr>\n",
       "      <th>1</th>\n",
       "      <td>median</td>\n",
       "      <td>val</td>\n",
       "      <td>192.9799</td>\n",
       "      <td>119.8874</td>\n",
       "      <td>-0.0857</td>\n",
       "    </tr>\n",
       "    <tr>\n",
       "      <th>2</th>\n",
       "      <td>median</td>\n",
       "      <td>test</td>\n",
       "      <td>194.6283</td>\n",
       "      <td>120.1703</td>\n",
       "      <td>-0.0885</td>\n",
       "    </tr>\n",
       "  </tbody>\n",
       "</table>\n",
       "</div>"
      ],
      "text/plain": [
       "    model  split      rmse       mae      r2\n",
       "0  median  train  192.9508  119.3824 -0.0896\n",
       "1  median    val  192.9799  119.8874 -0.0857\n",
       "2  median   test  194.6283  120.1703 -0.0885"
      ]
     },
     "execution_count": 4,
     "metadata": {},
     "output_type": "execute_result"
    }
   ],
   "source": [
    "# Load the dataset\n",
    "X_train, X_val, X_test, y_train, y_val, y_test, scaler_y = load_dataset('hot')\n",
    "\n",
    "# Calculate the median value of the training set responses\n",
    "median_value = y_train.median()\n",
    "\n",
    "# Define the model name for easy reference\n",
    "model_name = 'median'\n",
    "\n",
    "performances = []\n",
    "\n",
    "# Loop through each dataset (training, validation, test)\n",
    "for y, nsplit in zip([y_train, y_val, y_test], ['train', 'val', 'test']):\n",
    "    # Create an array filled with the mean value for predictions\n",
    "    median_predictions = [median_value] * y.shape[0]\n",
    "    \n",
    "    # Calculate the RMSE using the true values and the constant mean predictions\n",
    "    rmse = np.sqrt(mean_squared_error(y, median_predictions))\n",
    "    \n",
    "    # Calculate the R2 score using the true values and the constant mean predictions\n",
    "    r2 = r2_score(y, median_predictions)\n",
    "    \n",
    "    # Calculate the MAE using the true values and the constant mean predictions\n",
    "    mae = mean_absolute_error(y, median_predictions)\n",
    "    \n",
    "    # Append the performance metrics to the list\n",
    "    performances.append({\n",
    "        'model': model_name,\n",
    "        'split': nsplit,\n",
    "        'rmse': rmse.round(4),\n",
    "        'mae': mae.round(4),\n",
    "        'r2': r2.round(4)\n",
    "    })\n",
    "\n",
    "performances_df = pd.DataFrame(performances)\n",
    "performances_df"
   ]
  },
  {
   "cell_type": "markdown",
   "metadata": {},
   "source": [
    "# KNN"
   ]
  },
  {
   "cell_type": "code",
   "execution_count": 9,
   "metadata": {},
   "outputs": [
    {
     "name": "stdout",
     "output_type": "stream",
     "text": [
      "Trained and saved KNeighborsRegressor model with parameters {'n_neighbors': 5, 'weights': 'uniform', 'metric': 'euclidean'} to ../models/knn_5_neighbors_uniform_euclidean_hot_norm.pkl\n",
      "Trained and saved KNeighborsRegressor model with parameters {'n_neighbors': 5, 'weights': 'uniform', 'metric': 'manhattan'} to ../models/knn_5_neighbors_uniform_manhattan_hot_norm.pkl\n",
      "Trained and saved KNeighborsRegressor model with parameters {'n_neighbors': 5, 'weights': 'distance', 'metric': 'euclidean'} to ../models/knn_5_neighbors_distance_euclidean_hot_norm.pkl\n",
      "Trained and saved KNeighborsRegressor model with parameters {'n_neighbors': 5, 'weights': 'distance', 'metric': 'manhattan'} to ../models/knn_5_neighbors_distance_manhattan_hot_norm.pkl\n",
      "Trained and saved KNeighborsRegressor model with parameters {'n_neighbors': 15, 'weights': 'uniform', 'metric': 'euclidean'} to ../models/knn_15_neighbors_uniform_euclidean_hot_norm.pkl\n",
      "Trained and saved KNeighborsRegressor model with parameters {'n_neighbors': 15, 'weights': 'uniform', 'metric': 'manhattan'} to ../models/knn_15_neighbors_uniform_manhattan_hot_norm.pkl\n",
      "Trained and saved KNeighborsRegressor model with parameters {'n_neighbors': 15, 'weights': 'distance', 'metric': 'euclidean'} to ../models/knn_15_neighbors_distance_euclidean_hot_norm.pkl\n",
      "Trained and saved KNeighborsRegressor model with parameters {'n_neighbors': 15, 'weights': 'distance', 'metric': 'manhattan'} to ../models/knn_15_neighbors_distance_manhattan_hot_norm.pkl\n",
      "Trained and saved KNeighborsRegressor model with parameters {'n_neighbors': 20, 'weights': 'uniform', 'metric': 'euclidean'} to ../models/knn_20_neighbors_uniform_euclidean_hot_norm.pkl\n",
      "Trained and saved KNeighborsRegressor model with parameters {'n_neighbors': 20, 'weights': 'uniform', 'metric': 'manhattan'} to ../models/knn_20_neighbors_uniform_manhattan_hot_norm.pkl\n",
      "Trained and saved KNeighborsRegressor model with parameters {'n_neighbors': 20, 'weights': 'distance', 'metric': 'euclidean'} to ../models/knn_20_neighbors_distance_euclidean_hot_norm.pkl\n",
      "Trained and saved KNeighborsRegressor model with parameters {'n_neighbors': 20, 'weights': 'distance', 'metric': 'manhattan'} to ../models/knn_20_neighbors_distance_manhattan_hot_norm.pkl\n",
      "Trained and saved KNeighborsRegressor model with parameters {'n_neighbors': 25, 'weights': 'uniform', 'metric': 'euclidean'} to ../models/knn_25_neighbors_uniform_euclidean_hot_norm.pkl\n",
      "Trained and saved KNeighborsRegressor model with parameters {'n_neighbors': 25, 'weights': 'uniform', 'metric': 'manhattan'} to ../models/knn_25_neighbors_uniform_manhattan_hot_norm.pkl\n",
      "Trained and saved KNeighborsRegressor model with parameters {'n_neighbors': 25, 'weights': 'distance', 'metric': 'euclidean'} to ../models/knn_25_neighbors_distance_euclidean_hot_norm.pkl\n",
      "Trained and saved KNeighborsRegressor model with parameters {'n_neighbors': 25, 'weights': 'distance', 'metric': 'manhattan'} to ../models/knn_25_neighbors_distance_manhattan_hot_norm.pkl\n",
      "Trained and saved KNeighborsRegressor model with parameters {'n_neighbors': 30, 'weights': 'uniform', 'metric': 'euclidean'} to ../models/knn_30_neighbors_uniform_euclidean_hot_norm.pkl\n",
      "Trained and saved KNeighborsRegressor model with parameters {'n_neighbors': 30, 'weights': 'uniform', 'metric': 'manhattan'} to ../models/knn_30_neighbors_uniform_manhattan_hot_norm.pkl\n",
      "Trained and saved KNeighborsRegressor model with parameters {'n_neighbors': 30, 'weights': 'distance', 'metric': 'euclidean'} to ../models/knn_30_neighbors_distance_euclidean_hot_norm.pkl\n",
      "Trained and saved KNeighborsRegressor model with parameters {'n_neighbors': 30, 'weights': 'distance', 'metric': 'manhattan'} to ../models/knn_30_neighbors_distance_manhattan_hot_norm.pkl\n",
      "Trained and saved KNeighborsRegressor model with parameters {'n_neighbors': 50, 'weights': 'uniform', 'metric': 'euclidean'} to ../models/knn_50_neighbors_uniform_euclidean_hot_norm.pkl\n",
      "Trained and saved KNeighborsRegressor model with parameters {'n_neighbors': 50, 'weights': 'uniform', 'metric': 'manhattan'} to ../models/knn_50_neighbors_uniform_manhattan_hot_norm.pkl\n",
      "Trained and saved KNeighborsRegressor model with parameters {'n_neighbors': 50, 'weights': 'distance', 'metric': 'euclidean'} to ../models/knn_50_neighbors_distance_euclidean_hot_norm.pkl\n",
      "Trained and saved KNeighborsRegressor model with parameters {'n_neighbors': 50, 'weights': 'distance', 'metric': 'manhattan'} to ../models/knn_50_neighbors_distance_manhattan_hot_norm.pkl\n",
      "{'model': 'KNeighborsRegressor (k=5, weights=uniform, metric=euclidean)', 'dataset': 'hot_norm', 'split': 'train', 'rmse': 0.0616, 'mae': 0.0379, 'r2': 0.7644, 'inversed': False, 'model_path': '../models/knn_5_neighbors_uniform_euclidean_hot_norm.pkl'}\n",
      "{'model': 'KNeighborsRegressor (k=5, weights=uniform, metric=euclidean)', 'dataset': 'hot_norm', 'split': 'train', 'rmse': 89.7294, 'mae': 55.2743, 'r2': 0.7644, 'inversed': True, 'model_path': '../models/knn_5_neighbors_uniform_euclidean_hot_norm.pkl'}\n",
      "{'model': 'KNeighborsRegressor (k=5, weights=uniform, metric=euclidean)', 'dataset': 'hot_norm', 'split': 'val', 'rmse': 0.0777, 'mae': 0.0472, 'r2': 0.6258, 'inversed': False, 'model_path': '../models/knn_5_neighbors_uniform_euclidean_hot_norm.pkl'}\n",
      "{'model': 'KNeighborsRegressor (k=5, weights=uniform, metric=euclidean)', 'dataset': 'hot_norm', 'split': 'val', 'rmse': 113.2998, 'mae': 68.8647, 'r2': 0.6258, 'inversed': True, 'model_path': '../models/knn_5_neighbors_uniform_euclidean_hot_norm.pkl'}\n",
      "{'model': 'KNeighborsRegressor (k=5, weights=uniform, metric=euclidean)', 'dataset': 'hot_norm', 'split': 'test', 'rmse': 0.0774, 'mae': 0.048, 'r2': 0.6346, 'inversed': False, 'model_path': '../models/knn_5_neighbors_uniform_euclidean_hot_norm.pkl'}\n",
      "{'model': 'KNeighborsRegressor (k=5, weights=uniform, metric=euclidean)', 'dataset': 'hot_norm', 'split': 'test', 'rmse': 112.77, 'mae': 69.9251, 'r2': 0.6346, 'inversed': True, 'model_path': '../models/knn_5_neighbors_uniform_euclidean_hot_norm.pkl'}\n",
      "{'model': 'KNeighborsRegressor (k=5, weights=uniform, metric=manhattan)', 'dataset': 'hot_norm', 'split': 'train', 'rmse': 0.0615, 'mae': 0.0379, 'r2': 0.7651, 'inversed': False, 'model_path': '../models/knn_5_neighbors_uniform_manhattan_hot_norm.pkl'}\n",
      "{'model': 'KNeighborsRegressor (k=5, weights=uniform, metric=manhattan)', 'dataset': 'hot_norm', 'split': 'train', 'rmse': 89.5991, 'mae': 55.1792, 'r2': 0.7651, 'inversed': True, 'model_path': '../models/knn_5_neighbors_uniform_manhattan_hot_norm.pkl'}\n",
      "{'model': 'KNeighborsRegressor (k=5, weights=uniform, metric=manhattan)', 'dataset': 'hot_norm', 'split': 'val', 'rmse': 0.0778, 'mae': 0.0472, 'r2': 0.6251, 'inversed': False, 'model_path': '../models/knn_5_neighbors_uniform_manhattan_hot_norm.pkl'}\n",
      "{'model': 'KNeighborsRegressor (k=5, weights=uniform, metric=manhattan)', 'dataset': 'hot_norm', 'split': 'val', 'rmse': 113.4062, 'mae': 68.7238, 'r2': 0.6251, 'inversed': True, 'model_path': '../models/knn_5_neighbors_uniform_manhattan_hot_norm.pkl'}\n",
      "{'model': 'KNeighborsRegressor (k=5, weights=uniform, metric=manhattan)', 'dataset': 'hot_norm', 'split': 'test', 'rmse': 0.0768, 'mae': 0.0475, 'r2': 0.6398, 'inversed': False, 'model_path': '../models/knn_5_neighbors_uniform_manhattan_hot_norm.pkl'}\n",
      "{'model': 'KNeighborsRegressor (k=5, weights=uniform, metric=manhattan)', 'dataset': 'hot_norm', 'split': 'test', 'rmse': 111.955, 'mae': 69.1909, 'r2': 0.6398, 'inversed': True, 'model_path': '../models/knn_5_neighbors_uniform_manhattan_hot_norm.pkl'}\n",
      "{'model': 'KNeighborsRegressor (k=5, weights=distance, metric=euclidean)', 'dataset': 'hot_norm', 'split': 'train', 'rmse': 0.0001, 'mae': 0.0, 'r2': 1.0, 'inversed': False, 'model_path': '../models/knn_5_neighbors_distance_euclidean_hot_norm.pkl'}\n",
      "{'model': 'KNeighborsRegressor (k=5, weights=distance, metric=euclidean)', 'dataset': 'hot_norm', 'split': 'train', 'rmse': 0.1568, 'mae': 0.0029, 'r2': 1.0, 'inversed': True, 'model_path': '../models/knn_5_neighbors_distance_euclidean_hot_norm.pkl'}\n",
      "{'model': 'KNeighborsRegressor (k=5, weights=distance, metric=euclidean)', 'dataset': 'hot_norm', 'split': 'val', 'rmse': 0.0775, 'mae': 0.0462, 'r2': 0.6279, 'inversed': False, 'model_path': '../models/knn_5_neighbors_distance_euclidean_hot_norm.pkl'}\n",
      "{'model': 'KNeighborsRegressor (k=5, weights=distance, metric=euclidean)', 'dataset': 'hot_norm', 'split': 'val', 'rmse': 112.9758, 'mae': 67.2692, 'r2': 0.6279, 'inversed': True, 'model_path': '../models/knn_5_neighbors_distance_euclidean_hot_norm.pkl'}\n",
      "{'model': 'KNeighborsRegressor (k=5, weights=distance, metric=euclidean)', 'dataset': 'hot_norm', 'split': 'test', 'rmse': 0.0776, 'mae': 0.047, 'r2': 0.6328, 'inversed': False, 'model_path': '../models/knn_5_neighbors_distance_euclidean_hot_norm.pkl'}\n",
      "{'model': 'KNeighborsRegressor (k=5, weights=distance, metric=euclidean)', 'dataset': 'hot_norm', 'split': 'test', 'rmse': 113.0463, 'mae': 68.4474, 'r2': 0.6328, 'inversed': True, 'model_path': '../models/knn_5_neighbors_distance_euclidean_hot_norm.pkl'}\n",
      "{'model': 'KNeighborsRegressor (k=5, weights=distance, metric=manhattan)', 'dataset': 'hot_norm', 'split': 'train', 'rmse': 0.0, 'mae': 0.0, 'r2': 1.0, 'inversed': False, 'model_path': '../models/knn_5_neighbors_distance_manhattan_hot_norm.pkl'}\n",
      "{'model': 'KNeighborsRegressor (k=5, weights=distance, metric=manhattan)', 'dataset': 'hot_norm', 'split': 'train', 'rmse': 0.0, 'mae': 0.0, 'r2': 1.0, 'inversed': True, 'model_path': '../models/knn_5_neighbors_distance_manhattan_hot_norm.pkl'}\n",
      "{'model': 'KNeighborsRegressor (k=5, weights=distance, metric=manhattan)', 'dataset': 'hot_norm', 'split': 'val', 'rmse': 0.0775, 'mae': 0.046, 'r2': 0.6277, 'inversed': False, 'model_path': '../models/knn_5_neighbors_distance_manhattan_hot_norm.pkl'}\n",
      "{'model': 'KNeighborsRegressor (k=5, weights=distance, metric=manhattan)', 'dataset': 'hot_norm', 'split': 'val', 'rmse': 112.9989, 'mae': 67.0776, 'r2': 0.6277, 'inversed': True, 'model_path': '../models/knn_5_neighbors_distance_manhattan_hot_norm.pkl'}\n",
      "{'model': 'KNeighborsRegressor (k=5, weights=distance, metric=manhattan)', 'dataset': 'hot_norm', 'split': 'test', 'rmse': 0.077, 'mae': 0.0465, 'r2': 0.6382, 'inversed': False, 'model_path': '../models/knn_5_neighbors_distance_manhattan_hot_norm.pkl'}\n",
      "{'model': 'KNeighborsRegressor (k=5, weights=distance, metric=manhattan)', 'dataset': 'hot_norm', 'split': 'test', 'rmse': 112.2059, 'mae': 67.7833, 'r2': 0.6382, 'inversed': True, 'model_path': '../models/knn_5_neighbors_distance_manhattan_hot_norm.pkl'}\n",
      "{'model': 'KNeighborsRegressor (k=15, weights=uniform, metric=euclidean)', 'dataset': 'hot_norm', 'split': 'train', 'rmse': 0.0696, 'mae': 0.0429, 'r2': 0.699, 'inversed': False, 'model_path': '../models/knn_15_neighbors_uniform_euclidean_hot_norm.pkl'}\n",
      "{'model': 'KNeighborsRegressor (k=15, weights=uniform, metric=euclidean)', 'dataset': 'hot_norm', 'split': 'train', 'rmse': 101.4143, 'mae': 62.4952, 'r2': 0.699, 'inversed': True, 'model_path': '../models/knn_15_neighbors_uniform_euclidean_hot_norm.pkl'}\n",
      "{'model': 'KNeighborsRegressor (k=15, weights=uniform, metric=euclidean)', 'dataset': 'hot_norm', 'split': 'val', 'rmse': 0.0763, 'mae': 0.0461, 'r2': 0.6391, 'inversed': False, 'model_path': '../models/knn_15_neighbors_uniform_euclidean_hot_norm.pkl'}\n",
      "{'model': 'KNeighborsRegressor (k=15, weights=uniform, metric=euclidean)', 'dataset': 'hot_norm', 'split': 'val', 'rmse': 111.2685, 'mae': 67.2521, 'r2': 0.6391, 'inversed': True, 'model_path': '../models/knn_15_neighbors_uniform_euclidean_hot_norm.pkl'}\n",
      "{'model': 'KNeighborsRegressor (k=15, weights=uniform, metric=euclidean)', 'dataset': 'hot_norm', 'split': 'test', 'rmse': 0.0752, 'mae': 0.0465, 'r2': 0.6545, 'inversed': False, 'model_path': '../models/knn_15_neighbors_uniform_euclidean_hot_norm.pkl'}\n",
      "{'model': 'KNeighborsRegressor (k=15, weights=uniform, metric=euclidean)', 'dataset': 'hot_norm', 'split': 'test', 'rmse': 109.6502, 'mae': 67.8007, 'r2': 0.6545, 'inversed': True, 'model_path': '../models/knn_15_neighbors_uniform_euclidean_hot_norm.pkl'}\n",
      "{'model': 'KNeighborsRegressor (k=15, weights=uniform, metric=manhattan)', 'dataset': 'hot_norm', 'split': 'train', 'rmse': 0.0692, 'mae': 0.0426, 'r2': 0.7024, 'inversed': False, 'model_path': '../models/knn_15_neighbors_uniform_manhattan_hot_norm.pkl'}\n",
      "{'model': 'KNeighborsRegressor (k=15, weights=uniform, metric=manhattan)', 'dataset': 'hot_norm', 'split': 'train', 'rmse': 100.841, 'mae': 62.1363, 'r2': 0.7024, 'inversed': True, 'model_path': '../models/knn_15_neighbors_uniform_manhattan_hot_norm.pkl'}\n",
      "{'model': 'KNeighborsRegressor (k=15, weights=uniform, metric=manhattan)', 'dataset': 'hot_norm', 'split': 'val', 'rmse': 0.076, 'mae': 0.0459, 'r2': 0.6425, 'inversed': False, 'model_path': '../models/knn_15_neighbors_uniform_manhattan_hot_norm.pkl'}\n",
      "{'model': 'KNeighborsRegressor (k=15, weights=uniform, metric=manhattan)', 'dataset': 'hot_norm', 'split': 'val', 'rmse': 110.739, 'mae': 66.9178, 'r2': 0.6425, 'inversed': True, 'model_path': '../models/knn_15_neighbors_uniform_manhattan_hot_norm.pkl'}\n",
      "{'model': 'KNeighborsRegressor (k=15, weights=uniform, metric=manhattan)', 'dataset': 'hot_norm', 'split': 'test', 'rmse': 0.0747, 'mae': 0.0462, 'r2': 0.6596, 'inversed': False, 'model_path': '../models/knn_15_neighbors_uniform_manhattan_hot_norm.pkl'}\n",
      "{'model': 'KNeighborsRegressor (k=15, weights=uniform, metric=manhattan)', 'dataset': 'hot_norm', 'split': 'test', 'rmse': 108.8335, 'mae': 67.2664, 'r2': 0.6596, 'inversed': True, 'model_path': '../models/knn_15_neighbors_uniform_manhattan_hot_norm.pkl'}\n",
      "{'model': 'KNeighborsRegressor (k=15, weights=distance, metric=euclidean)', 'dataset': 'hot_norm', 'split': 'train', 'rmse': 0.0001, 'mae': 0.0, 'r2': 1.0, 'inversed': False, 'model_path': '../models/knn_15_neighbors_distance_euclidean_hot_norm.pkl'}\n",
      "{'model': 'KNeighborsRegressor (k=15, weights=distance, metric=euclidean)', 'dataset': 'hot_norm', 'split': 'train', 'rmse': 0.1583, 'mae': 0.003, 'r2': 1.0, 'inversed': True, 'model_path': '../models/knn_15_neighbors_distance_euclidean_hot_norm.pkl'}\n",
      "{'model': 'KNeighborsRegressor (k=15, weights=distance, metric=euclidean)', 'dataset': 'hot_norm', 'split': 'val', 'rmse': 0.0749, 'mae': 0.0445, 'r2': 0.6525, 'inversed': False, 'model_path': '../models/knn_15_neighbors_distance_euclidean_hot_norm.pkl'}\n",
      "{'model': 'KNeighborsRegressor (k=15, weights=distance, metric=euclidean)', 'dataset': 'hot_norm', 'split': 'val', 'rmse': 109.1842, 'mae': 64.8099, 'r2': 0.6525, 'inversed': True, 'model_path': '../models/knn_15_neighbors_distance_euclidean_hot_norm.pkl'}\n",
      "{'model': 'KNeighborsRegressor (k=15, weights=distance, metric=euclidean)', 'dataset': 'hot_norm', 'split': 'test', 'rmse': 0.0739, 'mae': 0.0448, 'r2': 0.6664, 'inversed': False, 'model_path': '../models/knn_15_neighbors_distance_euclidean_hot_norm.pkl'}\n",
      "{'model': 'KNeighborsRegressor (k=15, weights=distance, metric=euclidean)', 'dataset': 'hot_norm', 'split': 'test', 'rmse': 107.7515, 'mae': 65.3403, 'r2': 0.6664, 'inversed': True, 'model_path': '../models/knn_15_neighbors_distance_euclidean_hot_norm.pkl'}\n",
      "{'model': 'KNeighborsRegressor (k=15, weights=distance, metric=manhattan)', 'dataset': 'hot_norm', 'split': 'train', 'rmse': 0.0, 'mae': 0.0, 'r2': 1.0, 'inversed': False, 'model_path': '../models/knn_15_neighbors_distance_manhattan_hot_norm.pkl'}\n",
      "{'model': 'KNeighborsRegressor (k=15, weights=distance, metric=manhattan)', 'dataset': 'hot_norm', 'split': 'train', 'rmse': 0.0, 'mae': 0.0, 'r2': 1.0, 'inversed': True, 'model_path': '../models/knn_15_neighbors_distance_manhattan_hot_norm.pkl'}\n",
      "{'model': 'KNeighborsRegressor (k=15, weights=distance, metric=manhattan)', 'dataset': 'hot_norm', 'split': 'val', 'rmse': 0.0746, 'mae': 0.0442, 'r2': 0.6556, 'inversed': False, 'model_path': '../models/knn_15_neighbors_distance_manhattan_hot_norm.pkl'}\n",
      "{'model': 'KNeighborsRegressor (k=15, weights=distance, metric=manhattan)', 'dataset': 'hot_norm', 'split': 'val', 'rmse': 108.6936, 'mae': 64.3714, 'r2': 0.6556, 'inversed': True, 'model_path': '../models/knn_15_neighbors_distance_manhattan_hot_norm.pkl'}\n",
      "{'model': 'KNeighborsRegressor (k=15, weights=distance, metric=manhattan)', 'dataset': 'hot_norm', 'split': 'test', 'rmse': 0.0735, 'mae': 0.0445, 'r2': 0.6704, 'inversed': False, 'model_path': '../models/knn_15_neighbors_distance_manhattan_hot_norm.pkl'}\n",
      "{'model': 'KNeighborsRegressor (k=15, weights=distance, metric=manhattan)', 'dataset': 'hot_norm', 'split': 'test', 'rmse': 107.0964, 'mae': 64.8837, 'r2': 0.6704, 'inversed': True, 'model_path': '../models/knn_15_neighbors_distance_manhattan_hot_norm.pkl'}\n",
      "{'model': 'KNeighborsRegressor (k=20, weights=uniform, metric=euclidean)', 'dataset': 'hot_norm', 'split': 'train', 'rmse': 0.0711, 'mae': 0.0438, 'r2': 0.6857, 'inversed': False, 'model_path': '../models/knn_20_neighbors_uniform_euclidean_hot_norm.pkl'}\n",
      "{'model': 'KNeighborsRegressor (k=20, weights=uniform, metric=euclidean)', 'dataset': 'hot_norm', 'split': 'train', 'rmse': 103.6234, 'mae': 63.7671, 'r2': 0.6857, 'inversed': True, 'model_path': '../models/knn_20_neighbors_uniform_euclidean_hot_norm.pkl'}\n",
      "{'model': 'KNeighborsRegressor (k=20, weights=uniform, metric=euclidean)', 'dataset': 'hot_norm', 'split': 'val', 'rmse': 0.0765, 'mae': 0.0463, 'r2': 0.6375, 'inversed': False, 'model_path': '../models/knn_20_neighbors_uniform_euclidean_hot_norm.pkl'}\n",
      "{'model': 'KNeighborsRegressor (k=20, weights=uniform, metric=euclidean)', 'dataset': 'hot_norm', 'split': 'val', 'rmse': 111.5099, 'mae': 67.5447, 'r2': 0.6375, 'inversed': True, 'model_path': '../models/knn_20_neighbors_uniform_euclidean_hot_norm.pkl'}\n",
      "{'model': 'KNeighborsRegressor (k=20, weights=uniform, metric=euclidean)', 'dataset': 'hot_norm', 'split': 'test', 'rmse': 0.0757, 'mae': 0.0466, 'r2': 0.6506, 'inversed': False, 'model_path': '../models/knn_20_neighbors_uniform_euclidean_hot_norm.pkl'}\n",
      "{'model': 'KNeighborsRegressor (k=20, weights=uniform, metric=euclidean)', 'dataset': 'hot_norm', 'split': 'test', 'rmse': 110.2632, 'mae': 67.9573, 'r2': 0.6506, 'inversed': True, 'model_path': '../models/knn_20_neighbors_uniform_euclidean_hot_norm.pkl'}\n",
      "{'model': 'KNeighborsRegressor (k=20, weights=uniform, metric=manhattan)', 'dataset': 'hot_norm', 'split': 'train', 'rmse': 0.0705, 'mae': 0.0434, 'r2': 0.6906, 'inversed': False, 'model_path': '../models/knn_20_neighbors_uniform_manhattan_hot_norm.pkl'}\n",
      "{'model': 'KNeighborsRegressor (k=20, weights=uniform, metric=manhattan)', 'dataset': 'hot_norm', 'split': 'train', 'rmse': 102.8168, 'mae': 63.198, 'r2': 0.6906, 'inversed': True, 'model_path': '../models/knn_20_neighbors_uniform_manhattan_hot_norm.pkl'}\n",
      "{'model': 'KNeighborsRegressor (k=20, weights=uniform, metric=manhattan)', 'dataset': 'hot_norm', 'split': 'val', 'rmse': 0.0761, 'mae': 0.046, 'r2': 0.6418, 'inversed': False, 'model_path': '../models/knn_20_neighbors_uniform_manhattan_hot_norm.pkl'}\n",
      "{'model': 'KNeighborsRegressor (k=20, weights=uniform, metric=manhattan)', 'dataset': 'hot_norm', 'split': 'val', 'rmse': 110.8453, 'mae': 67.0612, 'r2': 0.6418, 'inversed': True, 'model_path': '../models/knn_20_neighbors_uniform_manhattan_hot_norm.pkl'}\n",
      "{'model': 'KNeighborsRegressor (k=20, weights=uniform, metric=manhattan)', 'dataset': 'hot_norm', 'split': 'test', 'rmse': 0.075, 'mae': 0.0462, 'r2': 0.657, 'inversed': False, 'model_path': '../models/knn_20_neighbors_uniform_manhattan_hot_norm.pkl'}\n",
      "{'model': 'KNeighborsRegressor (k=20, weights=uniform, metric=manhattan)', 'dataset': 'hot_norm', 'split': 'test', 'rmse': 109.2623, 'mae': 67.3081, 'r2': 0.657, 'inversed': True, 'model_path': '../models/knn_20_neighbors_uniform_manhattan_hot_norm.pkl'}\n",
      "{'model': 'KNeighborsRegressor (k=20, weights=distance, metric=euclidean)', 'dataset': 'hot_norm', 'split': 'train', 'rmse': 0.0001, 'mae': 0.0, 'r2': 1.0, 'inversed': False, 'model_path': '../models/knn_20_neighbors_distance_euclidean_hot_norm.pkl'}\n",
      "{'model': 'KNeighborsRegressor (k=20, weights=distance, metric=euclidean)', 'dataset': 'hot_norm', 'split': 'train', 'rmse': 0.1583, 'mae': 0.003, 'r2': 1.0, 'inversed': True, 'model_path': '../models/knn_20_neighbors_distance_euclidean_hot_norm.pkl'}\n",
      "{'model': 'KNeighborsRegressor (k=20, weights=distance, metric=euclidean)', 'dataset': 'hot_norm', 'split': 'val', 'rmse': 0.0746, 'mae': 0.0443, 'r2': 0.6549, 'inversed': False, 'model_path': '../models/knn_20_neighbors_distance_euclidean_hot_norm.pkl'}\n",
      "{'model': 'KNeighborsRegressor (k=20, weights=distance, metric=euclidean)', 'dataset': 'hot_norm', 'split': 'val', 'rmse': 108.7936, 'mae': 64.6117, 'r2': 0.6549, 'inversed': True, 'model_path': '../models/knn_20_neighbors_distance_euclidean_hot_norm.pkl'}\n",
      "{'model': 'KNeighborsRegressor (k=20, weights=distance, metric=euclidean)', 'dataset': 'hot_norm', 'split': 'test', 'rmse': 0.0739, 'mae': 0.0447, 'r2': 0.6668, 'inversed': False, 'model_path': '../models/knn_20_neighbors_distance_euclidean_hot_norm.pkl'}\n",
      "{'model': 'KNeighborsRegressor (k=20, weights=distance, metric=euclidean)', 'dataset': 'hot_norm', 'split': 'test', 'rmse': 107.6795, 'mae': 65.2195, 'r2': 0.6668, 'inversed': True, 'model_path': '../models/knn_20_neighbors_distance_euclidean_hot_norm.pkl'}\n",
      "{'model': 'KNeighborsRegressor (k=20, weights=distance, metric=manhattan)', 'dataset': 'hot_norm', 'split': 'train', 'rmse': 0.0, 'mae': 0.0, 'r2': 1.0, 'inversed': False, 'model_path': '../models/knn_20_neighbors_distance_manhattan_hot_norm.pkl'}\n",
      "{'model': 'KNeighborsRegressor (k=20, weights=distance, metric=manhattan)', 'dataset': 'hot_norm', 'split': 'train', 'rmse': 0.0, 'mae': 0.0, 'r2': 1.0, 'inversed': True, 'model_path': '../models/knn_20_neighbors_distance_manhattan_hot_norm.pkl'}\n",
      "{'model': 'KNeighborsRegressor (k=20, weights=distance, metric=manhattan)', 'dataset': 'hot_norm', 'split': 'val', 'rmse': 0.0743, 'mae': 0.0441, 'r2': 0.6585, 'inversed': False, 'model_path': '../models/knn_20_neighbors_distance_manhattan_hot_norm.pkl'}\n",
      "{'model': 'KNeighborsRegressor (k=20, weights=distance, metric=manhattan)', 'dataset': 'hot_norm', 'split': 'val', 'rmse': 108.2298, 'mae': 64.2307, 'r2': 0.6585, 'inversed': True, 'model_path': '../models/knn_20_neighbors_distance_manhattan_hot_norm.pkl'}\n",
      "{'model': 'KNeighborsRegressor (k=20, weights=distance, metric=manhattan)', 'dataset': 'hot_norm', 'split': 'test', 'rmse': 0.0733, 'mae': 0.0444, 'r2': 0.6719, 'inversed': False, 'model_path': '../models/knn_20_neighbors_distance_manhattan_hot_norm.pkl'}\n",
      "{'model': 'KNeighborsRegressor (k=20, weights=distance, metric=manhattan)', 'dataset': 'hot_norm', 'split': 'test', 'rmse': 106.8529, 'mae': 64.7234, 'r2': 0.6719, 'inversed': True, 'model_path': '../models/knn_20_neighbors_distance_manhattan_hot_norm.pkl'}\n",
      "{'model': 'KNeighborsRegressor (k=25, weights=uniform, metric=euclidean)', 'dataset': 'hot_norm', 'split': 'train', 'rmse': 0.0722, 'mae': 0.0443, 'r2': 0.6758, 'inversed': False, 'model_path': '../models/knn_25_neighbors_uniform_euclidean_hot_norm.pkl'}\n",
      "{'model': 'KNeighborsRegressor (k=25, weights=uniform, metric=euclidean)', 'dataset': 'hot_norm', 'split': 'train', 'rmse': 105.2518, 'mae': 64.5959, 'r2': 0.6758, 'inversed': True, 'model_path': '../models/knn_25_neighbors_uniform_euclidean_hot_norm.pkl'}\n",
      "{'model': 'KNeighborsRegressor (k=25, weights=uniform, metric=euclidean)', 'dataset': 'hot_norm', 'split': 'val', 'rmse': 0.0769, 'mae': 0.0466, 'r2': 0.6337, 'inversed': False, 'model_path': '../models/knn_25_neighbors_uniform_euclidean_hot_norm.pkl'}\n",
      "{'model': 'KNeighborsRegressor (k=25, weights=uniform, metric=euclidean)', 'dataset': 'hot_norm', 'split': 'val', 'rmse': 112.0944, 'mae': 67.8647, 'r2': 0.6337, 'inversed': True, 'model_path': '../models/knn_25_neighbors_uniform_euclidean_hot_norm.pkl'}\n",
      "{'model': 'KNeighborsRegressor (k=25, weights=uniform, metric=euclidean)', 'dataset': 'hot_norm', 'split': 'test', 'rmse': 0.0759, 'mae': 0.0467, 'r2': 0.6483, 'inversed': False, 'model_path': '../models/knn_25_neighbors_uniform_euclidean_hot_norm.pkl'}\n",
      "{'model': 'KNeighborsRegressor (k=25, weights=uniform, metric=euclidean)', 'dataset': 'hot_norm', 'split': 'test', 'rmse': 110.6257, 'mae': 68.0035, 'r2': 0.6483, 'inversed': True, 'model_path': '../models/knn_25_neighbors_uniform_euclidean_hot_norm.pkl'}\n",
      "{'model': 'KNeighborsRegressor (k=25, weights=uniform, metric=manhattan)', 'dataset': 'hot_norm', 'split': 'train', 'rmse': 0.0716, 'mae': 0.044, 'r2': 0.6815, 'inversed': False, 'model_path': '../models/knn_25_neighbors_uniform_manhattan_hot_norm.pkl'}\n",
      "{'model': 'KNeighborsRegressor (k=25, weights=uniform, metric=manhattan)', 'dataset': 'hot_norm', 'split': 'train', 'rmse': 104.3215, 'mae': 64.0576, 'r2': 0.6815, 'inversed': True, 'model_path': '../models/knn_25_neighbors_uniform_manhattan_hot_norm.pkl'}\n",
      "{'model': 'KNeighborsRegressor (k=25, weights=uniform, metric=manhattan)', 'dataset': 'hot_norm', 'split': 'val', 'rmse': 0.0763, 'mae': 0.0462, 'r2': 0.6393, 'inversed': False, 'model_path': '../models/knn_25_neighbors_uniform_manhattan_hot_norm.pkl'}\n",
      "{'model': 'KNeighborsRegressor (k=25, weights=uniform, metric=manhattan)', 'dataset': 'hot_norm', 'split': 'val', 'rmse': 111.2325, 'mae': 67.3287, 'r2': 0.6393, 'inversed': True, 'model_path': '../models/knn_25_neighbors_uniform_manhattan_hot_norm.pkl'}\n",
      "{'model': 'KNeighborsRegressor (k=25, weights=uniform, metric=manhattan)', 'dataset': 'hot_norm', 'split': 'test', 'rmse': 0.0753, 'mae': 0.0462, 'r2': 0.654, 'inversed': False, 'model_path': '../models/knn_25_neighbors_uniform_manhattan_hot_norm.pkl'}\n",
      "{'model': 'KNeighborsRegressor (k=25, weights=uniform, metric=manhattan)', 'dataset': 'hot_norm', 'split': 'test', 'rmse': 109.7336, 'mae': 67.3673, 'r2': 0.654, 'inversed': True, 'model_path': '../models/knn_25_neighbors_uniform_manhattan_hot_norm.pkl'}\n",
      "{'model': 'KNeighborsRegressor (k=25, weights=distance, metric=euclidean)', 'dataset': 'hot_norm', 'split': 'train', 'rmse': 0.0001, 'mae': 0.0, 'r2': 1.0, 'inversed': False, 'model_path': '../models/knn_25_neighbors_distance_euclidean_hot_norm.pkl'}\n",
      "{'model': 'KNeighborsRegressor (k=25, weights=distance, metric=euclidean)', 'dataset': 'hot_norm', 'split': 'train', 'rmse': 0.1583, 'mae': 0.003, 'r2': 1.0, 'inversed': True, 'model_path': '../models/knn_25_neighbors_distance_euclidean_hot_norm.pkl'}\n",
      "{'model': 'KNeighborsRegressor (k=25, weights=distance, metric=euclidean)', 'dataset': 'hot_norm', 'split': 'val', 'rmse': 0.0747, 'mae': 0.0444, 'r2': 0.6544, 'inversed': False, 'model_path': '../models/knn_25_neighbors_distance_euclidean_hot_norm.pkl'}\n",
      "{'model': 'KNeighborsRegressor (k=25, weights=distance, metric=euclidean)', 'dataset': 'hot_norm', 'split': 'val', 'rmse': 108.8795, 'mae': 64.6603, 'r2': 0.6544, 'inversed': True, 'model_path': '../models/knn_25_neighbors_distance_euclidean_hot_norm.pkl'}\n",
      "{'model': 'KNeighborsRegressor (k=25, weights=distance, metric=euclidean)', 'dataset': 'hot_norm', 'split': 'test', 'rmse': 0.0739, 'mae': 0.0447, 'r2': 0.667, 'inversed': False, 'model_path': '../models/knn_25_neighbors_distance_euclidean_hot_norm.pkl'}\n",
      "{'model': 'KNeighborsRegressor (k=25, weights=distance, metric=euclidean)', 'dataset': 'hot_norm', 'split': 'test', 'rmse': 107.6514, 'mae': 65.1589, 'r2': 0.667, 'inversed': True, 'model_path': '../models/knn_25_neighbors_distance_euclidean_hot_norm.pkl'}\n",
      "{'model': 'KNeighborsRegressor (k=25, weights=distance, metric=manhattan)', 'dataset': 'hot_norm', 'split': 'train', 'rmse': 0.0, 'mae': 0.0, 'r2': 1.0, 'inversed': False, 'model_path': '../models/knn_25_neighbors_distance_manhattan_hot_norm.pkl'}\n",
      "{'model': 'KNeighborsRegressor (k=25, weights=distance, metric=manhattan)', 'dataset': 'hot_norm', 'split': 'train', 'rmse': 0.0, 'mae': 0.0, 'r2': 1.0, 'inversed': True, 'model_path': '../models/knn_25_neighbors_distance_manhattan_hot_norm.pkl'}\n",
      "{'model': 'KNeighborsRegressor (k=25, weights=distance, metric=manhattan)', 'dataset': 'hot_norm', 'split': 'val', 'rmse': 0.0742, 'mae': 0.0441, 'r2': 0.6587, 'inversed': False, 'model_path': '../models/knn_25_neighbors_distance_manhattan_hot_norm.pkl'}\n",
      "{'model': 'KNeighborsRegressor (k=25, weights=distance, metric=manhattan)', 'dataset': 'hot_norm', 'split': 'val', 'rmse': 108.2053, 'mae': 64.2296, 'r2': 0.6587, 'inversed': True, 'model_path': '../models/knn_25_neighbors_distance_manhattan_hot_norm.pkl'}\n",
      "{'model': 'KNeighborsRegressor (k=25, weights=distance, metric=manhattan)', 'dataset': 'hot_norm', 'split': 'test', 'rmse': 0.0733, 'mae': 0.0444, 'r2': 0.6718, 'inversed': False, 'model_path': '../models/knn_25_neighbors_distance_manhattan_hot_norm.pkl'}\n",
      "{'model': 'KNeighborsRegressor (k=25, weights=distance, metric=manhattan)', 'dataset': 'hot_norm', 'split': 'test', 'rmse': 106.8718, 'mae': 64.6548, 'r2': 0.6718, 'inversed': True, 'model_path': '../models/knn_25_neighbors_distance_manhattan_hot_norm.pkl'}\n",
      "{'model': 'KNeighborsRegressor (k=30, weights=uniform, metric=euclidean)', 'dataset': 'hot_norm', 'split': 'train', 'rmse': 0.073, 'mae': 0.0448, 'r2': 0.6685, 'inversed': False, 'model_path': '../models/knn_30_neighbors_uniform_euclidean_hot_norm.pkl'}\n",
      "{'model': 'KNeighborsRegressor (k=30, weights=uniform, metric=euclidean)', 'dataset': 'hot_norm', 'split': 'train', 'rmse': 106.4273, 'mae': 65.2318, 'r2': 0.6685, 'inversed': True, 'model_path': '../models/knn_30_neighbors_uniform_euclidean_hot_norm.pkl'}\n",
      "{'model': 'KNeighborsRegressor (k=30, weights=uniform, metric=euclidean)', 'dataset': 'hot_norm', 'split': 'val', 'rmse': 0.0772, 'mae': 0.0467, 'r2': 0.6313, 'inversed': False, 'model_path': '../models/knn_30_neighbors_uniform_euclidean_hot_norm.pkl'}\n",
      "{'model': 'KNeighborsRegressor (k=30, weights=uniform, metric=euclidean)', 'dataset': 'hot_norm', 'split': 'val', 'rmse': 112.4516, 'mae': 68.0494, 'r2': 0.6313, 'inversed': True, 'model_path': '../models/knn_30_neighbors_uniform_euclidean_hot_norm.pkl'}\n",
      "{'model': 'KNeighborsRegressor (k=30, weights=uniform, metric=euclidean)', 'dataset': 'hot_norm', 'split': 'test', 'rmse': 0.0763, 'mae': 0.0468, 'r2': 0.6447, 'inversed': False, 'model_path': '../models/knn_30_neighbors_uniform_euclidean_hot_norm.pkl'}\n",
      "{'model': 'KNeighborsRegressor (k=30, weights=uniform, metric=euclidean)', 'dataset': 'hot_norm', 'split': 'test', 'rmse': 111.1994, 'mae': 68.2524, 'r2': 0.6447, 'inversed': True, 'model_path': '../models/knn_30_neighbors_uniform_euclidean_hot_norm.pkl'}\n",
      "{'model': 'KNeighborsRegressor (k=30, weights=uniform, metric=manhattan)', 'dataset': 'hot_norm', 'split': 'train', 'rmse': 0.0724, 'mae': 0.0443, 'r2': 0.6744, 'inversed': False, 'model_path': '../models/knn_30_neighbors_uniform_manhattan_hot_norm.pkl'}\n",
      "{'model': 'KNeighborsRegressor (k=30, weights=uniform, metric=manhattan)', 'dataset': 'hot_norm', 'split': 'train', 'rmse': 105.47, 'mae': 64.6214, 'r2': 0.6744, 'inversed': True, 'model_path': '../models/knn_30_neighbors_uniform_manhattan_hot_norm.pkl'}\n",
      "{'model': 'KNeighborsRegressor (k=30, weights=uniform, metric=manhattan)', 'dataset': 'hot_norm', 'split': 'val', 'rmse': 0.0766, 'mae': 0.0462, 'r2': 0.6367, 'inversed': False, 'model_path': '../models/knn_30_neighbors_uniform_manhattan_hot_norm.pkl'}\n",
      "{'model': 'KNeighborsRegressor (k=30, weights=uniform, metric=manhattan)', 'dataset': 'hot_norm', 'split': 'val', 'rmse': 111.6267, 'mae': 67.3295, 'r2': 0.6367, 'inversed': True, 'model_path': '../models/knn_30_neighbors_uniform_manhattan_hot_norm.pkl'}\n",
      "{'model': 'KNeighborsRegressor (k=30, weights=uniform, metric=manhattan)', 'dataset': 'hot_norm', 'split': 'test', 'rmse': 0.0756, 'mae': 0.0464, 'r2': 0.6512, 'inversed': False, 'model_path': '../models/knn_30_neighbors_uniform_manhattan_hot_norm.pkl'}\n",
      "{'model': 'KNeighborsRegressor (k=30, weights=uniform, metric=manhattan)', 'dataset': 'hot_norm', 'split': 'test', 'rmse': 110.1771, 'mae': 67.5916, 'r2': 0.6512, 'inversed': True, 'model_path': '../models/knn_30_neighbors_uniform_manhattan_hot_norm.pkl'}\n",
      "{'model': 'KNeighborsRegressor (k=30, weights=distance, metric=euclidean)', 'dataset': 'hot_norm', 'split': 'train', 'rmse': 0.0001, 'mae': 0.0, 'r2': 1.0, 'inversed': False, 'model_path': '../models/knn_30_neighbors_distance_euclidean_hot_norm.pkl'}\n",
      "{'model': 'KNeighborsRegressor (k=30, weights=distance, metric=euclidean)', 'dataset': 'hot_norm', 'split': 'train', 'rmse': 0.1583, 'mae': 0.003, 'r2': 1.0, 'inversed': True, 'model_path': '../models/knn_30_neighbors_distance_euclidean_hot_norm.pkl'}\n",
      "{'model': 'KNeighborsRegressor (k=30, weights=distance, metric=euclidean)', 'dataset': 'hot_norm', 'split': 'val', 'rmse': 0.0748, 'mae': 0.0444, 'r2': 0.6539, 'inversed': False, 'model_path': '../models/knn_30_neighbors_distance_euclidean_hot_norm.pkl'}\n",
      "{'model': 'KNeighborsRegressor (k=30, weights=distance, metric=euclidean)', 'dataset': 'hot_norm', 'split': 'val', 'rmse': 108.9496, 'mae': 64.7305, 'r2': 0.6539, 'inversed': True, 'model_path': '../models/knn_30_neighbors_distance_euclidean_hot_norm.pkl'}\n",
      "{'model': 'KNeighborsRegressor (k=30, weights=distance, metric=euclidean)', 'dataset': 'hot_norm', 'split': 'test', 'rmse': 0.074, 'mae': 0.0448, 'r2': 0.6658, 'inversed': False, 'model_path': '../models/knn_30_neighbors_distance_euclidean_hot_norm.pkl'}\n",
      "{'model': 'KNeighborsRegressor (k=30, weights=distance, metric=euclidean)', 'dataset': 'hot_norm', 'split': 'test', 'rmse': 107.8393, 'mae': 65.2422, 'r2': 0.6658, 'inversed': True, 'model_path': '../models/knn_30_neighbors_distance_euclidean_hot_norm.pkl'}\n",
      "{'model': 'KNeighborsRegressor (k=30, weights=distance, metric=manhattan)', 'dataset': 'hot_norm', 'split': 'train', 'rmse': 0.0, 'mae': 0.0, 'r2': 1.0, 'inversed': False, 'model_path': '../models/knn_30_neighbors_distance_manhattan_hot_norm.pkl'}\n",
      "{'model': 'KNeighborsRegressor (k=30, weights=distance, metric=manhattan)', 'dataset': 'hot_norm', 'split': 'train', 'rmse': 0.0, 'mae': 0.0, 'r2': 1.0, 'inversed': True, 'model_path': '../models/knn_30_neighbors_distance_manhattan_hot_norm.pkl'}\n",
      "{'model': 'KNeighborsRegressor (k=30, weights=distance, metric=manhattan)', 'dataset': 'hot_norm', 'split': 'val', 'rmse': 0.0743, 'mae': 0.044, 'r2': 0.6581, 'inversed': False, 'model_path': '../models/knn_30_neighbors_distance_manhattan_hot_norm.pkl'}\n",
      "{'model': 'KNeighborsRegressor (k=30, weights=distance, metric=manhattan)', 'dataset': 'hot_norm', 'split': 'val', 'rmse': 108.2933, 'mae': 64.1969, 'r2': 0.6581, 'inversed': True, 'model_path': '../models/knn_30_neighbors_distance_manhattan_hot_norm.pkl'}\n",
      "{'model': 'KNeighborsRegressor (k=30, weights=distance, metric=manhattan)', 'dataset': 'hot_norm', 'split': 'test', 'rmse': 0.0734, 'mae': 0.0444, 'r2': 0.6712, 'inversed': False, 'model_path': '../models/knn_30_neighbors_distance_manhattan_hot_norm.pkl'}\n",
      "{'model': 'KNeighborsRegressor (k=30, weights=distance, metric=manhattan)', 'dataset': 'hot_norm', 'split': 'test', 'rmse': 106.9721, 'mae': 64.702, 'r2': 0.6712, 'inversed': True, 'model_path': '../models/knn_30_neighbors_distance_manhattan_hot_norm.pkl'}\n",
      "{'model': 'KNeighborsRegressor (k=50, weights=uniform, metric=euclidean)', 'dataset': 'hot_norm', 'split': 'train', 'rmse': 0.0755, 'mae': 0.046, 'r2': 0.6455, 'inversed': False, 'model_path': '../models/knn_50_neighbors_uniform_euclidean_hot_norm.pkl'}\n",
      "{'model': 'KNeighborsRegressor (k=50, weights=uniform, metric=euclidean)', 'dataset': 'hot_norm', 'split': 'train', 'rmse': 110.0623, 'mae': 67.1157, 'r2': 0.6455, 'inversed': True, 'model_path': '../models/knn_50_neighbors_uniform_euclidean_hot_norm.pkl'}\n",
      "{'model': 'KNeighborsRegressor (k=50, weights=uniform, metric=euclidean)', 'dataset': 'hot_norm', 'split': 'val', 'rmse': 0.0785, 'mae': 0.0472, 'r2': 0.6186, 'inversed': False, 'model_path': '../models/knn_50_neighbors_uniform_euclidean_hot_norm.pkl'}\n",
      "{'model': 'KNeighborsRegressor (k=50, weights=uniform, metric=euclidean)', 'dataset': 'hot_norm', 'split': 'val', 'rmse': 114.3854, 'mae': 68.7419, 'r2': 0.6186, 'inversed': True, 'model_path': '../models/knn_50_neighbors_uniform_euclidean_hot_norm.pkl'}\n",
      "{'model': 'KNeighborsRegressor (k=50, weights=uniform, metric=euclidean)', 'dataset': 'hot_norm', 'split': 'test', 'rmse': 0.0771, 'mae': 0.0473, 'r2': 0.6368, 'inversed': False, 'model_path': '../models/knn_50_neighbors_uniform_euclidean_hot_norm.pkl'}\n",
      "{'model': 'KNeighborsRegressor (k=50, weights=uniform, metric=euclidean)', 'dataset': 'hot_norm', 'split': 'test', 'rmse': 112.4292, 'mae': 68.8847, 'r2': 0.6368, 'inversed': True, 'model_path': '../models/knn_50_neighbors_uniform_euclidean_hot_norm.pkl'}\n",
      "{'model': 'KNeighborsRegressor (k=50, weights=uniform, metric=manhattan)', 'dataset': 'hot_norm', 'split': 'train', 'rmse': 0.0748, 'mae': 0.0455, 'r2': 0.652, 'inversed': False, 'model_path': '../models/knn_50_neighbors_uniform_manhattan_hot_norm.pkl'}\n",
      "{'model': 'KNeighborsRegressor (k=50, weights=uniform, metric=manhattan)', 'dataset': 'hot_norm', 'split': 'train', 'rmse': 109.0457, 'mae': 66.3863, 'r2': 0.652, 'inversed': True, 'model_path': '../models/knn_50_neighbors_uniform_manhattan_hot_norm.pkl'}\n",
      "{'model': 'KNeighborsRegressor (k=50, weights=uniform, metric=manhattan)', 'dataset': 'hot_norm', 'split': 'val', 'rmse': 0.0779, 'mae': 0.0467, 'r2': 0.6244, 'inversed': False, 'model_path': '../models/knn_50_neighbors_uniform_manhattan_hot_norm.pkl'}\n",
      "{'model': 'KNeighborsRegressor (k=50, weights=uniform, metric=manhattan)', 'dataset': 'hot_norm', 'split': 'val', 'rmse': 113.5085, 'mae': 68.1155, 'r2': 0.6244, 'inversed': True, 'model_path': '../models/knn_50_neighbors_uniform_manhattan_hot_norm.pkl'}\n",
      "{'model': 'KNeighborsRegressor (k=50, weights=uniform, metric=manhattan)', 'dataset': 'hot_norm', 'split': 'test', 'rmse': 0.0766, 'mae': 0.0467, 'r2': 0.6422, 'inversed': False, 'model_path': '../models/knn_50_neighbors_uniform_manhattan_hot_norm.pkl'}\n",
      "{'model': 'KNeighborsRegressor (k=50, weights=uniform, metric=manhattan)', 'dataset': 'hot_norm', 'split': 'test', 'rmse': 111.5807, 'mae': 68.1, 'r2': 0.6422, 'inversed': True, 'model_path': '../models/knn_50_neighbors_uniform_manhattan_hot_norm.pkl'}\n",
      "{'model': 'KNeighborsRegressor (k=50, weights=distance, metric=euclidean)', 'dataset': 'hot_norm', 'split': 'train', 'rmse': 0.0001, 'mae': 0.0, 'r2': 1.0, 'inversed': False, 'model_path': '../models/knn_50_neighbors_distance_euclidean_hot_norm.pkl'}\n",
      "{'model': 'KNeighborsRegressor (k=50, weights=distance, metric=euclidean)', 'dataset': 'hot_norm', 'split': 'train', 'rmse': 0.1583, 'mae': 0.0031, 'r2': 1.0, 'inversed': True, 'model_path': '../models/knn_50_neighbors_distance_euclidean_hot_norm.pkl'}\n",
      "{'model': 'KNeighborsRegressor (k=50, weights=distance, metric=euclidean)', 'dataset': 'hot_norm', 'split': 'val', 'rmse': 0.0754, 'mae': 0.0446, 'r2': 0.6482, 'inversed': False, 'model_path': '../models/knn_50_neighbors_distance_euclidean_hot_norm.pkl'}\n",
      "{'model': 'KNeighborsRegressor (k=50, weights=distance, metric=euclidean)', 'dataset': 'hot_norm', 'split': 'val', 'rmse': 109.8537, 'mae': 65.055, 'r2': 0.6482, 'inversed': True, 'model_path': '../models/knn_50_neighbors_distance_euclidean_hot_norm.pkl'}\n",
      "{'model': 'KNeighborsRegressor (k=50, weights=distance, metric=euclidean)', 'dataset': 'hot_norm', 'split': 'test', 'rmse': 0.0743, 'mae': 0.045, 'r2': 0.6627, 'inversed': False, 'model_path': '../models/knn_50_neighbors_distance_euclidean_hot_norm.pkl'}\n",
      "{'model': 'KNeighborsRegressor (k=50, weights=distance, metric=euclidean)', 'dataset': 'hot_norm', 'split': 'test', 'rmse': 108.3476, 'mae': 65.5214, 'r2': 0.6627, 'inversed': True, 'model_path': '../models/knn_50_neighbors_distance_euclidean_hot_norm.pkl'}\n",
      "{'model': 'KNeighborsRegressor (k=50, weights=distance, metric=manhattan)', 'dataset': 'hot_norm', 'split': 'train', 'rmse': 0.0, 'mae': 0.0, 'r2': 1.0, 'inversed': False, 'model_path': '../models/knn_50_neighbors_distance_manhattan_hot_norm.pkl'}\n",
      "{'model': 'KNeighborsRegressor (k=50, weights=distance, metric=manhattan)', 'dataset': 'hot_norm', 'split': 'train', 'rmse': 0.0, 'mae': 0.0, 'r2': 1.0, 'inversed': True, 'model_path': '../models/knn_50_neighbors_distance_manhattan_hot_norm.pkl'}\n",
      "{'model': 'KNeighborsRegressor (k=50, weights=distance, metric=manhattan)', 'dataset': 'hot_norm', 'split': 'val', 'rmse': 0.0749, 'mae': 0.0443, 'r2': 0.6526, 'inversed': False, 'model_path': '../models/knn_50_neighbors_distance_manhattan_hot_norm.pkl'}\n",
      "{'model': 'KNeighborsRegressor (k=50, weights=distance, metric=manhattan)', 'dataset': 'hot_norm', 'split': 'val', 'rmse': 109.1591, 'mae': 64.5386, 'r2': 0.6526, 'inversed': True, 'model_path': '../models/knn_50_neighbors_distance_manhattan_hot_norm.pkl'}\n",
      "{'model': 'KNeighborsRegressor (k=50, weights=distance, metric=manhattan)', 'dataset': 'hot_norm', 'split': 'test', 'rmse': 0.0738, 'mae': 0.0445, 'r2': 0.6675, 'inversed': False, 'model_path': '../models/knn_50_neighbors_distance_manhattan_hot_norm.pkl'}\n",
      "{'model': 'KNeighborsRegressor (k=50, weights=distance, metric=manhattan)', 'dataset': 'hot_norm', 'split': 'test', 'rmse': 107.5674, 'mae': 64.8792, 'r2': 0.6675, 'inversed': True, 'model_path': '../models/knn_50_neighbors_distance_manhattan_hot_norm.pkl'}\n"
     ]
    }
   ],
   "source": [
    "# Define parameter grid for KNN\n",
    "param_grid_knn = [{'n_neighbors': k, 'weights': w, 'metric': m} for k in [5, 15, 20, 25, 30, 50] for w in ['uniform', 'distance'] for m in ['euclidean', 'manhattan']]\n",
    "\n",
    "# Initialize a list to store all performances\n",
    "all_performances = []\n",
    "\n",
    "# List of dataset names and their corresponding folder names\n",
    "dataset_names = ['hot_norm']\n",
    "\n",
    "# Load each dataset and perform custom grid search\n",
    "for dataset_name in dataset_names:\n",
    "    X_train, X_val, X_test, y_train, y_val, y_test, scaler_y = load_dataset(dataset_name)\n",
    "    custom_grid_search_knn(X_train, y_train, param_grid_knn, dataset_name)\n",
    "    \n",
    "    # Evaluate all saved models\n",
    "    for params in param_grid_knn:\n",
    "        model_path = os.path.join('../models', f'knn_{params[\"n_neighbors\"]}_neighbors_{params[\"weights\"]}_{params[\"metric\"]}_{dataset_name}.pkl')\n",
    "        knn = load_model(model_path)\n",
    "        performances = evaluate_model(knn, model_path, X_train, X_val, X_test, y_train, y_val, y_test, scaler_y=scaler_y, dataset_name=dataset_name)\n",
    "        all_performances.extend(performances)\n",
    "\n",
    "# Display performances\n",
    "for performance in all_performances:\n",
    "    print(performance)\n",
    "\n",
    "# Save performances to a CSV file\n",
    "perf_df = pd.DataFrame(all_performances)\n",
    "perf_df.to_csv('../data/knn_performances.csv', index=False)\n"
   ]
  },
  {
   "cell_type": "markdown",
   "metadata": {},
   "source": [
    "# Descision tree"
   ]
  },
  {
   "cell_type": "code",
   "execution_count": 10,
   "metadata": {},
   "outputs": [
    {
     "name": "stdout",
     "output_type": "stream",
     "text": [
      "Trained and saved DecisionTreeRegressor model with parameters {'max_depth': None, 'min_samples_split': 2, 'min_samples_leaf': 1} to ../models/dt_None_depth_2_minsplit_1_minleaf_hot.pkl\n",
      "Trained and saved DecisionTreeRegressor model with parameters {'max_depth': None, 'min_samples_split': 2, 'min_samples_leaf': 5} to ../models/dt_None_depth_2_minsplit_5_minleaf_hot.pkl\n",
      "Trained and saved DecisionTreeRegressor model with parameters {'max_depth': None, 'min_samples_split': 2, 'min_samples_leaf': 10} to ../models/dt_None_depth_2_minsplit_10_minleaf_hot.pkl\n",
      "Trained and saved DecisionTreeRegressor model with parameters {'max_depth': None, 'min_samples_split': 2, 'min_samples_leaf': 20} to ../models/dt_None_depth_2_minsplit_20_minleaf_hot.pkl\n",
      "Trained and saved DecisionTreeRegressor model with parameters {'max_depth': None, 'min_samples_split': 10, 'min_samples_leaf': 1} to ../models/dt_None_depth_10_minsplit_1_minleaf_hot.pkl\n",
      "Trained and saved DecisionTreeRegressor model with parameters {'max_depth': None, 'min_samples_split': 10, 'min_samples_leaf': 5} to ../models/dt_None_depth_10_minsplit_5_minleaf_hot.pkl\n",
      "Trained and saved DecisionTreeRegressor model with parameters {'max_depth': None, 'min_samples_split': 10, 'min_samples_leaf': 10} to ../models/dt_None_depth_10_minsplit_10_minleaf_hot.pkl\n",
      "Trained and saved DecisionTreeRegressor model with parameters {'max_depth': None, 'min_samples_split': 10, 'min_samples_leaf': 20} to ../models/dt_None_depth_10_minsplit_20_minleaf_hot.pkl\n",
      "Trained and saved DecisionTreeRegressor model with parameters {'max_depth': None, 'min_samples_split': 20, 'min_samples_leaf': 1} to ../models/dt_None_depth_20_minsplit_1_minleaf_hot.pkl\n",
      "Trained and saved DecisionTreeRegressor model with parameters {'max_depth': None, 'min_samples_split': 20, 'min_samples_leaf': 5} to ../models/dt_None_depth_20_minsplit_5_minleaf_hot.pkl\n",
      "Trained and saved DecisionTreeRegressor model with parameters {'max_depth': None, 'min_samples_split': 20, 'min_samples_leaf': 10} to ../models/dt_None_depth_20_minsplit_10_minleaf_hot.pkl\n",
      "Trained and saved DecisionTreeRegressor model with parameters {'max_depth': None, 'min_samples_split': 20, 'min_samples_leaf': 20} to ../models/dt_None_depth_20_minsplit_20_minleaf_hot.pkl\n",
      "Trained and saved DecisionTreeRegressor model with parameters {'max_depth': None, 'min_samples_split': 30, 'min_samples_leaf': 1} to ../models/dt_None_depth_30_minsplit_1_minleaf_hot.pkl\n",
      "Trained and saved DecisionTreeRegressor model with parameters {'max_depth': None, 'min_samples_split': 30, 'min_samples_leaf': 5} to ../models/dt_None_depth_30_minsplit_5_minleaf_hot.pkl\n",
      "Trained and saved DecisionTreeRegressor model with parameters {'max_depth': None, 'min_samples_split': 30, 'min_samples_leaf': 10} to ../models/dt_None_depth_30_minsplit_10_minleaf_hot.pkl\n",
      "Trained and saved DecisionTreeRegressor model with parameters {'max_depth': None, 'min_samples_split': 30, 'min_samples_leaf': 20} to ../models/dt_None_depth_30_minsplit_20_minleaf_hot.pkl\n",
      "Trained and saved DecisionTreeRegressor model with parameters {'max_depth': 10, 'min_samples_split': 2, 'min_samples_leaf': 1} to ../models/dt_10_depth_2_minsplit_1_minleaf_hot.pkl\n",
      "Trained and saved DecisionTreeRegressor model with parameters {'max_depth': 10, 'min_samples_split': 2, 'min_samples_leaf': 5} to ../models/dt_10_depth_2_minsplit_5_minleaf_hot.pkl\n",
      "Trained and saved DecisionTreeRegressor model with parameters {'max_depth': 10, 'min_samples_split': 2, 'min_samples_leaf': 10} to ../models/dt_10_depth_2_minsplit_10_minleaf_hot.pkl\n",
      "Trained and saved DecisionTreeRegressor model with parameters {'max_depth': 10, 'min_samples_split': 2, 'min_samples_leaf': 20} to ../models/dt_10_depth_2_minsplit_20_minleaf_hot.pkl\n",
      "Trained and saved DecisionTreeRegressor model with parameters {'max_depth': 10, 'min_samples_split': 10, 'min_samples_leaf': 1} to ../models/dt_10_depth_10_minsplit_1_minleaf_hot.pkl\n",
      "Trained and saved DecisionTreeRegressor model with parameters {'max_depth': 10, 'min_samples_split': 10, 'min_samples_leaf': 5} to ../models/dt_10_depth_10_minsplit_5_minleaf_hot.pkl\n",
      "Trained and saved DecisionTreeRegressor model with parameters {'max_depth': 10, 'min_samples_split': 10, 'min_samples_leaf': 10} to ../models/dt_10_depth_10_minsplit_10_minleaf_hot.pkl\n",
      "Trained and saved DecisionTreeRegressor model with parameters {'max_depth': 10, 'min_samples_split': 10, 'min_samples_leaf': 20} to ../models/dt_10_depth_10_minsplit_20_minleaf_hot.pkl\n",
      "Trained and saved DecisionTreeRegressor model with parameters {'max_depth': 10, 'min_samples_split': 20, 'min_samples_leaf': 1} to ../models/dt_10_depth_20_minsplit_1_minleaf_hot.pkl\n",
      "Trained and saved DecisionTreeRegressor model with parameters {'max_depth': 10, 'min_samples_split': 20, 'min_samples_leaf': 5} to ../models/dt_10_depth_20_minsplit_5_minleaf_hot.pkl\n",
      "Trained and saved DecisionTreeRegressor model with parameters {'max_depth': 10, 'min_samples_split': 20, 'min_samples_leaf': 10} to ../models/dt_10_depth_20_minsplit_10_minleaf_hot.pkl\n",
      "Trained and saved DecisionTreeRegressor model with parameters {'max_depth': 10, 'min_samples_split': 20, 'min_samples_leaf': 20} to ../models/dt_10_depth_20_minsplit_20_minleaf_hot.pkl\n",
      "Trained and saved DecisionTreeRegressor model with parameters {'max_depth': 10, 'min_samples_split': 30, 'min_samples_leaf': 1} to ../models/dt_10_depth_30_minsplit_1_minleaf_hot.pkl\n",
      "Trained and saved DecisionTreeRegressor model with parameters {'max_depth': 10, 'min_samples_split': 30, 'min_samples_leaf': 5} to ../models/dt_10_depth_30_minsplit_5_minleaf_hot.pkl\n",
      "Trained and saved DecisionTreeRegressor model with parameters {'max_depth': 10, 'min_samples_split': 30, 'min_samples_leaf': 10} to ../models/dt_10_depth_30_minsplit_10_minleaf_hot.pkl\n",
      "Trained and saved DecisionTreeRegressor model with parameters {'max_depth': 10, 'min_samples_split': 30, 'min_samples_leaf': 20} to ../models/dt_10_depth_30_minsplit_20_minleaf_hot.pkl\n",
      "Trained and saved DecisionTreeRegressor model with parameters {'max_depth': 20, 'min_samples_split': 2, 'min_samples_leaf': 1} to ../models/dt_20_depth_2_minsplit_1_minleaf_hot.pkl\n",
      "Trained and saved DecisionTreeRegressor model with parameters {'max_depth': 20, 'min_samples_split': 2, 'min_samples_leaf': 5} to ../models/dt_20_depth_2_minsplit_5_minleaf_hot.pkl\n",
      "Trained and saved DecisionTreeRegressor model with parameters {'max_depth': 20, 'min_samples_split': 2, 'min_samples_leaf': 10} to ../models/dt_20_depth_2_minsplit_10_minleaf_hot.pkl\n",
      "Trained and saved DecisionTreeRegressor model with parameters {'max_depth': 20, 'min_samples_split': 2, 'min_samples_leaf': 20} to ../models/dt_20_depth_2_minsplit_20_minleaf_hot.pkl\n",
      "Trained and saved DecisionTreeRegressor model with parameters {'max_depth': 20, 'min_samples_split': 10, 'min_samples_leaf': 1} to ../models/dt_20_depth_10_minsplit_1_minleaf_hot.pkl\n",
      "Trained and saved DecisionTreeRegressor model with parameters {'max_depth': 20, 'min_samples_split': 10, 'min_samples_leaf': 5} to ../models/dt_20_depth_10_minsplit_5_minleaf_hot.pkl\n",
      "Trained and saved DecisionTreeRegressor model with parameters {'max_depth': 20, 'min_samples_split': 10, 'min_samples_leaf': 10} to ../models/dt_20_depth_10_minsplit_10_minleaf_hot.pkl\n",
      "Trained and saved DecisionTreeRegressor model with parameters {'max_depth': 20, 'min_samples_split': 10, 'min_samples_leaf': 20} to ../models/dt_20_depth_10_minsplit_20_minleaf_hot.pkl\n",
      "Trained and saved DecisionTreeRegressor model with parameters {'max_depth': 20, 'min_samples_split': 20, 'min_samples_leaf': 1} to ../models/dt_20_depth_20_minsplit_1_minleaf_hot.pkl\n",
      "Trained and saved DecisionTreeRegressor model with parameters {'max_depth': 20, 'min_samples_split': 20, 'min_samples_leaf': 5} to ../models/dt_20_depth_20_minsplit_5_minleaf_hot.pkl\n",
      "Trained and saved DecisionTreeRegressor model with parameters {'max_depth': 20, 'min_samples_split': 20, 'min_samples_leaf': 10} to ../models/dt_20_depth_20_minsplit_10_minleaf_hot.pkl\n",
      "Trained and saved DecisionTreeRegressor model with parameters {'max_depth': 20, 'min_samples_split': 20, 'min_samples_leaf': 20} to ../models/dt_20_depth_20_minsplit_20_minleaf_hot.pkl\n",
      "Trained and saved DecisionTreeRegressor model with parameters {'max_depth': 20, 'min_samples_split': 30, 'min_samples_leaf': 1} to ../models/dt_20_depth_30_minsplit_1_minleaf_hot.pkl\n",
      "Trained and saved DecisionTreeRegressor model with parameters {'max_depth': 20, 'min_samples_split': 30, 'min_samples_leaf': 5} to ../models/dt_20_depth_30_minsplit_5_minleaf_hot.pkl\n",
      "Trained and saved DecisionTreeRegressor model with parameters {'max_depth': 20, 'min_samples_split': 30, 'min_samples_leaf': 10} to ../models/dt_20_depth_30_minsplit_10_minleaf_hot.pkl\n",
      "Trained and saved DecisionTreeRegressor model with parameters {'max_depth': 20, 'min_samples_split': 30, 'min_samples_leaf': 20} to ../models/dt_20_depth_30_minsplit_20_minleaf_hot.pkl\n",
      "Trained and saved DecisionTreeRegressor model with parameters {'max_depth': 30, 'min_samples_split': 2, 'min_samples_leaf': 1} to ../models/dt_30_depth_2_minsplit_1_minleaf_hot.pkl\n",
      "Trained and saved DecisionTreeRegressor model with parameters {'max_depth': 30, 'min_samples_split': 2, 'min_samples_leaf': 5} to ../models/dt_30_depth_2_minsplit_5_minleaf_hot.pkl\n",
      "Trained and saved DecisionTreeRegressor model with parameters {'max_depth': 30, 'min_samples_split': 2, 'min_samples_leaf': 10} to ../models/dt_30_depth_2_minsplit_10_minleaf_hot.pkl\n",
      "Trained and saved DecisionTreeRegressor model with parameters {'max_depth': 30, 'min_samples_split': 2, 'min_samples_leaf': 20} to ../models/dt_30_depth_2_minsplit_20_minleaf_hot.pkl\n",
      "Trained and saved DecisionTreeRegressor model with parameters {'max_depth': 30, 'min_samples_split': 10, 'min_samples_leaf': 1} to ../models/dt_30_depth_10_minsplit_1_minleaf_hot.pkl\n",
      "Trained and saved DecisionTreeRegressor model with parameters {'max_depth': 30, 'min_samples_split': 10, 'min_samples_leaf': 5} to ../models/dt_30_depth_10_minsplit_5_minleaf_hot.pkl\n",
      "Trained and saved DecisionTreeRegressor model with parameters {'max_depth': 30, 'min_samples_split': 10, 'min_samples_leaf': 10} to ../models/dt_30_depth_10_minsplit_10_minleaf_hot.pkl\n",
      "Trained and saved DecisionTreeRegressor model with parameters {'max_depth': 30, 'min_samples_split': 10, 'min_samples_leaf': 20} to ../models/dt_30_depth_10_minsplit_20_minleaf_hot.pkl\n",
      "Trained and saved DecisionTreeRegressor model with parameters {'max_depth': 30, 'min_samples_split': 20, 'min_samples_leaf': 1} to ../models/dt_30_depth_20_minsplit_1_minleaf_hot.pkl\n",
      "Trained and saved DecisionTreeRegressor model with parameters {'max_depth': 30, 'min_samples_split': 20, 'min_samples_leaf': 5} to ../models/dt_30_depth_20_minsplit_5_minleaf_hot.pkl\n",
      "Trained and saved DecisionTreeRegressor model with parameters {'max_depth': 30, 'min_samples_split': 20, 'min_samples_leaf': 10} to ../models/dt_30_depth_20_minsplit_10_minleaf_hot.pkl\n",
      "Trained and saved DecisionTreeRegressor model with parameters {'max_depth': 30, 'min_samples_split': 20, 'min_samples_leaf': 20} to ../models/dt_30_depth_20_minsplit_20_minleaf_hot.pkl\n",
      "Trained and saved DecisionTreeRegressor model with parameters {'max_depth': 30, 'min_samples_split': 30, 'min_samples_leaf': 1} to ../models/dt_30_depth_30_minsplit_1_minleaf_hot.pkl\n",
      "Trained and saved DecisionTreeRegressor model with parameters {'max_depth': 30, 'min_samples_split': 30, 'min_samples_leaf': 5} to ../models/dt_30_depth_30_minsplit_5_minleaf_hot.pkl\n",
      "Trained and saved DecisionTreeRegressor model with parameters {'max_depth': 30, 'min_samples_split': 30, 'min_samples_leaf': 10} to ../models/dt_30_depth_30_minsplit_10_minleaf_hot.pkl\n",
      "Trained and saved DecisionTreeRegressor model with parameters {'max_depth': 30, 'min_samples_split': 30, 'min_samples_leaf': 20} to ../models/dt_30_depth_30_minsplit_20_minleaf_hot.pkl\n",
      "Trained and saved DecisionTreeRegressor model with parameters {'max_depth': 40, 'min_samples_split': 2, 'min_samples_leaf': 1} to ../models/dt_40_depth_2_minsplit_1_minleaf_hot.pkl\n",
      "Trained and saved DecisionTreeRegressor model with parameters {'max_depth': 40, 'min_samples_split': 2, 'min_samples_leaf': 5} to ../models/dt_40_depth_2_minsplit_5_minleaf_hot.pkl\n",
      "Trained and saved DecisionTreeRegressor model with parameters {'max_depth': 40, 'min_samples_split': 2, 'min_samples_leaf': 10} to ../models/dt_40_depth_2_minsplit_10_minleaf_hot.pkl\n",
      "Trained and saved DecisionTreeRegressor model with parameters {'max_depth': 40, 'min_samples_split': 2, 'min_samples_leaf': 20} to ../models/dt_40_depth_2_minsplit_20_minleaf_hot.pkl\n",
      "Trained and saved DecisionTreeRegressor model with parameters {'max_depth': 40, 'min_samples_split': 10, 'min_samples_leaf': 1} to ../models/dt_40_depth_10_minsplit_1_minleaf_hot.pkl\n",
      "Trained and saved DecisionTreeRegressor model with parameters {'max_depth': 40, 'min_samples_split': 10, 'min_samples_leaf': 5} to ../models/dt_40_depth_10_minsplit_5_minleaf_hot.pkl\n",
      "Trained and saved DecisionTreeRegressor model with parameters {'max_depth': 40, 'min_samples_split': 10, 'min_samples_leaf': 10} to ../models/dt_40_depth_10_minsplit_10_minleaf_hot.pkl\n",
      "Trained and saved DecisionTreeRegressor model with parameters {'max_depth': 40, 'min_samples_split': 10, 'min_samples_leaf': 20} to ../models/dt_40_depth_10_minsplit_20_minleaf_hot.pkl\n",
      "Trained and saved DecisionTreeRegressor model with parameters {'max_depth': 40, 'min_samples_split': 20, 'min_samples_leaf': 1} to ../models/dt_40_depth_20_minsplit_1_minleaf_hot.pkl\n",
      "Trained and saved DecisionTreeRegressor model with parameters {'max_depth': 40, 'min_samples_split': 20, 'min_samples_leaf': 5} to ../models/dt_40_depth_20_minsplit_5_minleaf_hot.pkl\n",
      "Trained and saved DecisionTreeRegressor model with parameters {'max_depth': 40, 'min_samples_split': 20, 'min_samples_leaf': 10} to ../models/dt_40_depth_20_minsplit_10_minleaf_hot.pkl\n",
      "Trained and saved DecisionTreeRegressor model with parameters {'max_depth': 40, 'min_samples_split': 20, 'min_samples_leaf': 20} to ../models/dt_40_depth_20_minsplit_20_minleaf_hot.pkl\n",
      "Trained and saved DecisionTreeRegressor model with parameters {'max_depth': 40, 'min_samples_split': 30, 'min_samples_leaf': 1} to ../models/dt_40_depth_30_minsplit_1_minleaf_hot.pkl\n",
      "Trained and saved DecisionTreeRegressor model with parameters {'max_depth': 40, 'min_samples_split': 30, 'min_samples_leaf': 5} to ../models/dt_40_depth_30_minsplit_5_minleaf_hot.pkl\n",
      "Trained and saved DecisionTreeRegressor model with parameters {'max_depth': 40, 'min_samples_split': 30, 'min_samples_leaf': 10} to ../models/dt_40_depth_30_minsplit_10_minleaf_hot.pkl\n",
      "Trained and saved DecisionTreeRegressor model with parameters {'max_depth': 40, 'min_samples_split': 30, 'min_samples_leaf': 20} to ../models/dt_40_depth_30_minsplit_20_minleaf_hot.pkl\n",
      "{'model': 'DecisionTreeRegressor (max_depth=None, min_samples_split=2, min_samples_leaf=1)', 'dataset': 'hot', 'split': 'train', 'rmse': 0.0, 'mae': 0.0, 'r2': 1.0, 'inversed': False, 'model_path': '../models/dt_None_depth_2_minsplit_1_minleaf_hot.pkl'}\n",
      "{'model': 'DecisionTreeRegressor (max_depth=None, min_samples_split=2, min_samples_leaf=1)', 'dataset': 'hot', 'split': 'val', 'rmse': 114.9762, 'mae': 57.4911, 'r2': 0.6146, 'inversed': False, 'model_path': '../models/dt_None_depth_2_minsplit_1_minleaf_hot.pkl'}\n",
      "{'model': 'DecisionTreeRegressor (max_depth=None, min_samples_split=2, min_samples_leaf=1)', 'dataset': 'hot', 'split': 'test', 'rmse': 118.2968, 'mae': 59.1848, 'r2': 0.5979, 'inversed': False, 'model_path': '../models/dt_None_depth_2_minsplit_1_minleaf_hot.pkl'}\n",
      "{'model': 'DecisionTreeRegressor (max_depth=None, min_samples_split=2, min_samples_leaf=5)', 'dataset': 'hot', 'split': 'train', 'rmse': 67.7358, 'mae': 38.9807, 'r2': 0.8657, 'inversed': False, 'model_path': '../models/dt_None_depth_2_minsplit_5_minleaf_hot.pkl'}\n",
      "{'model': 'DecisionTreeRegressor (max_depth=None, min_samples_split=2, min_samples_leaf=5)', 'dataset': 'hot', 'split': 'val', 'rmse': 109.5565, 'mae': 64.9278, 'r2': 0.6501, 'inversed': False, 'model_path': '../models/dt_None_depth_2_minsplit_5_minleaf_hot.pkl'}\n",
      "{'model': 'DecisionTreeRegressor (max_depth=None, min_samples_split=2, min_samples_leaf=5)', 'dataset': 'hot', 'split': 'test', 'rmse': 110.6616, 'mae': 65.8658, 'r2': 0.6481, 'inversed': False, 'model_path': '../models/dt_None_depth_2_minsplit_5_minleaf_hot.pkl'}\n",
      "{'model': 'DecisionTreeRegressor (max_depth=None, min_samples_split=2, min_samples_leaf=10)', 'dataset': 'hot', 'split': 'train', 'rmse': 83.3431, 'mae': 50.2545, 'r2': 0.7967, 'inversed': False, 'model_path': '../models/dt_None_depth_2_minsplit_10_minleaf_hot.pkl'}\n",
      "{'model': 'DecisionTreeRegressor (max_depth=None, min_samples_split=2, min_samples_leaf=10)', 'dataset': 'hot', 'split': 'val', 'rmse': 108.8382, 'mae': 65.8753, 'r2': 0.6547, 'inversed': False, 'model_path': '../models/dt_None_depth_2_minsplit_10_minleaf_hot.pkl'}\n",
      "{'model': 'DecisionTreeRegressor (max_depth=None, min_samples_split=2, min_samples_leaf=10)', 'dataset': 'hot', 'split': 'test', 'rmse': 108.4858, 'mae': 67.0353, 'r2': 0.6618, 'inversed': False, 'model_path': '../models/dt_None_depth_2_minsplit_10_minleaf_hot.pkl'}\n",
      "{'model': 'DecisionTreeRegressor (max_depth=None, min_samples_split=2, min_samples_leaf=20)', 'dataset': 'hot', 'split': 'train', 'rmse': 93.726, 'mae': 57.8272, 'r2': 0.7429, 'inversed': False, 'model_path': '../models/dt_None_depth_2_minsplit_20_minleaf_hot.pkl'}\n",
      "{'model': 'DecisionTreeRegressor (max_depth=None, min_samples_split=2, min_samples_leaf=20)', 'dataset': 'hot', 'split': 'val', 'rmse': 109.1517, 'mae': 66.8253, 'r2': 0.6527, 'inversed': False, 'model_path': '../models/dt_None_depth_2_minsplit_20_minleaf_hot.pkl'}\n",
      "{'model': 'DecisionTreeRegressor (max_depth=None, min_samples_split=2, min_samples_leaf=20)', 'dataset': 'hot', 'split': 'test', 'rmse': 107.867, 'mae': 67.0369, 'r2': 0.6657, 'inversed': False, 'model_path': '../models/dt_None_depth_2_minsplit_20_minleaf_hot.pkl'}\n",
      "{'model': 'DecisionTreeRegressor (max_depth=None, min_samples_split=10, min_samples_leaf=1)', 'dataset': 'hot', 'split': 'train', 'rmse': 51.1771, 'mae': 27.1987, 'r2': 0.9233, 'inversed': False, 'model_path': '../models/dt_None_depth_10_minsplit_1_minleaf_hot.pkl'}\n",
      "{'model': 'DecisionTreeRegressor (max_depth=None, min_samples_split=10, min_samples_leaf=1)', 'dataset': 'hot', 'split': 'val', 'rmse': 111.0149, 'mae': 62.1338, 'r2': 0.6407, 'inversed': False, 'model_path': '../models/dt_None_depth_10_minsplit_1_minleaf_hot.pkl'}\n",
      "{'model': 'DecisionTreeRegressor (max_depth=None, min_samples_split=10, min_samples_leaf=1)', 'dataset': 'hot', 'split': 'test', 'rmse': 113.4637, 'mae': 63.7586, 'r2': 0.6301, 'inversed': False, 'model_path': '../models/dt_None_depth_10_minsplit_1_minleaf_hot.pkl'}\n",
      "{'model': 'DecisionTreeRegressor (max_depth=None, min_samples_split=10, min_samples_leaf=5)', 'dataset': 'hot', 'split': 'train', 'rmse': 67.7358, 'mae': 38.9808, 'r2': 0.8657, 'inversed': False, 'model_path': '../models/dt_None_depth_10_minsplit_5_minleaf_hot.pkl'}\n",
      "{'model': 'DecisionTreeRegressor (max_depth=None, min_samples_split=10, min_samples_leaf=5)', 'dataset': 'hot', 'split': 'val', 'rmse': 109.5412, 'mae': 64.9075, 'r2': 0.6502, 'inversed': False, 'model_path': '../models/dt_None_depth_10_minsplit_5_minleaf_hot.pkl'}\n",
      "{'model': 'DecisionTreeRegressor (max_depth=None, min_samples_split=10, min_samples_leaf=5)', 'dataset': 'hot', 'split': 'test', 'rmse': 110.6125, 'mae': 65.8783, 'r2': 0.6484, 'inversed': False, 'model_path': '../models/dt_None_depth_10_minsplit_5_minleaf_hot.pkl'}\n",
      "{'model': 'DecisionTreeRegressor (max_depth=None, min_samples_split=10, min_samples_leaf=10)', 'dataset': 'hot', 'split': 'train', 'rmse': 83.3427, 'mae': 50.2561, 'r2': 0.7967, 'inversed': False, 'model_path': '../models/dt_None_depth_10_minsplit_10_minleaf_hot.pkl'}\n",
      "{'model': 'DecisionTreeRegressor (max_depth=None, min_samples_split=10, min_samples_leaf=10)', 'dataset': 'hot', 'split': 'val', 'rmse': 108.8349, 'mae': 65.8727, 'r2': 0.6547, 'inversed': False, 'model_path': '../models/dt_None_depth_10_minsplit_10_minleaf_hot.pkl'}\n",
      "{'model': 'DecisionTreeRegressor (max_depth=None, min_samples_split=10, min_samples_leaf=10)', 'dataset': 'hot', 'split': 'test', 'rmse': 108.4872, 'mae': 67.041, 'r2': 0.6618, 'inversed': False, 'model_path': '../models/dt_None_depth_10_minsplit_10_minleaf_hot.pkl'}\n",
      "{'model': 'DecisionTreeRegressor (max_depth=None, min_samples_split=10, min_samples_leaf=20)', 'dataset': 'hot', 'split': 'train', 'rmse': 93.726, 'mae': 57.8272, 'r2': 0.7429, 'inversed': False, 'model_path': '../models/dt_None_depth_10_minsplit_20_minleaf_hot.pkl'}\n",
      "{'model': 'DecisionTreeRegressor (max_depth=None, min_samples_split=10, min_samples_leaf=20)', 'dataset': 'hot', 'split': 'val', 'rmse': 109.1517, 'mae': 66.8253, 'r2': 0.6527, 'inversed': False, 'model_path': '../models/dt_None_depth_10_minsplit_20_minleaf_hot.pkl'}\n",
      "{'model': 'DecisionTreeRegressor (max_depth=None, min_samples_split=10, min_samples_leaf=20)', 'dataset': 'hot', 'split': 'test', 'rmse': 107.867, 'mae': 67.0369, 'r2': 0.6657, 'inversed': False, 'model_path': '../models/dt_None_depth_10_minsplit_20_minleaf_hot.pkl'}\n",
      "{'model': 'DecisionTreeRegressor (max_depth=None, min_samples_split=20, min_samples_leaf=1)', 'dataset': 'hot', 'split': 'train', 'rmse': 69.1919, 'mae': 40.2529, 'r2': 0.8599, 'inversed': False, 'model_path': '../models/dt_None_depth_20_minsplit_1_minleaf_hot.pkl'}\n",
      "{'model': 'DecisionTreeRegressor (max_depth=None, min_samples_split=20, min_samples_leaf=1)', 'dataset': 'hot', 'split': 'val', 'rmse': 109.5919, 'mae': 64.2167, 'r2': 0.6499, 'inversed': False, 'model_path': '../models/dt_None_depth_20_minsplit_1_minleaf_hot.pkl'}\n",
      "{'model': 'DecisionTreeRegressor (max_depth=None, min_samples_split=20, min_samples_leaf=1)', 'dataset': 'hot', 'split': 'test', 'rmse': 111.0074, 'mae': 65.8578, 'r2': 0.6459, 'inversed': False, 'model_path': '../models/dt_None_depth_20_minsplit_1_minleaf_hot.pkl'}\n",
      "{'model': 'DecisionTreeRegressor (max_depth=None, min_samples_split=20, min_samples_leaf=5)', 'dataset': 'hot', 'split': 'train', 'rmse': 77.0985, 'mae': 45.7792, 'r2': 0.826, 'inversed': False, 'model_path': '../models/dt_None_depth_20_minsplit_5_minleaf_hot.pkl'}\n",
      "{'model': 'DecisionTreeRegressor (max_depth=None, min_samples_split=20, min_samples_leaf=5)', 'dataset': 'hot', 'split': 'val', 'rmse': 108.6824, 'mae': 64.9808, 'r2': 0.6556, 'inversed': False, 'model_path': '../models/dt_None_depth_20_minsplit_5_minleaf_hot.pkl'}\n",
      "{'model': 'DecisionTreeRegressor (max_depth=None, min_samples_split=20, min_samples_leaf=5)', 'dataset': 'hot', 'split': 'test', 'rmse': 108.8934, 'mae': 66.1748, 'r2': 0.6593, 'inversed': False, 'model_path': '../models/dt_None_depth_20_minsplit_5_minleaf_hot.pkl'}\n",
      "{'model': 'DecisionTreeRegressor (max_depth=None, min_samples_split=20, min_samples_leaf=10)', 'dataset': 'hot', 'split': 'train', 'rmse': 83.3431, 'mae': 50.2545, 'r2': 0.7967, 'inversed': False, 'model_path': '../models/dt_None_depth_20_minsplit_10_minleaf_hot.pkl'}\n",
      "{'model': 'DecisionTreeRegressor (max_depth=None, min_samples_split=20, min_samples_leaf=10)', 'dataset': 'hot', 'split': 'val', 'rmse': 108.8281, 'mae': 65.8601, 'r2': 0.6547, 'inversed': False, 'model_path': '../models/dt_None_depth_20_minsplit_10_minleaf_hot.pkl'}\n",
      "{'model': 'DecisionTreeRegressor (max_depth=None, min_samples_split=20, min_samples_leaf=10)', 'dataset': 'hot', 'split': 'test', 'rmse': 108.468, 'mae': 67.0222, 'r2': 0.6619, 'inversed': False, 'model_path': '../models/dt_None_depth_20_minsplit_10_minleaf_hot.pkl'}\n",
      "{'model': 'DecisionTreeRegressor (max_depth=None, min_samples_split=20, min_samples_leaf=20)', 'dataset': 'hot', 'split': 'train', 'rmse': 93.726, 'mae': 57.8272, 'r2': 0.7429, 'inversed': False, 'model_path': '../models/dt_None_depth_20_minsplit_20_minleaf_hot.pkl'}\n",
      "{'model': 'DecisionTreeRegressor (max_depth=None, min_samples_split=20, min_samples_leaf=20)', 'dataset': 'hot', 'split': 'val', 'rmse': 109.1519, 'mae': 66.8262, 'r2': 0.6527, 'inversed': False, 'model_path': '../models/dt_None_depth_20_minsplit_20_minleaf_hot.pkl'}\n",
      "{'model': 'DecisionTreeRegressor (max_depth=None, min_samples_split=20, min_samples_leaf=20)', 'dataset': 'hot', 'split': 'test', 'rmse': 107.867, 'mae': 67.0369, 'r2': 0.6657, 'inversed': False, 'model_path': '../models/dt_None_depth_20_minsplit_20_minleaf_hot.pkl'}\n",
      "{'model': 'DecisionTreeRegressor (max_depth=None, min_samples_split=30, min_samples_leaf=1)', 'dataset': 'hot', 'split': 'train', 'rmse': 77.5907, 'mae': 46.4394, 'r2': 0.8238, 'inversed': False, 'model_path': '../models/dt_None_depth_30_minsplit_1_minleaf_hot.pkl'}\n",
      "{'model': 'DecisionTreeRegressor (max_depth=None, min_samples_split=30, min_samples_leaf=1)', 'dataset': 'hot', 'split': 'val', 'rmse': 108.4186, 'mae': 64.7027, 'r2': 0.6573, 'inversed': False, 'model_path': '../models/dt_None_depth_30_minsplit_1_minleaf_hot.pkl'}\n",
      "{'model': 'DecisionTreeRegressor (max_depth=None, min_samples_split=30, min_samples_leaf=1)', 'dataset': 'hot', 'split': 'test', 'rmse': 109.516, 'mae': 66.0559, 'r2': 0.6554, 'inversed': False, 'model_path': '../models/dt_None_depth_30_minsplit_1_minleaf_hot.pkl'}\n",
      "{'model': 'DecisionTreeRegressor (max_depth=None, min_samples_split=30, min_samples_leaf=5)', 'dataset': 'hot', 'split': 'train', 'rmse': 82.7101, 'mae': 50.1042, 'r2': 0.7998, 'inversed': False, 'model_path': '../models/dt_None_depth_30_minsplit_5_minleaf_hot.pkl'}\n",
      "{'model': 'DecisionTreeRegressor (max_depth=None, min_samples_split=30, min_samples_leaf=5)', 'dataset': 'hot', 'split': 'val', 'rmse': 108.2014, 'mae': 65.3944, 'r2': 0.6587, 'inversed': False, 'model_path': '../models/dt_None_depth_30_minsplit_5_minleaf_hot.pkl'}\n",
      "{'model': 'DecisionTreeRegressor (max_depth=None, min_samples_split=30, min_samples_leaf=5)', 'dataset': 'hot', 'split': 'test', 'rmse': 109.2539, 'mae': 66.9545, 'r2': 0.657, 'inversed': False, 'model_path': '../models/dt_None_depth_30_minsplit_5_minleaf_hot.pkl'}\n",
      "{'model': 'DecisionTreeRegressor (max_depth=None, min_samples_split=30, min_samples_leaf=10)', 'dataset': 'hot', 'split': 'train', 'rmse': 86.8758, 'mae': 52.8916, 'r2': 0.7791, 'inversed': False, 'model_path': '../models/dt_None_depth_30_minsplit_10_minleaf_hot.pkl'}\n",
      "{'model': 'DecisionTreeRegressor (max_depth=None, min_samples_split=30, min_samples_leaf=10)', 'dataset': 'hot', 'split': 'val', 'rmse': 108.5091, 'mae': 66.0503, 'r2': 0.6567, 'inversed': False, 'model_path': '../models/dt_None_depth_30_minsplit_10_minleaf_hot.pkl'}\n",
      "{'model': 'DecisionTreeRegressor (max_depth=None, min_samples_split=30, min_samples_leaf=10)', 'dataset': 'hot', 'split': 'test', 'rmse': 109.0489, 'mae': 67.466, 'r2': 0.6583, 'inversed': False, 'model_path': '../models/dt_None_depth_30_minsplit_10_minleaf_hot.pkl'}\n",
      "{'model': 'DecisionTreeRegressor (max_depth=None, min_samples_split=30, min_samples_leaf=20)', 'dataset': 'hot', 'split': 'train', 'rmse': 93.726, 'mae': 57.8272, 'r2': 0.7429, 'inversed': False, 'model_path': '../models/dt_None_depth_30_minsplit_20_minleaf_hot.pkl'}\n",
      "{'model': 'DecisionTreeRegressor (max_depth=None, min_samples_split=30, min_samples_leaf=20)', 'dataset': 'hot', 'split': 'val', 'rmse': 109.1517, 'mae': 66.8253, 'r2': 0.6527, 'inversed': False, 'model_path': '../models/dt_None_depth_30_minsplit_20_minleaf_hot.pkl'}\n",
      "{'model': 'DecisionTreeRegressor (max_depth=None, min_samples_split=30, min_samples_leaf=20)', 'dataset': 'hot', 'split': 'test', 'rmse': 107.867, 'mae': 67.0369, 'r2': 0.6657, 'inversed': False, 'model_path': '../models/dt_None_depth_30_minsplit_20_minleaf_hot.pkl'}\n",
      "{'model': 'DecisionTreeRegressor (max_depth=10, min_samples_split=2, min_samples_leaf=1)', 'dataset': 'hot', 'split': 'train', 'rmse': 96.8124, 'mae': 61.6515, 'r2': 0.7257, 'inversed': False, 'model_path': '../models/dt_10_depth_2_minsplit_1_minleaf_hot.pkl'}\n",
      "{'model': 'DecisionTreeRegressor (max_depth=10, min_samples_split=2, min_samples_leaf=1)', 'dataset': 'hot', 'split': 'val', 'rmse': 110.8589, 'mae': 67.5307, 'r2': 0.6417, 'inversed': False, 'model_path': '../models/dt_10_depth_2_minsplit_1_minleaf_hot.pkl'}\n",
      "{'model': 'DecisionTreeRegressor (max_depth=10, min_samples_split=2, min_samples_leaf=1)', 'dataset': 'hot', 'split': 'test', 'rmse': 114.7633, 'mae': 70.2844, 'r2': 0.6215, 'inversed': False, 'model_path': '../models/dt_10_depth_2_minsplit_1_minleaf_hot.pkl'}\n",
      "{'model': 'DecisionTreeRegressor (max_depth=10, min_samples_split=2, min_samples_leaf=5)', 'dataset': 'hot', 'split': 'train', 'rmse': 99.6334, 'mae': 63.6122, 'r2': 0.7095, 'inversed': False, 'model_path': '../models/dt_10_depth_2_minsplit_5_minleaf_hot.pkl'}\n",
      "{'model': 'DecisionTreeRegressor (max_depth=10, min_samples_split=2, min_samples_leaf=5)', 'dataset': 'hot', 'split': 'val', 'rmse': 110.8004, 'mae': 68.4384, 'r2': 0.6421, 'inversed': False, 'model_path': '../models/dt_10_depth_2_minsplit_5_minleaf_hot.pkl'}\n",
      "{'model': 'DecisionTreeRegressor (max_depth=10, min_samples_split=2, min_samples_leaf=5)', 'dataset': 'hot', 'split': 'test', 'rmse': 112.4352, 'mae': 70.4183, 'r2': 0.6367, 'inversed': False, 'model_path': '../models/dt_10_depth_2_minsplit_5_minleaf_hot.pkl'}\n",
      "{'model': 'DecisionTreeRegressor (max_depth=10, min_samples_split=2, min_samples_leaf=10)', 'dataset': 'hot', 'split': 'train', 'rmse': 101.1754, 'mae': 64.4483, 'r2': 0.7004, 'inversed': False, 'model_path': '../models/dt_10_depth_2_minsplit_10_minleaf_hot.pkl'}\n",
      "{'model': 'DecisionTreeRegressor (max_depth=10, min_samples_split=2, min_samples_leaf=10)', 'dataset': 'hot', 'split': 'val', 'rmse': 111.1425, 'mae': 68.4519, 'r2': 0.6399, 'inversed': False, 'model_path': '../models/dt_10_depth_2_minsplit_10_minleaf_hot.pkl'}\n",
      "{'model': 'DecisionTreeRegressor (max_depth=10, min_samples_split=2, min_samples_leaf=10)', 'dataset': 'hot', 'split': 'test', 'rmse': 110.9884, 'mae': 70.0733, 'r2': 0.646, 'inversed': False, 'model_path': '../models/dt_10_depth_2_minsplit_10_minleaf_hot.pkl'}\n",
      "{'model': 'DecisionTreeRegressor (max_depth=10, min_samples_split=2, min_samples_leaf=20)', 'dataset': 'hot', 'split': 'train', 'rmse': 103.9637, 'mae': 65.9312, 'r2': 0.6837, 'inversed': False, 'model_path': '../models/dt_10_depth_2_minsplit_20_minleaf_hot.pkl'}\n",
      "{'model': 'DecisionTreeRegressor (max_depth=10, min_samples_split=2, min_samples_leaf=20)', 'dataset': 'hot', 'split': 'val', 'rmse': 111.7108, 'mae': 69.0913, 'r2': 0.6362, 'inversed': False, 'model_path': '../models/dt_10_depth_2_minsplit_20_minleaf_hot.pkl'}\n",
      "{'model': 'DecisionTreeRegressor (max_depth=10, min_samples_split=2, min_samples_leaf=20)', 'dataset': 'hot', 'split': 'test', 'rmse': 110.689, 'mae': 69.9207, 'r2': 0.6479, 'inversed': False, 'model_path': '../models/dt_10_depth_2_minsplit_20_minleaf_hot.pkl'}\n",
      "{'model': 'DecisionTreeRegressor (max_depth=10, min_samples_split=10, min_samples_leaf=1)', 'dataset': 'hot', 'split': 'train', 'rmse': 98.4812, 'mae': 62.9324, 'r2': 0.7162, 'inversed': False, 'model_path': '../models/dt_10_depth_10_minsplit_1_minleaf_hot.pkl'}\n",
      "{'model': 'DecisionTreeRegressor (max_depth=10, min_samples_split=10, min_samples_leaf=1)', 'dataset': 'hot', 'split': 'val', 'rmse': 109.9401, 'mae': 67.8098, 'r2': 0.6476, 'inversed': False, 'model_path': '../models/dt_10_depth_10_minsplit_1_minleaf_hot.pkl'}\n",
      "{'model': 'DecisionTreeRegressor (max_depth=10, min_samples_split=10, min_samples_leaf=1)', 'dataset': 'hot', 'split': 'test', 'rmse': 112.2972, 'mae': 70.1126, 'r2': 0.6376, 'inversed': False, 'model_path': '../models/dt_10_depth_10_minsplit_1_minleaf_hot.pkl'}\n",
      "{'model': 'DecisionTreeRegressor (max_depth=10, min_samples_split=10, min_samples_leaf=5)', 'dataset': 'hot', 'split': 'train', 'rmse': 99.6334, 'mae': 63.6122, 'r2': 0.7095, 'inversed': False, 'model_path': '../models/dt_10_depth_10_minsplit_5_minleaf_hot.pkl'}\n",
      "{'model': 'DecisionTreeRegressor (max_depth=10, min_samples_split=10, min_samples_leaf=5)', 'dataset': 'hot', 'split': 'val', 'rmse': 110.7895, 'mae': 68.4414, 'r2': 0.6422, 'inversed': False, 'model_path': '../models/dt_10_depth_10_minsplit_5_minleaf_hot.pkl'}\n",
      "{'model': 'DecisionTreeRegressor (max_depth=10, min_samples_split=10, min_samples_leaf=5)', 'dataset': 'hot', 'split': 'test', 'rmse': 112.4589, 'mae': 70.4241, 'r2': 0.6366, 'inversed': False, 'model_path': '../models/dt_10_depth_10_minsplit_5_minleaf_hot.pkl'}\n",
      "{'model': 'DecisionTreeRegressor (max_depth=10, min_samples_split=10, min_samples_leaf=10)', 'dataset': 'hot', 'split': 'train', 'rmse': 101.1754, 'mae': 64.4483, 'r2': 0.7004, 'inversed': False, 'model_path': '../models/dt_10_depth_10_minsplit_10_minleaf_hot.pkl'}\n",
      "{'model': 'DecisionTreeRegressor (max_depth=10, min_samples_split=10, min_samples_leaf=10)', 'dataset': 'hot', 'split': 'val', 'rmse': 111.1425, 'mae': 68.4519, 'r2': 0.6399, 'inversed': False, 'model_path': '../models/dt_10_depth_10_minsplit_10_minleaf_hot.pkl'}\n",
      "{'model': 'DecisionTreeRegressor (max_depth=10, min_samples_split=10, min_samples_leaf=10)', 'dataset': 'hot', 'split': 'test', 'rmse': 111.0202, 'mae': 70.0912, 'r2': 0.6458, 'inversed': False, 'model_path': '../models/dt_10_depth_10_minsplit_10_minleaf_hot.pkl'}\n",
      "{'model': 'DecisionTreeRegressor (max_depth=10, min_samples_split=10, min_samples_leaf=20)', 'dataset': 'hot', 'split': 'train', 'rmse': 103.9637, 'mae': 65.9312, 'r2': 0.6837, 'inversed': False, 'model_path': '../models/dt_10_depth_10_minsplit_20_minleaf_hot.pkl'}\n",
      "{'model': 'DecisionTreeRegressor (max_depth=10, min_samples_split=10, min_samples_leaf=20)', 'dataset': 'hot', 'split': 'val', 'rmse': 111.7108, 'mae': 69.0913, 'r2': 0.6362, 'inversed': False, 'model_path': '../models/dt_10_depth_10_minsplit_20_minleaf_hot.pkl'}\n",
      "{'model': 'DecisionTreeRegressor (max_depth=10, min_samples_split=10, min_samples_leaf=20)', 'dataset': 'hot', 'split': 'test', 'rmse': 110.689, 'mae': 69.9207, 'r2': 0.6479, 'inversed': False, 'model_path': '../models/dt_10_depth_10_minsplit_20_minleaf_hot.pkl'}\n",
      "{'model': 'DecisionTreeRegressor (max_depth=10, min_samples_split=20, min_samples_leaf=1)', 'dataset': 'hot', 'split': 'train', 'rmse': 99.858, 'mae': 63.7932, 'r2': 0.7082, 'inversed': False, 'model_path': '../models/dt_10_depth_20_minsplit_1_minleaf_hot.pkl'}\n",
      "{'model': 'DecisionTreeRegressor (max_depth=10, min_samples_split=20, min_samples_leaf=1)', 'dataset': 'hot', 'split': 'val', 'rmse': 110.1911, 'mae': 68.065, 'r2': 0.646, 'inversed': False, 'model_path': '../models/dt_10_depth_20_minsplit_1_minleaf_hot.pkl'}\n",
      "{'model': 'DecisionTreeRegressor (max_depth=10, min_samples_split=20, min_samples_leaf=1)', 'dataset': 'hot', 'split': 'test', 'rmse': 112.2734, 'mae': 70.2019, 'r2': 0.6378, 'inversed': False, 'model_path': '../models/dt_10_depth_20_minsplit_1_minleaf_hot.pkl'}\n",
      "{'model': 'DecisionTreeRegressor (max_depth=10, min_samples_split=20, min_samples_leaf=5)', 'dataset': 'hot', 'split': 'train', 'rmse': 100.6548, 'mae': 64.2042, 'r2': 0.7035, 'inversed': False, 'model_path': '../models/dt_10_depth_20_minsplit_5_minleaf_hot.pkl'}\n",
      "{'model': 'DecisionTreeRegressor (max_depth=10, min_samples_split=20, min_samples_leaf=5)', 'dataset': 'hot', 'split': 'val', 'rmse': 110.632, 'mae': 68.4008, 'r2': 0.6432, 'inversed': False, 'model_path': '../models/dt_10_depth_20_minsplit_5_minleaf_hot.pkl'}\n",
      "{'model': 'DecisionTreeRegressor (max_depth=10, min_samples_split=20, min_samples_leaf=5)', 'dataset': 'hot', 'split': 'test', 'rmse': 112.1473, 'mae': 70.4037, 'r2': 0.6386, 'inversed': False, 'model_path': '../models/dt_10_depth_20_minsplit_5_minleaf_hot.pkl'}\n",
      "{'model': 'DecisionTreeRegressor (max_depth=10, min_samples_split=20, min_samples_leaf=10)', 'dataset': 'hot', 'split': 'train', 'rmse': 101.1754, 'mae': 64.4483, 'r2': 0.7004, 'inversed': False, 'model_path': '../models/dt_10_depth_20_minsplit_10_minleaf_hot.pkl'}\n",
      "{'model': 'DecisionTreeRegressor (max_depth=10, min_samples_split=20, min_samples_leaf=10)', 'dataset': 'hot', 'split': 'val', 'rmse': 111.14, 'mae': 68.449, 'r2': 0.6399, 'inversed': False, 'model_path': '../models/dt_10_depth_20_minsplit_10_minleaf_hot.pkl'}\n",
      "{'model': 'DecisionTreeRegressor (max_depth=10, min_samples_split=20, min_samples_leaf=10)', 'dataset': 'hot', 'split': 'test', 'rmse': 110.9884, 'mae': 70.0733, 'r2': 0.646, 'inversed': False, 'model_path': '../models/dt_10_depth_20_minsplit_10_minleaf_hot.pkl'}\n",
      "{'model': 'DecisionTreeRegressor (max_depth=10, min_samples_split=20, min_samples_leaf=20)', 'dataset': 'hot', 'split': 'train', 'rmse': 103.9637, 'mae': 65.9312, 'r2': 0.6837, 'inversed': False, 'model_path': '../models/dt_10_depth_20_minsplit_20_minleaf_hot.pkl'}\n",
      "{'model': 'DecisionTreeRegressor (max_depth=10, min_samples_split=20, min_samples_leaf=20)', 'dataset': 'hot', 'split': 'val', 'rmse': 111.7108, 'mae': 69.0913, 'r2': 0.6362, 'inversed': False, 'model_path': '../models/dt_10_depth_20_minsplit_20_minleaf_hot.pkl'}\n",
      "{'model': 'DecisionTreeRegressor (max_depth=10, min_samples_split=20, min_samples_leaf=20)', 'dataset': 'hot', 'split': 'test', 'rmse': 110.689, 'mae': 69.9207, 'r2': 0.6479, 'inversed': False, 'model_path': '../models/dt_10_depth_20_minsplit_20_minleaf_hot.pkl'}\n",
      "{'model': 'DecisionTreeRegressor (max_depth=10, min_samples_split=30, min_samples_leaf=1)', 'dataset': 'hot', 'split': 'train', 'rmse': 100.6192, 'mae': 64.283, 'r2': 0.7037, 'inversed': False, 'model_path': '../models/dt_10_depth_30_minsplit_1_minleaf_hot.pkl'}\n",
      "{'model': 'DecisionTreeRegressor (max_depth=10, min_samples_split=30, min_samples_leaf=1)', 'dataset': 'hot', 'split': 'val', 'rmse': 110.5122, 'mae': 68.3411, 'r2': 0.6439, 'inversed': False, 'model_path': '../models/dt_10_depth_30_minsplit_1_minleaf_hot.pkl'}\n",
      "{'model': 'DecisionTreeRegressor (max_depth=10, min_samples_split=30, min_samples_leaf=1)', 'dataset': 'hot', 'split': 'test', 'rmse': 111.8968, 'mae': 70.303, 'r2': 0.6402, 'inversed': False, 'model_path': '../models/dt_10_depth_30_minsplit_1_minleaf_hot.pkl'}\n",
      "{'model': 'DecisionTreeRegressor (max_depth=10, min_samples_split=30, min_samples_leaf=5)', 'dataset': 'hot', 'split': 'train', 'rmse': 101.37, 'mae': 64.6451, 'r2': 0.6993, 'inversed': False, 'model_path': '../models/dt_10_depth_30_minsplit_5_minleaf_hot.pkl'}\n",
      "{'model': 'DecisionTreeRegressor (max_depth=10, min_samples_split=30, min_samples_leaf=5)', 'dataset': 'hot', 'split': 'val', 'rmse': 110.8206, 'mae': 68.6867, 'r2': 0.642, 'inversed': False, 'model_path': '../models/dt_10_depth_30_minsplit_5_minleaf_hot.pkl'}\n",
      "{'model': 'DecisionTreeRegressor (max_depth=10, min_samples_split=30, min_samples_leaf=5)', 'dataset': 'hot', 'split': 'test', 'rmse': 112.2813, 'mae': 70.6312, 'r2': 0.6377, 'inversed': False, 'model_path': '../models/dt_10_depth_30_minsplit_5_minleaf_hot.pkl'}\n",
      "{'model': 'DecisionTreeRegressor (max_depth=10, min_samples_split=30, min_samples_leaf=10)', 'dataset': 'hot', 'split': 'train', 'rmse': 101.9344, 'mae': 64.8805, 'r2': 0.6959, 'inversed': False, 'model_path': '../models/dt_10_depth_30_minsplit_10_minleaf_hot.pkl'}\n",
      "{'model': 'DecisionTreeRegressor (max_depth=10, min_samples_split=30, min_samples_leaf=10)', 'dataset': 'hot', 'split': 'val', 'rmse': 111.2762, 'mae': 68.7336, 'r2': 0.639, 'inversed': False, 'model_path': '../models/dt_10_depth_30_minsplit_10_minleaf_hot.pkl'}\n",
      "{'model': 'DecisionTreeRegressor (max_depth=10, min_samples_split=30, min_samples_leaf=10)', 'dataset': 'hot', 'split': 'test', 'rmse': 111.3946, 'mae': 70.3051, 'r2': 0.6434, 'inversed': False, 'model_path': '../models/dt_10_depth_30_minsplit_10_minleaf_hot.pkl'}\n",
      "{'model': 'DecisionTreeRegressor (max_depth=10, min_samples_split=30, min_samples_leaf=20)', 'dataset': 'hot', 'split': 'train', 'rmse': 103.9637, 'mae': 65.9312, 'r2': 0.6837, 'inversed': False, 'model_path': '../models/dt_10_depth_30_minsplit_20_minleaf_hot.pkl'}\n",
      "{'model': 'DecisionTreeRegressor (max_depth=10, min_samples_split=30, min_samples_leaf=20)', 'dataset': 'hot', 'split': 'val', 'rmse': 111.7108, 'mae': 69.0913, 'r2': 0.6362, 'inversed': False, 'model_path': '../models/dt_10_depth_30_minsplit_20_minleaf_hot.pkl'}\n",
      "{'model': 'DecisionTreeRegressor (max_depth=10, min_samples_split=30, min_samples_leaf=20)', 'dataset': 'hot', 'split': 'test', 'rmse': 110.689, 'mae': 69.9207, 'r2': 0.6479, 'inversed': False, 'model_path': '../models/dt_10_depth_30_minsplit_20_minleaf_hot.pkl'}\n",
      "{'model': 'DecisionTreeRegressor (max_depth=20, min_samples_split=2, min_samples_leaf=1)', 'dataset': 'hot', 'split': 'train', 'rmse': 37.6201, 'mae': 18.2976, 'r2': 0.9586, 'inversed': False, 'model_path': '../models/dt_20_depth_2_minsplit_1_minleaf_hot.pkl'}\n",
      "{'model': 'DecisionTreeRegressor (max_depth=20, min_samples_split=2, min_samples_leaf=1)', 'dataset': 'hot', 'split': 'val', 'rmse': 113.507, 'mae': 60.104, 'r2': 0.6244, 'inversed': False, 'model_path': '../models/dt_20_depth_2_minsplit_1_minleaf_hot.pkl'}\n",
      "{'model': 'DecisionTreeRegressor (max_depth=20, min_samples_split=2, min_samples_leaf=1)', 'dataset': 'hot', 'split': 'test', 'rmse': 116.0186, 'mae': 61.2497, 'r2': 0.6132, 'inversed': False, 'model_path': '../models/dt_20_depth_2_minsplit_1_minleaf_hot.pkl'}\n",
      "{'model': 'DecisionTreeRegressor (max_depth=20, min_samples_split=2, min_samples_leaf=5)', 'dataset': 'hot', 'split': 'train', 'rmse': 70.7457, 'mae': 42.6293, 'r2': 0.8535, 'inversed': False, 'model_path': '../models/dt_20_depth_2_minsplit_5_minleaf_hot.pkl'}\n",
      "{'model': 'DecisionTreeRegressor (max_depth=20, min_samples_split=2, min_samples_leaf=5)', 'dataset': 'hot', 'split': 'val', 'rmse': 109.3036, 'mae': 65.0622, 'r2': 0.6517, 'inversed': False, 'model_path': '../models/dt_20_depth_2_minsplit_5_minleaf_hot.pkl'}\n",
      "{'model': 'DecisionTreeRegressor (max_depth=20, min_samples_split=2, min_samples_leaf=5)', 'dataset': 'hot', 'split': 'test', 'rmse': 110.8671, 'mae': 66.6116, 'r2': 0.6468, 'inversed': False, 'model_path': '../models/dt_20_depth_2_minsplit_5_minleaf_hot.pkl'}\n",
      "{'model': 'DecisionTreeRegressor (max_depth=20, min_samples_split=2, min_samples_leaf=10)', 'dataset': 'hot', 'split': 'train', 'rmse': 84.186, 'mae': 51.4648, 'r2': 0.7926, 'inversed': False, 'model_path': '../models/dt_20_depth_2_minsplit_10_minleaf_hot.pkl'}\n",
      "{'model': 'DecisionTreeRegressor (max_depth=20, min_samples_split=2, min_samples_leaf=10)', 'dataset': 'hot', 'split': 'val', 'rmse': 108.92, 'mae': 65.9589, 'r2': 0.6541, 'inversed': False, 'model_path': '../models/dt_20_depth_2_minsplit_10_minleaf_hot.pkl'}\n",
      "{'model': 'DecisionTreeRegressor (max_depth=20, min_samples_split=2, min_samples_leaf=10)', 'dataset': 'hot', 'split': 'test', 'rmse': 108.6262, 'mae': 67.2605, 'r2': 0.6609, 'inversed': False, 'model_path': '../models/dt_20_depth_2_minsplit_10_minleaf_hot.pkl'}\n",
      "{'model': 'DecisionTreeRegressor (max_depth=20, min_samples_split=2, min_samples_leaf=20)', 'dataset': 'hot', 'split': 'train', 'rmse': 93.8812, 'mae': 58.0689, 'r2': 0.7421, 'inversed': False, 'model_path': '../models/dt_20_depth_2_minsplit_20_minleaf_hot.pkl'}\n",
      "{'model': 'DecisionTreeRegressor (max_depth=20, min_samples_split=2, min_samples_leaf=20)', 'dataset': 'hot', 'split': 'val', 'rmse': 109.1321, 'mae': 66.8466, 'r2': 0.6528, 'inversed': False, 'model_path': '../models/dt_20_depth_2_minsplit_20_minleaf_hot.pkl'}\n",
      "{'model': 'DecisionTreeRegressor (max_depth=20, min_samples_split=2, min_samples_leaf=20)', 'dataset': 'hot', 'split': 'test', 'rmse': 107.9334, 'mae': 67.164, 'r2': 0.6653, 'inversed': False, 'model_path': '../models/dt_20_depth_2_minsplit_20_minleaf_hot.pkl'}\n",
      "{'model': 'DecisionTreeRegressor (max_depth=20, min_samples_split=10, min_samples_leaf=1)', 'dataset': 'hot', 'split': 'train', 'rmse': 58.9301, 'mae': 35.0946, 'r2': 0.8984, 'inversed': False, 'model_path': '../models/dt_20_depth_10_minsplit_1_minleaf_hot.pkl'}\n",
      "{'model': 'DecisionTreeRegressor (max_depth=20, min_samples_split=10, min_samples_leaf=1)', 'dataset': 'hot', 'split': 'val', 'rmse': 110.5148, 'mae': 63.0404, 'r2': 0.6439, 'inversed': False, 'model_path': '../models/dt_20_depth_10_minsplit_1_minleaf_hot.pkl'}\n",
      "{'model': 'DecisionTreeRegressor (max_depth=20, min_samples_split=10, min_samples_leaf=1)', 'dataset': 'hot', 'split': 'test', 'rmse': 113.209, 'mae': 64.8327, 'r2': 0.6317, 'inversed': False, 'model_path': '../models/dt_20_depth_10_minsplit_1_minleaf_hot.pkl'}\n",
      "{'model': 'DecisionTreeRegressor (max_depth=20, min_samples_split=10, min_samples_leaf=5)', 'dataset': 'hot', 'split': 'train', 'rmse': 70.7457, 'mae': 42.6295, 'r2': 0.8535, 'inversed': False, 'model_path': '../models/dt_20_depth_10_minsplit_5_minleaf_hot.pkl'}\n",
      "{'model': 'DecisionTreeRegressor (max_depth=20, min_samples_split=10, min_samples_leaf=5)', 'dataset': 'hot', 'split': 'val', 'rmse': 109.2073, 'mae': 64.9704, 'r2': 0.6523, 'inversed': False, 'model_path': '../models/dt_20_depth_10_minsplit_5_minleaf_hot.pkl'}\n",
      "{'model': 'DecisionTreeRegressor (max_depth=20, min_samples_split=10, min_samples_leaf=5)', 'dataset': 'hot', 'split': 'test', 'rmse': 110.8753, 'mae': 66.5656, 'r2': 0.6468, 'inversed': False, 'model_path': '../models/dt_20_depth_10_minsplit_5_minleaf_hot.pkl'}\n",
      "{'model': 'DecisionTreeRegressor (max_depth=20, min_samples_split=10, min_samples_leaf=10)', 'dataset': 'hot', 'split': 'train', 'rmse': 84.186, 'mae': 51.4648, 'r2': 0.7926, 'inversed': False, 'model_path': '../models/dt_20_depth_10_minsplit_10_minleaf_hot.pkl'}\n",
      "{'model': 'DecisionTreeRegressor (max_depth=20, min_samples_split=10, min_samples_leaf=10)', 'dataset': 'hot', 'split': 'val', 'rmse': 108.9164, 'mae': 65.9522, 'r2': 0.6542, 'inversed': False, 'model_path': '../models/dt_20_depth_10_minsplit_10_minleaf_hot.pkl'}\n",
      "{'model': 'DecisionTreeRegressor (max_depth=20, min_samples_split=10, min_samples_leaf=10)', 'dataset': 'hot', 'split': 'test', 'rmse': 108.6608, 'mae': 67.2839, 'r2': 0.6607, 'inversed': False, 'model_path': '../models/dt_20_depth_10_minsplit_10_minleaf_hot.pkl'}\n",
      "{'model': 'DecisionTreeRegressor (max_depth=20, min_samples_split=10, min_samples_leaf=20)', 'dataset': 'hot', 'split': 'train', 'rmse': 93.8812, 'mae': 58.0689, 'r2': 0.7421, 'inversed': False, 'model_path': '../models/dt_20_depth_10_minsplit_20_minleaf_hot.pkl'}\n",
      "{'model': 'DecisionTreeRegressor (max_depth=20, min_samples_split=10, min_samples_leaf=20)', 'dataset': 'hot', 'split': 'val', 'rmse': 109.1352, 'mae': 66.8539, 'r2': 0.6528, 'inversed': False, 'model_path': '../models/dt_20_depth_10_minsplit_20_minleaf_hot.pkl'}\n",
      "{'model': 'DecisionTreeRegressor (max_depth=20, min_samples_split=10, min_samples_leaf=20)', 'dataset': 'hot', 'split': 'test', 'rmse': 107.9366, 'mae': 67.1713, 'r2': 0.6652, 'inversed': False, 'model_path': '../models/dt_20_depth_10_minsplit_20_minleaf_hot.pkl'}\n",
      "{'model': 'DecisionTreeRegressor (max_depth=20, min_samples_split=20, min_samples_leaf=1)', 'dataset': 'hot', 'split': 'train', 'rmse': 72.557, 'mae': 44.2213, 'r2': 0.8459, 'inversed': False, 'model_path': '../models/dt_20_depth_20_minsplit_1_minleaf_hot.pkl'}\n",
      "{'model': 'DecisionTreeRegressor (max_depth=20, min_samples_split=20, min_samples_leaf=1)', 'dataset': 'hot', 'split': 'val', 'rmse': 109.2846, 'mae': 64.6481, 'r2': 0.6518, 'inversed': False, 'model_path': '../models/dt_20_depth_20_minsplit_1_minleaf_hot.pkl'}\n",
      "{'model': 'DecisionTreeRegressor (max_depth=20, min_samples_split=20, min_samples_leaf=1)', 'dataset': 'hot', 'split': 'test', 'rmse': 110.9162, 'mae': 66.3877, 'r2': 0.6465, 'inversed': False, 'model_path': '../models/dt_20_depth_20_minsplit_1_minleaf_hot.pkl'}\n",
      "{'model': 'DecisionTreeRegressor (max_depth=20, min_samples_split=20, min_samples_leaf=5)', 'dataset': 'hot', 'split': 'train', 'rmse': 78.755, 'mae': 47.9308, 'r2': 0.8185, 'inversed': False, 'model_path': '../models/dt_20_depth_20_minsplit_5_minleaf_hot.pkl'}\n",
      "{'model': 'DecisionTreeRegressor (max_depth=20, min_samples_split=20, min_samples_leaf=5)', 'dataset': 'hot', 'split': 'val', 'rmse': 108.7014, 'mae': 65.2257, 'r2': 0.6555, 'inversed': False, 'model_path': '../models/dt_20_depth_20_minsplit_5_minleaf_hot.pkl'}\n",
      "{'model': 'DecisionTreeRegressor (max_depth=20, min_samples_split=20, min_samples_leaf=5)', 'dataset': 'hot', 'split': 'test', 'rmse': 109.1268, 'mae': 66.5781, 'r2': 0.6578, 'inversed': False, 'model_path': '../models/dt_20_depth_20_minsplit_5_minleaf_hot.pkl'}\n",
      "{'model': 'DecisionTreeRegressor (max_depth=20, min_samples_split=20, min_samples_leaf=10)', 'dataset': 'hot', 'split': 'train', 'rmse': 84.186, 'mae': 51.4648, 'r2': 0.7926, 'inversed': False, 'model_path': '../models/dt_20_depth_20_minsplit_10_minleaf_hot.pkl'}\n",
      "{'model': 'DecisionTreeRegressor (max_depth=20, min_samples_split=20, min_samples_leaf=10)', 'dataset': 'hot', 'split': 'val', 'rmse': 108.9164, 'mae': 65.9522, 'r2': 0.6542, 'inversed': False, 'model_path': '../models/dt_20_depth_20_minsplit_10_minleaf_hot.pkl'}\n",
      "{'model': 'DecisionTreeRegressor (max_depth=20, min_samples_split=20, min_samples_leaf=10)', 'dataset': 'hot', 'split': 'test', 'rmse': 108.6283, 'mae': 67.2659, 'r2': 0.6609, 'inversed': False, 'model_path': '../models/dt_20_depth_20_minsplit_10_minleaf_hot.pkl'}\n",
      "{'model': 'DecisionTreeRegressor (max_depth=20, min_samples_split=20, min_samples_leaf=20)', 'dataset': 'hot', 'split': 'train', 'rmse': 93.8812, 'mae': 58.0689, 'r2': 0.7421, 'inversed': False, 'model_path': '../models/dt_20_depth_20_minsplit_20_minleaf_hot.pkl'}\n",
      "{'model': 'DecisionTreeRegressor (max_depth=20, min_samples_split=20, min_samples_leaf=20)', 'dataset': 'hot', 'split': 'val', 'rmse': 109.1352, 'mae': 66.8539, 'r2': 0.6528, 'inversed': False, 'model_path': '../models/dt_20_depth_20_minsplit_20_minleaf_hot.pkl'}\n",
      "{'model': 'DecisionTreeRegressor (max_depth=20, min_samples_split=20, min_samples_leaf=20)', 'dataset': 'hot', 'split': 'test', 'rmse': 107.9366, 'mae': 67.1713, 'r2': 0.6652, 'inversed': False, 'model_path': '../models/dt_20_depth_20_minsplit_20_minleaf_hot.pkl'}\n",
      "{'model': 'DecisionTreeRegressor (max_depth=20, min_samples_split=30, min_samples_leaf=1)', 'dataset': 'hot', 'split': 'train', 'rmse': 79.5723, 'mae': 48.8925, 'r2': 0.8147, 'inversed': False, 'model_path': '../models/dt_20_depth_30_minsplit_1_minleaf_hot.pkl'}\n",
      "{'model': 'DecisionTreeRegressor (max_depth=20, min_samples_split=30, min_samples_leaf=1)', 'dataset': 'hot', 'split': 'val', 'rmse': 108.8003, 'mae': 65.1501, 'r2': 0.6549, 'inversed': False, 'model_path': '../models/dt_20_depth_30_minsplit_1_minleaf_hot.pkl'}\n",
      "{'model': 'DecisionTreeRegressor (max_depth=20, min_samples_split=30, min_samples_leaf=1)', 'dataset': 'hot', 'split': 'test', 'rmse': 109.5998, 'mae': 66.4255, 'r2': 0.6548, 'inversed': False, 'model_path': '../models/dt_20_depth_30_minsplit_1_minleaf_hot.pkl'}\n",
      "{'model': 'DecisionTreeRegressor (max_depth=20, min_samples_split=30, min_samples_leaf=5)', 'dataset': 'hot', 'split': 'train', 'rmse': 83.8292, 'mae': 51.6143, 'r2': 0.7943, 'inversed': False, 'model_path': '../models/dt_20_depth_30_minsplit_5_minleaf_hot.pkl'}\n",
      "{'model': 'DecisionTreeRegressor (max_depth=20, min_samples_split=30, min_samples_leaf=5)', 'dataset': 'hot', 'split': 'val', 'rmse': 108.3612, 'mae': 65.6133, 'r2': 0.6577, 'inversed': False, 'model_path': '../models/dt_20_depth_30_minsplit_5_minleaf_hot.pkl'}\n",
      "{'model': 'DecisionTreeRegressor (max_depth=20, min_samples_split=30, min_samples_leaf=5)', 'dataset': 'hot', 'split': 'test', 'rmse': 109.4056, 'mae': 67.2344, 'r2': 0.6561, 'inversed': False, 'model_path': '../models/dt_20_depth_30_minsplit_5_minleaf_hot.pkl'}\n",
      "{'model': 'DecisionTreeRegressor (max_depth=20, min_samples_split=30, min_samples_leaf=10)', 'dataset': 'hot', 'split': 'train', 'rmse': 87.52, 'mae': 53.8006, 'r2': 0.7758, 'inversed': False, 'model_path': '../models/dt_20_depth_30_minsplit_10_minleaf_hot.pkl'}\n",
      "{'model': 'DecisionTreeRegressor (max_depth=20, min_samples_split=30, min_samples_leaf=10)', 'dataset': 'hot', 'split': 'val', 'rmse': 108.6317, 'mae': 66.1655, 'r2': 0.656, 'inversed': False, 'model_path': '../models/dt_20_depth_30_minsplit_10_minleaf_hot.pkl'}\n",
      "{'model': 'DecisionTreeRegressor (max_depth=20, min_samples_split=30, min_samples_leaf=10)', 'dataset': 'hot', 'split': 'test', 'rmse': 109.1008, 'mae': 67.584, 'r2': 0.658, 'inversed': False, 'model_path': '../models/dt_20_depth_30_minsplit_10_minleaf_hot.pkl'}\n",
      "{'model': 'DecisionTreeRegressor (max_depth=20, min_samples_split=30, min_samples_leaf=20)', 'dataset': 'hot', 'split': 'train', 'rmse': 93.8812, 'mae': 58.0689, 'r2': 0.7421, 'inversed': False, 'model_path': '../models/dt_20_depth_30_minsplit_20_minleaf_hot.pkl'}\n",
      "{'model': 'DecisionTreeRegressor (max_depth=20, min_samples_split=30, min_samples_leaf=20)', 'dataset': 'hot', 'split': 'val', 'rmse': 109.1352, 'mae': 66.8539, 'r2': 0.6528, 'inversed': False, 'model_path': '../models/dt_20_depth_30_minsplit_20_minleaf_hot.pkl'}\n",
      "{'model': 'DecisionTreeRegressor (max_depth=20, min_samples_split=30, min_samples_leaf=20)', 'dataset': 'hot', 'split': 'test', 'rmse': 107.9366, 'mae': 67.1713, 'r2': 0.6652, 'inversed': False, 'model_path': '../models/dt_20_depth_30_minsplit_20_minleaf_hot.pkl'}\n",
      "{'model': 'DecisionTreeRegressor (max_depth=30, min_samples_split=2, min_samples_leaf=1)', 'dataset': 'hot', 'split': 'train', 'rmse': 8.4216, 'mae': 1.4298, 'r2': 0.9979, 'inversed': False, 'model_path': '../models/dt_30_depth_2_minsplit_1_minleaf_hot.pkl'}\n",
      "{'model': 'DecisionTreeRegressor (max_depth=30, min_samples_split=2, min_samples_leaf=1)', 'dataset': 'hot', 'split': 'val', 'rmse': 114.9409, 'mae': 57.7025, 'r2': 0.6148, 'inversed': False, 'model_path': '../models/dt_30_depth_2_minsplit_1_minleaf_hot.pkl'}\n",
      "{'model': 'DecisionTreeRegressor (max_depth=30, min_samples_split=2, min_samples_leaf=1)', 'dataset': 'hot', 'split': 'test', 'rmse': 118.9944, 'mae': 59.4121, 'r2': 0.5931, 'inversed': False, 'model_path': '../models/dt_30_depth_2_minsplit_1_minleaf_hot.pkl'}\n",
      "{'model': 'DecisionTreeRegressor (max_depth=30, min_samples_split=2, min_samples_leaf=5)', 'dataset': 'hot', 'split': 'train', 'rmse': 67.8503, 'mae': 39.1615, 'r2': 0.8653, 'inversed': False, 'model_path': '../models/dt_30_depth_2_minsplit_5_minleaf_hot.pkl'}\n",
      "{'model': 'DecisionTreeRegressor (max_depth=30, min_samples_split=2, min_samples_leaf=5)', 'dataset': 'hot', 'split': 'val', 'rmse': 109.535, 'mae': 64.9707, 'r2': 0.6502, 'inversed': False, 'model_path': '../models/dt_30_depth_2_minsplit_5_minleaf_hot.pkl'}\n",
      "{'model': 'DecisionTreeRegressor (max_depth=30, min_samples_split=2, min_samples_leaf=5)', 'dataset': 'hot', 'split': 'test', 'rmse': 110.6403, 'mae': 65.9499, 'r2': 0.6483, 'inversed': False, 'model_path': '../models/dt_30_depth_2_minsplit_5_minleaf_hot.pkl'}\n",
      "{'model': 'DecisionTreeRegressor (max_depth=30, min_samples_split=2, min_samples_leaf=10)', 'dataset': 'hot', 'split': 'train', 'rmse': 83.3548, 'mae': 50.2768, 'r2': 0.7967, 'inversed': False, 'model_path': '../models/dt_30_depth_2_minsplit_10_minleaf_hot.pkl'}\n",
      "{'model': 'DecisionTreeRegressor (max_depth=30, min_samples_split=2, min_samples_leaf=10)', 'dataset': 'hot', 'split': 'val', 'rmse': 108.8248, 'mae': 65.8565, 'r2': 0.6547, 'inversed': False, 'model_path': '../models/dt_30_depth_2_minsplit_10_minleaf_hot.pkl'}\n",
      "{'model': 'DecisionTreeRegressor (max_depth=30, min_samples_split=2, min_samples_leaf=10)', 'dataset': 'hot', 'split': 'test', 'rmse': 108.4679, 'mae': 67.0428, 'r2': 0.6619, 'inversed': False, 'model_path': '../models/dt_30_depth_2_minsplit_10_minleaf_hot.pkl'}\n",
      "{'model': 'DecisionTreeRegressor (max_depth=30, min_samples_split=2, min_samples_leaf=20)', 'dataset': 'hot', 'split': 'train', 'rmse': 93.726, 'mae': 57.8272, 'r2': 0.7429, 'inversed': False, 'model_path': '../models/dt_30_depth_2_minsplit_20_minleaf_hot.pkl'}\n",
      "{'model': 'DecisionTreeRegressor (max_depth=30, min_samples_split=2, min_samples_leaf=20)', 'dataset': 'hot', 'split': 'val', 'rmse': 109.1519, 'mae': 66.8262, 'r2': 0.6527, 'inversed': False, 'model_path': '../models/dt_30_depth_2_minsplit_20_minleaf_hot.pkl'}\n",
      "{'model': 'DecisionTreeRegressor (max_depth=30, min_samples_split=2, min_samples_leaf=20)', 'dataset': 'hot', 'split': 'test', 'rmse': 107.867, 'mae': 67.0369, 'r2': 0.6657, 'inversed': False, 'model_path': '../models/dt_30_depth_2_minsplit_20_minleaf_hot.pkl'}\n",
      "{'model': 'DecisionTreeRegressor (max_depth=30, min_samples_split=10, min_samples_leaf=1)', 'dataset': 'hot', 'split': 'train', 'rmse': 51.5612, 'mae': 27.6825, 'r2': 0.9222, 'inversed': False, 'model_path': '../models/dt_30_depth_10_minsplit_1_minleaf_hot.pkl'}\n",
      "{'model': 'DecisionTreeRegressor (max_depth=30, min_samples_split=10, min_samples_leaf=1)', 'dataset': 'hot', 'split': 'val', 'rmse': 110.8466, 'mae': 62.1097, 'r2': 0.6418, 'inversed': False, 'model_path': '../models/dt_30_depth_10_minsplit_1_minleaf_hot.pkl'}\n",
      "{'model': 'DecisionTreeRegressor (max_depth=30, min_samples_split=10, min_samples_leaf=1)', 'dataset': 'hot', 'split': 'test', 'rmse': 113.7493, 'mae': 63.8986, 'r2': 0.6282, 'inversed': False, 'model_path': '../models/dt_30_depth_10_minsplit_1_minleaf_hot.pkl'}\n",
      "{'model': 'DecisionTreeRegressor (max_depth=30, min_samples_split=10, min_samples_leaf=5)', 'dataset': 'hot', 'split': 'train', 'rmse': 67.8503, 'mae': 39.1615, 'r2': 0.8653, 'inversed': False, 'model_path': '../models/dt_30_depth_10_minsplit_5_minleaf_hot.pkl'}\n",
      "{'model': 'DecisionTreeRegressor (max_depth=30, min_samples_split=10, min_samples_leaf=5)', 'dataset': 'hot', 'split': 'val', 'rmse': 109.4708, 'mae': 64.8882, 'r2': 0.6506, 'inversed': False, 'model_path': '../models/dt_30_depth_10_minsplit_5_minleaf_hot.pkl'}\n",
      "{'model': 'DecisionTreeRegressor (max_depth=30, min_samples_split=10, min_samples_leaf=5)', 'dataset': 'hot', 'split': 'test', 'rmse': 110.602, 'mae': 65.8877, 'r2': 0.6485, 'inversed': False, 'model_path': '../models/dt_30_depth_10_minsplit_5_minleaf_hot.pkl'}\n",
      "{'model': 'DecisionTreeRegressor (max_depth=30, min_samples_split=10, min_samples_leaf=10)', 'dataset': 'hot', 'split': 'train', 'rmse': 83.3548, 'mae': 50.2768, 'r2': 0.7967, 'inversed': False, 'model_path': '../models/dt_30_depth_10_minsplit_10_minleaf_hot.pkl'}\n",
      "{'model': 'DecisionTreeRegressor (max_depth=30, min_samples_split=10, min_samples_leaf=10)', 'dataset': 'hot', 'split': 'val', 'rmse': 108.8275, 'mae': 65.8585, 'r2': 0.6547, 'inversed': False, 'model_path': '../models/dt_30_depth_10_minsplit_10_minleaf_hot.pkl'}\n",
      "{'model': 'DecisionTreeRegressor (max_depth=30, min_samples_split=10, min_samples_leaf=10)', 'dataset': 'hot', 'split': 'test', 'rmse': 108.4838, 'mae': 67.0501, 'r2': 0.6618, 'inversed': False, 'model_path': '../models/dt_30_depth_10_minsplit_10_minleaf_hot.pkl'}\n",
      "{'model': 'DecisionTreeRegressor (max_depth=30, min_samples_split=10, min_samples_leaf=20)', 'dataset': 'hot', 'split': 'train', 'rmse': 93.726, 'mae': 57.8272, 'r2': 0.7429, 'inversed': False, 'model_path': '../models/dt_30_depth_10_minsplit_20_minleaf_hot.pkl'}\n",
      "{'model': 'DecisionTreeRegressor (max_depth=30, min_samples_split=10, min_samples_leaf=20)', 'dataset': 'hot', 'split': 'val', 'rmse': 109.1517, 'mae': 66.8253, 'r2': 0.6527, 'inversed': False, 'model_path': '../models/dt_30_depth_10_minsplit_20_minleaf_hot.pkl'}\n",
      "{'model': 'DecisionTreeRegressor (max_depth=30, min_samples_split=10, min_samples_leaf=20)', 'dataset': 'hot', 'split': 'test', 'rmse': 107.867, 'mae': 67.0369, 'r2': 0.6657, 'inversed': False, 'model_path': '../models/dt_30_depth_10_minsplit_20_minleaf_hot.pkl'}\n",
      "{'model': 'DecisionTreeRegressor (max_depth=30, min_samples_split=20, min_samples_leaf=1)', 'dataset': 'hot', 'split': 'train', 'rmse': 69.3533, 'mae': 40.4905, 'r2': 0.8592, 'inversed': False, 'model_path': '../models/dt_30_depth_20_minsplit_1_minleaf_hot.pkl'}\n",
      "{'model': 'DecisionTreeRegressor (max_depth=30, min_samples_split=20, min_samples_leaf=1)', 'dataset': 'hot', 'split': 'val', 'rmse': 109.2753, 'mae': 64.144, 'r2': 0.6519, 'inversed': False, 'model_path': '../models/dt_30_depth_20_minsplit_1_minleaf_hot.pkl'}\n",
      "{'model': 'DecisionTreeRegressor (max_depth=30, min_samples_split=20, min_samples_leaf=1)', 'dataset': 'hot', 'split': 'test', 'rmse': 111.0707, 'mae': 65.8615, 'r2': 0.6455, 'inversed': False, 'model_path': '../models/dt_30_depth_20_minsplit_1_minleaf_hot.pkl'}\n",
      "{'model': 'DecisionTreeRegressor (max_depth=30, min_samples_split=20, min_samples_leaf=5)', 'dataset': 'hot', 'split': 'train', 'rmse': 77.1687, 'mae': 45.8914, 'r2': 0.8257, 'inversed': False, 'model_path': '../models/dt_30_depth_20_minsplit_5_minleaf_hot.pkl'}\n",
      "{'model': 'DecisionTreeRegressor (max_depth=30, min_samples_split=20, min_samples_leaf=5)', 'dataset': 'hot', 'split': 'val', 'rmse': 108.7071, 'mae': 65.0294, 'r2': 0.6555, 'inversed': False, 'model_path': '../models/dt_30_depth_20_minsplit_5_minleaf_hot.pkl'}\n",
      "{'model': 'DecisionTreeRegressor (max_depth=30, min_samples_split=20, min_samples_leaf=5)', 'dataset': 'hot', 'split': 'test', 'rmse': 108.9455, 'mae': 66.2577, 'r2': 0.6589, 'inversed': False, 'model_path': '../models/dt_30_depth_20_minsplit_5_minleaf_hot.pkl'}\n",
      "{'model': 'DecisionTreeRegressor (max_depth=30, min_samples_split=20, min_samples_leaf=10)', 'dataset': 'hot', 'split': 'train', 'rmse': 83.3548, 'mae': 50.2768, 'r2': 0.7967, 'inversed': False, 'model_path': '../models/dt_30_depth_20_minsplit_10_minleaf_hot.pkl'}\n",
      "{'model': 'DecisionTreeRegressor (max_depth=30, min_samples_split=20, min_samples_leaf=10)', 'dataset': 'hot', 'split': 'val', 'rmse': 108.8211, 'mae': 65.8498, 'r2': 0.6548, 'inversed': False, 'model_path': '../models/dt_30_depth_20_minsplit_10_minleaf_hot.pkl'}\n",
      "{'model': 'DecisionTreeRegressor (max_depth=30, min_samples_split=20, min_samples_leaf=10)', 'dataset': 'hot', 'split': 'test', 'rmse': 108.4835, 'mae': 67.0482, 'r2': 0.6618, 'inversed': False, 'model_path': '../models/dt_30_depth_20_minsplit_10_minleaf_hot.pkl'}\n",
      "{'model': 'DecisionTreeRegressor (max_depth=30, min_samples_split=20, min_samples_leaf=20)', 'dataset': 'hot', 'split': 'train', 'rmse': 93.726, 'mae': 57.8272, 'r2': 0.7429, 'inversed': False, 'model_path': '../models/dt_30_depth_20_minsplit_20_minleaf_hot.pkl'}\n",
      "{'model': 'DecisionTreeRegressor (max_depth=30, min_samples_split=20, min_samples_leaf=20)', 'dataset': 'hot', 'split': 'val', 'rmse': 109.1487, 'mae': 66.8181, 'r2': 0.6527, 'inversed': False, 'model_path': '../models/dt_30_depth_20_minsplit_20_minleaf_hot.pkl'}\n",
      "{'model': 'DecisionTreeRegressor (max_depth=30, min_samples_split=20, min_samples_leaf=20)', 'dataset': 'hot', 'split': 'test', 'rmse': 107.8638, 'mae': 67.0296, 'r2': 0.6657, 'inversed': False, 'model_path': '../models/dt_30_depth_20_minsplit_20_minleaf_hot.pkl'}\n",
      "{'model': 'DecisionTreeRegressor (max_depth=30, min_samples_split=30, min_samples_leaf=1)', 'dataset': 'hot', 'split': 'train', 'rmse': 77.7007, 'mae': 46.595, 'r2': 0.8233, 'inversed': False, 'model_path': '../models/dt_30_depth_30_minsplit_1_minleaf_hot.pkl'}\n",
      "{'model': 'DecisionTreeRegressor (max_depth=30, min_samples_split=30, min_samples_leaf=1)', 'dataset': 'hot', 'split': 'val', 'rmse': 108.4967, 'mae': 64.7712, 'r2': 0.6568, 'inversed': False, 'model_path': '../models/dt_30_depth_30_minsplit_1_minleaf_hot.pkl'}\n",
      "{'model': 'DecisionTreeRegressor (max_depth=30, min_samples_split=30, min_samples_leaf=1)', 'dataset': 'hot', 'split': 'test', 'rmse': 109.6846, 'mae': 66.1599, 'r2': 0.6543, 'inversed': False, 'model_path': '../models/dt_30_depth_30_minsplit_1_minleaf_hot.pkl'}\n",
      "{'model': 'DecisionTreeRegressor (max_depth=30, min_samples_split=30, min_samples_leaf=5)', 'dataset': 'hot', 'split': 'train', 'rmse': 82.759, 'mae': 50.1813, 'r2': 0.7996, 'inversed': False, 'model_path': '../models/dt_30_depth_30_minsplit_5_minleaf_hot.pkl'}\n",
      "{'model': 'DecisionTreeRegressor (max_depth=30, min_samples_split=30, min_samples_leaf=5)', 'dataset': 'hot', 'split': 'val', 'rmse': 108.2439, 'mae': 65.4343, 'r2': 0.6584, 'inversed': False, 'model_path': '../models/dt_30_depth_30_minsplit_5_minleaf_hot.pkl'}\n",
      "{'model': 'DecisionTreeRegressor (max_depth=30, min_samples_split=30, min_samples_leaf=5)', 'dataset': 'hot', 'split': 'test', 'rmse': 109.2655, 'mae': 67.0191, 'r2': 0.6569, 'inversed': False, 'model_path': '../models/dt_30_depth_30_minsplit_5_minleaf_hot.pkl'}\n",
      "{'model': 'DecisionTreeRegressor (max_depth=30, min_samples_split=30, min_samples_leaf=10)', 'dataset': 'hot', 'split': 'train', 'rmse': 86.8817, 'mae': 52.901, 'r2': 0.7791, 'inversed': False, 'model_path': '../models/dt_30_depth_30_minsplit_10_minleaf_hot.pkl'}\n",
      "{'model': 'DecisionTreeRegressor (max_depth=30, min_samples_split=30, min_samples_leaf=10)', 'dataset': 'hot', 'split': 'val', 'rmse': 108.5036, 'mae': 66.0393, 'r2': 0.6568, 'inversed': False, 'model_path': '../models/dt_30_depth_30_minsplit_10_minleaf_hot.pkl'}\n",
      "{'model': 'DecisionTreeRegressor (max_depth=30, min_samples_split=30, min_samples_leaf=10)', 'dataset': 'hot', 'split': 'test', 'rmse': 109.0433, 'mae': 67.4688, 'r2': 0.6583, 'inversed': False, 'model_path': '../models/dt_30_depth_30_minsplit_10_minleaf_hot.pkl'}\n",
      "{'model': 'DecisionTreeRegressor (max_depth=30, min_samples_split=30, min_samples_leaf=20)', 'dataset': 'hot', 'split': 'train', 'rmse': 93.726, 'mae': 57.8272, 'r2': 0.7429, 'inversed': False, 'model_path': '../models/dt_30_depth_30_minsplit_20_minleaf_hot.pkl'}\n",
      "{'model': 'DecisionTreeRegressor (max_depth=30, min_samples_split=30, min_samples_leaf=20)', 'dataset': 'hot', 'split': 'val', 'rmse': 109.1517, 'mae': 66.8253, 'r2': 0.6527, 'inversed': False, 'model_path': '../models/dt_30_depth_30_minsplit_20_minleaf_hot.pkl'}\n",
      "{'model': 'DecisionTreeRegressor (max_depth=30, min_samples_split=30, min_samples_leaf=20)', 'dataset': 'hot', 'split': 'test', 'rmse': 107.867, 'mae': 67.0369, 'r2': 0.6657, 'inversed': False, 'model_path': '../models/dt_30_depth_30_minsplit_20_minleaf_hot.pkl'}\n",
      "{'model': 'DecisionTreeRegressor (max_depth=40, min_samples_split=2, min_samples_leaf=1)', 'dataset': 'hot', 'split': 'train', 'rmse': 1.311, 'mae': 0.0539, 'r2': 0.9999, 'inversed': False, 'model_path': '../models/dt_40_depth_2_minsplit_1_minleaf_hot.pkl'}\n",
      "{'model': 'DecisionTreeRegressor (max_depth=40, min_samples_split=2, min_samples_leaf=1)', 'dataset': 'hot', 'split': 'val', 'rmse': 114.6714, 'mae': 57.7109, 'r2': 0.6166, 'inversed': False, 'model_path': '../models/dt_40_depth_2_minsplit_1_minleaf_hot.pkl'}\n",
      "{'model': 'DecisionTreeRegressor (max_depth=40, min_samples_split=2, min_samples_leaf=1)', 'dataset': 'hot', 'split': 'test', 'rmse': 118.6054, 'mae': 59.5717, 'r2': 0.5958, 'inversed': False, 'model_path': '../models/dt_40_depth_2_minsplit_1_minleaf_hot.pkl'}\n",
      "{'model': 'DecisionTreeRegressor (max_depth=40, min_samples_split=2, min_samples_leaf=5)', 'dataset': 'hot', 'split': 'train', 'rmse': 67.7355, 'mae': 38.9821, 'r2': 0.8657, 'inversed': False, 'model_path': '../models/dt_40_depth_2_minsplit_5_minleaf_hot.pkl'}\n",
      "{'model': 'DecisionTreeRegressor (max_depth=40, min_samples_split=2, min_samples_leaf=5)', 'dataset': 'hot', 'split': 'val', 'rmse': 109.5255, 'mae': 64.86, 'r2': 0.6503, 'inversed': False, 'model_path': '../models/dt_40_depth_2_minsplit_5_minleaf_hot.pkl'}\n",
      "{'model': 'DecisionTreeRegressor (max_depth=40, min_samples_split=2, min_samples_leaf=5)', 'dataset': 'hot', 'split': 'test', 'rmse': 110.7187, 'mae': 65.888, 'r2': 0.6478, 'inversed': False, 'model_path': '../models/dt_40_depth_2_minsplit_5_minleaf_hot.pkl'}\n",
      "{'model': 'DecisionTreeRegressor (max_depth=40, min_samples_split=2, min_samples_leaf=10)', 'dataset': 'hot', 'split': 'train', 'rmse': 83.3427, 'mae': 50.2561, 'r2': 0.7967, 'inversed': False, 'model_path': '../models/dt_40_depth_2_minsplit_10_minleaf_hot.pkl'}\n",
      "{'model': 'DecisionTreeRegressor (max_depth=40, min_samples_split=2, min_samples_leaf=10)', 'dataset': 'hot', 'split': 'val', 'rmse': 108.8322, 'mae': 65.8707, 'r2': 0.6547, 'inversed': False, 'model_path': '../models/dt_40_depth_2_minsplit_10_minleaf_hot.pkl'}\n",
      "{'model': 'DecisionTreeRegressor (max_depth=40, min_samples_split=2, min_samples_leaf=10)', 'dataset': 'hot', 'split': 'test', 'rmse': 108.4857, 'mae': 67.037, 'r2': 0.6618, 'inversed': False, 'model_path': '../models/dt_40_depth_2_minsplit_10_minleaf_hot.pkl'}\n",
      "{'model': 'DecisionTreeRegressor (max_depth=40, min_samples_split=2, min_samples_leaf=20)', 'dataset': 'hot', 'split': 'train', 'rmse': 93.726, 'mae': 57.8272, 'r2': 0.7429, 'inversed': False, 'model_path': '../models/dt_40_depth_2_minsplit_20_minleaf_hot.pkl'}\n",
      "{'model': 'DecisionTreeRegressor (max_depth=40, min_samples_split=2, min_samples_leaf=20)', 'dataset': 'hot', 'split': 'val', 'rmse': 109.1519, 'mae': 66.8262, 'r2': 0.6527, 'inversed': False, 'model_path': '../models/dt_40_depth_2_minsplit_20_minleaf_hot.pkl'}\n",
      "{'model': 'DecisionTreeRegressor (max_depth=40, min_samples_split=2, min_samples_leaf=20)', 'dataset': 'hot', 'split': 'test', 'rmse': 107.867, 'mae': 67.0369, 'r2': 0.6657, 'inversed': False, 'model_path': '../models/dt_40_depth_2_minsplit_20_minleaf_hot.pkl'}\n",
      "{'model': 'DecisionTreeRegressor (max_depth=40, min_samples_split=10, min_samples_leaf=1)', 'dataset': 'hot', 'split': 'train', 'rmse': 51.1707, 'mae': 27.197, 'r2': 0.9234, 'inversed': False, 'model_path': '../models/dt_40_depth_10_minsplit_1_minleaf_hot.pkl'}\n",
      "{'model': 'DecisionTreeRegressor (max_depth=40, min_samples_split=10, min_samples_leaf=1)', 'dataset': 'hot', 'split': 'val', 'rmse': 110.7338, 'mae': 62.1057, 'r2': 0.6425, 'inversed': False, 'model_path': '../models/dt_40_depth_10_minsplit_1_minleaf_hot.pkl'}\n",
      "{'model': 'DecisionTreeRegressor (max_depth=40, min_samples_split=10, min_samples_leaf=1)', 'dataset': 'hot', 'split': 'test', 'rmse': 113.233, 'mae': 63.7255, 'r2': 0.6316, 'inversed': False, 'model_path': '../models/dt_40_depth_10_minsplit_1_minleaf_hot.pkl'}\n",
      "{'model': 'DecisionTreeRegressor (max_depth=40, min_samples_split=10, min_samples_leaf=5)', 'dataset': 'hot', 'split': 'train', 'rmse': 67.7358, 'mae': 38.9808, 'r2': 0.8657, 'inversed': False, 'model_path': '../models/dt_40_depth_10_minsplit_5_minleaf_hot.pkl'}\n",
      "{'model': 'DecisionTreeRegressor (max_depth=40, min_samples_split=10, min_samples_leaf=5)', 'dataset': 'hot', 'split': 'val', 'rmse': 109.4005, 'mae': 64.809, 'r2': 0.6511, 'inversed': False, 'model_path': '../models/dt_40_depth_10_minsplit_5_minleaf_hot.pkl'}\n",
      "{'model': 'DecisionTreeRegressor (max_depth=40, min_samples_split=10, min_samples_leaf=5)', 'dataset': 'hot', 'split': 'test', 'rmse': 110.5829, 'mae': 65.8173, 'r2': 0.6486, 'inversed': False, 'model_path': '../models/dt_40_depth_10_minsplit_5_minleaf_hot.pkl'}\n",
      "{'model': 'DecisionTreeRegressor (max_depth=40, min_samples_split=10, min_samples_leaf=10)', 'dataset': 'hot', 'split': 'train', 'rmse': 83.3431, 'mae': 50.2545, 'r2': 0.7967, 'inversed': False, 'model_path': '../models/dt_40_depth_10_minsplit_10_minleaf_hot.pkl'}\n",
      "{'model': 'DecisionTreeRegressor (max_depth=40, min_samples_split=10, min_samples_leaf=10)', 'dataset': 'hot', 'split': 'val', 'rmse': 108.8382, 'mae': 65.8753, 'r2': 0.6547, 'inversed': False, 'model_path': '../models/dt_40_depth_10_minsplit_10_minleaf_hot.pkl'}\n",
      "{'model': 'DecisionTreeRegressor (max_depth=40, min_samples_split=10, min_samples_leaf=10)', 'dataset': 'hot', 'split': 'test', 'rmse': 108.4876, 'mae': 67.0408, 'r2': 0.6618, 'inversed': False, 'model_path': '../models/dt_40_depth_10_minsplit_10_minleaf_hot.pkl'}\n",
      "{'model': 'DecisionTreeRegressor (max_depth=40, min_samples_split=10, min_samples_leaf=20)', 'dataset': 'hot', 'split': 'train', 'rmse': 93.726, 'mae': 57.8272, 'r2': 0.7429, 'inversed': False, 'model_path': '../models/dt_40_depth_10_minsplit_20_minleaf_hot.pkl'}\n",
      "{'model': 'DecisionTreeRegressor (max_depth=40, min_samples_split=10, min_samples_leaf=20)', 'dataset': 'hot', 'split': 'val', 'rmse': 109.1517, 'mae': 66.8253, 'r2': 0.6527, 'inversed': False, 'model_path': '../models/dt_40_depth_10_minsplit_20_minleaf_hot.pkl'}\n",
      "{'model': 'DecisionTreeRegressor (max_depth=40, min_samples_split=10, min_samples_leaf=20)', 'dataset': 'hot', 'split': 'test', 'rmse': 107.867, 'mae': 67.0369, 'r2': 0.6657, 'inversed': False, 'model_path': '../models/dt_40_depth_10_minsplit_20_minleaf_hot.pkl'}\n",
      "{'model': 'DecisionTreeRegressor (max_depth=40, min_samples_split=20, min_samples_leaf=1)', 'dataset': 'hot', 'split': 'train', 'rmse': 69.1859, 'mae': 40.2484, 'r2': 0.8599, 'inversed': False, 'model_path': '../models/dt_40_depth_20_minsplit_1_minleaf_hot.pkl'}\n",
      "{'model': 'DecisionTreeRegressor (max_depth=40, min_samples_split=20, min_samples_leaf=1)', 'dataset': 'hot', 'split': 'val', 'rmse': 109.5766, 'mae': 64.2207, 'r2': 0.65, 'inversed': False, 'model_path': '../models/dt_40_depth_20_minsplit_1_minleaf_hot.pkl'}\n",
      "{'model': 'DecisionTreeRegressor (max_depth=40, min_samples_split=20, min_samples_leaf=1)', 'dataset': 'hot', 'split': 'test', 'rmse': 110.9443, 'mae': 65.7735, 'r2': 0.6463, 'inversed': False, 'model_path': '../models/dt_40_depth_20_minsplit_1_minleaf_hot.pkl'}\n",
      "{'model': 'DecisionTreeRegressor (max_depth=40, min_samples_split=20, min_samples_leaf=5)', 'dataset': 'hot', 'split': 'train', 'rmse': 77.0985, 'mae': 45.7792, 'r2': 0.826, 'inversed': False, 'model_path': '../models/dt_40_depth_20_minsplit_5_minleaf_hot.pkl'}\n",
      "{'model': 'DecisionTreeRegressor (max_depth=40, min_samples_split=20, min_samples_leaf=5)', 'dataset': 'hot', 'split': 'val', 'rmse': 108.6808, 'mae': 64.9799, 'r2': 0.6557, 'inversed': False, 'model_path': '../models/dt_40_depth_20_minsplit_5_minleaf_hot.pkl'}\n",
      "{'model': 'DecisionTreeRegressor (max_depth=40, min_samples_split=20, min_samples_leaf=5)', 'dataset': 'hot', 'split': 'test', 'rmse': 108.9126, 'mae': 66.1836, 'r2': 0.6591, 'inversed': False, 'model_path': '../models/dt_40_depth_20_minsplit_5_minleaf_hot.pkl'}\n",
      "{'model': 'DecisionTreeRegressor (max_depth=40, min_samples_split=20, min_samples_leaf=10)', 'dataset': 'hot', 'split': 'train', 'rmse': 83.3431, 'mae': 50.2545, 'r2': 0.7967, 'inversed': False, 'model_path': '../models/dt_40_depth_20_minsplit_10_minleaf_hot.pkl'}\n",
      "{'model': 'DecisionTreeRegressor (max_depth=40, min_samples_split=20, min_samples_leaf=10)', 'dataset': 'hot', 'split': 'val', 'rmse': 108.8318, 'mae': 65.8667, 'r2': 0.6547, 'inversed': False, 'model_path': '../models/dt_40_depth_20_minsplit_10_minleaf_hot.pkl'}\n",
      "{'model': 'DecisionTreeRegressor (max_depth=40, min_samples_split=20, min_samples_leaf=10)', 'dataset': 'hot', 'split': 'test', 'rmse': 108.4861, 'mae': 67.0399, 'r2': 0.6618, 'inversed': False, 'model_path': '../models/dt_40_depth_20_minsplit_10_minleaf_hot.pkl'}\n",
      "{'model': 'DecisionTreeRegressor (max_depth=40, min_samples_split=20, min_samples_leaf=20)', 'dataset': 'hot', 'split': 'train', 'rmse': 93.726, 'mae': 57.8272, 'r2': 0.7429, 'inversed': False, 'model_path': '../models/dt_40_depth_20_minsplit_20_minleaf_hot.pkl'}\n",
      "{'model': 'DecisionTreeRegressor (max_depth=40, min_samples_split=20, min_samples_leaf=20)', 'dataset': 'hot', 'split': 'val', 'rmse': 109.1517, 'mae': 66.8253, 'r2': 0.6527, 'inversed': False, 'model_path': '../models/dt_40_depth_20_minsplit_20_minleaf_hot.pkl'}\n",
      "{'model': 'DecisionTreeRegressor (max_depth=40, min_samples_split=20, min_samples_leaf=20)', 'dataset': 'hot', 'split': 'test', 'rmse': 107.867, 'mae': 67.0369, 'r2': 0.6657, 'inversed': False, 'model_path': '../models/dt_40_depth_20_minsplit_20_minleaf_hot.pkl'}\n",
      "{'model': 'DecisionTreeRegressor (max_depth=40, min_samples_split=30, min_samples_leaf=1)', 'dataset': 'hot', 'split': 'train', 'rmse': 77.5957, 'mae': 46.4458, 'r2': 0.8238, 'inversed': False, 'model_path': '../models/dt_40_depth_30_minsplit_1_minleaf_hot.pkl'}\n",
      "{'model': 'DecisionTreeRegressor (max_depth=40, min_samples_split=30, min_samples_leaf=1)', 'dataset': 'hot', 'split': 'val', 'rmse': 108.5676, 'mae': 64.8105, 'r2': 0.6564, 'inversed': False, 'model_path': '../models/dt_40_depth_30_minsplit_1_minleaf_hot.pkl'}\n",
      "{'model': 'DecisionTreeRegressor (max_depth=40, min_samples_split=30, min_samples_leaf=1)', 'dataset': 'hot', 'split': 'test', 'rmse': 109.5258, 'mae': 66.0776, 'r2': 0.6553, 'inversed': False, 'model_path': '../models/dt_40_depth_30_minsplit_1_minleaf_hot.pkl'}\n",
      "{'model': 'DecisionTreeRegressor (max_depth=40, min_samples_split=30, min_samples_leaf=5)', 'dataset': 'hot', 'split': 'train', 'rmse': 82.7101, 'mae': 50.1042, 'r2': 0.7998, 'inversed': False, 'model_path': '../models/dt_40_depth_30_minsplit_5_minleaf_hot.pkl'}\n",
      "{'model': 'DecisionTreeRegressor (max_depth=40, min_samples_split=30, min_samples_leaf=5)', 'dataset': 'hot', 'split': 'val', 'rmse': 108.1939, 'mae': 65.379, 'r2': 0.6587, 'inversed': False, 'model_path': '../models/dt_40_depth_30_minsplit_5_minleaf_hot.pkl'}\n",
      "{'model': 'DecisionTreeRegressor (max_depth=40, min_samples_split=30, min_samples_leaf=5)', 'dataset': 'hot', 'split': 'test', 'rmse': 109.2485, 'mae': 66.9513, 'r2': 0.657, 'inversed': False, 'model_path': '../models/dt_40_depth_30_minsplit_5_minleaf_hot.pkl'}\n",
      "{'model': 'DecisionTreeRegressor (max_depth=40, min_samples_split=30, min_samples_leaf=10)', 'dataset': 'hot', 'split': 'train', 'rmse': 86.8758, 'mae': 52.8916, 'r2': 0.7791, 'inversed': False, 'model_path': '../models/dt_40_depth_30_minsplit_10_minleaf_hot.pkl'}\n",
      "{'model': 'DecisionTreeRegressor (max_depth=40, min_samples_split=30, min_samples_leaf=10)', 'dataset': 'hot', 'split': 'val', 'rmse': 108.5088, 'mae': 66.0489, 'r2': 0.6567, 'inversed': False, 'model_path': '../models/dt_40_depth_30_minsplit_10_minleaf_hot.pkl'}\n",
      "{'model': 'DecisionTreeRegressor (max_depth=40, min_samples_split=30, min_samples_leaf=10)', 'dataset': 'hot', 'split': 'test', 'rmse': 109.0412, 'mae': 67.4625, 'r2': 0.6583, 'inversed': False, 'model_path': '../models/dt_40_depth_30_minsplit_10_minleaf_hot.pkl'}\n",
      "{'model': 'DecisionTreeRegressor (max_depth=40, min_samples_split=30, min_samples_leaf=20)', 'dataset': 'hot', 'split': 'train', 'rmse': 93.726, 'mae': 57.8272, 'r2': 0.7429, 'inversed': False, 'model_path': '../models/dt_40_depth_30_minsplit_20_minleaf_hot.pkl'}\n",
      "{'model': 'DecisionTreeRegressor (max_depth=40, min_samples_split=30, min_samples_leaf=20)', 'dataset': 'hot', 'split': 'val', 'rmse': 109.1519, 'mae': 66.8262, 'r2': 0.6527, 'inversed': False, 'model_path': '../models/dt_40_depth_30_minsplit_20_minleaf_hot.pkl'}\n",
      "{'model': 'DecisionTreeRegressor (max_depth=40, min_samples_split=30, min_samples_leaf=20)', 'dataset': 'hot', 'split': 'test', 'rmse': 107.867, 'mae': 67.0369, 'r2': 0.6657, 'inversed': False, 'model_path': '../models/dt_40_depth_30_minsplit_20_minleaf_hot.pkl'}\n"
     ]
    }
   ],
   "source": [
    "\n",
    "# Define parameter grid for Decision Tree\n",
    "param_grid_dt = [{'max_depth': d, 'min_samples_split': s, 'min_samples_leaf': l} for d in [None, 10, 20, 30, 40] for s in [2, 10, 20, 30] for l in [1, 5, 10, 20]]\n",
    "\n",
    "# Initialize a list to store all performances\n",
    "all_performances = []\n",
    "\n",
    "# List of dataset names and their corresponding folder names\n",
    "dataset_names = ['hot']\n",
    "\n",
    "# Load each dataset and perform custom grid search\n",
    "for dataset_name in dataset_names:\n",
    "    X_train, X_val, X_test, y_train, y_val, y_test, scaler_y = load_dataset(dataset_name)\n",
    "    \n",
    "    # Decision Tree Grid Search\n",
    "    custom_grid_search_dt(X_train, y_train, param_grid_dt, dataset_name)\n",
    "    \n",
    "    # Evaluate all saved Decision Tree models\n",
    "    for params in param_grid_dt:\n",
    "        model_path = os.path.join('../models', f'dt_{params[\"max_depth\"]}_depth_{params[\"min_samples_split\"]}_minsplit_{params[\"min_samples_leaf\"]}_minleaf_{dataset_name}.pkl')\n",
    "        dt = load_model(model_path)\n",
    "        performances = evaluate_model(dt, model_path, X_train, X_val, X_test, y_train, y_val, y_test, scaler_y=scaler_y, dataset_name=dataset_name)\n",
    "        all_performances.extend(performances)\n",
    "\n",
    "# Display performances\n",
    "for performance in all_performances:\n",
    "    print(performance)\n",
    "\n",
    "# Turn into pd.DataFrame\n",
    "perf_df = pd.DataFrame(all_performances)\n",
    "\n",
    "# Save performances to a CSV file\n",
    "perf_df.to_csv('../data/dt_performances.csv', index=False)\n"
   ]
  },
  {
   "cell_type": "markdown",
   "metadata": {},
   "source": [
    "# Random forest"
   ]
  },
  {
   "cell_type": "markdown",
   "metadata": {},
   "source": [
    "## First random search to give a hint to the parameters for the extensive grid search"
   ]
  },
  {
   "cell_type": "code",
   "execution_count": 11,
   "metadata": {},
   "outputs": [
    {
     "name": "stdout",
     "output_type": "stream",
     "text": [
      "Fitting 5 folds for each of 10 candidates, totalling 50 fits\n"
     ]
    },
    {
     "name": "stderr",
     "output_type": "stream",
     "text": [
      "/work/Exam/DataScienceExam/env/airbnb/lib/python3.10/site-packages/sklearn/base.py:1474: DataConversionWarning: A column-vector y was passed when a 1d array was expected. Please change the shape of y to (n_samples,), for example using ravel().\n",
      "  return fit_method(estimator, *args, **kwargs)\n",
      "/work/Exam/DataScienceExam/env/airbnb/lib/python3.10/site-packages/sklearn/base.py:1474: DataConversionWarning: A column-vector y was passed when a 1d array was expected. Please change the shape of y to (n_samples,), for example using ravel().\n",
      "  return fit_method(estimator, *args, **kwargs)\n",
      "/work/Exam/DataScienceExam/env/airbnb/lib/python3.10/site-packages/sklearn/base.py:1474: DataConversionWarning: A column-vector y was passed when a 1d array was expected. Please change the shape of y to (n_samples,), for example using ravel().\n",
      "  return fit_method(estimator, *args, **kwargs)\n",
      "/work/Exam/DataScienceExam/env/airbnb/lib/python3.10/site-packages/sklearn/base.py:1474: DataConversionWarning: A column-vector y was passed when a 1d array was expected. Please change the shape of y to (n_samples,), for example using ravel().\n",
      "  return fit_method(estimator, *args, **kwargs)\n",
      "/work/Exam/DataScienceExam/env/airbnb/lib/python3.10/site-packages/sklearn/base.py:1474: DataConversionWarning: A column-vector y was passed when a 1d array was expected. Please change the shape of y to (n_samples,), for example using ravel().\n",
      "  return fit_method(estimator, *args, **kwargs)\n",
      "/work/Exam/DataScienceExam/env/airbnb/lib/python3.10/site-packages/sklearn/base.py:1474: DataConversionWarning: A column-vector y was passed when a 1d array was expected. Please change the shape of y to (n_samples,), for example using ravel().\n",
      "  return fit_method(estimator, *args, **kwargs)\n",
      "/work/Exam/DataScienceExam/env/airbnb/lib/python3.10/site-packages/sklearn/base.py:1474: DataConversionWarning: A column-vector y was passed when a 1d array was expected. Please change the shape of y to (n_samples,), for example using ravel().\n",
      "  return fit_method(estimator, *args, **kwargs)\n",
      "/work/Exam/DataScienceExam/env/airbnb/lib/python3.10/site-packages/sklearn/base.py:1474: DataConversionWarning: A column-vector y was passed when a 1d array was expected. Please change the shape of y to (n_samples,), for example using ravel().\n",
      "  return fit_method(estimator, *args, **kwargs)\n",
      "/work/Exam/DataScienceExam/env/airbnb/lib/python3.10/site-packages/sklearn/base.py:1474: DataConversionWarning: A column-vector y was passed when a 1d array was expected. Please change the shape of y to (n_samples,), for example using ravel().\n",
      "  return fit_method(estimator, *args, **kwargs)\n",
      "/work/Exam/DataScienceExam/env/airbnb/lib/python3.10/site-packages/sklearn/base.py:1474: DataConversionWarning: A column-vector y was passed when a 1d array was expected. Please change the shape of y to (n_samples,), for example using ravel().\n",
      "  return fit_method(estimator, *args, **kwargs)\n",
      "/work/Exam/DataScienceExam/env/airbnb/lib/python3.10/site-packages/sklearn/base.py:1474: DataConversionWarning: A column-vector y was passed when a 1d array was expected. Please change the shape of y to (n_samples,), for example using ravel().\n",
      "  return fit_method(estimator, *args, **kwargs)\n",
      "/work/Exam/DataScienceExam/env/airbnb/lib/python3.10/site-packages/sklearn/base.py:1474: DataConversionWarning: A column-vector y was passed when a 1d array was expected. Please change the shape of y to (n_samples,), for example using ravel().\n",
      "  return fit_method(estimator, *args, **kwargs)\n",
      "/work/Exam/DataScienceExam/env/airbnb/lib/python3.10/site-packages/sklearn/base.py:1474: DataConversionWarning: A column-vector y was passed when a 1d array was expected. Please change the shape of y to (n_samples,), for example using ravel().\n",
      "  return fit_method(estimator, *args, **kwargs)\n",
      "/work/Exam/DataScienceExam/env/airbnb/lib/python3.10/site-packages/sklearn/base.py:1474: DataConversionWarning: A column-vector y was passed when a 1d array was expected. Please change the shape of y to (n_samples,), for example using ravel().\n",
      "  return fit_method(estimator, *args, **kwargs)\n",
      "/work/Exam/DataScienceExam/env/airbnb/lib/python3.10/site-packages/sklearn/base.py:1474: DataConversionWarning: A column-vector y was passed when a 1d array was expected. Please change the shape of y to (n_samples,), for example using ravel().\n",
      "  return fit_method(estimator, *args, **kwargs)\n",
      "/work/Exam/DataScienceExam/env/airbnb/lib/python3.10/site-packages/sklearn/base.py:1474: DataConversionWarning: A column-vector y was passed when a 1d array was expected. Please change the shape of y to (n_samples,), for example using ravel().\n",
      "  return fit_method(estimator, *args, **kwargs)\n",
      "/work/Exam/DataScienceExam/env/airbnb/lib/python3.10/site-packages/sklearn/base.py:1474: DataConversionWarning: A column-vector y was passed when a 1d array was expected. Please change the shape of y to (n_samples,), for example using ravel().\n",
      "  return fit_method(estimator, *args, **kwargs)\n",
      "/work/Exam/DataScienceExam/env/airbnb/lib/python3.10/site-packages/sklearn/base.py:1474: DataConversionWarning: A column-vector y was passed when a 1d array was expected. Please change the shape of y to (n_samples,), for example using ravel().\n",
      "  return fit_method(estimator, *args, **kwargs)\n",
      "/work/Exam/DataScienceExam/env/airbnb/lib/python3.10/site-packages/sklearn/base.py:1474: DataConversionWarning: A column-vector y was passed when a 1d array was expected. Please change the shape of y to (n_samples,), for example using ravel().\n",
      "  return fit_method(estimator, *args, **kwargs)\n",
      "/work/Exam/DataScienceExam/env/airbnb/lib/python3.10/site-packages/sklearn/base.py:1474: DataConversionWarning: A column-vector y was passed when a 1d array was expected. Please change the shape of y to (n_samples,), for example using ravel().\n",
      "  return fit_method(estimator, *args, **kwargs)\n",
      "/work/Exam/DataScienceExam/env/airbnb/lib/python3.10/site-packages/sklearn/base.py:1474: DataConversionWarning: A column-vector y was passed when a 1d array was expected. Please change the shape of y to (n_samples,), for example using ravel().\n",
      "  return fit_method(estimator, *args, **kwargs)\n",
      "/work/Exam/DataScienceExam/env/airbnb/lib/python3.10/site-packages/sklearn/base.py:1474: DataConversionWarning: A column-vector y was passed when a 1d array was expected. Please change the shape of y to (n_samples,), for example using ravel().\n",
      "  return fit_method(estimator, *args, **kwargs)\n",
      "/work/Exam/DataScienceExam/env/airbnb/lib/python3.10/site-packages/sklearn/base.py:1474: DataConversionWarning: A column-vector y was passed when a 1d array was expected. Please change the shape of y to (n_samples,), for example using ravel().\n",
      "  return fit_method(estimator, *args, **kwargs)\n",
      "/work/Exam/DataScienceExam/env/airbnb/lib/python3.10/site-packages/sklearn/base.py:1474: DataConversionWarning: A column-vector y was passed when a 1d array was expected. Please change the shape of y to (n_samples,), for example using ravel().\n",
      "  return fit_method(estimator, *args, **kwargs)\n",
      "/work/Exam/DataScienceExam/env/airbnb/lib/python3.10/site-packages/sklearn/base.py:1474: DataConversionWarning: A column-vector y was passed when a 1d array was expected. Please change the shape of y to (n_samples,), for example using ravel().\n",
      "  return fit_method(estimator, *args, **kwargs)\n",
      "/work/Exam/DataScienceExam/env/airbnb/lib/python3.10/site-packages/sklearn/base.py:1474: DataConversionWarning: A column-vector y was passed when a 1d array was expected. Please change the shape of y to (n_samples,), for example using ravel().\n",
      "  return fit_method(estimator, *args, **kwargs)\n",
      "/work/Exam/DataScienceExam/env/airbnb/lib/python3.10/site-packages/sklearn/base.py:1474: DataConversionWarning: A column-vector y was passed when a 1d array was expected. Please change the shape of y to (n_samples,), for example using ravel().\n",
      "  return fit_method(estimator, *args, **kwargs)\n",
      "/work/Exam/DataScienceExam/env/airbnb/lib/python3.10/site-packages/sklearn/base.py:1474: DataConversionWarning: A column-vector y was passed when a 1d array was expected. Please change the shape of y to (n_samples,), for example using ravel().\n",
      "  return fit_method(estimator, *args, **kwargs)\n",
      "/work/Exam/DataScienceExam/env/airbnb/lib/python3.10/site-packages/sklearn/base.py:1474: DataConversionWarning: A column-vector y was passed when a 1d array was expected. Please change the shape of y to (n_samples,), for example using ravel().\n",
      "  return fit_method(estimator, *args, **kwargs)\n",
      "/work/Exam/DataScienceExam/env/airbnb/lib/python3.10/site-packages/sklearn/base.py:1474: DataConversionWarning: A column-vector y was passed when a 1d array was expected. Please change the shape of y to (n_samples,), for example using ravel().\n",
      "  return fit_method(estimator, *args, **kwargs)\n",
      "/work/Exam/DataScienceExam/env/airbnb/lib/python3.10/site-packages/sklearn/base.py:1474: DataConversionWarning: A column-vector y was passed when a 1d array was expected. Please change the shape of y to (n_samples,), for example using ravel().\n",
      "  return fit_method(estimator, *args, **kwargs)\n",
      "/work/Exam/DataScienceExam/env/airbnb/lib/python3.10/site-packages/sklearn/base.py:1474: DataConversionWarning: A column-vector y was passed when a 1d array was expected. Please change the shape of y to (n_samples,), for example using ravel().\n",
      "  return fit_method(estimator, *args, **kwargs)\n",
      "/work/Exam/DataScienceExam/env/airbnb/lib/python3.10/site-packages/sklearn/base.py:1474: DataConversionWarning: A column-vector y was passed when a 1d array was expected. Please change the shape of y to (n_samples,), for example using ravel().\n",
      "  return fit_method(estimator, *args, **kwargs)\n",
      "/work/Exam/DataScienceExam/env/airbnb/lib/python3.10/site-packages/sklearn/base.py:1474: DataConversionWarning: A column-vector y was passed when a 1d array was expected. Please change the shape of y to (n_samples,), for example using ravel().\n",
      "  return fit_method(estimator, *args, **kwargs)\n",
      "/work/Exam/DataScienceExam/env/airbnb/lib/python3.10/site-packages/sklearn/base.py:1474: DataConversionWarning: A column-vector y was passed when a 1d array was expected. Please change the shape of y to (n_samples,), for example using ravel().\n",
      "  return fit_method(estimator, *args, **kwargs)\n",
      "/work/Exam/DataScienceExam/env/airbnb/lib/python3.10/site-packages/sklearn/base.py:1474: DataConversionWarning: A column-vector y was passed when a 1d array was expected. Please change the shape of y to (n_samples,), for example using ravel().\n",
      "  return fit_method(estimator, *args, **kwargs)\n",
      "/work/Exam/DataScienceExam/env/airbnb/lib/python3.10/site-packages/sklearn/base.py:1474: DataConversionWarning: A column-vector y was passed when a 1d array was expected. Please change the shape of y to (n_samples,), for example using ravel().\n",
      "  return fit_method(estimator, *args, **kwargs)\n",
      "/work/Exam/DataScienceExam/env/airbnb/lib/python3.10/site-packages/sklearn/base.py:1474: DataConversionWarning: A column-vector y was passed when a 1d array was expected. Please change the shape of y to (n_samples,), for example using ravel().\n",
      "  return fit_method(estimator, *args, **kwargs)\n",
      "/work/Exam/DataScienceExam/env/airbnb/lib/python3.10/site-packages/sklearn/base.py:1474: DataConversionWarning: A column-vector y was passed when a 1d array was expected. Please change the shape of y to (n_samples,), for example using ravel().\n",
      "  return fit_method(estimator, *args, **kwargs)\n",
      "/work/Exam/DataScienceExam/env/airbnb/lib/python3.10/site-packages/sklearn/base.py:1474: DataConversionWarning: A column-vector y was passed when a 1d array was expected. Please change the shape of y to (n_samples,), for example using ravel().\n",
      "  return fit_method(estimator, *args, **kwargs)\n",
      "/work/Exam/DataScienceExam/env/airbnb/lib/python3.10/site-packages/sklearn/base.py:1474: DataConversionWarning: A column-vector y was passed when a 1d array was expected. Please change the shape of y to (n_samples,), for example using ravel().\n",
      "  return fit_method(estimator, *args, **kwargs)\n"
     ]
    },
    {
     "name": "stdout",
     "output_type": "stream",
     "text": [
      "[CV] END bootstrap=False, max_depth=20, max_features=auto, min_samples_leaf=1, min_samples_split=2, n_estimators=50; total time=   0.0s\n",
      "[CV] END bootstrap=False, max_depth=20, max_features=auto, min_samples_leaf=1, min_samples_split=2, n_estimators=50; total time=   0.0s\n",
      "[CV] END bootstrap=False, max_depth=20, max_features=auto, min_samples_leaf=1, min_samples_split=2, n_estimators=50; total time=   0.0s\n",
      "[CV] END bootstrap=False, max_depth=20, max_features=auto, min_samples_leaf=1, min_samples_split=2, n_estimators=50; total time=   0.0s\n",
      "[CV] END bootstrap=False, max_depth=20, max_features=auto, min_samples_leaf=1, min_samples_split=2, n_estimators=50; total time=   0.0s\n",
      "[CV] END bootstrap=True, max_depth=30, max_features=sqrt, min_samples_leaf=4, min_samples_split=5, n_estimators=10; total time=   0.5s\n"
     ]
    },
    {
     "name": "stderr",
     "output_type": "stream",
     "text": [
      "/work/Exam/DataScienceExam/env/airbnb/lib/python3.10/site-packages/sklearn/base.py:1474: DataConversionWarning: A column-vector y was passed when a 1d array was expected. Please change the shape of y to (n_samples,), for example using ravel().\n",
      "  return fit_method(estimator, *args, **kwargs)\n",
      "/work/Exam/DataScienceExam/env/airbnb/lib/python3.10/site-packages/sklearn/base.py:1474: DataConversionWarning: A column-vector y was passed when a 1d array was expected. Please change the shape of y to (n_samples,), for example using ravel().\n",
      "  return fit_method(estimator, *args, **kwargs)\n",
      "/work/Exam/DataScienceExam/env/airbnb/lib/python3.10/site-packages/sklearn/base.py:1474: DataConversionWarning: A column-vector y was passed when a 1d array was expected. Please change the shape of y to (n_samples,), for example using ravel().\n",
      "  return fit_method(estimator, *args, **kwargs)\n",
      "/work/Exam/DataScienceExam/env/airbnb/lib/python3.10/site-packages/sklearn/base.py:1474: DataConversionWarning: A column-vector y was passed when a 1d array was expected. Please change the shape of y to (n_samples,), for example using ravel().\n",
      "  return fit_method(estimator, *args, **kwargs)\n"
     ]
    },
    {
     "name": "stdout",
     "output_type": "stream",
     "text": [
      "[CV] END bootstrap=True, max_depth=30, max_features=sqrt, min_samples_leaf=4, min_samples_split=5, n_estimators=10; total time=   0.7s\n",
      "[CV] END bootstrap=True, max_depth=30, max_features=sqrt, min_samples_leaf=4, min_samples_split=5, n_estimators=10; total time=   0.7s\n",
      "[CV] END bootstrap=True, max_depth=30, max_features=sqrt, min_samples_leaf=4, min_samples_split=5, n_estimators=10; total time=   0.7s\n",
      "[CV] END bootstrap=False, max_depth=10, max_features=log2, min_samples_leaf=1, min_samples_split=2, n_estimators=10; total time=   0.5s\n",
      "[CV] END bootstrap=True, max_depth=30, max_features=sqrt, min_samples_leaf=1, min_samples_split=10, n_estimators=10; total time=   0.7s\n",
      "[CV] END bootstrap=True, max_depth=30, max_features=sqrt, min_samples_leaf=4, min_samples_split=5, n_estimators=10; total time=   0.7s\n",
      "[CV] END bootstrap=True, max_depth=30, max_features=sqrt, min_samples_leaf=1, min_samples_split=10, n_estimators=10; total time=   0.7s\n",
      "[CV] END bootstrap=True, max_depth=30, max_features=sqrt, min_samples_leaf=1, min_samples_split=10, n_estimators=10; total time=   0.7s\n",
      "[CV] END bootstrap=False, max_depth=10, max_features=log2, min_samples_leaf=1, min_samples_split=2, n_estimators=10; total time=   0.5s\n",
      "[CV] END bootstrap=False, max_depth=10, max_features=log2, min_samples_leaf=1, min_samples_split=2, n_estimators=10; total time=   0.6s\n",
      "[CV] END bootstrap=False, max_depth=10, max_features=log2, min_samples_leaf=1, min_samples_split=2, n_estimators=10; total time=   0.7s\n",
      "[CV] END bootstrap=True, max_depth=30, max_features=sqrt, min_samples_leaf=1, min_samples_split=10, n_estimators=10; total time=   0.8s\n",
      "[CV] END bootstrap=False, max_depth=10, max_features=log2, min_samples_leaf=1, min_samples_split=2, n_estimators=10; total time=   0.7s\n",
      "[CV] END bootstrap=True, max_depth=30, max_features=sqrt, min_samples_leaf=1, min_samples_split=10, n_estimators=10; total time=   0.7s\n",
      "[CV] END bootstrap=True, max_depth=10, max_features=sqrt, min_samples_leaf=4, min_samples_split=10, n_estimators=50; total time=   1.6s\n",
      "[CV] END bootstrap=True, max_depth=10, max_features=sqrt, min_samples_leaf=4, min_samples_split=10, n_estimators=50; total time=   1.8s\n",
      "[CV] END bootstrap=True, max_depth=10, max_features=sqrt, min_samples_leaf=4, min_samples_split=10, n_estimators=50; total time=   1.7s\n",
      "[CV] END bootstrap=True, max_depth=10, max_features=sqrt, min_samples_leaf=4, min_samples_split=10, n_estimators=50; total time=   1.7s\n",
      "[CV] END bootstrap=True, max_depth=10, max_features=sqrt, min_samples_leaf=4, min_samples_split=10, n_estimators=50; total time=   1.8s\n",
      "[CV] END bootstrap=True, max_depth=20, max_features=log2, min_samples_leaf=2, min_samples_split=10, n_estimators=50; total time=   2.5s\n",
      "[CV] END bootstrap=True, max_depth=20, max_features=log2, min_samples_leaf=2, min_samples_split=10, n_estimators=50; total time=   2.5s\n",
      "[CV] END bootstrap=True, max_depth=20, max_features=log2, min_samples_leaf=2, min_samples_split=10, n_estimators=50; total time=   2.7s\n",
      "[CV] END bootstrap=True, max_depth=20, max_features=log2, min_samples_leaf=2, min_samples_split=10, n_estimators=50; total time=   2.6s\n",
      "[CV] END bootstrap=True, max_depth=30, max_features=sqrt, min_samples_leaf=2, min_samples_split=5, n_estimators=50; total time=   2.8s\n",
      "[CV] END bootstrap=True, max_depth=30, max_features=sqrt, min_samples_leaf=2, min_samples_split=5, n_estimators=50; total time=   2.9s\n",
      "[CV] END bootstrap=True, max_depth=20, max_features=log2, min_samples_leaf=2, min_samples_split=10, n_estimators=50; total time=   2.8s\n",
      "[CV] END bootstrap=True, max_depth=30, max_features=sqrt, min_samples_leaf=2, min_samples_split=5, n_estimators=50; total time=   2.8s\n",
      "[CV] END bootstrap=True, max_depth=30, max_features=sqrt, min_samples_leaf=2, min_samples_split=5, n_estimators=50; total time=   2.9s\n",
      "[CV] END bootstrap=True, max_depth=30, max_features=sqrt, min_samples_leaf=2, min_samples_split=5, n_estimators=50; total time=   2.9s\n",
      "[CV] END bootstrap=False, max_depth=30, max_features=log2, min_samples_leaf=4, min_samples_split=10, n_estimators=50; total time=   3.6s\n",
      "[CV] END bootstrap=False, max_depth=30, max_features=log2, min_samples_leaf=4, min_samples_split=10, n_estimators=50; total time=   3.5s\n",
      "[CV] END bootstrap=False, max_depth=30, max_features=log2, min_samples_leaf=4, min_samples_split=10, n_estimators=50; total time=   3.5s\n",
      "[CV] END bootstrap=False, max_depth=30, max_features=log2, min_samples_leaf=4, min_samples_split=10, n_estimators=50; total time=   3.7s\n",
      "[CV] END bootstrap=False, max_depth=30, max_features=sqrt, min_samples_leaf=1, min_samples_split=10, n_estimators=50; total time=   3.8s[CV] END bootstrap=False, max_depth=30, max_features=sqrt, min_samples_leaf=1, min_samples_split=10, n_estimators=50; total time=   3.9s\n",
      "\n",
      "[CV] END bootstrap=False, max_depth=30, max_features=sqrt, min_samples_leaf=1, min_samples_split=10, n_estimators=50; total time=   3.8s\n",
      "[CV] END bootstrap=False, max_depth=20, max_features=sqrt, min_samples_leaf=2, min_samples_split=2, n_estimators=50; total time=   3.7s\n",
      "[CV] END bootstrap=False, max_depth=30, max_features=sqrt, min_samples_leaf=1, min_samples_split=10, n_estimators=50; total time=   4.0s\n",
      "[CV] END bootstrap=False, max_depth=20, max_features=sqrt, min_samples_leaf=2, min_samples_split=2, n_estimators=50; total time=   3.7s\n",
      "[CV] END bootstrap=False, max_depth=30, max_features=sqrt, min_samples_leaf=1, min_samples_split=10, n_estimators=50; total time=   4.0s\n",
      "[CV] END bootstrap=False, max_depth=30, max_features=log2, min_samples_leaf=4, min_samples_split=10, n_estimators=50; total time=   3.9s\n",
      "[CV] END bootstrap=False, max_depth=20, max_features=sqrt, min_samples_leaf=2, min_samples_split=2, n_estimators=50; total time=   3.8s\n",
      "[CV] END bootstrap=False, max_depth=20, max_features=sqrt, min_samples_leaf=2, min_samples_split=2, n_estimators=50; total time=   3.8s\n",
      "[CV] END bootstrap=False, max_depth=20, max_features=sqrt, min_samples_leaf=2, min_samples_split=2, n_estimators=50; total time=   4.2s\n"
     ]
    },
    {
     "name": "stderr",
     "output_type": "stream",
     "text": [
      "/work/Exam/DataScienceExam/env/airbnb/lib/python3.10/site-packages/sklearn/model_selection/_validation.py:547: FitFailedWarning: \n",
      "5 fits failed out of a total of 50.\n",
      "The score on these train-test partitions for these parameters will be set to nan.\n",
      "If these failures are not expected, you can try to debug them by setting error_score='raise'.\n",
      "\n",
      "Below are more details about the failures:\n",
      "--------------------------------------------------------------------------------\n",
      "2 fits failed with the following error:\n",
      "Traceback (most recent call last):\n",
      "  File \"/work/Exam/DataScienceExam/env/airbnb/lib/python3.10/site-packages/sklearn/model_selection/_validation.py\", line 895, in _fit_and_score\n",
      "    estimator.fit(X_train, y_train, **fit_params)\n",
      "  File \"/work/Exam/DataScienceExam/env/airbnb/lib/python3.10/site-packages/sklearn/base.py\", line 1467, in wrapper\n",
      "    estimator._validate_params()\n",
      "  File \"/work/Exam/DataScienceExam/env/airbnb/lib/python3.10/site-packages/sklearn/base.py\", line 666, in _validate_params\n",
      "    validate_parameter_constraints(\n",
      "  File \"/work/Exam/DataScienceExam/env/airbnb/lib/python3.10/site-packages/sklearn/utils/_param_validation.py\", line 95, in validate_parameter_constraints\n",
      "    raise InvalidParameterError(\n",
      "sklearn.utils._param_validation.InvalidParameterError: The 'max_features' parameter of RandomForestRegressor must be an int in the range [1, inf), a float in the range (0.0, 1.0], a str among {'log2', 'sqrt'} or None. Got 'auto' instead.\n",
      "\n",
      "--------------------------------------------------------------------------------\n",
      "3 fits failed with the following error:\n",
      "Traceback (most recent call last):\n",
      "  File \"/work/Exam/DataScienceExam/env/airbnb/lib/python3.10/site-packages/sklearn/model_selection/_validation.py\", line 895, in _fit_and_score\n",
      "    estimator.fit(X_train, y_train, **fit_params)\n",
      "  File \"/work/Exam/DataScienceExam/env/airbnb/lib/python3.10/site-packages/sklearn/base.py\", line 1467, in wrapper\n",
      "    estimator._validate_params()\n",
      "  File \"/work/Exam/DataScienceExam/env/airbnb/lib/python3.10/site-packages/sklearn/base.py\", line 666, in _validate_params\n",
      "    validate_parameter_constraints(\n",
      "  File \"/work/Exam/DataScienceExam/env/airbnb/lib/python3.10/site-packages/sklearn/utils/_param_validation.py\", line 95, in validate_parameter_constraints\n",
      "    raise InvalidParameterError(\n",
      "sklearn.utils._param_validation.InvalidParameterError: The 'max_features' parameter of RandomForestRegressor must be an int in the range [1, inf), a float in the range (0.0, 1.0], a str among {'sqrt', 'log2'} or None. Got 'auto' instead.\n",
      "\n",
      "  warnings.warn(some_fits_failed_message, FitFailedWarning)\n",
      "/work/Exam/DataScienceExam/env/airbnb/lib/python3.10/site-packages/sklearn/model_selection/_search.py:1051: UserWarning: One or more of the test scores are non-finite: [0.70103955 0.73936187 0.72552129 0.70813427 0.71879164 0.7259885\n",
      " 0.73883896        nan 0.67442765 0.67355591]\n",
      "  warnings.warn(\n",
      "/work/Exam/DataScienceExam/env/airbnb/lib/python3.10/site-packages/sklearn/base.py:1474: DataConversionWarning: A column-vector y was passed when a 1d array was expected. Please change the shape of y to (n_samples,), for example using ravel().\n",
      "  return fit_method(estimator, *args, **kwargs)\n"
     ]
    },
    {
     "name": "stdout",
     "output_type": "stream",
     "text": [
      "Best parameters found:  {'n_estimators': 50, 'min_samples_split': 10, 'min_samples_leaf': 1, 'max_features': 'sqrt', 'max_depth': 30, 'bootstrap': False}\n"
     ]
    }
   ],
   "source": [
    "# Make a grid search for Random Forest\n",
    "# Define the model\n",
    "rf = RandomForestRegressor()\n",
    "\n",
    "# Define the parameter grid\n",
    "param_grid = {\n",
    "    'n_estimators': [10, 50, 100],\n",
    "    'max_depth': [None, 10, 20, 30],\n",
    "    'min_samples_split': [2, 5, 10],\n",
    "    'min_samples_leaf': [1, 2, 4],\n",
    "    'max_features': ['auto', 'sqrt', 'log2'],\n",
    "    'bootstrap': [True, False]\n",
    "}\n",
    "\n",
    "# Load the dataset\n",
    "X_train, X_val, X_test, y_train, y_val, y_test, scaler_y = load_dataset(dataset_name)\n",
    "\n",
    "# Grid search\n",
    "grid_search = RandomizedSearchCV(rf, param_grid, n_iter=10, cv=5, verbose=2, n_jobs=-1)\n",
    "grid_search.fit(X_train, y_train)\n",
    "\n",
    "# Best parameters\n",
    "print(\"Best parameters found: \", grid_search.best_params_)"
   ]
  },
  {
   "cell_type": "markdown",
   "metadata": {},
   "source": [
    "Best parameters found:  {'n_estimators': 50, 'min_samples_split': 10, 'min_samples_leaf': 1, 'max_features': 'sqrt', 'max_depth': 30, 'bootstrap': False}"
   ]
  },
  {
   "cell_type": "markdown",
   "metadata": {},
   "source": [
    "## Exhaustive grid search"
   ]
  },
  {
   "cell_type": "code",
   "execution_count": 16,
   "metadata": {},
   "outputs": [
    {
     "name": "stderr",
     "output_type": "stream",
     "text": [
      "/work/Exam/DataScienceExam/env/airbnb/lib/python3.10/site-packages/sklearn/base.py:1474: DataConversionWarning: A column-vector y was passed when a 1d array was expected. Please change the shape of y to (n_samples,), for example using ravel().\n",
      "  return fit_method(estimator, *args, **kwargs)\n"
     ]
    },
    {
     "name": "stdout",
     "output_type": "stream",
     "text": [
      "Trained and saved RandomForestRegressor model with parameters {'n_estimators': 25, 'max_depth': None, 'min_samples_split': 5, 'min_samples_leaf': 1, 'max_features': 'sqrt', 'bootstrap': False} to ../models/rf_25_estimators_None_depth_5_minsplit_1_minleaf_sqrt_features_False_bootstrap_hot.pkl\n"
     ]
    },
    {
     "name": "stderr",
     "output_type": "stream",
     "text": [
      "/work/Exam/DataScienceExam/env/airbnb/lib/python3.10/site-packages/sklearn/base.py:1474: DataConversionWarning: A column-vector y was passed when a 1d array was expected. Please change the shape of y to (n_samples,), for example using ravel().\n",
      "  return fit_method(estimator, *args, **kwargs)\n"
     ]
    },
    {
     "name": "stdout",
     "output_type": "stream",
     "text": [
      "Trained and saved RandomForestRegressor model with parameters {'n_estimators': 25, 'max_depth': None, 'min_samples_split': 5, 'min_samples_leaf': 1, 'max_features': 'sqrt', 'bootstrap': True} to ../models/rf_25_estimators_None_depth_5_minsplit_1_minleaf_sqrt_features_True_bootstrap_hot.pkl\n"
     ]
    },
    {
     "name": "stderr",
     "output_type": "stream",
     "text": [
      "/work/Exam/DataScienceExam/env/airbnb/lib/python3.10/site-packages/sklearn/base.py:1474: DataConversionWarning: A column-vector y was passed when a 1d array was expected. Please change the shape of y to (n_samples,), for example using ravel().\n",
      "  return fit_method(estimator, *args, **kwargs)\n"
     ]
    },
    {
     "name": "stdout",
     "output_type": "stream",
     "text": [
      "Trained and saved RandomForestRegressor model with parameters {'n_estimators': 25, 'max_depth': None, 'min_samples_split': 5, 'min_samples_leaf': 1, 'max_features': 'log2', 'bootstrap': False} to ../models/rf_25_estimators_None_depth_5_minsplit_1_minleaf_log2_features_False_bootstrap_hot.pkl\n"
     ]
    },
    {
     "name": "stderr",
     "output_type": "stream",
     "text": [
      "/work/Exam/DataScienceExam/env/airbnb/lib/python3.10/site-packages/sklearn/base.py:1474: DataConversionWarning: A column-vector y was passed when a 1d array was expected. Please change the shape of y to (n_samples,), for example using ravel().\n",
      "  return fit_method(estimator, *args, **kwargs)\n"
     ]
    },
    {
     "name": "stdout",
     "output_type": "stream",
     "text": [
      "Trained and saved RandomForestRegressor model with parameters {'n_estimators': 25, 'max_depth': None, 'min_samples_split': 5, 'min_samples_leaf': 1, 'max_features': 'log2', 'bootstrap': True} to ../models/rf_25_estimators_None_depth_5_minsplit_1_minleaf_log2_features_True_bootstrap_hot.pkl\n"
     ]
    },
    {
     "name": "stderr",
     "output_type": "stream",
     "text": [
      "/work/Exam/DataScienceExam/env/airbnb/lib/python3.10/site-packages/sklearn/base.py:1474: DataConversionWarning: A column-vector y was passed when a 1d array was expected. Please change the shape of y to (n_samples,), for example using ravel().\n",
      "  return fit_method(estimator, *args, **kwargs)\n"
     ]
    },
    {
     "name": "stdout",
     "output_type": "stream",
     "text": [
      "Trained and saved RandomForestRegressor model with parameters {'n_estimators': 25, 'max_depth': None, 'min_samples_split': 5, 'min_samples_leaf': 2, 'max_features': 'sqrt', 'bootstrap': False} to ../models/rf_25_estimators_None_depth_5_minsplit_2_minleaf_sqrt_features_False_bootstrap_hot.pkl\n"
     ]
    },
    {
     "name": "stderr",
     "output_type": "stream",
     "text": [
      "/work/Exam/DataScienceExam/env/airbnb/lib/python3.10/site-packages/sklearn/base.py:1474: DataConversionWarning: A column-vector y was passed when a 1d array was expected. Please change the shape of y to (n_samples,), for example using ravel().\n",
      "  return fit_method(estimator, *args, **kwargs)\n"
     ]
    },
    {
     "name": "stdout",
     "output_type": "stream",
     "text": [
      "Trained and saved RandomForestRegressor model with parameters {'n_estimators': 25, 'max_depth': None, 'min_samples_split': 5, 'min_samples_leaf': 2, 'max_features': 'sqrt', 'bootstrap': True} to ../models/rf_25_estimators_None_depth_5_minsplit_2_minleaf_sqrt_features_True_bootstrap_hot.pkl\n"
     ]
    },
    {
     "name": "stderr",
     "output_type": "stream",
     "text": [
      "/work/Exam/DataScienceExam/env/airbnb/lib/python3.10/site-packages/sklearn/base.py:1474: DataConversionWarning: A column-vector y was passed when a 1d array was expected. Please change the shape of y to (n_samples,), for example using ravel().\n",
      "  return fit_method(estimator, *args, **kwargs)\n"
     ]
    },
    {
     "name": "stdout",
     "output_type": "stream",
     "text": [
      "Trained and saved RandomForestRegressor model with parameters {'n_estimators': 25, 'max_depth': None, 'min_samples_split': 5, 'min_samples_leaf': 2, 'max_features': 'log2', 'bootstrap': False} to ../models/rf_25_estimators_None_depth_5_minsplit_2_minleaf_log2_features_False_bootstrap_hot.pkl\n"
     ]
    },
    {
     "name": "stderr",
     "output_type": "stream",
     "text": [
      "/work/Exam/DataScienceExam/env/airbnb/lib/python3.10/site-packages/sklearn/base.py:1474: DataConversionWarning: A column-vector y was passed when a 1d array was expected. Please change the shape of y to (n_samples,), for example using ravel().\n",
      "  return fit_method(estimator, *args, **kwargs)\n"
     ]
    },
    {
     "name": "stdout",
     "output_type": "stream",
     "text": [
      "Trained and saved RandomForestRegressor model with parameters {'n_estimators': 25, 'max_depth': None, 'min_samples_split': 5, 'min_samples_leaf': 2, 'max_features': 'log2', 'bootstrap': True} to ../models/rf_25_estimators_None_depth_5_minsplit_2_minleaf_log2_features_True_bootstrap_hot.pkl\n"
     ]
    },
    {
     "name": "stderr",
     "output_type": "stream",
     "text": [
      "/work/Exam/DataScienceExam/env/airbnb/lib/python3.10/site-packages/sklearn/base.py:1474: DataConversionWarning: A column-vector y was passed when a 1d array was expected. Please change the shape of y to (n_samples,), for example using ravel().\n",
      "  return fit_method(estimator, *args, **kwargs)\n"
     ]
    },
    {
     "name": "stdout",
     "output_type": "stream",
     "text": [
      "Trained and saved RandomForestRegressor model with parameters {'n_estimators': 25, 'max_depth': None, 'min_samples_split': 5, 'min_samples_leaf': 5, 'max_features': 'sqrt', 'bootstrap': False} to ../models/rf_25_estimators_None_depth_5_minsplit_5_minleaf_sqrt_features_False_bootstrap_hot.pkl\n"
     ]
    },
    {
     "name": "stderr",
     "output_type": "stream",
     "text": [
      "/work/Exam/DataScienceExam/env/airbnb/lib/python3.10/site-packages/sklearn/base.py:1474: DataConversionWarning: A column-vector y was passed when a 1d array was expected. Please change the shape of y to (n_samples,), for example using ravel().\n",
      "  return fit_method(estimator, *args, **kwargs)\n"
     ]
    },
    {
     "name": "stdout",
     "output_type": "stream",
     "text": [
      "Trained and saved RandomForestRegressor model with parameters {'n_estimators': 25, 'max_depth': None, 'min_samples_split': 5, 'min_samples_leaf': 5, 'max_features': 'sqrt', 'bootstrap': True} to ../models/rf_25_estimators_None_depth_5_minsplit_5_minleaf_sqrt_features_True_bootstrap_hot.pkl\n"
     ]
    },
    {
     "name": "stderr",
     "output_type": "stream",
     "text": [
      "/work/Exam/DataScienceExam/env/airbnb/lib/python3.10/site-packages/sklearn/base.py:1474: DataConversionWarning: A column-vector y was passed when a 1d array was expected. Please change the shape of y to (n_samples,), for example using ravel().\n",
      "  return fit_method(estimator, *args, **kwargs)\n"
     ]
    },
    {
     "name": "stdout",
     "output_type": "stream",
     "text": [
      "Trained and saved RandomForestRegressor model with parameters {'n_estimators': 25, 'max_depth': None, 'min_samples_split': 5, 'min_samples_leaf': 5, 'max_features': 'log2', 'bootstrap': False} to ../models/rf_25_estimators_None_depth_5_minsplit_5_minleaf_log2_features_False_bootstrap_hot.pkl\n"
     ]
    },
    {
     "name": "stderr",
     "output_type": "stream",
     "text": [
      "/work/Exam/DataScienceExam/env/airbnb/lib/python3.10/site-packages/sklearn/base.py:1474: DataConversionWarning: A column-vector y was passed when a 1d array was expected. Please change the shape of y to (n_samples,), for example using ravel().\n",
      "  return fit_method(estimator, *args, **kwargs)\n"
     ]
    },
    {
     "name": "stdout",
     "output_type": "stream",
     "text": [
      "Trained and saved RandomForestRegressor model with parameters {'n_estimators': 25, 'max_depth': None, 'min_samples_split': 5, 'min_samples_leaf': 5, 'max_features': 'log2', 'bootstrap': True} to ../models/rf_25_estimators_None_depth_5_minsplit_5_minleaf_log2_features_True_bootstrap_hot.pkl\n"
     ]
    },
    {
     "name": "stderr",
     "output_type": "stream",
     "text": [
      "/work/Exam/DataScienceExam/env/airbnb/lib/python3.10/site-packages/sklearn/base.py:1474: DataConversionWarning: A column-vector y was passed when a 1d array was expected. Please change the shape of y to (n_samples,), for example using ravel().\n",
      "  return fit_method(estimator, *args, **kwargs)\n"
     ]
    },
    {
     "name": "stdout",
     "output_type": "stream",
     "text": [
      "Trained and saved RandomForestRegressor model with parameters {'n_estimators': 25, 'max_depth': None, 'min_samples_split': 10, 'min_samples_leaf': 1, 'max_features': 'sqrt', 'bootstrap': False} to ../models/rf_25_estimators_None_depth_10_minsplit_1_minleaf_sqrt_features_False_bootstrap_hot.pkl\n"
     ]
    },
    {
     "name": "stderr",
     "output_type": "stream",
     "text": [
      "/work/Exam/DataScienceExam/env/airbnb/lib/python3.10/site-packages/sklearn/base.py:1474: DataConversionWarning: A column-vector y was passed when a 1d array was expected. Please change the shape of y to (n_samples,), for example using ravel().\n",
      "  return fit_method(estimator, *args, **kwargs)\n"
     ]
    },
    {
     "name": "stdout",
     "output_type": "stream",
     "text": [
      "Trained and saved RandomForestRegressor model with parameters {'n_estimators': 25, 'max_depth': None, 'min_samples_split': 10, 'min_samples_leaf': 1, 'max_features': 'sqrt', 'bootstrap': True} to ../models/rf_25_estimators_None_depth_10_minsplit_1_minleaf_sqrt_features_True_bootstrap_hot.pkl\n"
     ]
    },
    {
     "name": "stderr",
     "output_type": "stream",
     "text": [
      "/work/Exam/DataScienceExam/env/airbnb/lib/python3.10/site-packages/sklearn/base.py:1474: DataConversionWarning: A column-vector y was passed when a 1d array was expected. Please change the shape of y to (n_samples,), for example using ravel().\n",
      "  return fit_method(estimator, *args, **kwargs)\n"
     ]
    },
    {
     "name": "stdout",
     "output_type": "stream",
     "text": [
      "Trained and saved RandomForestRegressor model with parameters {'n_estimators': 25, 'max_depth': None, 'min_samples_split': 10, 'min_samples_leaf': 1, 'max_features': 'log2', 'bootstrap': False} to ../models/rf_25_estimators_None_depth_10_minsplit_1_minleaf_log2_features_False_bootstrap_hot.pkl\n"
     ]
    },
    {
     "name": "stderr",
     "output_type": "stream",
     "text": [
      "/work/Exam/DataScienceExam/env/airbnb/lib/python3.10/site-packages/sklearn/base.py:1474: DataConversionWarning: A column-vector y was passed when a 1d array was expected. Please change the shape of y to (n_samples,), for example using ravel().\n",
      "  return fit_method(estimator, *args, **kwargs)\n"
     ]
    },
    {
     "name": "stdout",
     "output_type": "stream",
     "text": [
      "Trained and saved RandomForestRegressor model with parameters {'n_estimators': 25, 'max_depth': None, 'min_samples_split': 10, 'min_samples_leaf': 1, 'max_features': 'log2', 'bootstrap': True} to ../models/rf_25_estimators_None_depth_10_minsplit_1_minleaf_log2_features_True_bootstrap_hot.pkl\n"
     ]
    },
    {
     "name": "stderr",
     "output_type": "stream",
     "text": [
      "/work/Exam/DataScienceExam/env/airbnb/lib/python3.10/site-packages/sklearn/base.py:1474: DataConversionWarning: A column-vector y was passed when a 1d array was expected. Please change the shape of y to (n_samples,), for example using ravel().\n",
      "  return fit_method(estimator, *args, **kwargs)\n"
     ]
    },
    {
     "name": "stdout",
     "output_type": "stream",
     "text": [
      "Trained and saved RandomForestRegressor model with parameters {'n_estimators': 25, 'max_depth': None, 'min_samples_split': 10, 'min_samples_leaf': 2, 'max_features': 'sqrt', 'bootstrap': False} to ../models/rf_25_estimators_None_depth_10_minsplit_2_minleaf_sqrt_features_False_bootstrap_hot.pkl\n"
     ]
    },
    {
     "name": "stderr",
     "output_type": "stream",
     "text": [
      "/work/Exam/DataScienceExam/env/airbnb/lib/python3.10/site-packages/sklearn/base.py:1474: DataConversionWarning: A column-vector y was passed when a 1d array was expected. Please change the shape of y to (n_samples,), for example using ravel().\n",
      "  return fit_method(estimator, *args, **kwargs)\n"
     ]
    },
    {
     "name": "stdout",
     "output_type": "stream",
     "text": [
      "Trained and saved RandomForestRegressor model with parameters {'n_estimators': 25, 'max_depth': None, 'min_samples_split': 10, 'min_samples_leaf': 2, 'max_features': 'sqrt', 'bootstrap': True} to ../models/rf_25_estimators_None_depth_10_minsplit_2_minleaf_sqrt_features_True_bootstrap_hot.pkl\n"
     ]
    },
    {
     "name": "stderr",
     "output_type": "stream",
     "text": [
      "/work/Exam/DataScienceExam/env/airbnb/lib/python3.10/site-packages/sklearn/base.py:1474: DataConversionWarning: A column-vector y was passed when a 1d array was expected. Please change the shape of y to (n_samples,), for example using ravel().\n",
      "  return fit_method(estimator, *args, **kwargs)\n"
     ]
    },
    {
     "name": "stdout",
     "output_type": "stream",
     "text": [
      "Trained and saved RandomForestRegressor model with parameters {'n_estimators': 25, 'max_depth': None, 'min_samples_split': 10, 'min_samples_leaf': 2, 'max_features': 'log2', 'bootstrap': False} to ../models/rf_25_estimators_None_depth_10_minsplit_2_minleaf_log2_features_False_bootstrap_hot.pkl\n"
     ]
    },
    {
     "name": "stderr",
     "output_type": "stream",
     "text": [
      "/work/Exam/DataScienceExam/env/airbnb/lib/python3.10/site-packages/sklearn/base.py:1474: DataConversionWarning: A column-vector y was passed when a 1d array was expected. Please change the shape of y to (n_samples,), for example using ravel().\n",
      "  return fit_method(estimator, *args, **kwargs)\n"
     ]
    },
    {
     "name": "stdout",
     "output_type": "stream",
     "text": [
      "Trained and saved RandomForestRegressor model with parameters {'n_estimators': 25, 'max_depth': None, 'min_samples_split': 10, 'min_samples_leaf': 2, 'max_features': 'log2', 'bootstrap': True} to ../models/rf_25_estimators_None_depth_10_minsplit_2_minleaf_log2_features_True_bootstrap_hot.pkl\n"
     ]
    },
    {
     "name": "stderr",
     "output_type": "stream",
     "text": [
      "/work/Exam/DataScienceExam/env/airbnb/lib/python3.10/site-packages/sklearn/base.py:1474: DataConversionWarning: A column-vector y was passed when a 1d array was expected. Please change the shape of y to (n_samples,), for example using ravel().\n",
      "  return fit_method(estimator, *args, **kwargs)\n"
     ]
    },
    {
     "name": "stdout",
     "output_type": "stream",
     "text": [
      "Trained and saved RandomForestRegressor model with parameters {'n_estimators': 25, 'max_depth': None, 'min_samples_split': 10, 'min_samples_leaf': 5, 'max_features': 'sqrt', 'bootstrap': False} to ../models/rf_25_estimators_None_depth_10_minsplit_5_minleaf_sqrt_features_False_bootstrap_hot.pkl\n"
     ]
    },
    {
     "name": "stderr",
     "output_type": "stream",
     "text": [
      "/work/Exam/DataScienceExam/env/airbnb/lib/python3.10/site-packages/sklearn/base.py:1474: DataConversionWarning: A column-vector y was passed when a 1d array was expected. Please change the shape of y to (n_samples,), for example using ravel().\n",
      "  return fit_method(estimator, *args, **kwargs)\n"
     ]
    },
    {
     "name": "stdout",
     "output_type": "stream",
     "text": [
      "Trained and saved RandomForestRegressor model with parameters {'n_estimators': 25, 'max_depth': None, 'min_samples_split': 10, 'min_samples_leaf': 5, 'max_features': 'sqrt', 'bootstrap': True} to ../models/rf_25_estimators_None_depth_10_minsplit_5_minleaf_sqrt_features_True_bootstrap_hot.pkl\n"
     ]
    },
    {
     "name": "stderr",
     "output_type": "stream",
     "text": [
      "/work/Exam/DataScienceExam/env/airbnb/lib/python3.10/site-packages/sklearn/base.py:1474: DataConversionWarning: A column-vector y was passed when a 1d array was expected. Please change the shape of y to (n_samples,), for example using ravel().\n",
      "  return fit_method(estimator, *args, **kwargs)\n"
     ]
    },
    {
     "name": "stdout",
     "output_type": "stream",
     "text": [
      "Trained and saved RandomForestRegressor model with parameters {'n_estimators': 25, 'max_depth': None, 'min_samples_split': 10, 'min_samples_leaf': 5, 'max_features': 'log2', 'bootstrap': False} to ../models/rf_25_estimators_None_depth_10_minsplit_5_minleaf_log2_features_False_bootstrap_hot.pkl\n"
     ]
    },
    {
     "name": "stderr",
     "output_type": "stream",
     "text": [
      "/work/Exam/DataScienceExam/env/airbnb/lib/python3.10/site-packages/sklearn/base.py:1474: DataConversionWarning: A column-vector y was passed when a 1d array was expected. Please change the shape of y to (n_samples,), for example using ravel().\n",
      "  return fit_method(estimator, *args, **kwargs)\n"
     ]
    },
    {
     "name": "stdout",
     "output_type": "stream",
     "text": [
      "Trained and saved RandomForestRegressor model with parameters {'n_estimators': 25, 'max_depth': None, 'min_samples_split': 10, 'min_samples_leaf': 5, 'max_features': 'log2', 'bootstrap': True} to ../models/rf_25_estimators_None_depth_10_minsplit_5_minleaf_log2_features_True_bootstrap_hot.pkl\n"
     ]
    },
    {
     "name": "stderr",
     "output_type": "stream",
     "text": [
      "/work/Exam/DataScienceExam/env/airbnb/lib/python3.10/site-packages/sklearn/base.py:1474: DataConversionWarning: A column-vector y was passed when a 1d array was expected. Please change the shape of y to (n_samples,), for example using ravel().\n",
      "  return fit_method(estimator, *args, **kwargs)\n"
     ]
    },
    {
     "name": "stdout",
     "output_type": "stream",
     "text": [
      "Trained and saved RandomForestRegressor model with parameters {'n_estimators': 25, 'max_depth': None, 'min_samples_split': 15, 'min_samples_leaf': 1, 'max_features': 'sqrt', 'bootstrap': False} to ../models/rf_25_estimators_None_depth_15_minsplit_1_minleaf_sqrt_features_False_bootstrap_hot.pkl\n"
     ]
    },
    {
     "name": "stderr",
     "output_type": "stream",
     "text": [
      "/work/Exam/DataScienceExam/env/airbnb/lib/python3.10/site-packages/sklearn/base.py:1474: DataConversionWarning: A column-vector y was passed when a 1d array was expected. Please change the shape of y to (n_samples,), for example using ravel().\n",
      "  return fit_method(estimator, *args, **kwargs)\n"
     ]
    },
    {
     "name": "stdout",
     "output_type": "stream",
     "text": [
      "Trained and saved RandomForestRegressor model with parameters {'n_estimators': 25, 'max_depth': None, 'min_samples_split': 15, 'min_samples_leaf': 1, 'max_features': 'sqrt', 'bootstrap': True} to ../models/rf_25_estimators_None_depth_15_minsplit_1_minleaf_sqrt_features_True_bootstrap_hot.pkl\n"
     ]
    },
    {
     "name": "stderr",
     "output_type": "stream",
     "text": [
      "/work/Exam/DataScienceExam/env/airbnb/lib/python3.10/site-packages/sklearn/base.py:1474: DataConversionWarning: A column-vector y was passed when a 1d array was expected. Please change the shape of y to (n_samples,), for example using ravel().\n",
      "  return fit_method(estimator, *args, **kwargs)\n"
     ]
    },
    {
     "name": "stdout",
     "output_type": "stream",
     "text": [
      "Trained and saved RandomForestRegressor model with parameters {'n_estimators': 25, 'max_depth': None, 'min_samples_split': 15, 'min_samples_leaf': 1, 'max_features': 'log2', 'bootstrap': False} to ../models/rf_25_estimators_None_depth_15_minsplit_1_minleaf_log2_features_False_bootstrap_hot.pkl\n"
     ]
    },
    {
     "name": "stderr",
     "output_type": "stream",
     "text": [
      "/work/Exam/DataScienceExam/env/airbnb/lib/python3.10/site-packages/sklearn/base.py:1474: DataConversionWarning: A column-vector y was passed when a 1d array was expected. Please change the shape of y to (n_samples,), for example using ravel().\n",
      "  return fit_method(estimator, *args, **kwargs)\n"
     ]
    },
    {
     "name": "stdout",
     "output_type": "stream",
     "text": [
      "Trained and saved RandomForestRegressor model with parameters {'n_estimators': 25, 'max_depth': None, 'min_samples_split': 15, 'min_samples_leaf': 1, 'max_features': 'log2', 'bootstrap': True} to ../models/rf_25_estimators_None_depth_15_minsplit_1_minleaf_log2_features_True_bootstrap_hot.pkl\n"
     ]
    },
    {
     "name": "stderr",
     "output_type": "stream",
     "text": [
      "/work/Exam/DataScienceExam/env/airbnb/lib/python3.10/site-packages/sklearn/base.py:1474: DataConversionWarning: A column-vector y was passed when a 1d array was expected. Please change the shape of y to (n_samples,), for example using ravel().\n",
      "  return fit_method(estimator, *args, **kwargs)\n"
     ]
    },
    {
     "name": "stdout",
     "output_type": "stream",
     "text": [
      "Trained and saved RandomForestRegressor model with parameters {'n_estimators': 25, 'max_depth': None, 'min_samples_split': 15, 'min_samples_leaf': 2, 'max_features': 'sqrt', 'bootstrap': False} to ../models/rf_25_estimators_None_depth_15_minsplit_2_minleaf_sqrt_features_False_bootstrap_hot.pkl\n"
     ]
    },
    {
     "name": "stderr",
     "output_type": "stream",
     "text": [
      "/work/Exam/DataScienceExam/env/airbnb/lib/python3.10/site-packages/sklearn/base.py:1474: DataConversionWarning: A column-vector y was passed when a 1d array was expected. Please change the shape of y to (n_samples,), for example using ravel().\n",
      "  return fit_method(estimator, *args, **kwargs)\n"
     ]
    },
    {
     "name": "stdout",
     "output_type": "stream",
     "text": [
      "Trained and saved RandomForestRegressor model with parameters {'n_estimators': 25, 'max_depth': None, 'min_samples_split': 15, 'min_samples_leaf': 2, 'max_features': 'sqrt', 'bootstrap': True} to ../models/rf_25_estimators_None_depth_15_minsplit_2_minleaf_sqrt_features_True_bootstrap_hot.pkl\n"
     ]
    },
    {
     "name": "stderr",
     "output_type": "stream",
     "text": [
      "/work/Exam/DataScienceExam/env/airbnb/lib/python3.10/site-packages/sklearn/base.py:1474: DataConversionWarning: A column-vector y was passed when a 1d array was expected. Please change the shape of y to (n_samples,), for example using ravel().\n",
      "  return fit_method(estimator, *args, **kwargs)\n"
     ]
    },
    {
     "name": "stdout",
     "output_type": "stream",
     "text": [
      "Trained and saved RandomForestRegressor model with parameters {'n_estimators': 25, 'max_depth': None, 'min_samples_split': 15, 'min_samples_leaf': 2, 'max_features': 'log2', 'bootstrap': False} to ../models/rf_25_estimators_None_depth_15_minsplit_2_minleaf_log2_features_False_bootstrap_hot.pkl\n"
     ]
    },
    {
     "name": "stderr",
     "output_type": "stream",
     "text": [
      "/work/Exam/DataScienceExam/env/airbnb/lib/python3.10/site-packages/sklearn/base.py:1474: DataConversionWarning: A column-vector y was passed when a 1d array was expected. Please change the shape of y to (n_samples,), for example using ravel().\n",
      "  return fit_method(estimator, *args, **kwargs)\n"
     ]
    },
    {
     "name": "stdout",
     "output_type": "stream",
     "text": [
      "Trained and saved RandomForestRegressor model with parameters {'n_estimators': 25, 'max_depth': None, 'min_samples_split': 15, 'min_samples_leaf': 2, 'max_features': 'log2', 'bootstrap': True} to ../models/rf_25_estimators_None_depth_15_minsplit_2_minleaf_log2_features_True_bootstrap_hot.pkl\n"
     ]
    },
    {
     "name": "stderr",
     "output_type": "stream",
     "text": [
      "/work/Exam/DataScienceExam/env/airbnb/lib/python3.10/site-packages/sklearn/base.py:1474: DataConversionWarning: A column-vector y was passed when a 1d array was expected. Please change the shape of y to (n_samples,), for example using ravel().\n",
      "  return fit_method(estimator, *args, **kwargs)\n"
     ]
    },
    {
     "name": "stdout",
     "output_type": "stream",
     "text": [
      "Trained and saved RandomForestRegressor model with parameters {'n_estimators': 25, 'max_depth': None, 'min_samples_split': 15, 'min_samples_leaf': 5, 'max_features': 'sqrt', 'bootstrap': False} to ../models/rf_25_estimators_None_depth_15_minsplit_5_minleaf_sqrt_features_False_bootstrap_hot.pkl\n"
     ]
    },
    {
     "name": "stderr",
     "output_type": "stream",
     "text": [
      "/work/Exam/DataScienceExam/env/airbnb/lib/python3.10/site-packages/sklearn/base.py:1474: DataConversionWarning: A column-vector y was passed when a 1d array was expected. Please change the shape of y to (n_samples,), for example using ravel().\n",
      "  return fit_method(estimator, *args, **kwargs)\n"
     ]
    },
    {
     "name": "stdout",
     "output_type": "stream",
     "text": [
      "Trained and saved RandomForestRegressor model with parameters {'n_estimators': 25, 'max_depth': None, 'min_samples_split': 15, 'min_samples_leaf': 5, 'max_features': 'sqrt', 'bootstrap': True} to ../models/rf_25_estimators_None_depth_15_minsplit_5_minleaf_sqrt_features_True_bootstrap_hot.pkl\n"
     ]
    },
    {
     "name": "stderr",
     "output_type": "stream",
     "text": [
      "/work/Exam/DataScienceExam/env/airbnb/lib/python3.10/site-packages/sklearn/base.py:1474: DataConversionWarning: A column-vector y was passed when a 1d array was expected. Please change the shape of y to (n_samples,), for example using ravel().\n",
      "  return fit_method(estimator, *args, **kwargs)\n"
     ]
    },
    {
     "name": "stdout",
     "output_type": "stream",
     "text": [
      "Trained and saved RandomForestRegressor model with parameters {'n_estimators': 25, 'max_depth': None, 'min_samples_split': 15, 'min_samples_leaf': 5, 'max_features': 'log2', 'bootstrap': False} to ../models/rf_25_estimators_None_depth_15_minsplit_5_minleaf_log2_features_False_bootstrap_hot.pkl\n"
     ]
    },
    {
     "name": "stderr",
     "output_type": "stream",
     "text": [
      "/work/Exam/DataScienceExam/env/airbnb/lib/python3.10/site-packages/sklearn/base.py:1474: DataConversionWarning: A column-vector y was passed when a 1d array was expected. Please change the shape of y to (n_samples,), for example using ravel().\n",
      "  return fit_method(estimator, *args, **kwargs)\n"
     ]
    },
    {
     "name": "stdout",
     "output_type": "stream",
     "text": [
      "Trained and saved RandomForestRegressor model with parameters {'n_estimators': 25, 'max_depth': None, 'min_samples_split': 15, 'min_samples_leaf': 5, 'max_features': 'log2', 'bootstrap': True} to ../models/rf_25_estimators_None_depth_15_minsplit_5_minleaf_log2_features_True_bootstrap_hot.pkl\n"
     ]
    },
    {
     "name": "stderr",
     "output_type": "stream",
     "text": [
      "/work/Exam/DataScienceExam/env/airbnb/lib/python3.10/site-packages/sklearn/base.py:1474: DataConversionWarning: A column-vector y was passed when a 1d array was expected. Please change the shape of y to (n_samples,), for example using ravel().\n",
      "  return fit_method(estimator, *args, **kwargs)\n"
     ]
    },
    {
     "name": "stdout",
     "output_type": "stream",
     "text": [
      "Trained and saved RandomForestRegressor model with parameters {'n_estimators': 25, 'max_depth': 20, 'min_samples_split': 5, 'min_samples_leaf': 1, 'max_features': 'sqrt', 'bootstrap': False} to ../models/rf_25_estimators_20_depth_5_minsplit_1_minleaf_sqrt_features_False_bootstrap_hot.pkl\n"
     ]
    },
    {
     "name": "stderr",
     "output_type": "stream",
     "text": [
      "/work/Exam/DataScienceExam/env/airbnb/lib/python3.10/site-packages/sklearn/base.py:1474: DataConversionWarning: A column-vector y was passed when a 1d array was expected. Please change the shape of y to (n_samples,), for example using ravel().\n",
      "  return fit_method(estimator, *args, **kwargs)\n"
     ]
    },
    {
     "name": "stdout",
     "output_type": "stream",
     "text": [
      "Trained and saved RandomForestRegressor model with parameters {'n_estimators': 25, 'max_depth': 20, 'min_samples_split': 5, 'min_samples_leaf': 1, 'max_features': 'sqrt', 'bootstrap': True} to ../models/rf_25_estimators_20_depth_5_minsplit_1_minleaf_sqrt_features_True_bootstrap_hot.pkl\n"
     ]
    },
    {
     "name": "stderr",
     "output_type": "stream",
     "text": [
      "/work/Exam/DataScienceExam/env/airbnb/lib/python3.10/site-packages/sklearn/base.py:1474: DataConversionWarning: A column-vector y was passed when a 1d array was expected. Please change the shape of y to (n_samples,), for example using ravel().\n",
      "  return fit_method(estimator, *args, **kwargs)\n"
     ]
    },
    {
     "name": "stdout",
     "output_type": "stream",
     "text": [
      "Trained and saved RandomForestRegressor model with parameters {'n_estimators': 25, 'max_depth': 20, 'min_samples_split': 5, 'min_samples_leaf': 1, 'max_features': 'log2', 'bootstrap': False} to ../models/rf_25_estimators_20_depth_5_minsplit_1_minleaf_log2_features_False_bootstrap_hot.pkl\n"
     ]
    },
    {
     "name": "stderr",
     "output_type": "stream",
     "text": [
      "/work/Exam/DataScienceExam/env/airbnb/lib/python3.10/site-packages/sklearn/base.py:1474: DataConversionWarning: A column-vector y was passed when a 1d array was expected. Please change the shape of y to (n_samples,), for example using ravel().\n",
      "  return fit_method(estimator, *args, **kwargs)\n"
     ]
    },
    {
     "name": "stdout",
     "output_type": "stream",
     "text": [
      "Trained and saved RandomForestRegressor model with parameters {'n_estimators': 25, 'max_depth': 20, 'min_samples_split': 5, 'min_samples_leaf': 1, 'max_features': 'log2', 'bootstrap': True} to ../models/rf_25_estimators_20_depth_5_minsplit_1_minleaf_log2_features_True_bootstrap_hot.pkl\n"
     ]
    },
    {
     "name": "stderr",
     "output_type": "stream",
     "text": [
      "/work/Exam/DataScienceExam/env/airbnb/lib/python3.10/site-packages/sklearn/base.py:1474: DataConversionWarning: A column-vector y was passed when a 1d array was expected. Please change the shape of y to (n_samples,), for example using ravel().\n",
      "  return fit_method(estimator, *args, **kwargs)\n"
     ]
    },
    {
     "name": "stdout",
     "output_type": "stream",
     "text": [
      "Trained and saved RandomForestRegressor model with parameters {'n_estimators': 25, 'max_depth': 20, 'min_samples_split': 5, 'min_samples_leaf': 2, 'max_features': 'sqrt', 'bootstrap': False} to ../models/rf_25_estimators_20_depth_5_minsplit_2_minleaf_sqrt_features_False_bootstrap_hot.pkl\n"
     ]
    },
    {
     "name": "stderr",
     "output_type": "stream",
     "text": [
      "/work/Exam/DataScienceExam/env/airbnb/lib/python3.10/site-packages/sklearn/base.py:1474: DataConversionWarning: A column-vector y was passed when a 1d array was expected. Please change the shape of y to (n_samples,), for example using ravel().\n",
      "  return fit_method(estimator, *args, **kwargs)\n"
     ]
    },
    {
     "name": "stdout",
     "output_type": "stream",
     "text": [
      "Trained and saved RandomForestRegressor model with parameters {'n_estimators': 25, 'max_depth': 20, 'min_samples_split': 5, 'min_samples_leaf': 2, 'max_features': 'sqrt', 'bootstrap': True} to ../models/rf_25_estimators_20_depth_5_minsplit_2_minleaf_sqrt_features_True_bootstrap_hot.pkl\n"
     ]
    },
    {
     "name": "stderr",
     "output_type": "stream",
     "text": [
      "/work/Exam/DataScienceExam/env/airbnb/lib/python3.10/site-packages/sklearn/base.py:1474: DataConversionWarning: A column-vector y was passed when a 1d array was expected. Please change the shape of y to (n_samples,), for example using ravel().\n",
      "  return fit_method(estimator, *args, **kwargs)\n"
     ]
    },
    {
     "name": "stdout",
     "output_type": "stream",
     "text": [
      "Trained and saved RandomForestRegressor model with parameters {'n_estimators': 25, 'max_depth': 20, 'min_samples_split': 5, 'min_samples_leaf': 2, 'max_features': 'log2', 'bootstrap': False} to ../models/rf_25_estimators_20_depth_5_minsplit_2_minleaf_log2_features_False_bootstrap_hot.pkl\n"
     ]
    },
    {
     "name": "stderr",
     "output_type": "stream",
     "text": [
      "/work/Exam/DataScienceExam/env/airbnb/lib/python3.10/site-packages/sklearn/base.py:1474: DataConversionWarning: A column-vector y was passed when a 1d array was expected. Please change the shape of y to (n_samples,), for example using ravel().\n",
      "  return fit_method(estimator, *args, **kwargs)\n"
     ]
    },
    {
     "name": "stdout",
     "output_type": "stream",
     "text": [
      "Trained and saved RandomForestRegressor model with parameters {'n_estimators': 25, 'max_depth': 20, 'min_samples_split': 5, 'min_samples_leaf': 2, 'max_features': 'log2', 'bootstrap': True} to ../models/rf_25_estimators_20_depth_5_minsplit_2_minleaf_log2_features_True_bootstrap_hot.pkl\n"
     ]
    },
    {
     "name": "stderr",
     "output_type": "stream",
     "text": [
      "/work/Exam/DataScienceExam/env/airbnb/lib/python3.10/site-packages/sklearn/base.py:1474: DataConversionWarning: A column-vector y was passed when a 1d array was expected. Please change the shape of y to (n_samples,), for example using ravel().\n",
      "  return fit_method(estimator, *args, **kwargs)\n"
     ]
    },
    {
     "name": "stdout",
     "output_type": "stream",
     "text": [
      "Trained and saved RandomForestRegressor model with parameters {'n_estimators': 25, 'max_depth': 20, 'min_samples_split': 5, 'min_samples_leaf': 5, 'max_features': 'sqrt', 'bootstrap': False} to ../models/rf_25_estimators_20_depth_5_minsplit_5_minleaf_sqrt_features_False_bootstrap_hot.pkl\n"
     ]
    },
    {
     "name": "stderr",
     "output_type": "stream",
     "text": [
      "/work/Exam/DataScienceExam/env/airbnb/lib/python3.10/site-packages/sklearn/base.py:1474: DataConversionWarning: A column-vector y was passed when a 1d array was expected. Please change the shape of y to (n_samples,), for example using ravel().\n",
      "  return fit_method(estimator, *args, **kwargs)\n"
     ]
    },
    {
     "name": "stdout",
     "output_type": "stream",
     "text": [
      "Trained and saved RandomForestRegressor model with parameters {'n_estimators': 25, 'max_depth': 20, 'min_samples_split': 5, 'min_samples_leaf': 5, 'max_features': 'sqrt', 'bootstrap': True} to ../models/rf_25_estimators_20_depth_5_minsplit_5_minleaf_sqrt_features_True_bootstrap_hot.pkl\n"
     ]
    },
    {
     "name": "stderr",
     "output_type": "stream",
     "text": [
      "/work/Exam/DataScienceExam/env/airbnb/lib/python3.10/site-packages/sklearn/base.py:1474: DataConversionWarning: A column-vector y was passed when a 1d array was expected. Please change the shape of y to (n_samples,), for example using ravel().\n",
      "  return fit_method(estimator, *args, **kwargs)\n"
     ]
    },
    {
     "name": "stdout",
     "output_type": "stream",
     "text": [
      "Trained and saved RandomForestRegressor model with parameters {'n_estimators': 25, 'max_depth': 20, 'min_samples_split': 5, 'min_samples_leaf': 5, 'max_features': 'log2', 'bootstrap': False} to ../models/rf_25_estimators_20_depth_5_minsplit_5_minleaf_log2_features_False_bootstrap_hot.pkl\n"
     ]
    },
    {
     "name": "stderr",
     "output_type": "stream",
     "text": [
      "/work/Exam/DataScienceExam/env/airbnb/lib/python3.10/site-packages/sklearn/base.py:1474: DataConversionWarning: A column-vector y was passed when a 1d array was expected. Please change the shape of y to (n_samples,), for example using ravel().\n",
      "  return fit_method(estimator, *args, **kwargs)\n"
     ]
    },
    {
     "name": "stdout",
     "output_type": "stream",
     "text": [
      "Trained and saved RandomForestRegressor model with parameters {'n_estimators': 25, 'max_depth': 20, 'min_samples_split': 5, 'min_samples_leaf': 5, 'max_features': 'log2', 'bootstrap': True} to ../models/rf_25_estimators_20_depth_5_minsplit_5_minleaf_log2_features_True_bootstrap_hot.pkl\n"
     ]
    },
    {
     "name": "stderr",
     "output_type": "stream",
     "text": [
      "/work/Exam/DataScienceExam/env/airbnb/lib/python3.10/site-packages/sklearn/base.py:1474: DataConversionWarning: A column-vector y was passed when a 1d array was expected. Please change the shape of y to (n_samples,), for example using ravel().\n",
      "  return fit_method(estimator, *args, **kwargs)\n"
     ]
    },
    {
     "name": "stdout",
     "output_type": "stream",
     "text": [
      "Trained and saved RandomForestRegressor model with parameters {'n_estimators': 25, 'max_depth': 20, 'min_samples_split': 10, 'min_samples_leaf': 1, 'max_features': 'sqrt', 'bootstrap': False} to ../models/rf_25_estimators_20_depth_10_minsplit_1_minleaf_sqrt_features_False_bootstrap_hot.pkl\n"
     ]
    },
    {
     "name": "stderr",
     "output_type": "stream",
     "text": [
      "/work/Exam/DataScienceExam/env/airbnb/lib/python3.10/site-packages/sklearn/base.py:1474: DataConversionWarning: A column-vector y was passed when a 1d array was expected. Please change the shape of y to (n_samples,), for example using ravel().\n",
      "  return fit_method(estimator, *args, **kwargs)\n"
     ]
    },
    {
     "name": "stdout",
     "output_type": "stream",
     "text": [
      "Trained and saved RandomForestRegressor model with parameters {'n_estimators': 25, 'max_depth': 20, 'min_samples_split': 10, 'min_samples_leaf': 1, 'max_features': 'sqrt', 'bootstrap': True} to ../models/rf_25_estimators_20_depth_10_minsplit_1_minleaf_sqrt_features_True_bootstrap_hot.pkl\n"
     ]
    },
    {
     "name": "stderr",
     "output_type": "stream",
     "text": [
      "/work/Exam/DataScienceExam/env/airbnb/lib/python3.10/site-packages/sklearn/base.py:1474: DataConversionWarning: A column-vector y was passed when a 1d array was expected. Please change the shape of y to (n_samples,), for example using ravel().\n",
      "  return fit_method(estimator, *args, **kwargs)\n"
     ]
    },
    {
     "name": "stdout",
     "output_type": "stream",
     "text": [
      "Trained and saved RandomForestRegressor model with parameters {'n_estimators': 25, 'max_depth': 20, 'min_samples_split': 10, 'min_samples_leaf': 1, 'max_features': 'log2', 'bootstrap': False} to ../models/rf_25_estimators_20_depth_10_minsplit_1_minleaf_log2_features_False_bootstrap_hot.pkl\n"
     ]
    },
    {
     "name": "stderr",
     "output_type": "stream",
     "text": [
      "/work/Exam/DataScienceExam/env/airbnb/lib/python3.10/site-packages/sklearn/base.py:1474: DataConversionWarning: A column-vector y was passed when a 1d array was expected. Please change the shape of y to (n_samples,), for example using ravel().\n",
      "  return fit_method(estimator, *args, **kwargs)\n"
     ]
    },
    {
     "name": "stdout",
     "output_type": "stream",
     "text": [
      "Trained and saved RandomForestRegressor model with parameters {'n_estimators': 25, 'max_depth': 20, 'min_samples_split': 10, 'min_samples_leaf': 1, 'max_features': 'log2', 'bootstrap': True} to ../models/rf_25_estimators_20_depth_10_minsplit_1_minleaf_log2_features_True_bootstrap_hot.pkl\n"
     ]
    },
    {
     "name": "stderr",
     "output_type": "stream",
     "text": [
      "/work/Exam/DataScienceExam/env/airbnb/lib/python3.10/site-packages/sklearn/base.py:1474: DataConversionWarning: A column-vector y was passed when a 1d array was expected. Please change the shape of y to (n_samples,), for example using ravel().\n",
      "  return fit_method(estimator, *args, **kwargs)\n"
     ]
    },
    {
     "name": "stdout",
     "output_type": "stream",
     "text": [
      "Trained and saved RandomForestRegressor model with parameters {'n_estimators': 25, 'max_depth': 20, 'min_samples_split': 10, 'min_samples_leaf': 2, 'max_features': 'sqrt', 'bootstrap': False} to ../models/rf_25_estimators_20_depth_10_minsplit_2_minleaf_sqrt_features_False_bootstrap_hot.pkl\n"
     ]
    },
    {
     "name": "stderr",
     "output_type": "stream",
     "text": [
      "/work/Exam/DataScienceExam/env/airbnb/lib/python3.10/site-packages/sklearn/base.py:1474: DataConversionWarning: A column-vector y was passed when a 1d array was expected. Please change the shape of y to (n_samples,), for example using ravel().\n",
      "  return fit_method(estimator, *args, **kwargs)\n"
     ]
    },
    {
     "name": "stdout",
     "output_type": "stream",
     "text": [
      "Trained and saved RandomForestRegressor model with parameters {'n_estimators': 25, 'max_depth': 20, 'min_samples_split': 10, 'min_samples_leaf': 2, 'max_features': 'sqrt', 'bootstrap': True} to ../models/rf_25_estimators_20_depth_10_minsplit_2_minleaf_sqrt_features_True_bootstrap_hot.pkl\n"
     ]
    },
    {
     "name": "stderr",
     "output_type": "stream",
     "text": [
      "/work/Exam/DataScienceExam/env/airbnb/lib/python3.10/site-packages/sklearn/base.py:1474: DataConversionWarning: A column-vector y was passed when a 1d array was expected. Please change the shape of y to (n_samples,), for example using ravel().\n",
      "  return fit_method(estimator, *args, **kwargs)\n"
     ]
    },
    {
     "name": "stdout",
     "output_type": "stream",
     "text": [
      "Trained and saved RandomForestRegressor model with parameters {'n_estimators': 25, 'max_depth': 20, 'min_samples_split': 10, 'min_samples_leaf': 2, 'max_features': 'log2', 'bootstrap': False} to ../models/rf_25_estimators_20_depth_10_minsplit_2_minleaf_log2_features_False_bootstrap_hot.pkl\n"
     ]
    },
    {
     "name": "stderr",
     "output_type": "stream",
     "text": [
      "/work/Exam/DataScienceExam/env/airbnb/lib/python3.10/site-packages/sklearn/base.py:1474: DataConversionWarning: A column-vector y was passed when a 1d array was expected. Please change the shape of y to (n_samples,), for example using ravel().\n",
      "  return fit_method(estimator, *args, **kwargs)\n"
     ]
    },
    {
     "name": "stdout",
     "output_type": "stream",
     "text": [
      "Trained and saved RandomForestRegressor model with parameters {'n_estimators': 25, 'max_depth': 20, 'min_samples_split': 10, 'min_samples_leaf': 2, 'max_features': 'log2', 'bootstrap': True} to ../models/rf_25_estimators_20_depth_10_minsplit_2_minleaf_log2_features_True_bootstrap_hot.pkl\n"
     ]
    },
    {
     "name": "stderr",
     "output_type": "stream",
     "text": [
      "/work/Exam/DataScienceExam/env/airbnb/lib/python3.10/site-packages/sklearn/base.py:1474: DataConversionWarning: A column-vector y was passed when a 1d array was expected. Please change the shape of y to (n_samples,), for example using ravel().\n",
      "  return fit_method(estimator, *args, **kwargs)\n"
     ]
    },
    {
     "name": "stdout",
     "output_type": "stream",
     "text": [
      "Trained and saved RandomForestRegressor model with parameters {'n_estimators': 25, 'max_depth': 20, 'min_samples_split': 10, 'min_samples_leaf': 5, 'max_features': 'sqrt', 'bootstrap': False} to ../models/rf_25_estimators_20_depth_10_minsplit_5_minleaf_sqrt_features_False_bootstrap_hot.pkl\n"
     ]
    },
    {
     "name": "stderr",
     "output_type": "stream",
     "text": [
      "/work/Exam/DataScienceExam/env/airbnb/lib/python3.10/site-packages/sklearn/base.py:1474: DataConversionWarning: A column-vector y was passed when a 1d array was expected. Please change the shape of y to (n_samples,), for example using ravel().\n",
      "  return fit_method(estimator, *args, **kwargs)\n"
     ]
    },
    {
     "name": "stdout",
     "output_type": "stream",
     "text": [
      "Trained and saved RandomForestRegressor model with parameters {'n_estimators': 25, 'max_depth': 20, 'min_samples_split': 10, 'min_samples_leaf': 5, 'max_features': 'sqrt', 'bootstrap': True} to ../models/rf_25_estimators_20_depth_10_minsplit_5_minleaf_sqrt_features_True_bootstrap_hot.pkl\n"
     ]
    },
    {
     "name": "stderr",
     "output_type": "stream",
     "text": [
      "/work/Exam/DataScienceExam/env/airbnb/lib/python3.10/site-packages/sklearn/base.py:1474: DataConversionWarning: A column-vector y was passed when a 1d array was expected. Please change the shape of y to (n_samples,), for example using ravel().\n",
      "  return fit_method(estimator, *args, **kwargs)\n"
     ]
    },
    {
     "name": "stdout",
     "output_type": "stream",
     "text": [
      "Trained and saved RandomForestRegressor model with parameters {'n_estimators': 25, 'max_depth': 20, 'min_samples_split': 10, 'min_samples_leaf': 5, 'max_features': 'log2', 'bootstrap': False} to ../models/rf_25_estimators_20_depth_10_minsplit_5_minleaf_log2_features_False_bootstrap_hot.pkl\n"
     ]
    },
    {
     "name": "stderr",
     "output_type": "stream",
     "text": [
      "/work/Exam/DataScienceExam/env/airbnb/lib/python3.10/site-packages/sklearn/base.py:1474: DataConversionWarning: A column-vector y was passed when a 1d array was expected. Please change the shape of y to (n_samples,), for example using ravel().\n",
      "  return fit_method(estimator, *args, **kwargs)\n"
     ]
    },
    {
     "name": "stdout",
     "output_type": "stream",
     "text": [
      "Trained and saved RandomForestRegressor model with parameters {'n_estimators': 25, 'max_depth': 20, 'min_samples_split': 10, 'min_samples_leaf': 5, 'max_features': 'log2', 'bootstrap': True} to ../models/rf_25_estimators_20_depth_10_minsplit_5_minleaf_log2_features_True_bootstrap_hot.pkl\n"
     ]
    },
    {
     "name": "stderr",
     "output_type": "stream",
     "text": [
      "/work/Exam/DataScienceExam/env/airbnb/lib/python3.10/site-packages/sklearn/base.py:1474: DataConversionWarning: A column-vector y was passed when a 1d array was expected. Please change the shape of y to (n_samples,), for example using ravel().\n",
      "  return fit_method(estimator, *args, **kwargs)\n"
     ]
    },
    {
     "name": "stdout",
     "output_type": "stream",
     "text": [
      "Trained and saved RandomForestRegressor model with parameters {'n_estimators': 25, 'max_depth': 20, 'min_samples_split': 15, 'min_samples_leaf': 1, 'max_features': 'sqrt', 'bootstrap': False} to ../models/rf_25_estimators_20_depth_15_minsplit_1_minleaf_sqrt_features_False_bootstrap_hot.pkl\n"
     ]
    },
    {
     "name": "stderr",
     "output_type": "stream",
     "text": [
      "/work/Exam/DataScienceExam/env/airbnb/lib/python3.10/site-packages/sklearn/base.py:1474: DataConversionWarning: A column-vector y was passed when a 1d array was expected. Please change the shape of y to (n_samples,), for example using ravel().\n",
      "  return fit_method(estimator, *args, **kwargs)\n"
     ]
    },
    {
     "name": "stdout",
     "output_type": "stream",
     "text": [
      "Trained and saved RandomForestRegressor model with parameters {'n_estimators': 25, 'max_depth': 20, 'min_samples_split': 15, 'min_samples_leaf': 1, 'max_features': 'sqrt', 'bootstrap': True} to ../models/rf_25_estimators_20_depth_15_minsplit_1_minleaf_sqrt_features_True_bootstrap_hot.pkl\n"
     ]
    },
    {
     "name": "stderr",
     "output_type": "stream",
     "text": [
      "/work/Exam/DataScienceExam/env/airbnb/lib/python3.10/site-packages/sklearn/base.py:1474: DataConversionWarning: A column-vector y was passed when a 1d array was expected. Please change the shape of y to (n_samples,), for example using ravel().\n",
      "  return fit_method(estimator, *args, **kwargs)\n"
     ]
    },
    {
     "name": "stdout",
     "output_type": "stream",
     "text": [
      "Trained and saved RandomForestRegressor model with parameters {'n_estimators': 25, 'max_depth': 20, 'min_samples_split': 15, 'min_samples_leaf': 1, 'max_features': 'log2', 'bootstrap': False} to ../models/rf_25_estimators_20_depth_15_minsplit_1_minleaf_log2_features_False_bootstrap_hot.pkl\n"
     ]
    },
    {
     "name": "stderr",
     "output_type": "stream",
     "text": [
      "/work/Exam/DataScienceExam/env/airbnb/lib/python3.10/site-packages/sklearn/base.py:1474: DataConversionWarning: A column-vector y was passed when a 1d array was expected. Please change the shape of y to (n_samples,), for example using ravel().\n",
      "  return fit_method(estimator, *args, **kwargs)\n"
     ]
    },
    {
     "name": "stdout",
     "output_type": "stream",
     "text": [
      "Trained and saved RandomForestRegressor model with parameters {'n_estimators': 25, 'max_depth': 20, 'min_samples_split': 15, 'min_samples_leaf': 1, 'max_features': 'log2', 'bootstrap': True} to ../models/rf_25_estimators_20_depth_15_minsplit_1_minleaf_log2_features_True_bootstrap_hot.pkl\n"
     ]
    },
    {
     "name": "stderr",
     "output_type": "stream",
     "text": [
      "/work/Exam/DataScienceExam/env/airbnb/lib/python3.10/site-packages/sklearn/base.py:1474: DataConversionWarning: A column-vector y was passed when a 1d array was expected. Please change the shape of y to (n_samples,), for example using ravel().\n",
      "  return fit_method(estimator, *args, **kwargs)\n"
     ]
    },
    {
     "name": "stdout",
     "output_type": "stream",
     "text": [
      "Trained and saved RandomForestRegressor model with parameters {'n_estimators': 25, 'max_depth': 20, 'min_samples_split': 15, 'min_samples_leaf': 2, 'max_features': 'sqrt', 'bootstrap': False} to ../models/rf_25_estimators_20_depth_15_minsplit_2_minleaf_sqrt_features_False_bootstrap_hot.pkl\n"
     ]
    },
    {
     "name": "stderr",
     "output_type": "stream",
     "text": [
      "/work/Exam/DataScienceExam/env/airbnb/lib/python3.10/site-packages/sklearn/base.py:1474: DataConversionWarning: A column-vector y was passed when a 1d array was expected. Please change the shape of y to (n_samples,), for example using ravel().\n",
      "  return fit_method(estimator, *args, **kwargs)\n"
     ]
    },
    {
     "name": "stdout",
     "output_type": "stream",
     "text": [
      "Trained and saved RandomForestRegressor model with parameters {'n_estimators': 25, 'max_depth': 20, 'min_samples_split': 15, 'min_samples_leaf': 2, 'max_features': 'sqrt', 'bootstrap': True} to ../models/rf_25_estimators_20_depth_15_minsplit_2_minleaf_sqrt_features_True_bootstrap_hot.pkl\n"
     ]
    },
    {
     "name": "stderr",
     "output_type": "stream",
     "text": [
      "/work/Exam/DataScienceExam/env/airbnb/lib/python3.10/site-packages/sklearn/base.py:1474: DataConversionWarning: A column-vector y was passed when a 1d array was expected. Please change the shape of y to (n_samples,), for example using ravel().\n",
      "  return fit_method(estimator, *args, **kwargs)\n"
     ]
    },
    {
     "name": "stdout",
     "output_type": "stream",
     "text": [
      "Trained and saved RandomForestRegressor model with parameters {'n_estimators': 25, 'max_depth': 20, 'min_samples_split': 15, 'min_samples_leaf': 2, 'max_features': 'log2', 'bootstrap': False} to ../models/rf_25_estimators_20_depth_15_minsplit_2_minleaf_log2_features_False_bootstrap_hot.pkl\n"
     ]
    },
    {
     "name": "stderr",
     "output_type": "stream",
     "text": [
      "/work/Exam/DataScienceExam/env/airbnb/lib/python3.10/site-packages/sklearn/base.py:1474: DataConversionWarning: A column-vector y was passed when a 1d array was expected. Please change the shape of y to (n_samples,), for example using ravel().\n",
      "  return fit_method(estimator, *args, **kwargs)\n"
     ]
    },
    {
     "name": "stdout",
     "output_type": "stream",
     "text": [
      "Trained and saved RandomForestRegressor model with parameters {'n_estimators': 25, 'max_depth': 20, 'min_samples_split': 15, 'min_samples_leaf': 2, 'max_features': 'log2', 'bootstrap': True} to ../models/rf_25_estimators_20_depth_15_minsplit_2_minleaf_log2_features_True_bootstrap_hot.pkl\n"
     ]
    },
    {
     "name": "stderr",
     "output_type": "stream",
     "text": [
      "/work/Exam/DataScienceExam/env/airbnb/lib/python3.10/site-packages/sklearn/base.py:1474: DataConversionWarning: A column-vector y was passed when a 1d array was expected. Please change the shape of y to (n_samples,), for example using ravel().\n",
      "  return fit_method(estimator, *args, **kwargs)\n"
     ]
    },
    {
     "name": "stdout",
     "output_type": "stream",
     "text": [
      "Trained and saved RandomForestRegressor model with parameters {'n_estimators': 25, 'max_depth': 20, 'min_samples_split': 15, 'min_samples_leaf': 5, 'max_features': 'sqrt', 'bootstrap': False} to ../models/rf_25_estimators_20_depth_15_minsplit_5_minleaf_sqrt_features_False_bootstrap_hot.pkl\n"
     ]
    },
    {
     "name": "stderr",
     "output_type": "stream",
     "text": [
      "/work/Exam/DataScienceExam/env/airbnb/lib/python3.10/site-packages/sklearn/base.py:1474: DataConversionWarning: A column-vector y was passed when a 1d array was expected. Please change the shape of y to (n_samples,), for example using ravel().\n",
      "  return fit_method(estimator, *args, **kwargs)\n"
     ]
    },
    {
     "name": "stdout",
     "output_type": "stream",
     "text": [
      "Trained and saved RandomForestRegressor model with parameters {'n_estimators': 25, 'max_depth': 20, 'min_samples_split': 15, 'min_samples_leaf': 5, 'max_features': 'sqrt', 'bootstrap': True} to ../models/rf_25_estimators_20_depth_15_minsplit_5_minleaf_sqrt_features_True_bootstrap_hot.pkl\n"
     ]
    },
    {
     "name": "stderr",
     "output_type": "stream",
     "text": [
      "/work/Exam/DataScienceExam/env/airbnb/lib/python3.10/site-packages/sklearn/base.py:1474: DataConversionWarning: A column-vector y was passed when a 1d array was expected. Please change the shape of y to (n_samples,), for example using ravel().\n",
      "  return fit_method(estimator, *args, **kwargs)\n"
     ]
    },
    {
     "name": "stdout",
     "output_type": "stream",
     "text": [
      "Trained and saved RandomForestRegressor model with parameters {'n_estimators': 25, 'max_depth': 20, 'min_samples_split': 15, 'min_samples_leaf': 5, 'max_features': 'log2', 'bootstrap': False} to ../models/rf_25_estimators_20_depth_15_minsplit_5_minleaf_log2_features_False_bootstrap_hot.pkl\n"
     ]
    },
    {
     "name": "stderr",
     "output_type": "stream",
     "text": [
      "/work/Exam/DataScienceExam/env/airbnb/lib/python3.10/site-packages/sklearn/base.py:1474: DataConversionWarning: A column-vector y was passed when a 1d array was expected. Please change the shape of y to (n_samples,), for example using ravel().\n",
      "  return fit_method(estimator, *args, **kwargs)\n"
     ]
    },
    {
     "name": "stdout",
     "output_type": "stream",
     "text": [
      "Trained and saved RandomForestRegressor model with parameters {'n_estimators': 25, 'max_depth': 20, 'min_samples_split': 15, 'min_samples_leaf': 5, 'max_features': 'log2', 'bootstrap': True} to ../models/rf_25_estimators_20_depth_15_minsplit_5_minleaf_log2_features_True_bootstrap_hot.pkl\n"
     ]
    },
    {
     "name": "stderr",
     "output_type": "stream",
     "text": [
      "/work/Exam/DataScienceExam/env/airbnb/lib/python3.10/site-packages/sklearn/base.py:1474: DataConversionWarning: A column-vector y was passed when a 1d array was expected. Please change the shape of y to (n_samples,), for example using ravel().\n",
      "  return fit_method(estimator, *args, **kwargs)\n"
     ]
    },
    {
     "name": "stdout",
     "output_type": "stream",
     "text": [
      "Trained and saved RandomForestRegressor model with parameters {'n_estimators': 25, 'max_depth': 30, 'min_samples_split': 5, 'min_samples_leaf': 1, 'max_features': 'sqrt', 'bootstrap': False} to ../models/rf_25_estimators_30_depth_5_minsplit_1_minleaf_sqrt_features_False_bootstrap_hot.pkl\n"
     ]
    },
    {
     "name": "stderr",
     "output_type": "stream",
     "text": [
      "/work/Exam/DataScienceExam/env/airbnb/lib/python3.10/site-packages/sklearn/base.py:1474: DataConversionWarning: A column-vector y was passed when a 1d array was expected. Please change the shape of y to (n_samples,), for example using ravel().\n",
      "  return fit_method(estimator, *args, **kwargs)\n"
     ]
    },
    {
     "name": "stdout",
     "output_type": "stream",
     "text": [
      "Trained and saved RandomForestRegressor model with parameters {'n_estimators': 25, 'max_depth': 30, 'min_samples_split': 5, 'min_samples_leaf': 1, 'max_features': 'sqrt', 'bootstrap': True} to ../models/rf_25_estimators_30_depth_5_minsplit_1_minleaf_sqrt_features_True_bootstrap_hot.pkl\n"
     ]
    },
    {
     "name": "stderr",
     "output_type": "stream",
     "text": [
      "/work/Exam/DataScienceExam/env/airbnb/lib/python3.10/site-packages/sklearn/base.py:1474: DataConversionWarning: A column-vector y was passed when a 1d array was expected. Please change the shape of y to (n_samples,), for example using ravel().\n",
      "  return fit_method(estimator, *args, **kwargs)\n"
     ]
    },
    {
     "name": "stdout",
     "output_type": "stream",
     "text": [
      "Trained and saved RandomForestRegressor model with parameters {'n_estimators': 25, 'max_depth': 30, 'min_samples_split': 5, 'min_samples_leaf': 1, 'max_features': 'log2', 'bootstrap': False} to ../models/rf_25_estimators_30_depth_5_minsplit_1_minleaf_log2_features_False_bootstrap_hot.pkl\n"
     ]
    },
    {
     "name": "stderr",
     "output_type": "stream",
     "text": [
      "/work/Exam/DataScienceExam/env/airbnb/lib/python3.10/site-packages/sklearn/base.py:1474: DataConversionWarning: A column-vector y was passed when a 1d array was expected. Please change the shape of y to (n_samples,), for example using ravel().\n",
      "  return fit_method(estimator, *args, **kwargs)\n"
     ]
    },
    {
     "name": "stdout",
     "output_type": "stream",
     "text": [
      "Trained and saved RandomForestRegressor model with parameters {'n_estimators': 25, 'max_depth': 30, 'min_samples_split': 5, 'min_samples_leaf': 1, 'max_features': 'log2', 'bootstrap': True} to ../models/rf_25_estimators_30_depth_5_minsplit_1_minleaf_log2_features_True_bootstrap_hot.pkl\n"
     ]
    },
    {
     "name": "stderr",
     "output_type": "stream",
     "text": [
      "/work/Exam/DataScienceExam/env/airbnb/lib/python3.10/site-packages/sklearn/base.py:1474: DataConversionWarning: A column-vector y was passed when a 1d array was expected. Please change the shape of y to (n_samples,), for example using ravel().\n",
      "  return fit_method(estimator, *args, **kwargs)\n"
     ]
    },
    {
     "name": "stdout",
     "output_type": "stream",
     "text": [
      "Trained and saved RandomForestRegressor model with parameters {'n_estimators': 25, 'max_depth': 30, 'min_samples_split': 5, 'min_samples_leaf': 2, 'max_features': 'sqrt', 'bootstrap': False} to ../models/rf_25_estimators_30_depth_5_minsplit_2_minleaf_sqrt_features_False_bootstrap_hot.pkl\n"
     ]
    },
    {
     "name": "stderr",
     "output_type": "stream",
     "text": [
      "/work/Exam/DataScienceExam/env/airbnb/lib/python3.10/site-packages/sklearn/base.py:1474: DataConversionWarning: A column-vector y was passed when a 1d array was expected. Please change the shape of y to (n_samples,), for example using ravel().\n",
      "  return fit_method(estimator, *args, **kwargs)\n"
     ]
    },
    {
     "name": "stdout",
     "output_type": "stream",
     "text": [
      "Trained and saved RandomForestRegressor model with parameters {'n_estimators': 25, 'max_depth': 30, 'min_samples_split': 5, 'min_samples_leaf': 2, 'max_features': 'sqrt', 'bootstrap': True} to ../models/rf_25_estimators_30_depth_5_minsplit_2_minleaf_sqrt_features_True_bootstrap_hot.pkl\n"
     ]
    },
    {
     "name": "stderr",
     "output_type": "stream",
     "text": [
      "/work/Exam/DataScienceExam/env/airbnb/lib/python3.10/site-packages/sklearn/base.py:1474: DataConversionWarning: A column-vector y was passed when a 1d array was expected. Please change the shape of y to (n_samples,), for example using ravel().\n",
      "  return fit_method(estimator, *args, **kwargs)\n"
     ]
    },
    {
     "name": "stdout",
     "output_type": "stream",
     "text": [
      "Trained and saved RandomForestRegressor model with parameters {'n_estimators': 25, 'max_depth': 30, 'min_samples_split': 5, 'min_samples_leaf': 2, 'max_features': 'log2', 'bootstrap': False} to ../models/rf_25_estimators_30_depth_5_minsplit_2_minleaf_log2_features_False_bootstrap_hot.pkl\n"
     ]
    },
    {
     "name": "stderr",
     "output_type": "stream",
     "text": [
      "/work/Exam/DataScienceExam/env/airbnb/lib/python3.10/site-packages/sklearn/base.py:1474: DataConversionWarning: A column-vector y was passed when a 1d array was expected. Please change the shape of y to (n_samples,), for example using ravel().\n",
      "  return fit_method(estimator, *args, **kwargs)\n"
     ]
    },
    {
     "name": "stdout",
     "output_type": "stream",
     "text": [
      "Trained and saved RandomForestRegressor model with parameters {'n_estimators': 25, 'max_depth': 30, 'min_samples_split': 5, 'min_samples_leaf': 2, 'max_features': 'log2', 'bootstrap': True} to ../models/rf_25_estimators_30_depth_5_minsplit_2_minleaf_log2_features_True_bootstrap_hot.pkl\n"
     ]
    },
    {
     "name": "stderr",
     "output_type": "stream",
     "text": [
      "/work/Exam/DataScienceExam/env/airbnb/lib/python3.10/site-packages/sklearn/base.py:1474: DataConversionWarning: A column-vector y was passed when a 1d array was expected. Please change the shape of y to (n_samples,), for example using ravel().\n",
      "  return fit_method(estimator, *args, **kwargs)\n"
     ]
    },
    {
     "name": "stdout",
     "output_type": "stream",
     "text": [
      "Trained and saved RandomForestRegressor model with parameters {'n_estimators': 25, 'max_depth': 30, 'min_samples_split': 5, 'min_samples_leaf': 5, 'max_features': 'sqrt', 'bootstrap': False} to ../models/rf_25_estimators_30_depth_5_minsplit_5_minleaf_sqrt_features_False_bootstrap_hot.pkl\n"
     ]
    },
    {
     "name": "stderr",
     "output_type": "stream",
     "text": [
      "/work/Exam/DataScienceExam/env/airbnb/lib/python3.10/site-packages/sklearn/base.py:1474: DataConversionWarning: A column-vector y was passed when a 1d array was expected. Please change the shape of y to (n_samples,), for example using ravel().\n",
      "  return fit_method(estimator, *args, **kwargs)\n"
     ]
    },
    {
     "name": "stdout",
     "output_type": "stream",
     "text": [
      "Trained and saved RandomForestRegressor model with parameters {'n_estimators': 25, 'max_depth': 30, 'min_samples_split': 5, 'min_samples_leaf': 5, 'max_features': 'sqrt', 'bootstrap': True} to ../models/rf_25_estimators_30_depth_5_minsplit_5_minleaf_sqrt_features_True_bootstrap_hot.pkl\n"
     ]
    },
    {
     "name": "stderr",
     "output_type": "stream",
     "text": [
      "/work/Exam/DataScienceExam/env/airbnb/lib/python3.10/site-packages/sklearn/base.py:1474: DataConversionWarning: A column-vector y was passed when a 1d array was expected. Please change the shape of y to (n_samples,), for example using ravel().\n",
      "  return fit_method(estimator, *args, **kwargs)\n"
     ]
    },
    {
     "name": "stdout",
     "output_type": "stream",
     "text": [
      "Trained and saved RandomForestRegressor model with parameters {'n_estimators': 25, 'max_depth': 30, 'min_samples_split': 5, 'min_samples_leaf': 5, 'max_features': 'log2', 'bootstrap': False} to ../models/rf_25_estimators_30_depth_5_minsplit_5_minleaf_log2_features_False_bootstrap_hot.pkl\n"
     ]
    },
    {
     "name": "stderr",
     "output_type": "stream",
     "text": [
      "/work/Exam/DataScienceExam/env/airbnb/lib/python3.10/site-packages/sklearn/base.py:1474: DataConversionWarning: A column-vector y was passed when a 1d array was expected. Please change the shape of y to (n_samples,), for example using ravel().\n",
      "  return fit_method(estimator, *args, **kwargs)\n"
     ]
    },
    {
     "name": "stdout",
     "output_type": "stream",
     "text": [
      "Trained and saved RandomForestRegressor model with parameters {'n_estimators': 25, 'max_depth': 30, 'min_samples_split': 5, 'min_samples_leaf': 5, 'max_features': 'log2', 'bootstrap': True} to ../models/rf_25_estimators_30_depth_5_minsplit_5_minleaf_log2_features_True_bootstrap_hot.pkl\n"
     ]
    },
    {
     "name": "stderr",
     "output_type": "stream",
     "text": [
      "/work/Exam/DataScienceExam/env/airbnb/lib/python3.10/site-packages/sklearn/base.py:1474: DataConversionWarning: A column-vector y was passed when a 1d array was expected. Please change the shape of y to (n_samples,), for example using ravel().\n",
      "  return fit_method(estimator, *args, **kwargs)\n"
     ]
    },
    {
     "name": "stdout",
     "output_type": "stream",
     "text": [
      "Trained and saved RandomForestRegressor model with parameters {'n_estimators': 25, 'max_depth': 30, 'min_samples_split': 10, 'min_samples_leaf': 1, 'max_features': 'sqrt', 'bootstrap': False} to ../models/rf_25_estimators_30_depth_10_minsplit_1_minleaf_sqrt_features_False_bootstrap_hot.pkl\n"
     ]
    },
    {
     "name": "stderr",
     "output_type": "stream",
     "text": [
      "/work/Exam/DataScienceExam/env/airbnb/lib/python3.10/site-packages/sklearn/base.py:1474: DataConversionWarning: A column-vector y was passed when a 1d array was expected. Please change the shape of y to (n_samples,), for example using ravel().\n",
      "  return fit_method(estimator, *args, **kwargs)\n"
     ]
    },
    {
     "name": "stdout",
     "output_type": "stream",
     "text": [
      "Trained and saved RandomForestRegressor model with parameters {'n_estimators': 25, 'max_depth': 30, 'min_samples_split': 10, 'min_samples_leaf': 1, 'max_features': 'sqrt', 'bootstrap': True} to ../models/rf_25_estimators_30_depth_10_minsplit_1_minleaf_sqrt_features_True_bootstrap_hot.pkl\n"
     ]
    },
    {
     "name": "stderr",
     "output_type": "stream",
     "text": [
      "/work/Exam/DataScienceExam/env/airbnb/lib/python3.10/site-packages/sklearn/base.py:1474: DataConversionWarning: A column-vector y was passed when a 1d array was expected. Please change the shape of y to (n_samples,), for example using ravel().\n",
      "  return fit_method(estimator, *args, **kwargs)\n"
     ]
    },
    {
     "name": "stdout",
     "output_type": "stream",
     "text": [
      "Trained and saved RandomForestRegressor model with parameters {'n_estimators': 25, 'max_depth': 30, 'min_samples_split': 10, 'min_samples_leaf': 1, 'max_features': 'log2', 'bootstrap': False} to ../models/rf_25_estimators_30_depth_10_minsplit_1_minleaf_log2_features_False_bootstrap_hot.pkl\n"
     ]
    },
    {
     "name": "stderr",
     "output_type": "stream",
     "text": [
      "/work/Exam/DataScienceExam/env/airbnb/lib/python3.10/site-packages/sklearn/base.py:1474: DataConversionWarning: A column-vector y was passed when a 1d array was expected. Please change the shape of y to (n_samples,), for example using ravel().\n",
      "  return fit_method(estimator, *args, **kwargs)\n"
     ]
    },
    {
     "name": "stdout",
     "output_type": "stream",
     "text": [
      "Trained and saved RandomForestRegressor model with parameters {'n_estimators': 25, 'max_depth': 30, 'min_samples_split': 10, 'min_samples_leaf': 1, 'max_features': 'log2', 'bootstrap': True} to ../models/rf_25_estimators_30_depth_10_minsplit_1_minleaf_log2_features_True_bootstrap_hot.pkl\n"
     ]
    },
    {
     "name": "stderr",
     "output_type": "stream",
     "text": [
      "/work/Exam/DataScienceExam/env/airbnb/lib/python3.10/site-packages/sklearn/base.py:1474: DataConversionWarning: A column-vector y was passed when a 1d array was expected. Please change the shape of y to (n_samples,), for example using ravel().\n",
      "  return fit_method(estimator, *args, **kwargs)\n"
     ]
    },
    {
     "name": "stdout",
     "output_type": "stream",
     "text": [
      "Trained and saved RandomForestRegressor model with parameters {'n_estimators': 25, 'max_depth': 30, 'min_samples_split': 10, 'min_samples_leaf': 2, 'max_features': 'sqrt', 'bootstrap': False} to ../models/rf_25_estimators_30_depth_10_minsplit_2_minleaf_sqrt_features_False_bootstrap_hot.pkl\n"
     ]
    },
    {
     "name": "stderr",
     "output_type": "stream",
     "text": [
      "/work/Exam/DataScienceExam/env/airbnb/lib/python3.10/site-packages/sklearn/base.py:1474: DataConversionWarning: A column-vector y was passed when a 1d array was expected. Please change the shape of y to (n_samples,), for example using ravel().\n",
      "  return fit_method(estimator, *args, **kwargs)\n"
     ]
    },
    {
     "name": "stdout",
     "output_type": "stream",
     "text": [
      "Trained and saved RandomForestRegressor model with parameters {'n_estimators': 25, 'max_depth': 30, 'min_samples_split': 10, 'min_samples_leaf': 2, 'max_features': 'sqrt', 'bootstrap': True} to ../models/rf_25_estimators_30_depth_10_minsplit_2_minleaf_sqrt_features_True_bootstrap_hot.pkl\n"
     ]
    },
    {
     "name": "stderr",
     "output_type": "stream",
     "text": [
      "/work/Exam/DataScienceExam/env/airbnb/lib/python3.10/site-packages/sklearn/base.py:1474: DataConversionWarning: A column-vector y was passed when a 1d array was expected. Please change the shape of y to (n_samples,), for example using ravel().\n",
      "  return fit_method(estimator, *args, **kwargs)\n"
     ]
    },
    {
     "name": "stdout",
     "output_type": "stream",
     "text": [
      "Trained and saved RandomForestRegressor model with parameters {'n_estimators': 25, 'max_depth': 30, 'min_samples_split': 10, 'min_samples_leaf': 2, 'max_features': 'log2', 'bootstrap': False} to ../models/rf_25_estimators_30_depth_10_minsplit_2_minleaf_log2_features_False_bootstrap_hot.pkl\n"
     ]
    },
    {
     "name": "stderr",
     "output_type": "stream",
     "text": [
      "/work/Exam/DataScienceExam/env/airbnb/lib/python3.10/site-packages/sklearn/base.py:1474: DataConversionWarning: A column-vector y was passed when a 1d array was expected. Please change the shape of y to (n_samples,), for example using ravel().\n",
      "  return fit_method(estimator, *args, **kwargs)\n"
     ]
    },
    {
     "name": "stdout",
     "output_type": "stream",
     "text": [
      "Trained and saved RandomForestRegressor model with parameters {'n_estimators': 25, 'max_depth': 30, 'min_samples_split': 10, 'min_samples_leaf': 2, 'max_features': 'log2', 'bootstrap': True} to ../models/rf_25_estimators_30_depth_10_minsplit_2_minleaf_log2_features_True_bootstrap_hot.pkl\n"
     ]
    },
    {
     "name": "stderr",
     "output_type": "stream",
     "text": [
      "/work/Exam/DataScienceExam/env/airbnb/lib/python3.10/site-packages/sklearn/base.py:1474: DataConversionWarning: A column-vector y was passed when a 1d array was expected. Please change the shape of y to (n_samples,), for example using ravel().\n",
      "  return fit_method(estimator, *args, **kwargs)\n"
     ]
    },
    {
     "name": "stdout",
     "output_type": "stream",
     "text": [
      "Trained and saved RandomForestRegressor model with parameters {'n_estimators': 25, 'max_depth': 30, 'min_samples_split': 10, 'min_samples_leaf': 5, 'max_features': 'sqrt', 'bootstrap': False} to ../models/rf_25_estimators_30_depth_10_minsplit_5_minleaf_sqrt_features_False_bootstrap_hot.pkl\n"
     ]
    },
    {
     "name": "stderr",
     "output_type": "stream",
     "text": [
      "/work/Exam/DataScienceExam/env/airbnb/lib/python3.10/site-packages/sklearn/base.py:1474: DataConversionWarning: A column-vector y was passed when a 1d array was expected. Please change the shape of y to (n_samples,), for example using ravel().\n",
      "  return fit_method(estimator, *args, **kwargs)\n"
     ]
    },
    {
     "name": "stdout",
     "output_type": "stream",
     "text": [
      "Trained and saved RandomForestRegressor model with parameters {'n_estimators': 25, 'max_depth': 30, 'min_samples_split': 10, 'min_samples_leaf': 5, 'max_features': 'sqrt', 'bootstrap': True} to ../models/rf_25_estimators_30_depth_10_minsplit_5_minleaf_sqrt_features_True_bootstrap_hot.pkl\n"
     ]
    },
    {
     "name": "stderr",
     "output_type": "stream",
     "text": [
      "/work/Exam/DataScienceExam/env/airbnb/lib/python3.10/site-packages/sklearn/base.py:1474: DataConversionWarning: A column-vector y was passed when a 1d array was expected. Please change the shape of y to (n_samples,), for example using ravel().\n",
      "  return fit_method(estimator, *args, **kwargs)\n"
     ]
    },
    {
     "name": "stdout",
     "output_type": "stream",
     "text": [
      "Trained and saved RandomForestRegressor model with parameters {'n_estimators': 25, 'max_depth': 30, 'min_samples_split': 10, 'min_samples_leaf': 5, 'max_features': 'log2', 'bootstrap': False} to ../models/rf_25_estimators_30_depth_10_minsplit_5_minleaf_log2_features_False_bootstrap_hot.pkl\n"
     ]
    },
    {
     "name": "stderr",
     "output_type": "stream",
     "text": [
      "/work/Exam/DataScienceExam/env/airbnb/lib/python3.10/site-packages/sklearn/base.py:1474: DataConversionWarning: A column-vector y was passed when a 1d array was expected. Please change the shape of y to (n_samples,), for example using ravel().\n",
      "  return fit_method(estimator, *args, **kwargs)\n"
     ]
    },
    {
     "name": "stdout",
     "output_type": "stream",
     "text": [
      "Trained and saved RandomForestRegressor model with parameters {'n_estimators': 25, 'max_depth': 30, 'min_samples_split': 10, 'min_samples_leaf': 5, 'max_features': 'log2', 'bootstrap': True} to ../models/rf_25_estimators_30_depth_10_minsplit_5_minleaf_log2_features_True_bootstrap_hot.pkl\n"
     ]
    },
    {
     "name": "stderr",
     "output_type": "stream",
     "text": [
      "/work/Exam/DataScienceExam/env/airbnb/lib/python3.10/site-packages/sklearn/base.py:1474: DataConversionWarning: A column-vector y was passed when a 1d array was expected. Please change the shape of y to (n_samples,), for example using ravel().\n",
      "  return fit_method(estimator, *args, **kwargs)\n"
     ]
    },
    {
     "name": "stdout",
     "output_type": "stream",
     "text": [
      "Trained and saved RandomForestRegressor model with parameters {'n_estimators': 25, 'max_depth': 30, 'min_samples_split': 15, 'min_samples_leaf': 1, 'max_features': 'sqrt', 'bootstrap': False} to ../models/rf_25_estimators_30_depth_15_minsplit_1_minleaf_sqrt_features_False_bootstrap_hot.pkl\n"
     ]
    },
    {
     "name": "stderr",
     "output_type": "stream",
     "text": [
      "/work/Exam/DataScienceExam/env/airbnb/lib/python3.10/site-packages/sklearn/base.py:1474: DataConversionWarning: A column-vector y was passed when a 1d array was expected. Please change the shape of y to (n_samples,), for example using ravel().\n",
      "  return fit_method(estimator, *args, **kwargs)\n"
     ]
    },
    {
     "name": "stdout",
     "output_type": "stream",
     "text": [
      "Trained and saved RandomForestRegressor model with parameters {'n_estimators': 25, 'max_depth': 30, 'min_samples_split': 15, 'min_samples_leaf': 1, 'max_features': 'sqrt', 'bootstrap': True} to ../models/rf_25_estimators_30_depth_15_minsplit_1_minleaf_sqrt_features_True_bootstrap_hot.pkl\n"
     ]
    },
    {
     "name": "stderr",
     "output_type": "stream",
     "text": [
      "/work/Exam/DataScienceExam/env/airbnb/lib/python3.10/site-packages/sklearn/base.py:1474: DataConversionWarning: A column-vector y was passed when a 1d array was expected. Please change the shape of y to (n_samples,), for example using ravel().\n",
      "  return fit_method(estimator, *args, **kwargs)\n"
     ]
    },
    {
     "name": "stdout",
     "output_type": "stream",
     "text": [
      "Trained and saved RandomForestRegressor model with parameters {'n_estimators': 25, 'max_depth': 30, 'min_samples_split': 15, 'min_samples_leaf': 1, 'max_features': 'log2', 'bootstrap': False} to ../models/rf_25_estimators_30_depth_15_minsplit_1_minleaf_log2_features_False_bootstrap_hot.pkl\n"
     ]
    },
    {
     "name": "stderr",
     "output_type": "stream",
     "text": [
      "/work/Exam/DataScienceExam/env/airbnb/lib/python3.10/site-packages/sklearn/base.py:1474: DataConversionWarning: A column-vector y was passed when a 1d array was expected. Please change the shape of y to (n_samples,), for example using ravel().\n",
      "  return fit_method(estimator, *args, **kwargs)\n"
     ]
    },
    {
     "name": "stdout",
     "output_type": "stream",
     "text": [
      "Trained and saved RandomForestRegressor model with parameters {'n_estimators': 25, 'max_depth': 30, 'min_samples_split': 15, 'min_samples_leaf': 1, 'max_features': 'log2', 'bootstrap': True} to ../models/rf_25_estimators_30_depth_15_minsplit_1_minleaf_log2_features_True_bootstrap_hot.pkl\n"
     ]
    },
    {
     "name": "stderr",
     "output_type": "stream",
     "text": [
      "/work/Exam/DataScienceExam/env/airbnb/lib/python3.10/site-packages/sklearn/base.py:1474: DataConversionWarning: A column-vector y was passed when a 1d array was expected. Please change the shape of y to (n_samples,), for example using ravel().\n",
      "  return fit_method(estimator, *args, **kwargs)\n"
     ]
    },
    {
     "name": "stdout",
     "output_type": "stream",
     "text": [
      "Trained and saved RandomForestRegressor model with parameters {'n_estimators': 25, 'max_depth': 30, 'min_samples_split': 15, 'min_samples_leaf': 2, 'max_features': 'sqrt', 'bootstrap': False} to ../models/rf_25_estimators_30_depth_15_minsplit_2_minleaf_sqrt_features_False_bootstrap_hot.pkl\n"
     ]
    },
    {
     "name": "stderr",
     "output_type": "stream",
     "text": [
      "/work/Exam/DataScienceExam/env/airbnb/lib/python3.10/site-packages/sklearn/base.py:1474: DataConversionWarning: A column-vector y was passed when a 1d array was expected. Please change the shape of y to (n_samples,), for example using ravel().\n",
      "  return fit_method(estimator, *args, **kwargs)\n"
     ]
    },
    {
     "name": "stdout",
     "output_type": "stream",
     "text": [
      "Trained and saved RandomForestRegressor model with parameters {'n_estimators': 25, 'max_depth': 30, 'min_samples_split': 15, 'min_samples_leaf': 2, 'max_features': 'sqrt', 'bootstrap': True} to ../models/rf_25_estimators_30_depth_15_minsplit_2_minleaf_sqrt_features_True_bootstrap_hot.pkl\n"
     ]
    },
    {
     "name": "stderr",
     "output_type": "stream",
     "text": [
      "/work/Exam/DataScienceExam/env/airbnb/lib/python3.10/site-packages/sklearn/base.py:1474: DataConversionWarning: A column-vector y was passed when a 1d array was expected. Please change the shape of y to (n_samples,), for example using ravel().\n",
      "  return fit_method(estimator, *args, **kwargs)\n"
     ]
    },
    {
     "name": "stdout",
     "output_type": "stream",
     "text": [
      "Trained and saved RandomForestRegressor model with parameters {'n_estimators': 25, 'max_depth': 30, 'min_samples_split': 15, 'min_samples_leaf': 2, 'max_features': 'log2', 'bootstrap': False} to ../models/rf_25_estimators_30_depth_15_minsplit_2_minleaf_log2_features_False_bootstrap_hot.pkl\n"
     ]
    },
    {
     "name": "stderr",
     "output_type": "stream",
     "text": [
      "/work/Exam/DataScienceExam/env/airbnb/lib/python3.10/site-packages/sklearn/base.py:1474: DataConversionWarning: A column-vector y was passed when a 1d array was expected. Please change the shape of y to (n_samples,), for example using ravel().\n",
      "  return fit_method(estimator, *args, **kwargs)\n"
     ]
    },
    {
     "name": "stdout",
     "output_type": "stream",
     "text": [
      "Trained and saved RandomForestRegressor model with parameters {'n_estimators': 25, 'max_depth': 30, 'min_samples_split': 15, 'min_samples_leaf': 2, 'max_features': 'log2', 'bootstrap': True} to ../models/rf_25_estimators_30_depth_15_minsplit_2_minleaf_log2_features_True_bootstrap_hot.pkl\n"
     ]
    },
    {
     "name": "stderr",
     "output_type": "stream",
     "text": [
      "/work/Exam/DataScienceExam/env/airbnb/lib/python3.10/site-packages/sklearn/base.py:1474: DataConversionWarning: A column-vector y was passed when a 1d array was expected. Please change the shape of y to (n_samples,), for example using ravel().\n",
      "  return fit_method(estimator, *args, **kwargs)\n"
     ]
    },
    {
     "name": "stdout",
     "output_type": "stream",
     "text": [
      "Trained and saved RandomForestRegressor model with parameters {'n_estimators': 25, 'max_depth': 30, 'min_samples_split': 15, 'min_samples_leaf': 5, 'max_features': 'sqrt', 'bootstrap': False} to ../models/rf_25_estimators_30_depth_15_minsplit_5_minleaf_sqrt_features_False_bootstrap_hot.pkl\n"
     ]
    },
    {
     "name": "stderr",
     "output_type": "stream",
     "text": [
      "/work/Exam/DataScienceExam/env/airbnb/lib/python3.10/site-packages/sklearn/base.py:1474: DataConversionWarning: A column-vector y was passed when a 1d array was expected. Please change the shape of y to (n_samples,), for example using ravel().\n",
      "  return fit_method(estimator, *args, **kwargs)\n"
     ]
    },
    {
     "name": "stdout",
     "output_type": "stream",
     "text": [
      "Trained and saved RandomForestRegressor model with parameters {'n_estimators': 25, 'max_depth': 30, 'min_samples_split': 15, 'min_samples_leaf': 5, 'max_features': 'sqrt', 'bootstrap': True} to ../models/rf_25_estimators_30_depth_15_minsplit_5_minleaf_sqrt_features_True_bootstrap_hot.pkl\n"
     ]
    },
    {
     "name": "stderr",
     "output_type": "stream",
     "text": [
      "/work/Exam/DataScienceExam/env/airbnb/lib/python3.10/site-packages/sklearn/base.py:1474: DataConversionWarning: A column-vector y was passed when a 1d array was expected. Please change the shape of y to (n_samples,), for example using ravel().\n",
      "  return fit_method(estimator, *args, **kwargs)\n"
     ]
    },
    {
     "name": "stdout",
     "output_type": "stream",
     "text": [
      "Trained and saved RandomForestRegressor model with parameters {'n_estimators': 25, 'max_depth': 30, 'min_samples_split': 15, 'min_samples_leaf': 5, 'max_features': 'log2', 'bootstrap': False} to ../models/rf_25_estimators_30_depth_15_minsplit_5_minleaf_log2_features_False_bootstrap_hot.pkl\n"
     ]
    },
    {
     "name": "stderr",
     "output_type": "stream",
     "text": [
      "/work/Exam/DataScienceExam/env/airbnb/lib/python3.10/site-packages/sklearn/base.py:1474: DataConversionWarning: A column-vector y was passed when a 1d array was expected. Please change the shape of y to (n_samples,), for example using ravel().\n",
      "  return fit_method(estimator, *args, **kwargs)\n"
     ]
    },
    {
     "name": "stdout",
     "output_type": "stream",
     "text": [
      "Trained and saved RandomForestRegressor model with parameters {'n_estimators': 25, 'max_depth': 30, 'min_samples_split': 15, 'min_samples_leaf': 5, 'max_features': 'log2', 'bootstrap': True} to ../models/rf_25_estimators_30_depth_15_minsplit_5_minleaf_log2_features_True_bootstrap_hot.pkl\n"
     ]
    },
    {
     "name": "stderr",
     "output_type": "stream",
     "text": [
      "/work/Exam/DataScienceExam/env/airbnb/lib/python3.10/site-packages/sklearn/base.py:1474: DataConversionWarning: A column-vector y was passed when a 1d array was expected. Please change the shape of y to (n_samples,), for example using ravel().\n",
      "  return fit_method(estimator, *args, **kwargs)\n"
     ]
    },
    {
     "name": "stdout",
     "output_type": "stream",
     "text": [
      "Trained and saved RandomForestRegressor model with parameters {'n_estimators': 25, 'max_depth': 40, 'min_samples_split': 5, 'min_samples_leaf': 1, 'max_features': 'sqrt', 'bootstrap': False} to ../models/rf_25_estimators_40_depth_5_minsplit_1_minleaf_sqrt_features_False_bootstrap_hot.pkl\n"
     ]
    },
    {
     "name": "stderr",
     "output_type": "stream",
     "text": [
      "/work/Exam/DataScienceExam/env/airbnb/lib/python3.10/site-packages/sklearn/base.py:1474: DataConversionWarning: A column-vector y was passed when a 1d array was expected. Please change the shape of y to (n_samples,), for example using ravel().\n",
      "  return fit_method(estimator, *args, **kwargs)\n"
     ]
    },
    {
     "name": "stdout",
     "output_type": "stream",
     "text": [
      "Trained and saved RandomForestRegressor model with parameters {'n_estimators': 25, 'max_depth': 40, 'min_samples_split': 5, 'min_samples_leaf': 1, 'max_features': 'sqrt', 'bootstrap': True} to ../models/rf_25_estimators_40_depth_5_minsplit_1_minleaf_sqrt_features_True_bootstrap_hot.pkl\n"
     ]
    },
    {
     "name": "stderr",
     "output_type": "stream",
     "text": [
      "/work/Exam/DataScienceExam/env/airbnb/lib/python3.10/site-packages/sklearn/base.py:1474: DataConversionWarning: A column-vector y was passed when a 1d array was expected. Please change the shape of y to (n_samples,), for example using ravel().\n",
      "  return fit_method(estimator, *args, **kwargs)\n"
     ]
    },
    {
     "name": "stdout",
     "output_type": "stream",
     "text": [
      "Trained and saved RandomForestRegressor model with parameters {'n_estimators': 25, 'max_depth': 40, 'min_samples_split': 5, 'min_samples_leaf': 1, 'max_features': 'log2', 'bootstrap': False} to ../models/rf_25_estimators_40_depth_5_minsplit_1_minleaf_log2_features_False_bootstrap_hot.pkl\n"
     ]
    },
    {
     "name": "stderr",
     "output_type": "stream",
     "text": [
      "/work/Exam/DataScienceExam/env/airbnb/lib/python3.10/site-packages/sklearn/base.py:1474: DataConversionWarning: A column-vector y was passed when a 1d array was expected. Please change the shape of y to (n_samples,), for example using ravel().\n",
      "  return fit_method(estimator, *args, **kwargs)\n"
     ]
    },
    {
     "name": "stdout",
     "output_type": "stream",
     "text": [
      "Trained and saved RandomForestRegressor model with parameters {'n_estimators': 25, 'max_depth': 40, 'min_samples_split': 5, 'min_samples_leaf': 1, 'max_features': 'log2', 'bootstrap': True} to ../models/rf_25_estimators_40_depth_5_minsplit_1_minleaf_log2_features_True_bootstrap_hot.pkl\n"
     ]
    },
    {
     "name": "stderr",
     "output_type": "stream",
     "text": [
      "/work/Exam/DataScienceExam/env/airbnb/lib/python3.10/site-packages/sklearn/base.py:1474: DataConversionWarning: A column-vector y was passed when a 1d array was expected. Please change the shape of y to (n_samples,), for example using ravel().\n",
      "  return fit_method(estimator, *args, **kwargs)\n"
     ]
    },
    {
     "name": "stdout",
     "output_type": "stream",
     "text": [
      "Trained and saved RandomForestRegressor model with parameters {'n_estimators': 25, 'max_depth': 40, 'min_samples_split': 5, 'min_samples_leaf': 2, 'max_features': 'sqrt', 'bootstrap': False} to ../models/rf_25_estimators_40_depth_5_minsplit_2_minleaf_sqrt_features_False_bootstrap_hot.pkl\n"
     ]
    },
    {
     "name": "stderr",
     "output_type": "stream",
     "text": [
      "/work/Exam/DataScienceExam/env/airbnb/lib/python3.10/site-packages/sklearn/base.py:1474: DataConversionWarning: A column-vector y was passed when a 1d array was expected. Please change the shape of y to (n_samples,), for example using ravel().\n",
      "  return fit_method(estimator, *args, **kwargs)\n"
     ]
    },
    {
     "name": "stdout",
     "output_type": "stream",
     "text": [
      "Trained and saved RandomForestRegressor model with parameters {'n_estimators': 25, 'max_depth': 40, 'min_samples_split': 5, 'min_samples_leaf': 2, 'max_features': 'sqrt', 'bootstrap': True} to ../models/rf_25_estimators_40_depth_5_minsplit_2_minleaf_sqrt_features_True_bootstrap_hot.pkl\n"
     ]
    },
    {
     "name": "stderr",
     "output_type": "stream",
     "text": [
      "/work/Exam/DataScienceExam/env/airbnb/lib/python3.10/site-packages/sklearn/base.py:1474: DataConversionWarning: A column-vector y was passed when a 1d array was expected. Please change the shape of y to (n_samples,), for example using ravel().\n",
      "  return fit_method(estimator, *args, **kwargs)\n"
     ]
    },
    {
     "name": "stdout",
     "output_type": "stream",
     "text": [
      "Trained and saved RandomForestRegressor model with parameters {'n_estimators': 25, 'max_depth': 40, 'min_samples_split': 5, 'min_samples_leaf': 2, 'max_features': 'log2', 'bootstrap': False} to ../models/rf_25_estimators_40_depth_5_minsplit_2_minleaf_log2_features_False_bootstrap_hot.pkl\n"
     ]
    },
    {
     "name": "stderr",
     "output_type": "stream",
     "text": [
      "/work/Exam/DataScienceExam/env/airbnb/lib/python3.10/site-packages/sklearn/base.py:1474: DataConversionWarning: A column-vector y was passed when a 1d array was expected. Please change the shape of y to (n_samples,), for example using ravel().\n",
      "  return fit_method(estimator, *args, **kwargs)\n"
     ]
    },
    {
     "name": "stdout",
     "output_type": "stream",
     "text": [
      "Trained and saved RandomForestRegressor model with parameters {'n_estimators': 25, 'max_depth': 40, 'min_samples_split': 5, 'min_samples_leaf': 2, 'max_features': 'log2', 'bootstrap': True} to ../models/rf_25_estimators_40_depth_5_minsplit_2_minleaf_log2_features_True_bootstrap_hot.pkl\n"
     ]
    },
    {
     "name": "stderr",
     "output_type": "stream",
     "text": [
      "/work/Exam/DataScienceExam/env/airbnb/lib/python3.10/site-packages/sklearn/base.py:1474: DataConversionWarning: A column-vector y was passed when a 1d array was expected. Please change the shape of y to (n_samples,), for example using ravel().\n",
      "  return fit_method(estimator, *args, **kwargs)\n"
     ]
    },
    {
     "name": "stdout",
     "output_type": "stream",
     "text": [
      "Trained and saved RandomForestRegressor model with parameters {'n_estimators': 25, 'max_depth': 40, 'min_samples_split': 5, 'min_samples_leaf': 5, 'max_features': 'sqrt', 'bootstrap': False} to ../models/rf_25_estimators_40_depth_5_minsplit_5_minleaf_sqrt_features_False_bootstrap_hot.pkl\n"
     ]
    },
    {
     "name": "stderr",
     "output_type": "stream",
     "text": [
      "/work/Exam/DataScienceExam/env/airbnb/lib/python3.10/site-packages/sklearn/base.py:1474: DataConversionWarning: A column-vector y was passed when a 1d array was expected. Please change the shape of y to (n_samples,), for example using ravel().\n",
      "  return fit_method(estimator, *args, **kwargs)\n"
     ]
    },
    {
     "name": "stdout",
     "output_type": "stream",
     "text": [
      "Trained and saved RandomForestRegressor model with parameters {'n_estimators': 25, 'max_depth': 40, 'min_samples_split': 5, 'min_samples_leaf': 5, 'max_features': 'sqrt', 'bootstrap': True} to ../models/rf_25_estimators_40_depth_5_minsplit_5_minleaf_sqrt_features_True_bootstrap_hot.pkl\n"
     ]
    },
    {
     "name": "stderr",
     "output_type": "stream",
     "text": [
      "/work/Exam/DataScienceExam/env/airbnb/lib/python3.10/site-packages/sklearn/base.py:1474: DataConversionWarning: A column-vector y was passed when a 1d array was expected. Please change the shape of y to (n_samples,), for example using ravel().\n",
      "  return fit_method(estimator, *args, **kwargs)\n"
     ]
    },
    {
     "name": "stdout",
     "output_type": "stream",
     "text": [
      "Trained and saved RandomForestRegressor model with parameters {'n_estimators': 25, 'max_depth': 40, 'min_samples_split': 5, 'min_samples_leaf': 5, 'max_features': 'log2', 'bootstrap': False} to ../models/rf_25_estimators_40_depth_5_minsplit_5_minleaf_log2_features_False_bootstrap_hot.pkl\n"
     ]
    },
    {
     "name": "stderr",
     "output_type": "stream",
     "text": [
      "/work/Exam/DataScienceExam/env/airbnb/lib/python3.10/site-packages/sklearn/base.py:1474: DataConversionWarning: A column-vector y was passed when a 1d array was expected. Please change the shape of y to (n_samples,), for example using ravel().\n",
      "  return fit_method(estimator, *args, **kwargs)\n"
     ]
    },
    {
     "name": "stdout",
     "output_type": "stream",
     "text": [
      "Trained and saved RandomForestRegressor model with parameters {'n_estimators': 25, 'max_depth': 40, 'min_samples_split': 5, 'min_samples_leaf': 5, 'max_features': 'log2', 'bootstrap': True} to ../models/rf_25_estimators_40_depth_5_minsplit_5_minleaf_log2_features_True_bootstrap_hot.pkl\n"
     ]
    },
    {
     "name": "stderr",
     "output_type": "stream",
     "text": [
      "/work/Exam/DataScienceExam/env/airbnb/lib/python3.10/site-packages/sklearn/base.py:1474: DataConversionWarning: A column-vector y was passed when a 1d array was expected. Please change the shape of y to (n_samples,), for example using ravel().\n",
      "  return fit_method(estimator, *args, **kwargs)\n"
     ]
    },
    {
     "name": "stdout",
     "output_type": "stream",
     "text": [
      "Trained and saved RandomForestRegressor model with parameters {'n_estimators': 25, 'max_depth': 40, 'min_samples_split': 10, 'min_samples_leaf': 1, 'max_features': 'sqrt', 'bootstrap': False} to ../models/rf_25_estimators_40_depth_10_minsplit_1_minleaf_sqrt_features_False_bootstrap_hot.pkl\n"
     ]
    },
    {
     "name": "stderr",
     "output_type": "stream",
     "text": [
      "/work/Exam/DataScienceExam/env/airbnb/lib/python3.10/site-packages/sklearn/base.py:1474: DataConversionWarning: A column-vector y was passed when a 1d array was expected. Please change the shape of y to (n_samples,), for example using ravel().\n",
      "  return fit_method(estimator, *args, **kwargs)\n"
     ]
    },
    {
     "name": "stdout",
     "output_type": "stream",
     "text": [
      "Trained and saved RandomForestRegressor model with parameters {'n_estimators': 25, 'max_depth': 40, 'min_samples_split': 10, 'min_samples_leaf': 1, 'max_features': 'sqrt', 'bootstrap': True} to ../models/rf_25_estimators_40_depth_10_minsplit_1_minleaf_sqrt_features_True_bootstrap_hot.pkl\n"
     ]
    },
    {
     "name": "stderr",
     "output_type": "stream",
     "text": [
      "/work/Exam/DataScienceExam/env/airbnb/lib/python3.10/site-packages/sklearn/base.py:1474: DataConversionWarning: A column-vector y was passed when a 1d array was expected. Please change the shape of y to (n_samples,), for example using ravel().\n",
      "  return fit_method(estimator, *args, **kwargs)\n"
     ]
    },
    {
     "name": "stdout",
     "output_type": "stream",
     "text": [
      "Trained and saved RandomForestRegressor model with parameters {'n_estimators': 25, 'max_depth': 40, 'min_samples_split': 10, 'min_samples_leaf': 1, 'max_features': 'log2', 'bootstrap': False} to ../models/rf_25_estimators_40_depth_10_minsplit_1_minleaf_log2_features_False_bootstrap_hot.pkl\n"
     ]
    },
    {
     "name": "stderr",
     "output_type": "stream",
     "text": [
      "/work/Exam/DataScienceExam/env/airbnb/lib/python3.10/site-packages/sklearn/base.py:1474: DataConversionWarning: A column-vector y was passed when a 1d array was expected. Please change the shape of y to (n_samples,), for example using ravel().\n",
      "  return fit_method(estimator, *args, **kwargs)\n"
     ]
    },
    {
     "name": "stdout",
     "output_type": "stream",
     "text": [
      "Trained and saved RandomForestRegressor model with parameters {'n_estimators': 25, 'max_depth': 40, 'min_samples_split': 10, 'min_samples_leaf': 1, 'max_features': 'log2', 'bootstrap': True} to ../models/rf_25_estimators_40_depth_10_minsplit_1_minleaf_log2_features_True_bootstrap_hot.pkl\n"
     ]
    },
    {
     "name": "stderr",
     "output_type": "stream",
     "text": [
      "/work/Exam/DataScienceExam/env/airbnb/lib/python3.10/site-packages/sklearn/base.py:1474: DataConversionWarning: A column-vector y was passed when a 1d array was expected. Please change the shape of y to (n_samples,), for example using ravel().\n",
      "  return fit_method(estimator, *args, **kwargs)\n"
     ]
    },
    {
     "name": "stdout",
     "output_type": "stream",
     "text": [
      "Trained and saved RandomForestRegressor model with parameters {'n_estimators': 25, 'max_depth': 40, 'min_samples_split': 10, 'min_samples_leaf': 2, 'max_features': 'sqrt', 'bootstrap': False} to ../models/rf_25_estimators_40_depth_10_minsplit_2_minleaf_sqrt_features_False_bootstrap_hot.pkl\n"
     ]
    },
    {
     "name": "stderr",
     "output_type": "stream",
     "text": [
      "/work/Exam/DataScienceExam/env/airbnb/lib/python3.10/site-packages/sklearn/base.py:1474: DataConversionWarning: A column-vector y was passed when a 1d array was expected. Please change the shape of y to (n_samples,), for example using ravel().\n",
      "  return fit_method(estimator, *args, **kwargs)\n"
     ]
    },
    {
     "name": "stdout",
     "output_type": "stream",
     "text": [
      "Trained and saved RandomForestRegressor model with parameters {'n_estimators': 25, 'max_depth': 40, 'min_samples_split': 10, 'min_samples_leaf': 2, 'max_features': 'sqrt', 'bootstrap': True} to ../models/rf_25_estimators_40_depth_10_minsplit_2_minleaf_sqrt_features_True_bootstrap_hot.pkl\n"
     ]
    },
    {
     "name": "stderr",
     "output_type": "stream",
     "text": [
      "/work/Exam/DataScienceExam/env/airbnb/lib/python3.10/site-packages/sklearn/base.py:1474: DataConversionWarning: A column-vector y was passed when a 1d array was expected. Please change the shape of y to (n_samples,), for example using ravel().\n",
      "  return fit_method(estimator, *args, **kwargs)\n"
     ]
    },
    {
     "name": "stdout",
     "output_type": "stream",
     "text": [
      "Trained and saved RandomForestRegressor model with parameters {'n_estimators': 25, 'max_depth': 40, 'min_samples_split': 10, 'min_samples_leaf': 2, 'max_features': 'log2', 'bootstrap': False} to ../models/rf_25_estimators_40_depth_10_minsplit_2_minleaf_log2_features_False_bootstrap_hot.pkl\n"
     ]
    },
    {
     "name": "stderr",
     "output_type": "stream",
     "text": [
      "/work/Exam/DataScienceExam/env/airbnb/lib/python3.10/site-packages/sklearn/base.py:1474: DataConversionWarning: A column-vector y was passed when a 1d array was expected. Please change the shape of y to (n_samples,), for example using ravel().\n",
      "  return fit_method(estimator, *args, **kwargs)\n"
     ]
    },
    {
     "name": "stdout",
     "output_type": "stream",
     "text": [
      "Trained and saved RandomForestRegressor model with parameters {'n_estimators': 25, 'max_depth': 40, 'min_samples_split': 10, 'min_samples_leaf': 2, 'max_features': 'log2', 'bootstrap': True} to ../models/rf_25_estimators_40_depth_10_minsplit_2_minleaf_log2_features_True_bootstrap_hot.pkl\n"
     ]
    },
    {
     "name": "stderr",
     "output_type": "stream",
     "text": [
      "/work/Exam/DataScienceExam/env/airbnb/lib/python3.10/site-packages/sklearn/base.py:1474: DataConversionWarning: A column-vector y was passed when a 1d array was expected. Please change the shape of y to (n_samples,), for example using ravel().\n",
      "  return fit_method(estimator, *args, **kwargs)\n"
     ]
    },
    {
     "name": "stdout",
     "output_type": "stream",
     "text": [
      "Trained and saved RandomForestRegressor model with parameters {'n_estimators': 25, 'max_depth': 40, 'min_samples_split': 10, 'min_samples_leaf': 5, 'max_features': 'sqrt', 'bootstrap': False} to ../models/rf_25_estimators_40_depth_10_minsplit_5_minleaf_sqrt_features_False_bootstrap_hot.pkl\n"
     ]
    },
    {
     "name": "stderr",
     "output_type": "stream",
     "text": [
      "/work/Exam/DataScienceExam/env/airbnb/lib/python3.10/site-packages/sklearn/base.py:1474: DataConversionWarning: A column-vector y was passed when a 1d array was expected. Please change the shape of y to (n_samples,), for example using ravel().\n",
      "  return fit_method(estimator, *args, **kwargs)\n"
     ]
    },
    {
     "name": "stdout",
     "output_type": "stream",
     "text": [
      "Trained and saved RandomForestRegressor model with parameters {'n_estimators': 25, 'max_depth': 40, 'min_samples_split': 10, 'min_samples_leaf': 5, 'max_features': 'sqrt', 'bootstrap': True} to ../models/rf_25_estimators_40_depth_10_minsplit_5_minleaf_sqrt_features_True_bootstrap_hot.pkl\n"
     ]
    },
    {
     "name": "stderr",
     "output_type": "stream",
     "text": [
      "/work/Exam/DataScienceExam/env/airbnb/lib/python3.10/site-packages/sklearn/base.py:1474: DataConversionWarning: A column-vector y was passed when a 1d array was expected. Please change the shape of y to (n_samples,), for example using ravel().\n",
      "  return fit_method(estimator, *args, **kwargs)\n"
     ]
    },
    {
     "name": "stdout",
     "output_type": "stream",
     "text": [
      "Trained and saved RandomForestRegressor model with parameters {'n_estimators': 25, 'max_depth': 40, 'min_samples_split': 10, 'min_samples_leaf': 5, 'max_features': 'log2', 'bootstrap': False} to ../models/rf_25_estimators_40_depth_10_minsplit_5_minleaf_log2_features_False_bootstrap_hot.pkl\n"
     ]
    },
    {
     "name": "stderr",
     "output_type": "stream",
     "text": [
      "/work/Exam/DataScienceExam/env/airbnb/lib/python3.10/site-packages/sklearn/base.py:1474: DataConversionWarning: A column-vector y was passed when a 1d array was expected. Please change the shape of y to (n_samples,), for example using ravel().\n",
      "  return fit_method(estimator, *args, **kwargs)\n"
     ]
    },
    {
     "name": "stdout",
     "output_type": "stream",
     "text": [
      "Trained and saved RandomForestRegressor model with parameters {'n_estimators': 25, 'max_depth': 40, 'min_samples_split': 10, 'min_samples_leaf': 5, 'max_features': 'log2', 'bootstrap': True} to ../models/rf_25_estimators_40_depth_10_minsplit_5_minleaf_log2_features_True_bootstrap_hot.pkl\n"
     ]
    },
    {
     "name": "stderr",
     "output_type": "stream",
     "text": [
      "/work/Exam/DataScienceExam/env/airbnb/lib/python3.10/site-packages/sklearn/base.py:1474: DataConversionWarning: A column-vector y was passed when a 1d array was expected. Please change the shape of y to (n_samples,), for example using ravel().\n",
      "  return fit_method(estimator, *args, **kwargs)\n"
     ]
    },
    {
     "name": "stdout",
     "output_type": "stream",
     "text": [
      "Trained and saved RandomForestRegressor model with parameters {'n_estimators': 25, 'max_depth': 40, 'min_samples_split': 15, 'min_samples_leaf': 1, 'max_features': 'sqrt', 'bootstrap': False} to ../models/rf_25_estimators_40_depth_15_minsplit_1_minleaf_sqrt_features_False_bootstrap_hot.pkl\n"
     ]
    },
    {
     "name": "stderr",
     "output_type": "stream",
     "text": [
      "/work/Exam/DataScienceExam/env/airbnb/lib/python3.10/site-packages/sklearn/base.py:1474: DataConversionWarning: A column-vector y was passed when a 1d array was expected. Please change the shape of y to (n_samples,), for example using ravel().\n",
      "  return fit_method(estimator, *args, **kwargs)\n"
     ]
    },
    {
     "name": "stdout",
     "output_type": "stream",
     "text": [
      "Trained and saved RandomForestRegressor model with parameters {'n_estimators': 25, 'max_depth': 40, 'min_samples_split': 15, 'min_samples_leaf': 1, 'max_features': 'sqrt', 'bootstrap': True} to ../models/rf_25_estimators_40_depth_15_minsplit_1_minleaf_sqrt_features_True_bootstrap_hot.pkl\n"
     ]
    },
    {
     "name": "stderr",
     "output_type": "stream",
     "text": [
      "/work/Exam/DataScienceExam/env/airbnb/lib/python3.10/site-packages/sklearn/base.py:1474: DataConversionWarning: A column-vector y was passed when a 1d array was expected. Please change the shape of y to (n_samples,), for example using ravel().\n",
      "  return fit_method(estimator, *args, **kwargs)\n"
     ]
    },
    {
     "name": "stdout",
     "output_type": "stream",
     "text": [
      "Trained and saved RandomForestRegressor model with parameters {'n_estimators': 25, 'max_depth': 40, 'min_samples_split': 15, 'min_samples_leaf': 1, 'max_features': 'log2', 'bootstrap': False} to ../models/rf_25_estimators_40_depth_15_minsplit_1_minleaf_log2_features_False_bootstrap_hot.pkl\n"
     ]
    },
    {
     "name": "stderr",
     "output_type": "stream",
     "text": [
      "/work/Exam/DataScienceExam/env/airbnb/lib/python3.10/site-packages/sklearn/base.py:1474: DataConversionWarning: A column-vector y was passed when a 1d array was expected. Please change the shape of y to (n_samples,), for example using ravel().\n",
      "  return fit_method(estimator, *args, **kwargs)\n"
     ]
    },
    {
     "name": "stdout",
     "output_type": "stream",
     "text": [
      "Trained and saved RandomForestRegressor model with parameters {'n_estimators': 25, 'max_depth': 40, 'min_samples_split': 15, 'min_samples_leaf': 1, 'max_features': 'log2', 'bootstrap': True} to ../models/rf_25_estimators_40_depth_15_minsplit_1_minleaf_log2_features_True_bootstrap_hot.pkl\n"
     ]
    },
    {
     "name": "stderr",
     "output_type": "stream",
     "text": [
      "/work/Exam/DataScienceExam/env/airbnb/lib/python3.10/site-packages/sklearn/base.py:1474: DataConversionWarning: A column-vector y was passed when a 1d array was expected. Please change the shape of y to (n_samples,), for example using ravel().\n",
      "  return fit_method(estimator, *args, **kwargs)\n"
     ]
    },
    {
     "name": "stdout",
     "output_type": "stream",
     "text": [
      "Trained and saved RandomForestRegressor model with parameters {'n_estimators': 25, 'max_depth': 40, 'min_samples_split': 15, 'min_samples_leaf': 2, 'max_features': 'sqrt', 'bootstrap': False} to ../models/rf_25_estimators_40_depth_15_minsplit_2_minleaf_sqrt_features_False_bootstrap_hot.pkl\n"
     ]
    },
    {
     "name": "stderr",
     "output_type": "stream",
     "text": [
      "/work/Exam/DataScienceExam/env/airbnb/lib/python3.10/site-packages/sklearn/base.py:1474: DataConversionWarning: A column-vector y was passed when a 1d array was expected. Please change the shape of y to (n_samples,), for example using ravel().\n",
      "  return fit_method(estimator, *args, **kwargs)\n"
     ]
    },
    {
     "name": "stdout",
     "output_type": "stream",
     "text": [
      "Trained and saved RandomForestRegressor model with parameters {'n_estimators': 25, 'max_depth': 40, 'min_samples_split': 15, 'min_samples_leaf': 2, 'max_features': 'sqrt', 'bootstrap': True} to ../models/rf_25_estimators_40_depth_15_minsplit_2_minleaf_sqrt_features_True_bootstrap_hot.pkl\n"
     ]
    },
    {
     "name": "stderr",
     "output_type": "stream",
     "text": [
      "/work/Exam/DataScienceExam/env/airbnb/lib/python3.10/site-packages/sklearn/base.py:1474: DataConversionWarning: A column-vector y was passed when a 1d array was expected. Please change the shape of y to (n_samples,), for example using ravel().\n",
      "  return fit_method(estimator, *args, **kwargs)\n"
     ]
    },
    {
     "name": "stdout",
     "output_type": "stream",
     "text": [
      "Trained and saved RandomForestRegressor model with parameters {'n_estimators': 25, 'max_depth': 40, 'min_samples_split': 15, 'min_samples_leaf': 2, 'max_features': 'log2', 'bootstrap': False} to ../models/rf_25_estimators_40_depth_15_minsplit_2_minleaf_log2_features_False_bootstrap_hot.pkl\n"
     ]
    },
    {
     "name": "stderr",
     "output_type": "stream",
     "text": [
      "/work/Exam/DataScienceExam/env/airbnb/lib/python3.10/site-packages/sklearn/base.py:1474: DataConversionWarning: A column-vector y was passed when a 1d array was expected. Please change the shape of y to (n_samples,), for example using ravel().\n",
      "  return fit_method(estimator, *args, **kwargs)\n"
     ]
    },
    {
     "name": "stdout",
     "output_type": "stream",
     "text": [
      "Trained and saved RandomForestRegressor model with parameters {'n_estimators': 25, 'max_depth': 40, 'min_samples_split': 15, 'min_samples_leaf': 2, 'max_features': 'log2', 'bootstrap': True} to ../models/rf_25_estimators_40_depth_15_minsplit_2_minleaf_log2_features_True_bootstrap_hot.pkl\n"
     ]
    },
    {
     "name": "stderr",
     "output_type": "stream",
     "text": [
      "/work/Exam/DataScienceExam/env/airbnb/lib/python3.10/site-packages/sklearn/base.py:1474: DataConversionWarning: A column-vector y was passed when a 1d array was expected. Please change the shape of y to (n_samples,), for example using ravel().\n",
      "  return fit_method(estimator, *args, **kwargs)\n"
     ]
    },
    {
     "name": "stdout",
     "output_type": "stream",
     "text": [
      "Trained and saved RandomForestRegressor model with parameters {'n_estimators': 25, 'max_depth': 40, 'min_samples_split': 15, 'min_samples_leaf': 5, 'max_features': 'sqrt', 'bootstrap': False} to ../models/rf_25_estimators_40_depth_15_minsplit_5_minleaf_sqrt_features_False_bootstrap_hot.pkl\n"
     ]
    },
    {
     "name": "stderr",
     "output_type": "stream",
     "text": [
      "/work/Exam/DataScienceExam/env/airbnb/lib/python3.10/site-packages/sklearn/base.py:1474: DataConversionWarning: A column-vector y was passed when a 1d array was expected. Please change the shape of y to (n_samples,), for example using ravel().\n",
      "  return fit_method(estimator, *args, **kwargs)\n"
     ]
    },
    {
     "name": "stdout",
     "output_type": "stream",
     "text": [
      "Trained and saved RandomForestRegressor model with parameters {'n_estimators': 25, 'max_depth': 40, 'min_samples_split': 15, 'min_samples_leaf': 5, 'max_features': 'sqrt', 'bootstrap': True} to ../models/rf_25_estimators_40_depth_15_minsplit_5_minleaf_sqrt_features_True_bootstrap_hot.pkl\n"
     ]
    },
    {
     "name": "stderr",
     "output_type": "stream",
     "text": [
      "/work/Exam/DataScienceExam/env/airbnb/lib/python3.10/site-packages/sklearn/base.py:1474: DataConversionWarning: A column-vector y was passed when a 1d array was expected. Please change the shape of y to (n_samples,), for example using ravel().\n",
      "  return fit_method(estimator, *args, **kwargs)\n"
     ]
    },
    {
     "name": "stdout",
     "output_type": "stream",
     "text": [
      "Trained and saved RandomForestRegressor model with parameters {'n_estimators': 25, 'max_depth': 40, 'min_samples_split': 15, 'min_samples_leaf': 5, 'max_features': 'log2', 'bootstrap': False} to ../models/rf_25_estimators_40_depth_15_minsplit_5_minleaf_log2_features_False_bootstrap_hot.pkl\n"
     ]
    },
    {
     "name": "stderr",
     "output_type": "stream",
     "text": [
      "/work/Exam/DataScienceExam/env/airbnb/lib/python3.10/site-packages/sklearn/base.py:1474: DataConversionWarning: A column-vector y was passed when a 1d array was expected. Please change the shape of y to (n_samples,), for example using ravel().\n",
      "  return fit_method(estimator, *args, **kwargs)\n"
     ]
    },
    {
     "name": "stdout",
     "output_type": "stream",
     "text": [
      "Trained and saved RandomForestRegressor model with parameters {'n_estimators': 25, 'max_depth': 40, 'min_samples_split': 15, 'min_samples_leaf': 5, 'max_features': 'log2', 'bootstrap': True} to ../models/rf_25_estimators_40_depth_15_minsplit_5_minleaf_log2_features_True_bootstrap_hot.pkl\n"
     ]
    },
    {
     "name": "stderr",
     "output_type": "stream",
     "text": [
      "/work/Exam/DataScienceExam/env/airbnb/lib/python3.10/site-packages/sklearn/base.py:1474: DataConversionWarning: A column-vector y was passed when a 1d array was expected. Please change the shape of y to (n_samples,), for example using ravel().\n",
      "  return fit_method(estimator, *args, **kwargs)\n"
     ]
    },
    {
     "name": "stdout",
     "output_type": "stream",
     "text": [
      "Trained and saved RandomForestRegressor model with parameters {'n_estimators': 50, 'max_depth': None, 'min_samples_split': 5, 'min_samples_leaf': 1, 'max_features': 'sqrt', 'bootstrap': False} to ../models/rf_50_estimators_None_depth_5_minsplit_1_minleaf_sqrt_features_False_bootstrap_hot.pkl\n"
     ]
    },
    {
     "name": "stderr",
     "output_type": "stream",
     "text": [
      "/work/Exam/DataScienceExam/env/airbnb/lib/python3.10/site-packages/sklearn/base.py:1474: DataConversionWarning: A column-vector y was passed when a 1d array was expected. Please change the shape of y to (n_samples,), for example using ravel().\n",
      "  return fit_method(estimator, *args, **kwargs)\n"
     ]
    },
    {
     "name": "stdout",
     "output_type": "stream",
     "text": [
      "Trained and saved RandomForestRegressor model with parameters {'n_estimators': 50, 'max_depth': None, 'min_samples_split': 5, 'min_samples_leaf': 1, 'max_features': 'sqrt', 'bootstrap': True} to ../models/rf_50_estimators_None_depth_5_minsplit_1_minleaf_sqrt_features_True_bootstrap_hot.pkl\n"
     ]
    },
    {
     "name": "stderr",
     "output_type": "stream",
     "text": [
      "/work/Exam/DataScienceExam/env/airbnb/lib/python3.10/site-packages/sklearn/base.py:1474: DataConversionWarning: A column-vector y was passed when a 1d array was expected. Please change the shape of y to (n_samples,), for example using ravel().\n",
      "  return fit_method(estimator, *args, **kwargs)\n"
     ]
    },
    {
     "name": "stdout",
     "output_type": "stream",
     "text": [
      "Trained and saved RandomForestRegressor model with parameters {'n_estimators': 50, 'max_depth': None, 'min_samples_split': 5, 'min_samples_leaf': 1, 'max_features': 'log2', 'bootstrap': False} to ../models/rf_50_estimators_None_depth_5_minsplit_1_minleaf_log2_features_False_bootstrap_hot.pkl\n"
     ]
    },
    {
     "name": "stderr",
     "output_type": "stream",
     "text": [
      "/work/Exam/DataScienceExam/env/airbnb/lib/python3.10/site-packages/sklearn/base.py:1474: DataConversionWarning: A column-vector y was passed when a 1d array was expected. Please change the shape of y to (n_samples,), for example using ravel().\n",
      "  return fit_method(estimator, *args, **kwargs)\n"
     ]
    },
    {
     "name": "stdout",
     "output_type": "stream",
     "text": [
      "Trained and saved RandomForestRegressor model with parameters {'n_estimators': 50, 'max_depth': None, 'min_samples_split': 5, 'min_samples_leaf': 1, 'max_features': 'log2', 'bootstrap': True} to ../models/rf_50_estimators_None_depth_5_minsplit_1_minleaf_log2_features_True_bootstrap_hot.pkl\n"
     ]
    },
    {
     "name": "stderr",
     "output_type": "stream",
     "text": [
      "/work/Exam/DataScienceExam/env/airbnb/lib/python3.10/site-packages/sklearn/base.py:1474: DataConversionWarning: A column-vector y was passed when a 1d array was expected. Please change the shape of y to (n_samples,), for example using ravel().\n",
      "  return fit_method(estimator, *args, **kwargs)\n"
     ]
    },
    {
     "name": "stdout",
     "output_type": "stream",
     "text": [
      "Trained and saved RandomForestRegressor model with parameters {'n_estimators': 50, 'max_depth': None, 'min_samples_split': 5, 'min_samples_leaf': 2, 'max_features': 'sqrt', 'bootstrap': False} to ../models/rf_50_estimators_None_depth_5_minsplit_2_minleaf_sqrt_features_False_bootstrap_hot.pkl\n"
     ]
    },
    {
     "name": "stderr",
     "output_type": "stream",
     "text": [
      "/work/Exam/DataScienceExam/env/airbnb/lib/python3.10/site-packages/sklearn/base.py:1474: DataConversionWarning: A column-vector y was passed when a 1d array was expected. Please change the shape of y to (n_samples,), for example using ravel().\n",
      "  return fit_method(estimator, *args, **kwargs)\n"
     ]
    },
    {
     "name": "stdout",
     "output_type": "stream",
     "text": [
      "Trained and saved RandomForestRegressor model with parameters {'n_estimators': 50, 'max_depth': None, 'min_samples_split': 5, 'min_samples_leaf': 2, 'max_features': 'sqrt', 'bootstrap': True} to ../models/rf_50_estimators_None_depth_5_minsplit_2_minleaf_sqrt_features_True_bootstrap_hot.pkl\n"
     ]
    },
    {
     "name": "stderr",
     "output_type": "stream",
     "text": [
      "/work/Exam/DataScienceExam/env/airbnb/lib/python3.10/site-packages/sklearn/base.py:1474: DataConversionWarning: A column-vector y was passed when a 1d array was expected. Please change the shape of y to (n_samples,), for example using ravel().\n",
      "  return fit_method(estimator, *args, **kwargs)\n"
     ]
    },
    {
     "name": "stdout",
     "output_type": "stream",
     "text": [
      "Trained and saved RandomForestRegressor model with parameters {'n_estimators': 50, 'max_depth': None, 'min_samples_split': 5, 'min_samples_leaf': 2, 'max_features': 'log2', 'bootstrap': False} to ../models/rf_50_estimators_None_depth_5_minsplit_2_minleaf_log2_features_False_bootstrap_hot.pkl\n"
     ]
    },
    {
     "name": "stderr",
     "output_type": "stream",
     "text": [
      "/work/Exam/DataScienceExam/env/airbnb/lib/python3.10/site-packages/sklearn/base.py:1474: DataConversionWarning: A column-vector y was passed when a 1d array was expected. Please change the shape of y to (n_samples,), for example using ravel().\n",
      "  return fit_method(estimator, *args, **kwargs)\n"
     ]
    },
    {
     "name": "stdout",
     "output_type": "stream",
     "text": [
      "Trained and saved RandomForestRegressor model with parameters {'n_estimators': 50, 'max_depth': None, 'min_samples_split': 5, 'min_samples_leaf': 2, 'max_features': 'log2', 'bootstrap': True} to ../models/rf_50_estimators_None_depth_5_minsplit_2_minleaf_log2_features_True_bootstrap_hot.pkl\n"
     ]
    },
    {
     "name": "stderr",
     "output_type": "stream",
     "text": [
      "/work/Exam/DataScienceExam/env/airbnb/lib/python3.10/site-packages/sklearn/base.py:1474: DataConversionWarning: A column-vector y was passed when a 1d array was expected. Please change the shape of y to (n_samples,), for example using ravel().\n",
      "  return fit_method(estimator, *args, **kwargs)\n"
     ]
    },
    {
     "name": "stdout",
     "output_type": "stream",
     "text": [
      "Trained and saved RandomForestRegressor model with parameters {'n_estimators': 50, 'max_depth': None, 'min_samples_split': 5, 'min_samples_leaf': 5, 'max_features': 'sqrt', 'bootstrap': False} to ../models/rf_50_estimators_None_depth_5_minsplit_5_minleaf_sqrt_features_False_bootstrap_hot.pkl\n"
     ]
    },
    {
     "name": "stderr",
     "output_type": "stream",
     "text": [
      "/work/Exam/DataScienceExam/env/airbnb/lib/python3.10/site-packages/sklearn/base.py:1474: DataConversionWarning: A column-vector y was passed when a 1d array was expected. Please change the shape of y to (n_samples,), for example using ravel().\n",
      "  return fit_method(estimator, *args, **kwargs)\n"
     ]
    },
    {
     "name": "stdout",
     "output_type": "stream",
     "text": [
      "Trained and saved RandomForestRegressor model with parameters {'n_estimators': 50, 'max_depth': None, 'min_samples_split': 5, 'min_samples_leaf': 5, 'max_features': 'sqrt', 'bootstrap': True} to ../models/rf_50_estimators_None_depth_5_minsplit_5_minleaf_sqrt_features_True_bootstrap_hot.pkl\n"
     ]
    },
    {
     "name": "stderr",
     "output_type": "stream",
     "text": [
      "/work/Exam/DataScienceExam/env/airbnb/lib/python3.10/site-packages/sklearn/base.py:1474: DataConversionWarning: A column-vector y was passed when a 1d array was expected. Please change the shape of y to (n_samples,), for example using ravel().\n",
      "  return fit_method(estimator, *args, **kwargs)\n"
     ]
    },
    {
     "name": "stdout",
     "output_type": "stream",
     "text": [
      "Trained and saved RandomForestRegressor model with parameters {'n_estimators': 50, 'max_depth': None, 'min_samples_split': 5, 'min_samples_leaf': 5, 'max_features': 'log2', 'bootstrap': False} to ../models/rf_50_estimators_None_depth_5_minsplit_5_minleaf_log2_features_False_bootstrap_hot.pkl\n"
     ]
    },
    {
     "name": "stderr",
     "output_type": "stream",
     "text": [
      "/work/Exam/DataScienceExam/env/airbnb/lib/python3.10/site-packages/sklearn/base.py:1474: DataConversionWarning: A column-vector y was passed when a 1d array was expected. Please change the shape of y to (n_samples,), for example using ravel().\n",
      "  return fit_method(estimator, *args, **kwargs)\n"
     ]
    },
    {
     "name": "stdout",
     "output_type": "stream",
     "text": [
      "Trained and saved RandomForestRegressor model with parameters {'n_estimators': 50, 'max_depth': None, 'min_samples_split': 5, 'min_samples_leaf': 5, 'max_features': 'log2', 'bootstrap': True} to ../models/rf_50_estimators_None_depth_5_minsplit_5_minleaf_log2_features_True_bootstrap_hot.pkl\n"
     ]
    },
    {
     "name": "stderr",
     "output_type": "stream",
     "text": [
      "/work/Exam/DataScienceExam/env/airbnb/lib/python3.10/site-packages/sklearn/base.py:1474: DataConversionWarning: A column-vector y was passed when a 1d array was expected. Please change the shape of y to (n_samples,), for example using ravel().\n",
      "  return fit_method(estimator, *args, **kwargs)\n"
     ]
    },
    {
     "name": "stdout",
     "output_type": "stream",
     "text": [
      "Trained and saved RandomForestRegressor model with parameters {'n_estimators': 50, 'max_depth': None, 'min_samples_split': 10, 'min_samples_leaf': 1, 'max_features': 'sqrt', 'bootstrap': False} to ../models/rf_50_estimators_None_depth_10_minsplit_1_minleaf_sqrt_features_False_bootstrap_hot.pkl\n"
     ]
    },
    {
     "name": "stderr",
     "output_type": "stream",
     "text": [
      "/work/Exam/DataScienceExam/env/airbnb/lib/python3.10/site-packages/sklearn/base.py:1474: DataConversionWarning: A column-vector y was passed when a 1d array was expected. Please change the shape of y to (n_samples,), for example using ravel().\n",
      "  return fit_method(estimator, *args, **kwargs)\n"
     ]
    },
    {
     "name": "stdout",
     "output_type": "stream",
     "text": [
      "Trained and saved RandomForestRegressor model with parameters {'n_estimators': 50, 'max_depth': None, 'min_samples_split': 10, 'min_samples_leaf': 1, 'max_features': 'sqrt', 'bootstrap': True} to ../models/rf_50_estimators_None_depth_10_minsplit_1_minleaf_sqrt_features_True_bootstrap_hot.pkl\n"
     ]
    },
    {
     "name": "stderr",
     "output_type": "stream",
     "text": [
      "/work/Exam/DataScienceExam/env/airbnb/lib/python3.10/site-packages/sklearn/base.py:1474: DataConversionWarning: A column-vector y was passed when a 1d array was expected. Please change the shape of y to (n_samples,), for example using ravel().\n",
      "  return fit_method(estimator, *args, **kwargs)\n"
     ]
    },
    {
     "name": "stdout",
     "output_type": "stream",
     "text": [
      "Trained and saved RandomForestRegressor model with parameters {'n_estimators': 50, 'max_depth': None, 'min_samples_split': 10, 'min_samples_leaf': 1, 'max_features': 'log2', 'bootstrap': False} to ../models/rf_50_estimators_None_depth_10_minsplit_1_minleaf_log2_features_False_bootstrap_hot.pkl\n"
     ]
    },
    {
     "name": "stderr",
     "output_type": "stream",
     "text": [
      "/work/Exam/DataScienceExam/env/airbnb/lib/python3.10/site-packages/sklearn/base.py:1474: DataConversionWarning: A column-vector y was passed when a 1d array was expected. Please change the shape of y to (n_samples,), for example using ravel().\n",
      "  return fit_method(estimator, *args, **kwargs)\n"
     ]
    },
    {
     "name": "stdout",
     "output_type": "stream",
     "text": [
      "Trained and saved RandomForestRegressor model with parameters {'n_estimators': 50, 'max_depth': None, 'min_samples_split': 10, 'min_samples_leaf': 1, 'max_features': 'log2', 'bootstrap': True} to ../models/rf_50_estimators_None_depth_10_minsplit_1_minleaf_log2_features_True_bootstrap_hot.pkl\n"
     ]
    },
    {
     "name": "stderr",
     "output_type": "stream",
     "text": [
      "/work/Exam/DataScienceExam/env/airbnb/lib/python3.10/site-packages/sklearn/base.py:1474: DataConversionWarning: A column-vector y was passed when a 1d array was expected. Please change the shape of y to (n_samples,), for example using ravel().\n",
      "  return fit_method(estimator, *args, **kwargs)\n"
     ]
    },
    {
     "name": "stdout",
     "output_type": "stream",
     "text": [
      "Trained and saved RandomForestRegressor model with parameters {'n_estimators': 50, 'max_depth': None, 'min_samples_split': 10, 'min_samples_leaf': 2, 'max_features': 'sqrt', 'bootstrap': False} to ../models/rf_50_estimators_None_depth_10_minsplit_2_minleaf_sqrt_features_False_bootstrap_hot.pkl\n"
     ]
    },
    {
     "name": "stderr",
     "output_type": "stream",
     "text": [
      "/work/Exam/DataScienceExam/env/airbnb/lib/python3.10/site-packages/sklearn/base.py:1474: DataConversionWarning: A column-vector y was passed when a 1d array was expected. Please change the shape of y to (n_samples,), for example using ravel().\n",
      "  return fit_method(estimator, *args, **kwargs)\n"
     ]
    },
    {
     "name": "stdout",
     "output_type": "stream",
     "text": [
      "Trained and saved RandomForestRegressor model with parameters {'n_estimators': 50, 'max_depth': None, 'min_samples_split': 10, 'min_samples_leaf': 2, 'max_features': 'sqrt', 'bootstrap': True} to ../models/rf_50_estimators_None_depth_10_minsplit_2_minleaf_sqrt_features_True_bootstrap_hot.pkl\n"
     ]
    },
    {
     "name": "stderr",
     "output_type": "stream",
     "text": [
      "/work/Exam/DataScienceExam/env/airbnb/lib/python3.10/site-packages/sklearn/base.py:1474: DataConversionWarning: A column-vector y was passed when a 1d array was expected. Please change the shape of y to (n_samples,), for example using ravel().\n",
      "  return fit_method(estimator, *args, **kwargs)\n"
     ]
    },
    {
     "name": "stdout",
     "output_type": "stream",
     "text": [
      "Trained and saved RandomForestRegressor model with parameters {'n_estimators': 50, 'max_depth': None, 'min_samples_split': 10, 'min_samples_leaf': 2, 'max_features': 'log2', 'bootstrap': False} to ../models/rf_50_estimators_None_depth_10_minsplit_2_minleaf_log2_features_False_bootstrap_hot.pkl\n"
     ]
    },
    {
     "name": "stderr",
     "output_type": "stream",
     "text": [
      "/work/Exam/DataScienceExam/env/airbnb/lib/python3.10/site-packages/sklearn/base.py:1474: DataConversionWarning: A column-vector y was passed when a 1d array was expected. Please change the shape of y to (n_samples,), for example using ravel().\n",
      "  return fit_method(estimator, *args, **kwargs)\n"
     ]
    },
    {
     "name": "stdout",
     "output_type": "stream",
     "text": [
      "Trained and saved RandomForestRegressor model with parameters {'n_estimators': 50, 'max_depth': None, 'min_samples_split': 10, 'min_samples_leaf': 2, 'max_features': 'log2', 'bootstrap': True} to ../models/rf_50_estimators_None_depth_10_minsplit_2_minleaf_log2_features_True_bootstrap_hot.pkl\n"
     ]
    },
    {
     "name": "stderr",
     "output_type": "stream",
     "text": [
      "/work/Exam/DataScienceExam/env/airbnb/lib/python3.10/site-packages/sklearn/base.py:1474: DataConversionWarning: A column-vector y was passed when a 1d array was expected. Please change the shape of y to (n_samples,), for example using ravel().\n",
      "  return fit_method(estimator, *args, **kwargs)\n"
     ]
    },
    {
     "name": "stdout",
     "output_type": "stream",
     "text": [
      "Trained and saved RandomForestRegressor model with parameters {'n_estimators': 50, 'max_depth': None, 'min_samples_split': 10, 'min_samples_leaf': 5, 'max_features': 'sqrt', 'bootstrap': False} to ../models/rf_50_estimators_None_depth_10_minsplit_5_minleaf_sqrt_features_False_bootstrap_hot.pkl\n"
     ]
    },
    {
     "name": "stderr",
     "output_type": "stream",
     "text": [
      "/work/Exam/DataScienceExam/env/airbnb/lib/python3.10/site-packages/sklearn/base.py:1474: DataConversionWarning: A column-vector y was passed when a 1d array was expected. Please change the shape of y to (n_samples,), for example using ravel().\n",
      "  return fit_method(estimator, *args, **kwargs)\n"
     ]
    },
    {
     "name": "stdout",
     "output_type": "stream",
     "text": [
      "Trained and saved RandomForestRegressor model with parameters {'n_estimators': 50, 'max_depth': None, 'min_samples_split': 10, 'min_samples_leaf': 5, 'max_features': 'sqrt', 'bootstrap': True} to ../models/rf_50_estimators_None_depth_10_minsplit_5_minleaf_sqrt_features_True_bootstrap_hot.pkl\n"
     ]
    },
    {
     "name": "stderr",
     "output_type": "stream",
     "text": [
      "/work/Exam/DataScienceExam/env/airbnb/lib/python3.10/site-packages/sklearn/base.py:1474: DataConversionWarning: A column-vector y was passed when a 1d array was expected. Please change the shape of y to (n_samples,), for example using ravel().\n",
      "  return fit_method(estimator, *args, **kwargs)\n"
     ]
    },
    {
     "name": "stdout",
     "output_type": "stream",
     "text": [
      "Trained and saved RandomForestRegressor model with parameters {'n_estimators': 50, 'max_depth': None, 'min_samples_split': 10, 'min_samples_leaf': 5, 'max_features': 'log2', 'bootstrap': False} to ../models/rf_50_estimators_None_depth_10_minsplit_5_minleaf_log2_features_False_bootstrap_hot.pkl\n"
     ]
    },
    {
     "name": "stderr",
     "output_type": "stream",
     "text": [
      "/work/Exam/DataScienceExam/env/airbnb/lib/python3.10/site-packages/sklearn/base.py:1474: DataConversionWarning: A column-vector y was passed when a 1d array was expected. Please change the shape of y to (n_samples,), for example using ravel().\n",
      "  return fit_method(estimator, *args, **kwargs)\n"
     ]
    },
    {
     "name": "stdout",
     "output_type": "stream",
     "text": [
      "Trained and saved RandomForestRegressor model with parameters {'n_estimators': 50, 'max_depth': None, 'min_samples_split': 10, 'min_samples_leaf': 5, 'max_features': 'log2', 'bootstrap': True} to ../models/rf_50_estimators_None_depth_10_minsplit_5_minleaf_log2_features_True_bootstrap_hot.pkl\n"
     ]
    },
    {
     "name": "stderr",
     "output_type": "stream",
     "text": [
      "/work/Exam/DataScienceExam/env/airbnb/lib/python3.10/site-packages/sklearn/base.py:1474: DataConversionWarning: A column-vector y was passed when a 1d array was expected. Please change the shape of y to (n_samples,), for example using ravel().\n",
      "  return fit_method(estimator, *args, **kwargs)\n"
     ]
    },
    {
     "name": "stdout",
     "output_type": "stream",
     "text": [
      "Trained and saved RandomForestRegressor model with parameters {'n_estimators': 50, 'max_depth': None, 'min_samples_split': 15, 'min_samples_leaf': 1, 'max_features': 'sqrt', 'bootstrap': False} to ../models/rf_50_estimators_None_depth_15_minsplit_1_minleaf_sqrt_features_False_bootstrap_hot.pkl\n"
     ]
    },
    {
     "name": "stderr",
     "output_type": "stream",
     "text": [
      "/work/Exam/DataScienceExam/env/airbnb/lib/python3.10/site-packages/sklearn/base.py:1474: DataConversionWarning: A column-vector y was passed when a 1d array was expected. Please change the shape of y to (n_samples,), for example using ravel().\n",
      "  return fit_method(estimator, *args, **kwargs)\n"
     ]
    },
    {
     "name": "stdout",
     "output_type": "stream",
     "text": [
      "Trained and saved RandomForestRegressor model with parameters {'n_estimators': 50, 'max_depth': None, 'min_samples_split': 15, 'min_samples_leaf': 1, 'max_features': 'sqrt', 'bootstrap': True} to ../models/rf_50_estimators_None_depth_15_minsplit_1_minleaf_sqrt_features_True_bootstrap_hot.pkl\n"
     ]
    },
    {
     "name": "stderr",
     "output_type": "stream",
     "text": [
      "/work/Exam/DataScienceExam/env/airbnb/lib/python3.10/site-packages/sklearn/base.py:1474: DataConversionWarning: A column-vector y was passed when a 1d array was expected. Please change the shape of y to (n_samples,), for example using ravel().\n",
      "  return fit_method(estimator, *args, **kwargs)\n"
     ]
    },
    {
     "name": "stdout",
     "output_type": "stream",
     "text": [
      "Trained and saved RandomForestRegressor model with parameters {'n_estimators': 50, 'max_depth': None, 'min_samples_split': 15, 'min_samples_leaf': 1, 'max_features': 'log2', 'bootstrap': False} to ../models/rf_50_estimators_None_depth_15_minsplit_1_minleaf_log2_features_False_bootstrap_hot.pkl\n"
     ]
    },
    {
     "name": "stderr",
     "output_type": "stream",
     "text": [
      "/work/Exam/DataScienceExam/env/airbnb/lib/python3.10/site-packages/sklearn/base.py:1474: DataConversionWarning: A column-vector y was passed when a 1d array was expected. Please change the shape of y to (n_samples,), for example using ravel().\n",
      "  return fit_method(estimator, *args, **kwargs)\n"
     ]
    },
    {
     "name": "stdout",
     "output_type": "stream",
     "text": [
      "Trained and saved RandomForestRegressor model with parameters {'n_estimators': 50, 'max_depth': None, 'min_samples_split': 15, 'min_samples_leaf': 1, 'max_features': 'log2', 'bootstrap': True} to ../models/rf_50_estimators_None_depth_15_minsplit_1_minleaf_log2_features_True_bootstrap_hot.pkl\n"
     ]
    },
    {
     "name": "stderr",
     "output_type": "stream",
     "text": [
      "/work/Exam/DataScienceExam/env/airbnb/lib/python3.10/site-packages/sklearn/base.py:1474: DataConversionWarning: A column-vector y was passed when a 1d array was expected. Please change the shape of y to (n_samples,), for example using ravel().\n",
      "  return fit_method(estimator, *args, **kwargs)\n"
     ]
    },
    {
     "name": "stdout",
     "output_type": "stream",
     "text": [
      "Trained and saved RandomForestRegressor model with parameters {'n_estimators': 50, 'max_depth': None, 'min_samples_split': 15, 'min_samples_leaf': 2, 'max_features': 'sqrt', 'bootstrap': False} to ../models/rf_50_estimators_None_depth_15_minsplit_2_minleaf_sqrt_features_False_bootstrap_hot.pkl\n"
     ]
    },
    {
     "name": "stderr",
     "output_type": "stream",
     "text": [
      "/work/Exam/DataScienceExam/env/airbnb/lib/python3.10/site-packages/sklearn/base.py:1474: DataConversionWarning: A column-vector y was passed when a 1d array was expected. Please change the shape of y to (n_samples,), for example using ravel().\n",
      "  return fit_method(estimator, *args, **kwargs)\n"
     ]
    },
    {
     "name": "stdout",
     "output_type": "stream",
     "text": [
      "Trained and saved RandomForestRegressor model with parameters {'n_estimators': 50, 'max_depth': None, 'min_samples_split': 15, 'min_samples_leaf': 2, 'max_features': 'sqrt', 'bootstrap': True} to ../models/rf_50_estimators_None_depth_15_minsplit_2_minleaf_sqrt_features_True_bootstrap_hot.pkl\n"
     ]
    },
    {
     "name": "stderr",
     "output_type": "stream",
     "text": [
      "/work/Exam/DataScienceExam/env/airbnb/lib/python3.10/site-packages/sklearn/base.py:1474: DataConversionWarning: A column-vector y was passed when a 1d array was expected. Please change the shape of y to (n_samples,), for example using ravel().\n",
      "  return fit_method(estimator, *args, **kwargs)\n"
     ]
    },
    {
     "name": "stdout",
     "output_type": "stream",
     "text": [
      "Trained and saved RandomForestRegressor model with parameters {'n_estimators': 50, 'max_depth': None, 'min_samples_split': 15, 'min_samples_leaf': 2, 'max_features': 'log2', 'bootstrap': False} to ../models/rf_50_estimators_None_depth_15_minsplit_2_minleaf_log2_features_False_bootstrap_hot.pkl\n"
     ]
    },
    {
     "name": "stderr",
     "output_type": "stream",
     "text": [
      "/work/Exam/DataScienceExam/env/airbnb/lib/python3.10/site-packages/sklearn/base.py:1474: DataConversionWarning: A column-vector y was passed when a 1d array was expected. Please change the shape of y to (n_samples,), for example using ravel().\n",
      "  return fit_method(estimator, *args, **kwargs)\n"
     ]
    },
    {
     "name": "stdout",
     "output_type": "stream",
     "text": [
      "Trained and saved RandomForestRegressor model with parameters {'n_estimators': 50, 'max_depth': None, 'min_samples_split': 15, 'min_samples_leaf': 2, 'max_features': 'log2', 'bootstrap': True} to ../models/rf_50_estimators_None_depth_15_minsplit_2_minleaf_log2_features_True_bootstrap_hot.pkl\n"
     ]
    },
    {
     "name": "stderr",
     "output_type": "stream",
     "text": [
      "/work/Exam/DataScienceExam/env/airbnb/lib/python3.10/site-packages/sklearn/base.py:1474: DataConversionWarning: A column-vector y was passed when a 1d array was expected. Please change the shape of y to (n_samples,), for example using ravel().\n",
      "  return fit_method(estimator, *args, **kwargs)\n"
     ]
    },
    {
     "name": "stdout",
     "output_type": "stream",
     "text": [
      "Trained and saved RandomForestRegressor model with parameters {'n_estimators': 50, 'max_depth': None, 'min_samples_split': 15, 'min_samples_leaf': 5, 'max_features': 'sqrt', 'bootstrap': False} to ../models/rf_50_estimators_None_depth_15_minsplit_5_minleaf_sqrt_features_False_bootstrap_hot.pkl\n"
     ]
    },
    {
     "name": "stderr",
     "output_type": "stream",
     "text": [
      "/work/Exam/DataScienceExam/env/airbnb/lib/python3.10/site-packages/sklearn/base.py:1474: DataConversionWarning: A column-vector y was passed when a 1d array was expected. Please change the shape of y to (n_samples,), for example using ravel().\n",
      "  return fit_method(estimator, *args, **kwargs)\n"
     ]
    },
    {
     "name": "stdout",
     "output_type": "stream",
     "text": [
      "Trained and saved RandomForestRegressor model with parameters {'n_estimators': 50, 'max_depth': None, 'min_samples_split': 15, 'min_samples_leaf': 5, 'max_features': 'sqrt', 'bootstrap': True} to ../models/rf_50_estimators_None_depth_15_minsplit_5_minleaf_sqrt_features_True_bootstrap_hot.pkl\n"
     ]
    },
    {
     "name": "stderr",
     "output_type": "stream",
     "text": [
      "/work/Exam/DataScienceExam/env/airbnb/lib/python3.10/site-packages/sklearn/base.py:1474: DataConversionWarning: A column-vector y was passed when a 1d array was expected. Please change the shape of y to (n_samples,), for example using ravel().\n",
      "  return fit_method(estimator, *args, **kwargs)\n"
     ]
    },
    {
     "name": "stdout",
     "output_type": "stream",
     "text": [
      "Trained and saved RandomForestRegressor model with parameters {'n_estimators': 50, 'max_depth': None, 'min_samples_split': 15, 'min_samples_leaf': 5, 'max_features': 'log2', 'bootstrap': False} to ../models/rf_50_estimators_None_depth_15_minsplit_5_minleaf_log2_features_False_bootstrap_hot.pkl\n"
     ]
    },
    {
     "name": "stderr",
     "output_type": "stream",
     "text": [
      "/work/Exam/DataScienceExam/env/airbnb/lib/python3.10/site-packages/sklearn/base.py:1474: DataConversionWarning: A column-vector y was passed when a 1d array was expected. Please change the shape of y to (n_samples,), for example using ravel().\n",
      "  return fit_method(estimator, *args, **kwargs)\n"
     ]
    },
    {
     "name": "stdout",
     "output_type": "stream",
     "text": [
      "Trained and saved RandomForestRegressor model with parameters {'n_estimators': 50, 'max_depth': None, 'min_samples_split': 15, 'min_samples_leaf': 5, 'max_features': 'log2', 'bootstrap': True} to ../models/rf_50_estimators_None_depth_15_minsplit_5_minleaf_log2_features_True_bootstrap_hot.pkl\n"
     ]
    },
    {
     "name": "stderr",
     "output_type": "stream",
     "text": [
      "/work/Exam/DataScienceExam/env/airbnb/lib/python3.10/site-packages/sklearn/base.py:1474: DataConversionWarning: A column-vector y was passed when a 1d array was expected. Please change the shape of y to (n_samples,), for example using ravel().\n",
      "  return fit_method(estimator, *args, **kwargs)\n"
     ]
    },
    {
     "name": "stdout",
     "output_type": "stream",
     "text": [
      "Trained and saved RandomForestRegressor model with parameters {'n_estimators': 50, 'max_depth': 20, 'min_samples_split': 5, 'min_samples_leaf': 1, 'max_features': 'sqrt', 'bootstrap': False} to ../models/rf_50_estimators_20_depth_5_minsplit_1_minleaf_sqrt_features_False_bootstrap_hot.pkl\n"
     ]
    },
    {
     "name": "stderr",
     "output_type": "stream",
     "text": [
      "/work/Exam/DataScienceExam/env/airbnb/lib/python3.10/site-packages/sklearn/base.py:1474: DataConversionWarning: A column-vector y was passed when a 1d array was expected. Please change the shape of y to (n_samples,), for example using ravel().\n",
      "  return fit_method(estimator, *args, **kwargs)\n"
     ]
    },
    {
     "name": "stdout",
     "output_type": "stream",
     "text": [
      "Trained and saved RandomForestRegressor model with parameters {'n_estimators': 50, 'max_depth': 20, 'min_samples_split': 5, 'min_samples_leaf': 1, 'max_features': 'sqrt', 'bootstrap': True} to ../models/rf_50_estimators_20_depth_5_minsplit_1_minleaf_sqrt_features_True_bootstrap_hot.pkl\n"
     ]
    },
    {
     "name": "stderr",
     "output_type": "stream",
     "text": [
      "/work/Exam/DataScienceExam/env/airbnb/lib/python3.10/site-packages/sklearn/base.py:1474: DataConversionWarning: A column-vector y was passed when a 1d array was expected. Please change the shape of y to (n_samples,), for example using ravel().\n",
      "  return fit_method(estimator, *args, **kwargs)\n"
     ]
    },
    {
     "name": "stdout",
     "output_type": "stream",
     "text": [
      "Trained and saved RandomForestRegressor model with parameters {'n_estimators': 50, 'max_depth': 20, 'min_samples_split': 5, 'min_samples_leaf': 1, 'max_features': 'log2', 'bootstrap': False} to ../models/rf_50_estimators_20_depth_5_minsplit_1_minleaf_log2_features_False_bootstrap_hot.pkl\n"
     ]
    },
    {
     "name": "stderr",
     "output_type": "stream",
     "text": [
      "/work/Exam/DataScienceExam/env/airbnb/lib/python3.10/site-packages/sklearn/base.py:1474: DataConversionWarning: A column-vector y was passed when a 1d array was expected. Please change the shape of y to (n_samples,), for example using ravel().\n",
      "  return fit_method(estimator, *args, **kwargs)\n"
     ]
    },
    {
     "name": "stdout",
     "output_type": "stream",
     "text": [
      "Trained and saved RandomForestRegressor model with parameters {'n_estimators': 50, 'max_depth': 20, 'min_samples_split': 5, 'min_samples_leaf': 1, 'max_features': 'log2', 'bootstrap': True} to ../models/rf_50_estimators_20_depth_5_minsplit_1_minleaf_log2_features_True_bootstrap_hot.pkl\n"
     ]
    },
    {
     "name": "stderr",
     "output_type": "stream",
     "text": [
      "/work/Exam/DataScienceExam/env/airbnb/lib/python3.10/site-packages/sklearn/base.py:1474: DataConversionWarning: A column-vector y was passed when a 1d array was expected. Please change the shape of y to (n_samples,), for example using ravel().\n",
      "  return fit_method(estimator, *args, **kwargs)\n"
     ]
    },
    {
     "name": "stdout",
     "output_type": "stream",
     "text": [
      "Trained and saved RandomForestRegressor model with parameters {'n_estimators': 50, 'max_depth': 20, 'min_samples_split': 5, 'min_samples_leaf': 2, 'max_features': 'sqrt', 'bootstrap': False} to ../models/rf_50_estimators_20_depth_5_minsplit_2_minleaf_sqrt_features_False_bootstrap_hot.pkl\n"
     ]
    },
    {
     "name": "stderr",
     "output_type": "stream",
     "text": [
      "/work/Exam/DataScienceExam/env/airbnb/lib/python3.10/site-packages/sklearn/base.py:1474: DataConversionWarning: A column-vector y was passed when a 1d array was expected. Please change the shape of y to (n_samples,), for example using ravel().\n",
      "  return fit_method(estimator, *args, **kwargs)\n"
     ]
    },
    {
     "name": "stdout",
     "output_type": "stream",
     "text": [
      "Trained and saved RandomForestRegressor model with parameters {'n_estimators': 50, 'max_depth': 20, 'min_samples_split': 5, 'min_samples_leaf': 2, 'max_features': 'sqrt', 'bootstrap': True} to ../models/rf_50_estimators_20_depth_5_minsplit_2_minleaf_sqrt_features_True_bootstrap_hot.pkl\n"
     ]
    },
    {
     "name": "stderr",
     "output_type": "stream",
     "text": [
      "/work/Exam/DataScienceExam/env/airbnb/lib/python3.10/site-packages/sklearn/base.py:1474: DataConversionWarning: A column-vector y was passed when a 1d array was expected. Please change the shape of y to (n_samples,), for example using ravel().\n",
      "  return fit_method(estimator, *args, **kwargs)\n"
     ]
    },
    {
     "name": "stdout",
     "output_type": "stream",
     "text": [
      "Trained and saved RandomForestRegressor model with parameters {'n_estimators': 50, 'max_depth': 20, 'min_samples_split': 5, 'min_samples_leaf': 2, 'max_features': 'log2', 'bootstrap': False} to ../models/rf_50_estimators_20_depth_5_minsplit_2_minleaf_log2_features_False_bootstrap_hot.pkl\n"
     ]
    },
    {
     "name": "stderr",
     "output_type": "stream",
     "text": [
      "/work/Exam/DataScienceExam/env/airbnb/lib/python3.10/site-packages/sklearn/base.py:1474: DataConversionWarning: A column-vector y was passed when a 1d array was expected. Please change the shape of y to (n_samples,), for example using ravel().\n",
      "  return fit_method(estimator, *args, **kwargs)\n"
     ]
    },
    {
     "name": "stdout",
     "output_type": "stream",
     "text": [
      "Trained and saved RandomForestRegressor model with parameters {'n_estimators': 50, 'max_depth': 20, 'min_samples_split': 5, 'min_samples_leaf': 2, 'max_features': 'log2', 'bootstrap': True} to ../models/rf_50_estimators_20_depth_5_minsplit_2_minleaf_log2_features_True_bootstrap_hot.pkl\n"
     ]
    },
    {
     "name": "stderr",
     "output_type": "stream",
     "text": [
      "/work/Exam/DataScienceExam/env/airbnb/lib/python3.10/site-packages/sklearn/base.py:1474: DataConversionWarning: A column-vector y was passed when a 1d array was expected. Please change the shape of y to (n_samples,), for example using ravel().\n",
      "  return fit_method(estimator, *args, **kwargs)\n"
     ]
    },
    {
     "name": "stdout",
     "output_type": "stream",
     "text": [
      "Trained and saved RandomForestRegressor model with parameters {'n_estimators': 50, 'max_depth': 20, 'min_samples_split': 5, 'min_samples_leaf': 5, 'max_features': 'sqrt', 'bootstrap': False} to ../models/rf_50_estimators_20_depth_5_minsplit_5_minleaf_sqrt_features_False_bootstrap_hot.pkl\n"
     ]
    },
    {
     "name": "stderr",
     "output_type": "stream",
     "text": [
      "/work/Exam/DataScienceExam/env/airbnb/lib/python3.10/site-packages/sklearn/base.py:1474: DataConversionWarning: A column-vector y was passed when a 1d array was expected. Please change the shape of y to (n_samples,), for example using ravel().\n",
      "  return fit_method(estimator, *args, **kwargs)\n"
     ]
    },
    {
     "name": "stdout",
     "output_type": "stream",
     "text": [
      "Trained and saved RandomForestRegressor model with parameters {'n_estimators': 50, 'max_depth': 20, 'min_samples_split': 5, 'min_samples_leaf': 5, 'max_features': 'sqrt', 'bootstrap': True} to ../models/rf_50_estimators_20_depth_5_minsplit_5_minleaf_sqrt_features_True_bootstrap_hot.pkl\n"
     ]
    },
    {
     "name": "stderr",
     "output_type": "stream",
     "text": [
      "/work/Exam/DataScienceExam/env/airbnb/lib/python3.10/site-packages/sklearn/base.py:1474: DataConversionWarning: A column-vector y was passed when a 1d array was expected. Please change the shape of y to (n_samples,), for example using ravel().\n",
      "  return fit_method(estimator, *args, **kwargs)\n"
     ]
    },
    {
     "name": "stdout",
     "output_type": "stream",
     "text": [
      "Trained and saved RandomForestRegressor model with parameters {'n_estimators': 50, 'max_depth': 20, 'min_samples_split': 5, 'min_samples_leaf': 5, 'max_features': 'log2', 'bootstrap': False} to ../models/rf_50_estimators_20_depth_5_minsplit_5_minleaf_log2_features_False_bootstrap_hot.pkl\n"
     ]
    },
    {
     "name": "stderr",
     "output_type": "stream",
     "text": [
      "/work/Exam/DataScienceExam/env/airbnb/lib/python3.10/site-packages/sklearn/base.py:1474: DataConversionWarning: A column-vector y was passed when a 1d array was expected. Please change the shape of y to (n_samples,), for example using ravel().\n",
      "  return fit_method(estimator, *args, **kwargs)\n"
     ]
    },
    {
     "name": "stdout",
     "output_type": "stream",
     "text": [
      "Trained and saved RandomForestRegressor model with parameters {'n_estimators': 50, 'max_depth': 20, 'min_samples_split': 5, 'min_samples_leaf': 5, 'max_features': 'log2', 'bootstrap': True} to ../models/rf_50_estimators_20_depth_5_minsplit_5_minleaf_log2_features_True_bootstrap_hot.pkl\n"
     ]
    },
    {
     "name": "stderr",
     "output_type": "stream",
     "text": [
      "/work/Exam/DataScienceExam/env/airbnb/lib/python3.10/site-packages/sklearn/base.py:1474: DataConversionWarning: A column-vector y was passed when a 1d array was expected. Please change the shape of y to (n_samples,), for example using ravel().\n",
      "  return fit_method(estimator, *args, **kwargs)\n"
     ]
    },
    {
     "name": "stdout",
     "output_type": "stream",
     "text": [
      "Trained and saved RandomForestRegressor model with parameters {'n_estimators': 50, 'max_depth': 20, 'min_samples_split': 10, 'min_samples_leaf': 1, 'max_features': 'sqrt', 'bootstrap': False} to ../models/rf_50_estimators_20_depth_10_minsplit_1_minleaf_sqrt_features_False_bootstrap_hot.pkl\n"
     ]
    },
    {
     "name": "stderr",
     "output_type": "stream",
     "text": [
      "/work/Exam/DataScienceExam/env/airbnb/lib/python3.10/site-packages/sklearn/base.py:1474: DataConversionWarning: A column-vector y was passed when a 1d array was expected. Please change the shape of y to (n_samples,), for example using ravel().\n",
      "  return fit_method(estimator, *args, **kwargs)\n"
     ]
    },
    {
     "name": "stdout",
     "output_type": "stream",
     "text": [
      "Trained and saved RandomForestRegressor model with parameters {'n_estimators': 50, 'max_depth': 20, 'min_samples_split': 10, 'min_samples_leaf': 1, 'max_features': 'sqrt', 'bootstrap': True} to ../models/rf_50_estimators_20_depth_10_minsplit_1_minleaf_sqrt_features_True_bootstrap_hot.pkl\n"
     ]
    },
    {
     "name": "stderr",
     "output_type": "stream",
     "text": [
      "/work/Exam/DataScienceExam/env/airbnb/lib/python3.10/site-packages/sklearn/base.py:1474: DataConversionWarning: A column-vector y was passed when a 1d array was expected. Please change the shape of y to (n_samples,), for example using ravel().\n",
      "  return fit_method(estimator, *args, **kwargs)\n"
     ]
    },
    {
     "name": "stdout",
     "output_type": "stream",
     "text": [
      "Trained and saved RandomForestRegressor model with parameters {'n_estimators': 50, 'max_depth': 20, 'min_samples_split': 10, 'min_samples_leaf': 1, 'max_features': 'log2', 'bootstrap': False} to ../models/rf_50_estimators_20_depth_10_minsplit_1_minleaf_log2_features_False_bootstrap_hot.pkl\n"
     ]
    },
    {
     "name": "stderr",
     "output_type": "stream",
     "text": [
      "/work/Exam/DataScienceExam/env/airbnb/lib/python3.10/site-packages/sklearn/base.py:1474: DataConversionWarning: A column-vector y was passed when a 1d array was expected. Please change the shape of y to (n_samples,), for example using ravel().\n",
      "  return fit_method(estimator, *args, **kwargs)\n"
     ]
    },
    {
     "name": "stdout",
     "output_type": "stream",
     "text": [
      "Trained and saved RandomForestRegressor model with parameters {'n_estimators': 50, 'max_depth': 20, 'min_samples_split': 10, 'min_samples_leaf': 1, 'max_features': 'log2', 'bootstrap': True} to ../models/rf_50_estimators_20_depth_10_minsplit_1_minleaf_log2_features_True_bootstrap_hot.pkl\n"
     ]
    },
    {
     "name": "stderr",
     "output_type": "stream",
     "text": [
      "/work/Exam/DataScienceExam/env/airbnb/lib/python3.10/site-packages/sklearn/base.py:1474: DataConversionWarning: A column-vector y was passed when a 1d array was expected. Please change the shape of y to (n_samples,), for example using ravel().\n",
      "  return fit_method(estimator, *args, **kwargs)\n"
     ]
    },
    {
     "name": "stdout",
     "output_type": "stream",
     "text": [
      "Trained and saved RandomForestRegressor model with parameters {'n_estimators': 50, 'max_depth': 20, 'min_samples_split': 10, 'min_samples_leaf': 2, 'max_features': 'sqrt', 'bootstrap': False} to ../models/rf_50_estimators_20_depth_10_minsplit_2_minleaf_sqrt_features_False_bootstrap_hot.pkl\n"
     ]
    },
    {
     "name": "stderr",
     "output_type": "stream",
     "text": [
      "/work/Exam/DataScienceExam/env/airbnb/lib/python3.10/site-packages/sklearn/base.py:1474: DataConversionWarning: A column-vector y was passed when a 1d array was expected. Please change the shape of y to (n_samples,), for example using ravel().\n",
      "  return fit_method(estimator, *args, **kwargs)\n"
     ]
    },
    {
     "name": "stdout",
     "output_type": "stream",
     "text": [
      "Trained and saved RandomForestRegressor model with parameters {'n_estimators': 50, 'max_depth': 20, 'min_samples_split': 10, 'min_samples_leaf': 2, 'max_features': 'sqrt', 'bootstrap': True} to ../models/rf_50_estimators_20_depth_10_minsplit_2_minleaf_sqrt_features_True_bootstrap_hot.pkl\n"
     ]
    },
    {
     "name": "stderr",
     "output_type": "stream",
     "text": [
      "/work/Exam/DataScienceExam/env/airbnb/lib/python3.10/site-packages/sklearn/base.py:1474: DataConversionWarning: A column-vector y was passed when a 1d array was expected. Please change the shape of y to (n_samples,), for example using ravel().\n",
      "  return fit_method(estimator, *args, **kwargs)\n"
     ]
    },
    {
     "name": "stdout",
     "output_type": "stream",
     "text": [
      "Trained and saved RandomForestRegressor model with parameters {'n_estimators': 50, 'max_depth': 20, 'min_samples_split': 10, 'min_samples_leaf': 2, 'max_features': 'log2', 'bootstrap': False} to ../models/rf_50_estimators_20_depth_10_minsplit_2_minleaf_log2_features_False_bootstrap_hot.pkl\n"
     ]
    },
    {
     "name": "stderr",
     "output_type": "stream",
     "text": [
      "/work/Exam/DataScienceExam/env/airbnb/lib/python3.10/site-packages/sklearn/base.py:1474: DataConversionWarning: A column-vector y was passed when a 1d array was expected. Please change the shape of y to (n_samples,), for example using ravel().\n",
      "  return fit_method(estimator, *args, **kwargs)\n"
     ]
    },
    {
     "name": "stdout",
     "output_type": "stream",
     "text": [
      "Trained and saved RandomForestRegressor model with parameters {'n_estimators': 50, 'max_depth': 20, 'min_samples_split': 10, 'min_samples_leaf': 2, 'max_features': 'log2', 'bootstrap': True} to ../models/rf_50_estimators_20_depth_10_minsplit_2_minleaf_log2_features_True_bootstrap_hot.pkl\n"
     ]
    },
    {
     "name": "stderr",
     "output_type": "stream",
     "text": [
      "/work/Exam/DataScienceExam/env/airbnb/lib/python3.10/site-packages/sklearn/base.py:1474: DataConversionWarning: A column-vector y was passed when a 1d array was expected. Please change the shape of y to (n_samples,), for example using ravel().\n",
      "  return fit_method(estimator, *args, **kwargs)\n"
     ]
    },
    {
     "name": "stdout",
     "output_type": "stream",
     "text": [
      "Trained and saved RandomForestRegressor model with parameters {'n_estimators': 50, 'max_depth': 20, 'min_samples_split': 10, 'min_samples_leaf': 5, 'max_features': 'sqrt', 'bootstrap': False} to ../models/rf_50_estimators_20_depth_10_minsplit_5_minleaf_sqrt_features_False_bootstrap_hot.pkl\n"
     ]
    },
    {
     "name": "stderr",
     "output_type": "stream",
     "text": [
      "/work/Exam/DataScienceExam/env/airbnb/lib/python3.10/site-packages/sklearn/base.py:1474: DataConversionWarning: A column-vector y was passed when a 1d array was expected. Please change the shape of y to (n_samples,), for example using ravel().\n",
      "  return fit_method(estimator, *args, **kwargs)\n"
     ]
    },
    {
     "name": "stdout",
     "output_type": "stream",
     "text": [
      "Trained and saved RandomForestRegressor model with parameters {'n_estimators': 50, 'max_depth': 20, 'min_samples_split': 10, 'min_samples_leaf': 5, 'max_features': 'sqrt', 'bootstrap': True} to ../models/rf_50_estimators_20_depth_10_minsplit_5_minleaf_sqrt_features_True_bootstrap_hot.pkl\n"
     ]
    },
    {
     "name": "stderr",
     "output_type": "stream",
     "text": [
      "/work/Exam/DataScienceExam/env/airbnb/lib/python3.10/site-packages/sklearn/base.py:1474: DataConversionWarning: A column-vector y was passed when a 1d array was expected. Please change the shape of y to (n_samples,), for example using ravel().\n",
      "  return fit_method(estimator, *args, **kwargs)\n"
     ]
    },
    {
     "name": "stdout",
     "output_type": "stream",
     "text": [
      "Trained and saved RandomForestRegressor model with parameters {'n_estimators': 50, 'max_depth': 20, 'min_samples_split': 10, 'min_samples_leaf': 5, 'max_features': 'log2', 'bootstrap': False} to ../models/rf_50_estimators_20_depth_10_minsplit_5_minleaf_log2_features_False_bootstrap_hot.pkl\n"
     ]
    },
    {
     "name": "stderr",
     "output_type": "stream",
     "text": [
      "/work/Exam/DataScienceExam/env/airbnb/lib/python3.10/site-packages/sklearn/base.py:1474: DataConversionWarning: A column-vector y was passed when a 1d array was expected. Please change the shape of y to (n_samples,), for example using ravel().\n",
      "  return fit_method(estimator, *args, **kwargs)\n"
     ]
    },
    {
     "name": "stdout",
     "output_type": "stream",
     "text": [
      "Trained and saved RandomForestRegressor model with parameters {'n_estimators': 50, 'max_depth': 20, 'min_samples_split': 10, 'min_samples_leaf': 5, 'max_features': 'log2', 'bootstrap': True} to ../models/rf_50_estimators_20_depth_10_minsplit_5_minleaf_log2_features_True_bootstrap_hot.pkl\n"
     ]
    },
    {
     "name": "stderr",
     "output_type": "stream",
     "text": [
      "/work/Exam/DataScienceExam/env/airbnb/lib/python3.10/site-packages/sklearn/base.py:1474: DataConversionWarning: A column-vector y was passed when a 1d array was expected. Please change the shape of y to (n_samples,), for example using ravel().\n",
      "  return fit_method(estimator, *args, **kwargs)\n"
     ]
    },
    {
     "name": "stdout",
     "output_type": "stream",
     "text": [
      "Trained and saved RandomForestRegressor model with parameters {'n_estimators': 50, 'max_depth': 20, 'min_samples_split': 15, 'min_samples_leaf': 1, 'max_features': 'sqrt', 'bootstrap': False} to ../models/rf_50_estimators_20_depth_15_minsplit_1_minleaf_sqrt_features_False_bootstrap_hot.pkl\n"
     ]
    },
    {
     "name": "stderr",
     "output_type": "stream",
     "text": [
      "/work/Exam/DataScienceExam/env/airbnb/lib/python3.10/site-packages/sklearn/base.py:1474: DataConversionWarning: A column-vector y was passed when a 1d array was expected. Please change the shape of y to (n_samples,), for example using ravel().\n",
      "  return fit_method(estimator, *args, **kwargs)\n"
     ]
    },
    {
     "name": "stdout",
     "output_type": "stream",
     "text": [
      "Trained and saved RandomForestRegressor model with parameters {'n_estimators': 50, 'max_depth': 20, 'min_samples_split': 15, 'min_samples_leaf': 1, 'max_features': 'sqrt', 'bootstrap': True} to ../models/rf_50_estimators_20_depth_15_minsplit_1_minleaf_sqrt_features_True_bootstrap_hot.pkl\n"
     ]
    },
    {
     "name": "stderr",
     "output_type": "stream",
     "text": [
      "/work/Exam/DataScienceExam/env/airbnb/lib/python3.10/site-packages/sklearn/base.py:1474: DataConversionWarning: A column-vector y was passed when a 1d array was expected. Please change the shape of y to (n_samples,), for example using ravel().\n",
      "  return fit_method(estimator, *args, **kwargs)\n"
     ]
    },
    {
     "name": "stdout",
     "output_type": "stream",
     "text": [
      "Trained and saved RandomForestRegressor model with parameters {'n_estimators': 50, 'max_depth': 20, 'min_samples_split': 15, 'min_samples_leaf': 1, 'max_features': 'log2', 'bootstrap': False} to ../models/rf_50_estimators_20_depth_15_minsplit_1_minleaf_log2_features_False_bootstrap_hot.pkl\n"
     ]
    },
    {
     "name": "stderr",
     "output_type": "stream",
     "text": [
      "/work/Exam/DataScienceExam/env/airbnb/lib/python3.10/site-packages/sklearn/base.py:1474: DataConversionWarning: A column-vector y was passed when a 1d array was expected. Please change the shape of y to (n_samples,), for example using ravel().\n",
      "  return fit_method(estimator, *args, **kwargs)\n"
     ]
    },
    {
     "name": "stdout",
     "output_type": "stream",
     "text": [
      "Trained and saved RandomForestRegressor model with parameters {'n_estimators': 50, 'max_depth': 20, 'min_samples_split': 15, 'min_samples_leaf': 1, 'max_features': 'log2', 'bootstrap': True} to ../models/rf_50_estimators_20_depth_15_minsplit_1_minleaf_log2_features_True_bootstrap_hot.pkl\n"
     ]
    },
    {
     "name": "stderr",
     "output_type": "stream",
     "text": [
      "/work/Exam/DataScienceExam/env/airbnb/lib/python3.10/site-packages/sklearn/base.py:1474: DataConversionWarning: A column-vector y was passed when a 1d array was expected. Please change the shape of y to (n_samples,), for example using ravel().\n",
      "  return fit_method(estimator, *args, **kwargs)\n"
     ]
    },
    {
     "name": "stdout",
     "output_type": "stream",
     "text": [
      "Trained and saved RandomForestRegressor model with parameters {'n_estimators': 50, 'max_depth': 20, 'min_samples_split': 15, 'min_samples_leaf': 2, 'max_features': 'sqrt', 'bootstrap': False} to ../models/rf_50_estimators_20_depth_15_minsplit_2_minleaf_sqrt_features_False_bootstrap_hot.pkl\n"
     ]
    },
    {
     "name": "stderr",
     "output_type": "stream",
     "text": [
      "/work/Exam/DataScienceExam/env/airbnb/lib/python3.10/site-packages/sklearn/base.py:1474: DataConversionWarning: A column-vector y was passed when a 1d array was expected. Please change the shape of y to (n_samples,), for example using ravel().\n",
      "  return fit_method(estimator, *args, **kwargs)\n"
     ]
    },
    {
     "name": "stdout",
     "output_type": "stream",
     "text": [
      "Trained and saved RandomForestRegressor model with parameters {'n_estimators': 50, 'max_depth': 20, 'min_samples_split': 15, 'min_samples_leaf': 2, 'max_features': 'sqrt', 'bootstrap': True} to ../models/rf_50_estimators_20_depth_15_minsplit_2_minleaf_sqrt_features_True_bootstrap_hot.pkl\n"
     ]
    },
    {
     "name": "stderr",
     "output_type": "stream",
     "text": [
      "/work/Exam/DataScienceExam/env/airbnb/lib/python3.10/site-packages/sklearn/base.py:1474: DataConversionWarning: A column-vector y was passed when a 1d array was expected. Please change the shape of y to (n_samples,), for example using ravel().\n",
      "  return fit_method(estimator, *args, **kwargs)\n"
     ]
    },
    {
     "name": "stdout",
     "output_type": "stream",
     "text": [
      "Trained and saved RandomForestRegressor model with parameters {'n_estimators': 50, 'max_depth': 20, 'min_samples_split': 15, 'min_samples_leaf': 2, 'max_features': 'log2', 'bootstrap': False} to ../models/rf_50_estimators_20_depth_15_minsplit_2_minleaf_log2_features_False_bootstrap_hot.pkl\n"
     ]
    },
    {
     "name": "stderr",
     "output_type": "stream",
     "text": [
      "/work/Exam/DataScienceExam/env/airbnb/lib/python3.10/site-packages/sklearn/base.py:1474: DataConversionWarning: A column-vector y was passed when a 1d array was expected. Please change the shape of y to (n_samples,), for example using ravel().\n",
      "  return fit_method(estimator, *args, **kwargs)\n"
     ]
    },
    {
     "name": "stdout",
     "output_type": "stream",
     "text": [
      "Trained and saved RandomForestRegressor model with parameters {'n_estimators': 50, 'max_depth': 20, 'min_samples_split': 15, 'min_samples_leaf': 2, 'max_features': 'log2', 'bootstrap': True} to ../models/rf_50_estimators_20_depth_15_minsplit_2_minleaf_log2_features_True_bootstrap_hot.pkl\n"
     ]
    },
    {
     "name": "stderr",
     "output_type": "stream",
     "text": [
      "/work/Exam/DataScienceExam/env/airbnb/lib/python3.10/site-packages/sklearn/base.py:1474: DataConversionWarning: A column-vector y was passed when a 1d array was expected. Please change the shape of y to (n_samples,), for example using ravel().\n",
      "  return fit_method(estimator, *args, **kwargs)\n"
     ]
    },
    {
     "name": "stdout",
     "output_type": "stream",
     "text": [
      "Trained and saved RandomForestRegressor model with parameters {'n_estimators': 50, 'max_depth': 20, 'min_samples_split': 15, 'min_samples_leaf': 5, 'max_features': 'sqrt', 'bootstrap': False} to ../models/rf_50_estimators_20_depth_15_minsplit_5_minleaf_sqrt_features_False_bootstrap_hot.pkl\n"
     ]
    },
    {
     "name": "stderr",
     "output_type": "stream",
     "text": [
      "/work/Exam/DataScienceExam/env/airbnb/lib/python3.10/site-packages/sklearn/base.py:1474: DataConversionWarning: A column-vector y was passed when a 1d array was expected. Please change the shape of y to (n_samples,), for example using ravel().\n",
      "  return fit_method(estimator, *args, **kwargs)\n"
     ]
    },
    {
     "name": "stdout",
     "output_type": "stream",
     "text": [
      "Trained and saved RandomForestRegressor model with parameters {'n_estimators': 50, 'max_depth': 20, 'min_samples_split': 15, 'min_samples_leaf': 5, 'max_features': 'sqrt', 'bootstrap': True} to ../models/rf_50_estimators_20_depth_15_minsplit_5_minleaf_sqrt_features_True_bootstrap_hot.pkl\n"
     ]
    },
    {
     "name": "stderr",
     "output_type": "stream",
     "text": [
      "/work/Exam/DataScienceExam/env/airbnb/lib/python3.10/site-packages/sklearn/base.py:1474: DataConversionWarning: A column-vector y was passed when a 1d array was expected. Please change the shape of y to (n_samples,), for example using ravel().\n",
      "  return fit_method(estimator, *args, **kwargs)\n"
     ]
    },
    {
     "name": "stdout",
     "output_type": "stream",
     "text": [
      "Trained and saved RandomForestRegressor model with parameters {'n_estimators': 50, 'max_depth': 20, 'min_samples_split': 15, 'min_samples_leaf': 5, 'max_features': 'log2', 'bootstrap': False} to ../models/rf_50_estimators_20_depth_15_minsplit_5_minleaf_log2_features_False_bootstrap_hot.pkl\n"
     ]
    },
    {
     "name": "stderr",
     "output_type": "stream",
     "text": [
      "/work/Exam/DataScienceExam/env/airbnb/lib/python3.10/site-packages/sklearn/base.py:1474: DataConversionWarning: A column-vector y was passed when a 1d array was expected. Please change the shape of y to (n_samples,), for example using ravel().\n",
      "  return fit_method(estimator, *args, **kwargs)\n"
     ]
    },
    {
     "name": "stdout",
     "output_type": "stream",
     "text": [
      "Trained and saved RandomForestRegressor model with parameters {'n_estimators': 50, 'max_depth': 20, 'min_samples_split': 15, 'min_samples_leaf': 5, 'max_features': 'log2', 'bootstrap': True} to ../models/rf_50_estimators_20_depth_15_minsplit_5_minleaf_log2_features_True_bootstrap_hot.pkl\n"
     ]
    },
    {
     "name": "stderr",
     "output_type": "stream",
     "text": [
      "/work/Exam/DataScienceExam/env/airbnb/lib/python3.10/site-packages/sklearn/base.py:1474: DataConversionWarning: A column-vector y was passed when a 1d array was expected. Please change the shape of y to (n_samples,), for example using ravel().\n",
      "  return fit_method(estimator, *args, **kwargs)\n"
     ]
    },
    {
     "name": "stdout",
     "output_type": "stream",
     "text": [
      "Trained and saved RandomForestRegressor model with parameters {'n_estimators': 50, 'max_depth': 30, 'min_samples_split': 5, 'min_samples_leaf': 1, 'max_features': 'sqrt', 'bootstrap': False} to ../models/rf_50_estimators_30_depth_5_minsplit_1_minleaf_sqrt_features_False_bootstrap_hot.pkl\n"
     ]
    },
    {
     "name": "stderr",
     "output_type": "stream",
     "text": [
      "/work/Exam/DataScienceExam/env/airbnb/lib/python3.10/site-packages/sklearn/base.py:1474: DataConversionWarning: A column-vector y was passed when a 1d array was expected. Please change the shape of y to (n_samples,), for example using ravel().\n",
      "  return fit_method(estimator, *args, **kwargs)\n"
     ]
    },
    {
     "name": "stdout",
     "output_type": "stream",
     "text": [
      "Trained and saved RandomForestRegressor model with parameters {'n_estimators': 50, 'max_depth': 30, 'min_samples_split': 5, 'min_samples_leaf': 1, 'max_features': 'sqrt', 'bootstrap': True} to ../models/rf_50_estimators_30_depth_5_minsplit_1_minleaf_sqrt_features_True_bootstrap_hot.pkl\n"
     ]
    },
    {
     "name": "stderr",
     "output_type": "stream",
     "text": [
      "/work/Exam/DataScienceExam/env/airbnb/lib/python3.10/site-packages/sklearn/base.py:1474: DataConversionWarning: A column-vector y was passed when a 1d array was expected. Please change the shape of y to (n_samples,), for example using ravel().\n",
      "  return fit_method(estimator, *args, **kwargs)\n"
     ]
    },
    {
     "name": "stdout",
     "output_type": "stream",
     "text": [
      "Trained and saved RandomForestRegressor model with parameters {'n_estimators': 50, 'max_depth': 30, 'min_samples_split': 5, 'min_samples_leaf': 1, 'max_features': 'log2', 'bootstrap': False} to ../models/rf_50_estimators_30_depth_5_minsplit_1_minleaf_log2_features_False_bootstrap_hot.pkl\n"
     ]
    },
    {
     "name": "stderr",
     "output_type": "stream",
     "text": [
      "/work/Exam/DataScienceExam/env/airbnb/lib/python3.10/site-packages/sklearn/base.py:1474: DataConversionWarning: A column-vector y was passed when a 1d array was expected. Please change the shape of y to (n_samples,), for example using ravel().\n",
      "  return fit_method(estimator, *args, **kwargs)\n"
     ]
    },
    {
     "name": "stdout",
     "output_type": "stream",
     "text": [
      "Trained and saved RandomForestRegressor model with parameters {'n_estimators': 50, 'max_depth': 30, 'min_samples_split': 5, 'min_samples_leaf': 1, 'max_features': 'log2', 'bootstrap': True} to ../models/rf_50_estimators_30_depth_5_minsplit_1_minleaf_log2_features_True_bootstrap_hot.pkl\n"
     ]
    },
    {
     "name": "stderr",
     "output_type": "stream",
     "text": [
      "/work/Exam/DataScienceExam/env/airbnb/lib/python3.10/site-packages/sklearn/base.py:1474: DataConversionWarning: A column-vector y was passed when a 1d array was expected. Please change the shape of y to (n_samples,), for example using ravel().\n",
      "  return fit_method(estimator, *args, **kwargs)\n"
     ]
    },
    {
     "name": "stdout",
     "output_type": "stream",
     "text": [
      "Trained and saved RandomForestRegressor model with parameters {'n_estimators': 50, 'max_depth': 30, 'min_samples_split': 5, 'min_samples_leaf': 2, 'max_features': 'sqrt', 'bootstrap': False} to ../models/rf_50_estimators_30_depth_5_minsplit_2_minleaf_sqrt_features_False_bootstrap_hot.pkl\n"
     ]
    },
    {
     "name": "stderr",
     "output_type": "stream",
     "text": [
      "/work/Exam/DataScienceExam/env/airbnb/lib/python3.10/site-packages/sklearn/base.py:1474: DataConversionWarning: A column-vector y was passed when a 1d array was expected. Please change the shape of y to (n_samples,), for example using ravel().\n",
      "  return fit_method(estimator, *args, **kwargs)\n"
     ]
    },
    {
     "name": "stdout",
     "output_type": "stream",
     "text": [
      "Trained and saved RandomForestRegressor model with parameters {'n_estimators': 50, 'max_depth': 30, 'min_samples_split': 5, 'min_samples_leaf': 2, 'max_features': 'sqrt', 'bootstrap': True} to ../models/rf_50_estimators_30_depth_5_minsplit_2_minleaf_sqrt_features_True_bootstrap_hot.pkl\n"
     ]
    },
    {
     "name": "stderr",
     "output_type": "stream",
     "text": [
      "/work/Exam/DataScienceExam/env/airbnb/lib/python3.10/site-packages/sklearn/base.py:1474: DataConversionWarning: A column-vector y was passed when a 1d array was expected. Please change the shape of y to (n_samples,), for example using ravel().\n",
      "  return fit_method(estimator, *args, **kwargs)\n"
     ]
    },
    {
     "name": "stdout",
     "output_type": "stream",
     "text": [
      "Trained and saved RandomForestRegressor model with parameters {'n_estimators': 50, 'max_depth': 30, 'min_samples_split': 5, 'min_samples_leaf': 2, 'max_features': 'log2', 'bootstrap': False} to ../models/rf_50_estimators_30_depth_5_minsplit_2_minleaf_log2_features_False_bootstrap_hot.pkl\n"
     ]
    },
    {
     "name": "stderr",
     "output_type": "stream",
     "text": [
      "/work/Exam/DataScienceExam/env/airbnb/lib/python3.10/site-packages/sklearn/base.py:1474: DataConversionWarning: A column-vector y was passed when a 1d array was expected. Please change the shape of y to (n_samples,), for example using ravel().\n",
      "  return fit_method(estimator, *args, **kwargs)\n"
     ]
    },
    {
     "name": "stdout",
     "output_type": "stream",
     "text": [
      "Trained and saved RandomForestRegressor model with parameters {'n_estimators': 50, 'max_depth': 30, 'min_samples_split': 5, 'min_samples_leaf': 2, 'max_features': 'log2', 'bootstrap': True} to ../models/rf_50_estimators_30_depth_5_minsplit_2_minleaf_log2_features_True_bootstrap_hot.pkl\n"
     ]
    },
    {
     "name": "stderr",
     "output_type": "stream",
     "text": [
      "/work/Exam/DataScienceExam/env/airbnb/lib/python3.10/site-packages/sklearn/base.py:1474: DataConversionWarning: A column-vector y was passed when a 1d array was expected. Please change the shape of y to (n_samples,), for example using ravel().\n",
      "  return fit_method(estimator, *args, **kwargs)\n"
     ]
    },
    {
     "name": "stdout",
     "output_type": "stream",
     "text": [
      "Trained and saved RandomForestRegressor model with parameters {'n_estimators': 50, 'max_depth': 30, 'min_samples_split': 5, 'min_samples_leaf': 5, 'max_features': 'sqrt', 'bootstrap': False} to ../models/rf_50_estimators_30_depth_5_minsplit_5_minleaf_sqrt_features_False_bootstrap_hot.pkl\n"
     ]
    },
    {
     "name": "stderr",
     "output_type": "stream",
     "text": [
      "/work/Exam/DataScienceExam/env/airbnb/lib/python3.10/site-packages/sklearn/base.py:1474: DataConversionWarning: A column-vector y was passed when a 1d array was expected. Please change the shape of y to (n_samples,), for example using ravel().\n",
      "  return fit_method(estimator, *args, **kwargs)\n"
     ]
    },
    {
     "name": "stdout",
     "output_type": "stream",
     "text": [
      "Trained and saved RandomForestRegressor model with parameters {'n_estimators': 50, 'max_depth': 30, 'min_samples_split': 5, 'min_samples_leaf': 5, 'max_features': 'sqrt', 'bootstrap': True} to ../models/rf_50_estimators_30_depth_5_minsplit_5_minleaf_sqrt_features_True_bootstrap_hot.pkl\n"
     ]
    },
    {
     "name": "stderr",
     "output_type": "stream",
     "text": [
      "/work/Exam/DataScienceExam/env/airbnb/lib/python3.10/site-packages/sklearn/base.py:1474: DataConversionWarning: A column-vector y was passed when a 1d array was expected. Please change the shape of y to (n_samples,), for example using ravel().\n",
      "  return fit_method(estimator, *args, **kwargs)\n"
     ]
    },
    {
     "name": "stdout",
     "output_type": "stream",
     "text": [
      "Trained and saved RandomForestRegressor model with parameters {'n_estimators': 50, 'max_depth': 30, 'min_samples_split': 5, 'min_samples_leaf': 5, 'max_features': 'log2', 'bootstrap': False} to ../models/rf_50_estimators_30_depth_5_minsplit_5_minleaf_log2_features_False_bootstrap_hot.pkl\n"
     ]
    },
    {
     "name": "stderr",
     "output_type": "stream",
     "text": [
      "/work/Exam/DataScienceExam/env/airbnb/lib/python3.10/site-packages/sklearn/base.py:1474: DataConversionWarning: A column-vector y was passed when a 1d array was expected. Please change the shape of y to (n_samples,), for example using ravel().\n",
      "  return fit_method(estimator, *args, **kwargs)\n"
     ]
    },
    {
     "name": "stdout",
     "output_type": "stream",
     "text": [
      "Trained and saved RandomForestRegressor model with parameters {'n_estimators': 50, 'max_depth': 30, 'min_samples_split': 5, 'min_samples_leaf': 5, 'max_features': 'log2', 'bootstrap': True} to ../models/rf_50_estimators_30_depth_5_minsplit_5_minleaf_log2_features_True_bootstrap_hot.pkl\n"
     ]
    },
    {
     "name": "stderr",
     "output_type": "stream",
     "text": [
      "/work/Exam/DataScienceExam/env/airbnb/lib/python3.10/site-packages/sklearn/base.py:1474: DataConversionWarning: A column-vector y was passed when a 1d array was expected. Please change the shape of y to (n_samples,), for example using ravel().\n",
      "  return fit_method(estimator, *args, **kwargs)\n"
     ]
    },
    {
     "name": "stdout",
     "output_type": "stream",
     "text": [
      "Trained and saved RandomForestRegressor model with parameters {'n_estimators': 50, 'max_depth': 30, 'min_samples_split': 10, 'min_samples_leaf': 1, 'max_features': 'sqrt', 'bootstrap': False} to ../models/rf_50_estimators_30_depth_10_minsplit_1_minleaf_sqrt_features_False_bootstrap_hot.pkl\n"
     ]
    },
    {
     "name": "stderr",
     "output_type": "stream",
     "text": [
      "/work/Exam/DataScienceExam/env/airbnb/lib/python3.10/site-packages/sklearn/base.py:1474: DataConversionWarning: A column-vector y was passed when a 1d array was expected. Please change the shape of y to (n_samples,), for example using ravel().\n",
      "  return fit_method(estimator, *args, **kwargs)\n"
     ]
    },
    {
     "name": "stdout",
     "output_type": "stream",
     "text": [
      "Trained and saved RandomForestRegressor model with parameters {'n_estimators': 50, 'max_depth': 30, 'min_samples_split': 10, 'min_samples_leaf': 1, 'max_features': 'sqrt', 'bootstrap': True} to ../models/rf_50_estimators_30_depth_10_minsplit_1_minleaf_sqrt_features_True_bootstrap_hot.pkl\n"
     ]
    },
    {
     "name": "stderr",
     "output_type": "stream",
     "text": [
      "/work/Exam/DataScienceExam/env/airbnb/lib/python3.10/site-packages/sklearn/base.py:1474: DataConversionWarning: A column-vector y was passed when a 1d array was expected. Please change the shape of y to (n_samples,), for example using ravel().\n",
      "  return fit_method(estimator, *args, **kwargs)\n"
     ]
    },
    {
     "name": "stdout",
     "output_type": "stream",
     "text": [
      "Trained and saved RandomForestRegressor model with parameters {'n_estimators': 50, 'max_depth': 30, 'min_samples_split': 10, 'min_samples_leaf': 1, 'max_features': 'log2', 'bootstrap': False} to ../models/rf_50_estimators_30_depth_10_minsplit_1_minleaf_log2_features_False_bootstrap_hot.pkl\n"
     ]
    },
    {
     "name": "stderr",
     "output_type": "stream",
     "text": [
      "/work/Exam/DataScienceExam/env/airbnb/lib/python3.10/site-packages/sklearn/base.py:1474: DataConversionWarning: A column-vector y was passed when a 1d array was expected. Please change the shape of y to (n_samples,), for example using ravel().\n",
      "  return fit_method(estimator, *args, **kwargs)\n"
     ]
    },
    {
     "name": "stdout",
     "output_type": "stream",
     "text": [
      "Trained and saved RandomForestRegressor model with parameters {'n_estimators': 50, 'max_depth': 30, 'min_samples_split': 10, 'min_samples_leaf': 1, 'max_features': 'log2', 'bootstrap': True} to ../models/rf_50_estimators_30_depth_10_minsplit_1_minleaf_log2_features_True_bootstrap_hot.pkl\n"
     ]
    },
    {
     "name": "stderr",
     "output_type": "stream",
     "text": [
      "/work/Exam/DataScienceExam/env/airbnb/lib/python3.10/site-packages/sklearn/base.py:1474: DataConversionWarning: A column-vector y was passed when a 1d array was expected. Please change the shape of y to (n_samples,), for example using ravel().\n",
      "  return fit_method(estimator, *args, **kwargs)\n"
     ]
    },
    {
     "name": "stdout",
     "output_type": "stream",
     "text": [
      "Trained and saved RandomForestRegressor model with parameters {'n_estimators': 50, 'max_depth': 30, 'min_samples_split': 10, 'min_samples_leaf': 2, 'max_features': 'sqrt', 'bootstrap': False} to ../models/rf_50_estimators_30_depth_10_minsplit_2_minleaf_sqrt_features_False_bootstrap_hot.pkl\n"
     ]
    },
    {
     "name": "stderr",
     "output_type": "stream",
     "text": [
      "/work/Exam/DataScienceExam/env/airbnb/lib/python3.10/site-packages/sklearn/base.py:1474: DataConversionWarning: A column-vector y was passed when a 1d array was expected. Please change the shape of y to (n_samples,), for example using ravel().\n",
      "  return fit_method(estimator, *args, **kwargs)\n"
     ]
    },
    {
     "name": "stdout",
     "output_type": "stream",
     "text": [
      "Trained and saved RandomForestRegressor model with parameters {'n_estimators': 50, 'max_depth': 30, 'min_samples_split': 10, 'min_samples_leaf': 2, 'max_features': 'sqrt', 'bootstrap': True} to ../models/rf_50_estimators_30_depth_10_minsplit_2_minleaf_sqrt_features_True_bootstrap_hot.pkl\n"
     ]
    },
    {
     "name": "stderr",
     "output_type": "stream",
     "text": [
      "/work/Exam/DataScienceExam/env/airbnb/lib/python3.10/site-packages/sklearn/base.py:1474: DataConversionWarning: A column-vector y was passed when a 1d array was expected. Please change the shape of y to (n_samples,), for example using ravel().\n",
      "  return fit_method(estimator, *args, **kwargs)\n"
     ]
    },
    {
     "name": "stdout",
     "output_type": "stream",
     "text": [
      "Trained and saved RandomForestRegressor model with parameters {'n_estimators': 50, 'max_depth': 30, 'min_samples_split': 10, 'min_samples_leaf': 2, 'max_features': 'log2', 'bootstrap': False} to ../models/rf_50_estimators_30_depth_10_minsplit_2_minleaf_log2_features_False_bootstrap_hot.pkl\n"
     ]
    },
    {
     "name": "stderr",
     "output_type": "stream",
     "text": [
      "/work/Exam/DataScienceExam/env/airbnb/lib/python3.10/site-packages/sklearn/base.py:1474: DataConversionWarning: A column-vector y was passed when a 1d array was expected. Please change the shape of y to (n_samples,), for example using ravel().\n",
      "  return fit_method(estimator, *args, **kwargs)\n"
     ]
    },
    {
     "name": "stdout",
     "output_type": "stream",
     "text": [
      "Trained and saved RandomForestRegressor model with parameters {'n_estimators': 50, 'max_depth': 30, 'min_samples_split': 10, 'min_samples_leaf': 2, 'max_features': 'log2', 'bootstrap': True} to ../models/rf_50_estimators_30_depth_10_minsplit_2_minleaf_log2_features_True_bootstrap_hot.pkl\n"
     ]
    },
    {
     "name": "stderr",
     "output_type": "stream",
     "text": [
      "/work/Exam/DataScienceExam/env/airbnb/lib/python3.10/site-packages/sklearn/base.py:1474: DataConversionWarning: A column-vector y was passed when a 1d array was expected. Please change the shape of y to (n_samples,), for example using ravel().\n",
      "  return fit_method(estimator, *args, **kwargs)\n"
     ]
    },
    {
     "name": "stdout",
     "output_type": "stream",
     "text": [
      "Trained and saved RandomForestRegressor model with parameters {'n_estimators': 50, 'max_depth': 30, 'min_samples_split': 10, 'min_samples_leaf': 5, 'max_features': 'sqrt', 'bootstrap': False} to ../models/rf_50_estimators_30_depth_10_minsplit_5_minleaf_sqrt_features_False_bootstrap_hot.pkl\n"
     ]
    },
    {
     "name": "stderr",
     "output_type": "stream",
     "text": [
      "/work/Exam/DataScienceExam/env/airbnb/lib/python3.10/site-packages/sklearn/base.py:1474: DataConversionWarning: A column-vector y was passed when a 1d array was expected. Please change the shape of y to (n_samples,), for example using ravel().\n",
      "  return fit_method(estimator, *args, **kwargs)\n"
     ]
    },
    {
     "name": "stdout",
     "output_type": "stream",
     "text": [
      "Trained and saved RandomForestRegressor model with parameters {'n_estimators': 50, 'max_depth': 30, 'min_samples_split': 10, 'min_samples_leaf': 5, 'max_features': 'sqrt', 'bootstrap': True} to ../models/rf_50_estimators_30_depth_10_minsplit_5_minleaf_sqrt_features_True_bootstrap_hot.pkl\n"
     ]
    },
    {
     "name": "stderr",
     "output_type": "stream",
     "text": [
      "/work/Exam/DataScienceExam/env/airbnb/lib/python3.10/site-packages/sklearn/base.py:1474: DataConversionWarning: A column-vector y was passed when a 1d array was expected. Please change the shape of y to (n_samples,), for example using ravel().\n",
      "  return fit_method(estimator, *args, **kwargs)\n"
     ]
    },
    {
     "name": "stdout",
     "output_type": "stream",
     "text": [
      "Trained and saved RandomForestRegressor model with parameters {'n_estimators': 50, 'max_depth': 30, 'min_samples_split': 10, 'min_samples_leaf': 5, 'max_features': 'log2', 'bootstrap': False} to ../models/rf_50_estimators_30_depth_10_minsplit_5_minleaf_log2_features_False_bootstrap_hot.pkl\n"
     ]
    },
    {
     "name": "stderr",
     "output_type": "stream",
     "text": [
      "/work/Exam/DataScienceExam/env/airbnb/lib/python3.10/site-packages/sklearn/base.py:1474: DataConversionWarning: A column-vector y was passed when a 1d array was expected. Please change the shape of y to (n_samples,), for example using ravel().\n",
      "  return fit_method(estimator, *args, **kwargs)\n"
     ]
    },
    {
     "name": "stdout",
     "output_type": "stream",
     "text": [
      "Trained and saved RandomForestRegressor model with parameters {'n_estimators': 50, 'max_depth': 30, 'min_samples_split': 10, 'min_samples_leaf': 5, 'max_features': 'log2', 'bootstrap': True} to ../models/rf_50_estimators_30_depth_10_minsplit_5_minleaf_log2_features_True_bootstrap_hot.pkl\n"
     ]
    },
    {
     "name": "stderr",
     "output_type": "stream",
     "text": [
      "/work/Exam/DataScienceExam/env/airbnb/lib/python3.10/site-packages/sklearn/base.py:1474: DataConversionWarning: A column-vector y was passed when a 1d array was expected. Please change the shape of y to (n_samples,), for example using ravel().\n",
      "  return fit_method(estimator, *args, **kwargs)\n"
     ]
    },
    {
     "name": "stdout",
     "output_type": "stream",
     "text": [
      "Trained and saved RandomForestRegressor model with parameters {'n_estimators': 50, 'max_depth': 30, 'min_samples_split': 15, 'min_samples_leaf': 1, 'max_features': 'sqrt', 'bootstrap': False} to ../models/rf_50_estimators_30_depth_15_minsplit_1_minleaf_sqrt_features_False_bootstrap_hot.pkl\n"
     ]
    },
    {
     "name": "stderr",
     "output_type": "stream",
     "text": [
      "/work/Exam/DataScienceExam/env/airbnb/lib/python3.10/site-packages/sklearn/base.py:1474: DataConversionWarning: A column-vector y was passed when a 1d array was expected. Please change the shape of y to (n_samples,), for example using ravel().\n",
      "  return fit_method(estimator, *args, **kwargs)\n"
     ]
    },
    {
     "name": "stdout",
     "output_type": "stream",
     "text": [
      "Trained and saved RandomForestRegressor model with parameters {'n_estimators': 50, 'max_depth': 30, 'min_samples_split': 15, 'min_samples_leaf': 1, 'max_features': 'sqrt', 'bootstrap': True} to ../models/rf_50_estimators_30_depth_15_minsplit_1_minleaf_sqrt_features_True_bootstrap_hot.pkl\n"
     ]
    },
    {
     "name": "stderr",
     "output_type": "stream",
     "text": [
      "/work/Exam/DataScienceExam/env/airbnb/lib/python3.10/site-packages/sklearn/base.py:1474: DataConversionWarning: A column-vector y was passed when a 1d array was expected. Please change the shape of y to (n_samples,), for example using ravel().\n",
      "  return fit_method(estimator, *args, **kwargs)\n"
     ]
    },
    {
     "name": "stdout",
     "output_type": "stream",
     "text": [
      "Trained and saved RandomForestRegressor model with parameters {'n_estimators': 50, 'max_depth': 30, 'min_samples_split': 15, 'min_samples_leaf': 1, 'max_features': 'log2', 'bootstrap': False} to ../models/rf_50_estimators_30_depth_15_minsplit_1_minleaf_log2_features_False_bootstrap_hot.pkl\n"
     ]
    },
    {
     "name": "stderr",
     "output_type": "stream",
     "text": [
      "/work/Exam/DataScienceExam/env/airbnb/lib/python3.10/site-packages/sklearn/base.py:1474: DataConversionWarning: A column-vector y was passed when a 1d array was expected. Please change the shape of y to (n_samples,), for example using ravel().\n",
      "  return fit_method(estimator, *args, **kwargs)\n"
     ]
    },
    {
     "name": "stdout",
     "output_type": "stream",
     "text": [
      "Trained and saved RandomForestRegressor model with parameters {'n_estimators': 50, 'max_depth': 30, 'min_samples_split': 15, 'min_samples_leaf': 1, 'max_features': 'log2', 'bootstrap': True} to ../models/rf_50_estimators_30_depth_15_minsplit_1_minleaf_log2_features_True_bootstrap_hot.pkl\n"
     ]
    },
    {
     "name": "stderr",
     "output_type": "stream",
     "text": [
      "/work/Exam/DataScienceExam/env/airbnb/lib/python3.10/site-packages/sklearn/base.py:1474: DataConversionWarning: A column-vector y was passed when a 1d array was expected. Please change the shape of y to (n_samples,), for example using ravel().\n",
      "  return fit_method(estimator, *args, **kwargs)\n"
     ]
    },
    {
     "name": "stdout",
     "output_type": "stream",
     "text": [
      "Trained and saved RandomForestRegressor model with parameters {'n_estimators': 50, 'max_depth': 30, 'min_samples_split': 15, 'min_samples_leaf': 2, 'max_features': 'sqrt', 'bootstrap': False} to ../models/rf_50_estimators_30_depth_15_minsplit_2_minleaf_sqrt_features_False_bootstrap_hot.pkl\n"
     ]
    },
    {
     "name": "stderr",
     "output_type": "stream",
     "text": [
      "/work/Exam/DataScienceExam/env/airbnb/lib/python3.10/site-packages/sklearn/base.py:1474: DataConversionWarning: A column-vector y was passed when a 1d array was expected. Please change the shape of y to (n_samples,), for example using ravel().\n",
      "  return fit_method(estimator, *args, **kwargs)\n"
     ]
    },
    {
     "name": "stdout",
     "output_type": "stream",
     "text": [
      "Trained and saved RandomForestRegressor model with parameters {'n_estimators': 50, 'max_depth': 30, 'min_samples_split': 15, 'min_samples_leaf': 2, 'max_features': 'sqrt', 'bootstrap': True} to ../models/rf_50_estimators_30_depth_15_minsplit_2_minleaf_sqrt_features_True_bootstrap_hot.pkl\n"
     ]
    },
    {
     "name": "stderr",
     "output_type": "stream",
     "text": [
      "/work/Exam/DataScienceExam/env/airbnb/lib/python3.10/site-packages/sklearn/base.py:1474: DataConversionWarning: A column-vector y was passed when a 1d array was expected. Please change the shape of y to (n_samples,), for example using ravel().\n",
      "  return fit_method(estimator, *args, **kwargs)\n"
     ]
    },
    {
     "name": "stdout",
     "output_type": "stream",
     "text": [
      "Trained and saved RandomForestRegressor model with parameters {'n_estimators': 50, 'max_depth': 30, 'min_samples_split': 15, 'min_samples_leaf': 2, 'max_features': 'log2', 'bootstrap': False} to ../models/rf_50_estimators_30_depth_15_minsplit_2_minleaf_log2_features_False_bootstrap_hot.pkl\n"
     ]
    },
    {
     "name": "stderr",
     "output_type": "stream",
     "text": [
      "/work/Exam/DataScienceExam/env/airbnb/lib/python3.10/site-packages/sklearn/base.py:1474: DataConversionWarning: A column-vector y was passed when a 1d array was expected. Please change the shape of y to (n_samples,), for example using ravel().\n",
      "  return fit_method(estimator, *args, **kwargs)\n"
     ]
    },
    {
     "name": "stdout",
     "output_type": "stream",
     "text": [
      "Trained and saved RandomForestRegressor model with parameters {'n_estimators': 50, 'max_depth': 30, 'min_samples_split': 15, 'min_samples_leaf': 2, 'max_features': 'log2', 'bootstrap': True} to ../models/rf_50_estimators_30_depth_15_minsplit_2_minleaf_log2_features_True_bootstrap_hot.pkl\n"
     ]
    },
    {
     "name": "stderr",
     "output_type": "stream",
     "text": [
      "/work/Exam/DataScienceExam/env/airbnb/lib/python3.10/site-packages/sklearn/base.py:1474: DataConversionWarning: A column-vector y was passed when a 1d array was expected. Please change the shape of y to (n_samples,), for example using ravel().\n",
      "  return fit_method(estimator, *args, **kwargs)\n"
     ]
    },
    {
     "name": "stdout",
     "output_type": "stream",
     "text": [
      "Trained and saved RandomForestRegressor model with parameters {'n_estimators': 50, 'max_depth': 30, 'min_samples_split': 15, 'min_samples_leaf': 5, 'max_features': 'sqrt', 'bootstrap': False} to ../models/rf_50_estimators_30_depth_15_minsplit_5_minleaf_sqrt_features_False_bootstrap_hot.pkl\n"
     ]
    },
    {
     "name": "stderr",
     "output_type": "stream",
     "text": [
      "/work/Exam/DataScienceExam/env/airbnb/lib/python3.10/site-packages/sklearn/base.py:1474: DataConversionWarning: A column-vector y was passed when a 1d array was expected. Please change the shape of y to (n_samples,), for example using ravel().\n",
      "  return fit_method(estimator, *args, **kwargs)\n"
     ]
    },
    {
     "name": "stdout",
     "output_type": "stream",
     "text": [
      "Trained and saved RandomForestRegressor model with parameters {'n_estimators': 50, 'max_depth': 30, 'min_samples_split': 15, 'min_samples_leaf': 5, 'max_features': 'sqrt', 'bootstrap': True} to ../models/rf_50_estimators_30_depth_15_minsplit_5_minleaf_sqrt_features_True_bootstrap_hot.pkl\n"
     ]
    },
    {
     "name": "stderr",
     "output_type": "stream",
     "text": [
      "/work/Exam/DataScienceExam/env/airbnb/lib/python3.10/site-packages/sklearn/base.py:1474: DataConversionWarning: A column-vector y was passed when a 1d array was expected. Please change the shape of y to (n_samples,), for example using ravel().\n",
      "  return fit_method(estimator, *args, **kwargs)\n"
     ]
    },
    {
     "name": "stdout",
     "output_type": "stream",
     "text": [
      "Trained and saved RandomForestRegressor model with parameters {'n_estimators': 50, 'max_depth': 30, 'min_samples_split': 15, 'min_samples_leaf': 5, 'max_features': 'log2', 'bootstrap': False} to ../models/rf_50_estimators_30_depth_15_minsplit_5_minleaf_log2_features_False_bootstrap_hot.pkl\n"
     ]
    },
    {
     "name": "stderr",
     "output_type": "stream",
     "text": [
      "/work/Exam/DataScienceExam/env/airbnb/lib/python3.10/site-packages/sklearn/base.py:1474: DataConversionWarning: A column-vector y was passed when a 1d array was expected. Please change the shape of y to (n_samples,), for example using ravel().\n",
      "  return fit_method(estimator, *args, **kwargs)\n"
     ]
    },
    {
     "name": "stdout",
     "output_type": "stream",
     "text": [
      "Trained and saved RandomForestRegressor model with parameters {'n_estimators': 50, 'max_depth': 30, 'min_samples_split': 15, 'min_samples_leaf': 5, 'max_features': 'log2', 'bootstrap': True} to ../models/rf_50_estimators_30_depth_15_minsplit_5_minleaf_log2_features_True_bootstrap_hot.pkl\n"
     ]
    },
    {
     "name": "stderr",
     "output_type": "stream",
     "text": [
      "/work/Exam/DataScienceExam/env/airbnb/lib/python3.10/site-packages/sklearn/base.py:1474: DataConversionWarning: A column-vector y was passed when a 1d array was expected. Please change the shape of y to (n_samples,), for example using ravel().\n",
      "  return fit_method(estimator, *args, **kwargs)\n"
     ]
    },
    {
     "name": "stdout",
     "output_type": "stream",
     "text": [
      "Trained and saved RandomForestRegressor model with parameters {'n_estimators': 50, 'max_depth': 40, 'min_samples_split': 5, 'min_samples_leaf': 1, 'max_features': 'sqrt', 'bootstrap': False} to ../models/rf_50_estimators_40_depth_5_minsplit_1_minleaf_sqrt_features_False_bootstrap_hot.pkl\n"
     ]
    },
    {
     "name": "stderr",
     "output_type": "stream",
     "text": [
      "/work/Exam/DataScienceExam/env/airbnb/lib/python3.10/site-packages/sklearn/base.py:1474: DataConversionWarning: A column-vector y was passed when a 1d array was expected. Please change the shape of y to (n_samples,), for example using ravel().\n",
      "  return fit_method(estimator, *args, **kwargs)\n"
     ]
    },
    {
     "name": "stdout",
     "output_type": "stream",
     "text": [
      "Trained and saved RandomForestRegressor model with parameters {'n_estimators': 50, 'max_depth': 40, 'min_samples_split': 5, 'min_samples_leaf': 1, 'max_features': 'sqrt', 'bootstrap': True} to ../models/rf_50_estimators_40_depth_5_minsplit_1_minleaf_sqrt_features_True_bootstrap_hot.pkl\n"
     ]
    },
    {
     "name": "stderr",
     "output_type": "stream",
     "text": [
      "/work/Exam/DataScienceExam/env/airbnb/lib/python3.10/site-packages/sklearn/base.py:1474: DataConversionWarning: A column-vector y was passed when a 1d array was expected. Please change the shape of y to (n_samples,), for example using ravel().\n",
      "  return fit_method(estimator, *args, **kwargs)\n"
     ]
    },
    {
     "name": "stdout",
     "output_type": "stream",
     "text": [
      "Trained and saved RandomForestRegressor model with parameters {'n_estimators': 50, 'max_depth': 40, 'min_samples_split': 5, 'min_samples_leaf': 1, 'max_features': 'log2', 'bootstrap': False} to ../models/rf_50_estimators_40_depth_5_minsplit_1_minleaf_log2_features_False_bootstrap_hot.pkl\n"
     ]
    },
    {
     "name": "stderr",
     "output_type": "stream",
     "text": [
      "/work/Exam/DataScienceExam/env/airbnb/lib/python3.10/site-packages/sklearn/base.py:1474: DataConversionWarning: A column-vector y was passed when a 1d array was expected. Please change the shape of y to (n_samples,), for example using ravel().\n",
      "  return fit_method(estimator, *args, **kwargs)\n"
     ]
    },
    {
     "name": "stdout",
     "output_type": "stream",
     "text": [
      "Trained and saved RandomForestRegressor model with parameters {'n_estimators': 50, 'max_depth': 40, 'min_samples_split': 5, 'min_samples_leaf': 1, 'max_features': 'log2', 'bootstrap': True} to ../models/rf_50_estimators_40_depth_5_minsplit_1_minleaf_log2_features_True_bootstrap_hot.pkl\n"
     ]
    },
    {
     "name": "stderr",
     "output_type": "stream",
     "text": [
      "/work/Exam/DataScienceExam/env/airbnb/lib/python3.10/site-packages/sklearn/base.py:1474: DataConversionWarning: A column-vector y was passed when a 1d array was expected. Please change the shape of y to (n_samples,), for example using ravel().\n",
      "  return fit_method(estimator, *args, **kwargs)\n"
     ]
    },
    {
     "name": "stdout",
     "output_type": "stream",
     "text": [
      "Trained and saved RandomForestRegressor model with parameters {'n_estimators': 50, 'max_depth': 40, 'min_samples_split': 5, 'min_samples_leaf': 2, 'max_features': 'sqrt', 'bootstrap': False} to ../models/rf_50_estimators_40_depth_5_minsplit_2_minleaf_sqrt_features_False_bootstrap_hot.pkl\n"
     ]
    },
    {
     "name": "stderr",
     "output_type": "stream",
     "text": [
      "/work/Exam/DataScienceExam/env/airbnb/lib/python3.10/site-packages/sklearn/base.py:1474: DataConversionWarning: A column-vector y was passed when a 1d array was expected. Please change the shape of y to (n_samples,), for example using ravel().\n",
      "  return fit_method(estimator, *args, **kwargs)\n"
     ]
    },
    {
     "name": "stdout",
     "output_type": "stream",
     "text": [
      "Trained and saved RandomForestRegressor model with parameters {'n_estimators': 50, 'max_depth': 40, 'min_samples_split': 5, 'min_samples_leaf': 2, 'max_features': 'sqrt', 'bootstrap': True} to ../models/rf_50_estimators_40_depth_5_minsplit_2_minleaf_sqrt_features_True_bootstrap_hot.pkl\n"
     ]
    },
    {
     "name": "stderr",
     "output_type": "stream",
     "text": [
      "/work/Exam/DataScienceExam/env/airbnb/lib/python3.10/site-packages/sklearn/base.py:1474: DataConversionWarning: A column-vector y was passed when a 1d array was expected. Please change the shape of y to (n_samples,), for example using ravel().\n",
      "  return fit_method(estimator, *args, **kwargs)\n"
     ]
    },
    {
     "name": "stdout",
     "output_type": "stream",
     "text": [
      "Trained and saved RandomForestRegressor model with parameters {'n_estimators': 50, 'max_depth': 40, 'min_samples_split': 5, 'min_samples_leaf': 2, 'max_features': 'log2', 'bootstrap': False} to ../models/rf_50_estimators_40_depth_5_minsplit_2_minleaf_log2_features_False_bootstrap_hot.pkl\n"
     ]
    },
    {
     "name": "stderr",
     "output_type": "stream",
     "text": [
      "/work/Exam/DataScienceExam/env/airbnb/lib/python3.10/site-packages/sklearn/base.py:1474: DataConversionWarning: A column-vector y was passed when a 1d array was expected. Please change the shape of y to (n_samples,), for example using ravel().\n",
      "  return fit_method(estimator, *args, **kwargs)\n"
     ]
    },
    {
     "name": "stdout",
     "output_type": "stream",
     "text": [
      "Trained and saved RandomForestRegressor model with parameters {'n_estimators': 50, 'max_depth': 40, 'min_samples_split': 5, 'min_samples_leaf': 2, 'max_features': 'log2', 'bootstrap': True} to ../models/rf_50_estimators_40_depth_5_minsplit_2_minleaf_log2_features_True_bootstrap_hot.pkl\n"
     ]
    },
    {
     "name": "stderr",
     "output_type": "stream",
     "text": [
      "/work/Exam/DataScienceExam/env/airbnb/lib/python3.10/site-packages/sklearn/base.py:1474: DataConversionWarning: A column-vector y was passed when a 1d array was expected. Please change the shape of y to (n_samples,), for example using ravel().\n",
      "  return fit_method(estimator, *args, **kwargs)\n"
     ]
    },
    {
     "name": "stdout",
     "output_type": "stream",
     "text": [
      "Trained and saved RandomForestRegressor model with parameters {'n_estimators': 50, 'max_depth': 40, 'min_samples_split': 5, 'min_samples_leaf': 5, 'max_features': 'sqrt', 'bootstrap': False} to ../models/rf_50_estimators_40_depth_5_minsplit_5_minleaf_sqrt_features_False_bootstrap_hot.pkl\n"
     ]
    },
    {
     "name": "stderr",
     "output_type": "stream",
     "text": [
      "/work/Exam/DataScienceExam/env/airbnb/lib/python3.10/site-packages/sklearn/base.py:1474: DataConversionWarning: A column-vector y was passed when a 1d array was expected. Please change the shape of y to (n_samples,), for example using ravel().\n",
      "  return fit_method(estimator, *args, **kwargs)\n"
     ]
    },
    {
     "name": "stdout",
     "output_type": "stream",
     "text": [
      "Trained and saved RandomForestRegressor model with parameters {'n_estimators': 50, 'max_depth': 40, 'min_samples_split': 5, 'min_samples_leaf': 5, 'max_features': 'sqrt', 'bootstrap': True} to ../models/rf_50_estimators_40_depth_5_minsplit_5_minleaf_sqrt_features_True_bootstrap_hot.pkl\n"
     ]
    },
    {
     "name": "stderr",
     "output_type": "stream",
     "text": [
      "/work/Exam/DataScienceExam/env/airbnb/lib/python3.10/site-packages/sklearn/base.py:1474: DataConversionWarning: A column-vector y was passed when a 1d array was expected. Please change the shape of y to (n_samples,), for example using ravel().\n",
      "  return fit_method(estimator, *args, **kwargs)\n"
     ]
    },
    {
     "name": "stdout",
     "output_type": "stream",
     "text": [
      "Trained and saved RandomForestRegressor model with parameters {'n_estimators': 50, 'max_depth': 40, 'min_samples_split': 5, 'min_samples_leaf': 5, 'max_features': 'log2', 'bootstrap': False} to ../models/rf_50_estimators_40_depth_5_minsplit_5_minleaf_log2_features_False_bootstrap_hot.pkl\n"
     ]
    },
    {
     "name": "stderr",
     "output_type": "stream",
     "text": [
      "/work/Exam/DataScienceExam/env/airbnb/lib/python3.10/site-packages/sklearn/base.py:1474: DataConversionWarning: A column-vector y was passed when a 1d array was expected. Please change the shape of y to (n_samples,), for example using ravel().\n",
      "  return fit_method(estimator, *args, **kwargs)\n"
     ]
    },
    {
     "name": "stdout",
     "output_type": "stream",
     "text": [
      "Trained and saved RandomForestRegressor model with parameters {'n_estimators': 50, 'max_depth': 40, 'min_samples_split': 5, 'min_samples_leaf': 5, 'max_features': 'log2', 'bootstrap': True} to ../models/rf_50_estimators_40_depth_5_minsplit_5_minleaf_log2_features_True_bootstrap_hot.pkl\n"
     ]
    },
    {
     "name": "stderr",
     "output_type": "stream",
     "text": [
      "/work/Exam/DataScienceExam/env/airbnb/lib/python3.10/site-packages/sklearn/base.py:1474: DataConversionWarning: A column-vector y was passed when a 1d array was expected. Please change the shape of y to (n_samples,), for example using ravel().\n",
      "  return fit_method(estimator, *args, **kwargs)\n"
     ]
    },
    {
     "name": "stdout",
     "output_type": "stream",
     "text": [
      "Trained and saved RandomForestRegressor model with parameters {'n_estimators': 50, 'max_depth': 40, 'min_samples_split': 10, 'min_samples_leaf': 1, 'max_features': 'sqrt', 'bootstrap': False} to ../models/rf_50_estimators_40_depth_10_minsplit_1_minleaf_sqrt_features_False_bootstrap_hot.pkl\n"
     ]
    },
    {
     "name": "stderr",
     "output_type": "stream",
     "text": [
      "/work/Exam/DataScienceExam/env/airbnb/lib/python3.10/site-packages/sklearn/base.py:1474: DataConversionWarning: A column-vector y was passed when a 1d array was expected. Please change the shape of y to (n_samples,), for example using ravel().\n",
      "  return fit_method(estimator, *args, **kwargs)\n"
     ]
    },
    {
     "name": "stdout",
     "output_type": "stream",
     "text": [
      "Trained and saved RandomForestRegressor model with parameters {'n_estimators': 50, 'max_depth': 40, 'min_samples_split': 10, 'min_samples_leaf': 1, 'max_features': 'sqrt', 'bootstrap': True} to ../models/rf_50_estimators_40_depth_10_minsplit_1_minleaf_sqrt_features_True_bootstrap_hot.pkl\n"
     ]
    },
    {
     "name": "stderr",
     "output_type": "stream",
     "text": [
      "/work/Exam/DataScienceExam/env/airbnb/lib/python3.10/site-packages/sklearn/base.py:1474: DataConversionWarning: A column-vector y was passed when a 1d array was expected. Please change the shape of y to (n_samples,), for example using ravel().\n",
      "  return fit_method(estimator, *args, **kwargs)\n"
     ]
    },
    {
     "name": "stdout",
     "output_type": "stream",
     "text": [
      "Trained and saved RandomForestRegressor model with parameters {'n_estimators': 50, 'max_depth': 40, 'min_samples_split': 10, 'min_samples_leaf': 1, 'max_features': 'log2', 'bootstrap': False} to ../models/rf_50_estimators_40_depth_10_minsplit_1_minleaf_log2_features_False_bootstrap_hot.pkl\n"
     ]
    },
    {
     "name": "stderr",
     "output_type": "stream",
     "text": [
      "/work/Exam/DataScienceExam/env/airbnb/lib/python3.10/site-packages/sklearn/base.py:1474: DataConversionWarning: A column-vector y was passed when a 1d array was expected. Please change the shape of y to (n_samples,), for example using ravel().\n",
      "  return fit_method(estimator, *args, **kwargs)\n"
     ]
    },
    {
     "name": "stdout",
     "output_type": "stream",
     "text": [
      "Trained and saved RandomForestRegressor model with parameters {'n_estimators': 50, 'max_depth': 40, 'min_samples_split': 10, 'min_samples_leaf': 1, 'max_features': 'log2', 'bootstrap': True} to ../models/rf_50_estimators_40_depth_10_minsplit_1_minleaf_log2_features_True_bootstrap_hot.pkl\n"
     ]
    },
    {
     "name": "stderr",
     "output_type": "stream",
     "text": [
      "/work/Exam/DataScienceExam/env/airbnb/lib/python3.10/site-packages/sklearn/base.py:1474: DataConversionWarning: A column-vector y was passed when a 1d array was expected. Please change the shape of y to (n_samples,), for example using ravel().\n",
      "  return fit_method(estimator, *args, **kwargs)\n"
     ]
    },
    {
     "name": "stdout",
     "output_type": "stream",
     "text": [
      "Trained and saved RandomForestRegressor model with parameters {'n_estimators': 50, 'max_depth': 40, 'min_samples_split': 10, 'min_samples_leaf': 2, 'max_features': 'sqrt', 'bootstrap': False} to ../models/rf_50_estimators_40_depth_10_minsplit_2_minleaf_sqrt_features_False_bootstrap_hot.pkl\n"
     ]
    },
    {
     "name": "stderr",
     "output_type": "stream",
     "text": [
      "/work/Exam/DataScienceExam/env/airbnb/lib/python3.10/site-packages/sklearn/base.py:1474: DataConversionWarning: A column-vector y was passed when a 1d array was expected. Please change the shape of y to (n_samples,), for example using ravel().\n",
      "  return fit_method(estimator, *args, **kwargs)\n"
     ]
    },
    {
     "name": "stdout",
     "output_type": "stream",
     "text": [
      "Trained and saved RandomForestRegressor model with parameters {'n_estimators': 50, 'max_depth': 40, 'min_samples_split': 10, 'min_samples_leaf': 2, 'max_features': 'sqrt', 'bootstrap': True} to ../models/rf_50_estimators_40_depth_10_minsplit_2_minleaf_sqrt_features_True_bootstrap_hot.pkl\n"
     ]
    },
    {
     "name": "stderr",
     "output_type": "stream",
     "text": [
      "/work/Exam/DataScienceExam/env/airbnb/lib/python3.10/site-packages/sklearn/base.py:1474: DataConversionWarning: A column-vector y was passed when a 1d array was expected. Please change the shape of y to (n_samples,), for example using ravel().\n",
      "  return fit_method(estimator, *args, **kwargs)\n"
     ]
    },
    {
     "name": "stdout",
     "output_type": "stream",
     "text": [
      "Trained and saved RandomForestRegressor model with parameters {'n_estimators': 50, 'max_depth': 40, 'min_samples_split': 10, 'min_samples_leaf': 2, 'max_features': 'log2', 'bootstrap': False} to ../models/rf_50_estimators_40_depth_10_minsplit_2_minleaf_log2_features_False_bootstrap_hot.pkl\n"
     ]
    },
    {
     "name": "stderr",
     "output_type": "stream",
     "text": [
      "/work/Exam/DataScienceExam/env/airbnb/lib/python3.10/site-packages/sklearn/base.py:1474: DataConversionWarning: A column-vector y was passed when a 1d array was expected. Please change the shape of y to (n_samples,), for example using ravel().\n",
      "  return fit_method(estimator, *args, **kwargs)\n"
     ]
    },
    {
     "name": "stdout",
     "output_type": "stream",
     "text": [
      "Trained and saved RandomForestRegressor model with parameters {'n_estimators': 50, 'max_depth': 40, 'min_samples_split': 10, 'min_samples_leaf': 2, 'max_features': 'log2', 'bootstrap': True} to ../models/rf_50_estimators_40_depth_10_minsplit_2_minleaf_log2_features_True_bootstrap_hot.pkl\n"
     ]
    },
    {
     "name": "stderr",
     "output_type": "stream",
     "text": [
      "/work/Exam/DataScienceExam/env/airbnb/lib/python3.10/site-packages/sklearn/base.py:1474: DataConversionWarning: A column-vector y was passed when a 1d array was expected. Please change the shape of y to (n_samples,), for example using ravel().\n",
      "  return fit_method(estimator, *args, **kwargs)\n"
     ]
    },
    {
     "name": "stdout",
     "output_type": "stream",
     "text": [
      "Trained and saved RandomForestRegressor model with parameters {'n_estimators': 50, 'max_depth': 40, 'min_samples_split': 10, 'min_samples_leaf': 5, 'max_features': 'sqrt', 'bootstrap': False} to ../models/rf_50_estimators_40_depth_10_minsplit_5_minleaf_sqrt_features_False_bootstrap_hot.pkl\n"
     ]
    },
    {
     "name": "stderr",
     "output_type": "stream",
     "text": [
      "/work/Exam/DataScienceExam/env/airbnb/lib/python3.10/site-packages/sklearn/base.py:1474: DataConversionWarning: A column-vector y was passed when a 1d array was expected. Please change the shape of y to (n_samples,), for example using ravel().\n",
      "  return fit_method(estimator, *args, **kwargs)\n"
     ]
    },
    {
     "name": "stdout",
     "output_type": "stream",
     "text": [
      "Trained and saved RandomForestRegressor model with parameters {'n_estimators': 50, 'max_depth': 40, 'min_samples_split': 10, 'min_samples_leaf': 5, 'max_features': 'sqrt', 'bootstrap': True} to ../models/rf_50_estimators_40_depth_10_minsplit_5_minleaf_sqrt_features_True_bootstrap_hot.pkl\n"
     ]
    },
    {
     "name": "stderr",
     "output_type": "stream",
     "text": [
      "/work/Exam/DataScienceExam/env/airbnb/lib/python3.10/site-packages/sklearn/base.py:1474: DataConversionWarning: A column-vector y was passed when a 1d array was expected. Please change the shape of y to (n_samples,), for example using ravel().\n",
      "  return fit_method(estimator, *args, **kwargs)\n"
     ]
    },
    {
     "name": "stdout",
     "output_type": "stream",
     "text": [
      "Trained and saved RandomForestRegressor model with parameters {'n_estimators': 50, 'max_depth': 40, 'min_samples_split': 10, 'min_samples_leaf': 5, 'max_features': 'log2', 'bootstrap': False} to ../models/rf_50_estimators_40_depth_10_minsplit_5_minleaf_log2_features_False_bootstrap_hot.pkl\n"
     ]
    },
    {
     "name": "stderr",
     "output_type": "stream",
     "text": [
      "/work/Exam/DataScienceExam/env/airbnb/lib/python3.10/site-packages/sklearn/base.py:1474: DataConversionWarning: A column-vector y was passed when a 1d array was expected. Please change the shape of y to (n_samples,), for example using ravel().\n",
      "  return fit_method(estimator, *args, **kwargs)\n"
     ]
    },
    {
     "name": "stdout",
     "output_type": "stream",
     "text": [
      "Trained and saved RandomForestRegressor model with parameters {'n_estimators': 50, 'max_depth': 40, 'min_samples_split': 10, 'min_samples_leaf': 5, 'max_features': 'log2', 'bootstrap': True} to ../models/rf_50_estimators_40_depth_10_minsplit_5_minleaf_log2_features_True_bootstrap_hot.pkl\n"
     ]
    },
    {
     "name": "stderr",
     "output_type": "stream",
     "text": [
      "/work/Exam/DataScienceExam/env/airbnb/lib/python3.10/site-packages/sklearn/base.py:1474: DataConversionWarning: A column-vector y was passed when a 1d array was expected. Please change the shape of y to (n_samples,), for example using ravel().\n",
      "  return fit_method(estimator, *args, **kwargs)\n"
     ]
    },
    {
     "name": "stdout",
     "output_type": "stream",
     "text": [
      "Trained and saved RandomForestRegressor model with parameters {'n_estimators': 50, 'max_depth': 40, 'min_samples_split': 15, 'min_samples_leaf': 1, 'max_features': 'sqrt', 'bootstrap': False} to ../models/rf_50_estimators_40_depth_15_minsplit_1_minleaf_sqrt_features_False_bootstrap_hot.pkl\n"
     ]
    },
    {
     "name": "stderr",
     "output_type": "stream",
     "text": [
      "/work/Exam/DataScienceExam/env/airbnb/lib/python3.10/site-packages/sklearn/base.py:1474: DataConversionWarning: A column-vector y was passed when a 1d array was expected. Please change the shape of y to (n_samples,), for example using ravel().\n",
      "  return fit_method(estimator, *args, **kwargs)\n"
     ]
    },
    {
     "name": "stdout",
     "output_type": "stream",
     "text": [
      "Trained and saved RandomForestRegressor model with parameters {'n_estimators': 50, 'max_depth': 40, 'min_samples_split': 15, 'min_samples_leaf': 1, 'max_features': 'sqrt', 'bootstrap': True} to ../models/rf_50_estimators_40_depth_15_minsplit_1_minleaf_sqrt_features_True_bootstrap_hot.pkl\n"
     ]
    },
    {
     "name": "stderr",
     "output_type": "stream",
     "text": [
      "/work/Exam/DataScienceExam/env/airbnb/lib/python3.10/site-packages/sklearn/base.py:1474: DataConversionWarning: A column-vector y was passed when a 1d array was expected. Please change the shape of y to (n_samples,), for example using ravel().\n",
      "  return fit_method(estimator, *args, **kwargs)\n"
     ]
    },
    {
     "name": "stdout",
     "output_type": "stream",
     "text": [
      "Trained and saved RandomForestRegressor model with parameters {'n_estimators': 50, 'max_depth': 40, 'min_samples_split': 15, 'min_samples_leaf': 1, 'max_features': 'log2', 'bootstrap': False} to ../models/rf_50_estimators_40_depth_15_minsplit_1_minleaf_log2_features_False_bootstrap_hot.pkl\n"
     ]
    },
    {
     "name": "stderr",
     "output_type": "stream",
     "text": [
      "/work/Exam/DataScienceExam/env/airbnb/lib/python3.10/site-packages/sklearn/base.py:1474: DataConversionWarning: A column-vector y was passed when a 1d array was expected. Please change the shape of y to (n_samples,), for example using ravel().\n",
      "  return fit_method(estimator, *args, **kwargs)\n"
     ]
    },
    {
     "name": "stdout",
     "output_type": "stream",
     "text": [
      "Trained and saved RandomForestRegressor model with parameters {'n_estimators': 50, 'max_depth': 40, 'min_samples_split': 15, 'min_samples_leaf': 1, 'max_features': 'log2', 'bootstrap': True} to ../models/rf_50_estimators_40_depth_15_minsplit_1_minleaf_log2_features_True_bootstrap_hot.pkl\n"
     ]
    },
    {
     "name": "stderr",
     "output_type": "stream",
     "text": [
      "/work/Exam/DataScienceExam/env/airbnb/lib/python3.10/site-packages/sklearn/base.py:1474: DataConversionWarning: A column-vector y was passed when a 1d array was expected. Please change the shape of y to (n_samples,), for example using ravel().\n",
      "  return fit_method(estimator, *args, **kwargs)\n"
     ]
    },
    {
     "name": "stdout",
     "output_type": "stream",
     "text": [
      "Trained and saved RandomForestRegressor model with parameters {'n_estimators': 50, 'max_depth': 40, 'min_samples_split': 15, 'min_samples_leaf': 2, 'max_features': 'sqrt', 'bootstrap': False} to ../models/rf_50_estimators_40_depth_15_minsplit_2_minleaf_sqrt_features_False_bootstrap_hot.pkl\n"
     ]
    },
    {
     "name": "stderr",
     "output_type": "stream",
     "text": [
      "/work/Exam/DataScienceExam/env/airbnb/lib/python3.10/site-packages/sklearn/base.py:1474: DataConversionWarning: A column-vector y was passed when a 1d array was expected. Please change the shape of y to (n_samples,), for example using ravel().\n",
      "  return fit_method(estimator, *args, **kwargs)\n"
     ]
    },
    {
     "name": "stdout",
     "output_type": "stream",
     "text": [
      "Trained and saved RandomForestRegressor model with parameters {'n_estimators': 50, 'max_depth': 40, 'min_samples_split': 15, 'min_samples_leaf': 2, 'max_features': 'sqrt', 'bootstrap': True} to ../models/rf_50_estimators_40_depth_15_minsplit_2_minleaf_sqrt_features_True_bootstrap_hot.pkl\n"
     ]
    },
    {
     "name": "stderr",
     "output_type": "stream",
     "text": [
      "/work/Exam/DataScienceExam/env/airbnb/lib/python3.10/site-packages/sklearn/base.py:1474: DataConversionWarning: A column-vector y was passed when a 1d array was expected. Please change the shape of y to (n_samples,), for example using ravel().\n",
      "  return fit_method(estimator, *args, **kwargs)\n"
     ]
    },
    {
     "name": "stdout",
     "output_type": "stream",
     "text": [
      "Trained and saved RandomForestRegressor model with parameters {'n_estimators': 50, 'max_depth': 40, 'min_samples_split': 15, 'min_samples_leaf': 2, 'max_features': 'log2', 'bootstrap': False} to ../models/rf_50_estimators_40_depth_15_minsplit_2_minleaf_log2_features_False_bootstrap_hot.pkl\n"
     ]
    },
    {
     "name": "stderr",
     "output_type": "stream",
     "text": [
      "/work/Exam/DataScienceExam/env/airbnb/lib/python3.10/site-packages/sklearn/base.py:1474: DataConversionWarning: A column-vector y was passed when a 1d array was expected. Please change the shape of y to (n_samples,), for example using ravel().\n",
      "  return fit_method(estimator, *args, **kwargs)\n"
     ]
    },
    {
     "name": "stdout",
     "output_type": "stream",
     "text": [
      "Trained and saved RandomForestRegressor model with parameters {'n_estimators': 50, 'max_depth': 40, 'min_samples_split': 15, 'min_samples_leaf': 2, 'max_features': 'log2', 'bootstrap': True} to ../models/rf_50_estimators_40_depth_15_minsplit_2_minleaf_log2_features_True_bootstrap_hot.pkl\n"
     ]
    },
    {
     "name": "stderr",
     "output_type": "stream",
     "text": [
      "/work/Exam/DataScienceExam/env/airbnb/lib/python3.10/site-packages/sklearn/base.py:1474: DataConversionWarning: A column-vector y was passed when a 1d array was expected. Please change the shape of y to (n_samples,), for example using ravel().\n",
      "  return fit_method(estimator, *args, **kwargs)\n"
     ]
    },
    {
     "name": "stdout",
     "output_type": "stream",
     "text": [
      "Trained and saved RandomForestRegressor model with parameters {'n_estimators': 50, 'max_depth': 40, 'min_samples_split': 15, 'min_samples_leaf': 5, 'max_features': 'sqrt', 'bootstrap': False} to ../models/rf_50_estimators_40_depth_15_minsplit_5_minleaf_sqrt_features_False_bootstrap_hot.pkl\n"
     ]
    },
    {
     "name": "stderr",
     "output_type": "stream",
     "text": [
      "/work/Exam/DataScienceExam/env/airbnb/lib/python3.10/site-packages/sklearn/base.py:1474: DataConversionWarning: A column-vector y was passed when a 1d array was expected. Please change the shape of y to (n_samples,), for example using ravel().\n",
      "  return fit_method(estimator, *args, **kwargs)\n"
     ]
    },
    {
     "name": "stdout",
     "output_type": "stream",
     "text": [
      "Trained and saved RandomForestRegressor model with parameters {'n_estimators': 50, 'max_depth': 40, 'min_samples_split': 15, 'min_samples_leaf': 5, 'max_features': 'sqrt', 'bootstrap': True} to ../models/rf_50_estimators_40_depth_15_minsplit_5_minleaf_sqrt_features_True_bootstrap_hot.pkl\n"
     ]
    },
    {
     "name": "stderr",
     "output_type": "stream",
     "text": [
      "/work/Exam/DataScienceExam/env/airbnb/lib/python3.10/site-packages/sklearn/base.py:1474: DataConversionWarning: A column-vector y was passed when a 1d array was expected. Please change the shape of y to (n_samples,), for example using ravel().\n",
      "  return fit_method(estimator, *args, **kwargs)\n"
     ]
    },
    {
     "name": "stdout",
     "output_type": "stream",
     "text": [
      "Trained and saved RandomForestRegressor model with parameters {'n_estimators': 50, 'max_depth': 40, 'min_samples_split': 15, 'min_samples_leaf': 5, 'max_features': 'log2', 'bootstrap': False} to ../models/rf_50_estimators_40_depth_15_minsplit_5_minleaf_log2_features_False_bootstrap_hot.pkl\n"
     ]
    },
    {
     "name": "stderr",
     "output_type": "stream",
     "text": [
      "/work/Exam/DataScienceExam/env/airbnb/lib/python3.10/site-packages/sklearn/base.py:1474: DataConversionWarning: A column-vector y was passed when a 1d array was expected. Please change the shape of y to (n_samples,), for example using ravel().\n",
      "  return fit_method(estimator, *args, **kwargs)\n"
     ]
    },
    {
     "name": "stdout",
     "output_type": "stream",
     "text": [
      "Trained and saved RandomForestRegressor model with parameters {'n_estimators': 50, 'max_depth': 40, 'min_samples_split': 15, 'min_samples_leaf': 5, 'max_features': 'log2', 'bootstrap': True} to ../models/rf_50_estimators_40_depth_15_minsplit_5_minleaf_log2_features_True_bootstrap_hot.pkl\n"
     ]
    },
    {
     "name": "stderr",
     "output_type": "stream",
     "text": [
      "/work/Exam/DataScienceExam/env/airbnb/lib/python3.10/site-packages/sklearn/base.py:1474: DataConversionWarning: A column-vector y was passed when a 1d array was expected. Please change the shape of y to (n_samples,), for example using ravel().\n",
      "  return fit_method(estimator, *args, **kwargs)\n"
     ]
    },
    {
     "name": "stdout",
     "output_type": "stream",
     "text": [
      "Trained and saved RandomForestRegressor model with parameters {'n_estimators': 75, 'max_depth': None, 'min_samples_split': 5, 'min_samples_leaf': 1, 'max_features': 'sqrt', 'bootstrap': False} to ../models/rf_75_estimators_None_depth_5_minsplit_1_minleaf_sqrt_features_False_bootstrap_hot.pkl\n"
     ]
    },
    {
     "name": "stderr",
     "output_type": "stream",
     "text": [
      "/work/Exam/DataScienceExam/env/airbnb/lib/python3.10/site-packages/sklearn/base.py:1474: DataConversionWarning: A column-vector y was passed when a 1d array was expected. Please change the shape of y to (n_samples,), for example using ravel().\n",
      "  return fit_method(estimator, *args, **kwargs)\n"
     ]
    },
    {
     "name": "stdout",
     "output_type": "stream",
     "text": [
      "Trained and saved RandomForestRegressor model with parameters {'n_estimators': 75, 'max_depth': None, 'min_samples_split': 5, 'min_samples_leaf': 1, 'max_features': 'sqrt', 'bootstrap': True} to ../models/rf_75_estimators_None_depth_5_minsplit_1_minleaf_sqrt_features_True_bootstrap_hot.pkl\n"
     ]
    },
    {
     "name": "stderr",
     "output_type": "stream",
     "text": [
      "/work/Exam/DataScienceExam/env/airbnb/lib/python3.10/site-packages/sklearn/base.py:1474: DataConversionWarning: A column-vector y was passed when a 1d array was expected. Please change the shape of y to (n_samples,), for example using ravel().\n",
      "  return fit_method(estimator, *args, **kwargs)\n"
     ]
    },
    {
     "name": "stdout",
     "output_type": "stream",
     "text": [
      "Trained and saved RandomForestRegressor model with parameters {'n_estimators': 75, 'max_depth': None, 'min_samples_split': 5, 'min_samples_leaf': 1, 'max_features': 'log2', 'bootstrap': False} to ../models/rf_75_estimators_None_depth_5_minsplit_1_minleaf_log2_features_False_bootstrap_hot.pkl\n"
     ]
    },
    {
     "name": "stderr",
     "output_type": "stream",
     "text": [
      "/work/Exam/DataScienceExam/env/airbnb/lib/python3.10/site-packages/sklearn/base.py:1474: DataConversionWarning: A column-vector y was passed when a 1d array was expected. Please change the shape of y to (n_samples,), for example using ravel().\n",
      "  return fit_method(estimator, *args, **kwargs)\n"
     ]
    },
    {
     "name": "stdout",
     "output_type": "stream",
     "text": [
      "Trained and saved RandomForestRegressor model with parameters {'n_estimators': 75, 'max_depth': None, 'min_samples_split': 5, 'min_samples_leaf': 1, 'max_features': 'log2', 'bootstrap': True} to ../models/rf_75_estimators_None_depth_5_minsplit_1_minleaf_log2_features_True_bootstrap_hot.pkl\n"
     ]
    },
    {
     "name": "stderr",
     "output_type": "stream",
     "text": [
      "/work/Exam/DataScienceExam/env/airbnb/lib/python3.10/site-packages/sklearn/base.py:1474: DataConversionWarning: A column-vector y was passed when a 1d array was expected. Please change the shape of y to (n_samples,), for example using ravel().\n",
      "  return fit_method(estimator, *args, **kwargs)\n"
     ]
    },
    {
     "name": "stdout",
     "output_type": "stream",
     "text": [
      "Trained and saved RandomForestRegressor model with parameters {'n_estimators': 75, 'max_depth': None, 'min_samples_split': 5, 'min_samples_leaf': 2, 'max_features': 'sqrt', 'bootstrap': False} to ../models/rf_75_estimators_None_depth_5_minsplit_2_minleaf_sqrt_features_False_bootstrap_hot.pkl\n"
     ]
    },
    {
     "name": "stderr",
     "output_type": "stream",
     "text": [
      "/work/Exam/DataScienceExam/env/airbnb/lib/python3.10/site-packages/sklearn/base.py:1474: DataConversionWarning: A column-vector y was passed when a 1d array was expected. Please change the shape of y to (n_samples,), for example using ravel().\n",
      "  return fit_method(estimator, *args, **kwargs)\n"
     ]
    },
    {
     "name": "stdout",
     "output_type": "stream",
     "text": [
      "Trained and saved RandomForestRegressor model with parameters {'n_estimators': 75, 'max_depth': None, 'min_samples_split': 5, 'min_samples_leaf': 2, 'max_features': 'sqrt', 'bootstrap': True} to ../models/rf_75_estimators_None_depth_5_minsplit_2_minleaf_sqrt_features_True_bootstrap_hot.pkl\n"
     ]
    },
    {
     "name": "stderr",
     "output_type": "stream",
     "text": [
      "/work/Exam/DataScienceExam/env/airbnb/lib/python3.10/site-packages/sklearn/base.py:1474: DataConversionWarning: A column-vector y was passed when a 1d array was expected. Please change the shape of y to (n_samples,), for example using ravel().\n",
      "  return fit_method(estimator, *args, **kwargs)\n"
     ]
    },
    {
     "name": "stdout",
     "output_type": "stream",
     "text": [
      "Trained and saved RandomForestRegressor model with parameters {'n_estimators': 75, 'max_depth': None, 'min_samples_split': 5, 'min_samples_leaf': 2, 'max_features': 'log2', 'bootstrap': False} to ../models/rf_75_estimators_None_depth_5_minsplit_2_minleaf_log2_features_False_bootstrap_hot.pkl\n"
     ]
    },
    {
     "name": "stderr",
     "output_type": "stream",
     "text": [
      "/work/Exam/DataScienceExam/env/airbnb/lib/python3.10/site-packages/sklearn/base.py:1474: DataConversionWarning: A column-vector y was passed when a 1d array was expected. Please change the shape of y to (n_samples,), for example using ravel().\n",
      "  return fit_method(estimator, *args, **kwargs)\n"
     ]
    },
    {
     "name": "stdout",
     "output_type": "stream",
     "text": [
      "Trained and saved RandomForestRegressor model with parameters {'n_estimators': 75, 'max_depth': None, 'min_samples_split': 5, 'min_samples_leaf': 2, 'max_features': 'log2', 'bootstrap': True} to ../models/rf_75_estimators_None_depth_5_minsplit_2_minleaf_log2_features_True_bootstrap_hot.pkl\n"
     ]
    },
    {
     "name": "stderr",
     "output_type": "stream",
     "text": [
      "/work/Exam/DataScienceExam/env/airbnb/lib/python3.10/site-packages/sklearn/base.py:1474: DataConversionWarning: A column-vector y was passed when a 1d array was expected. Please change the shape of y to (n_samples,), for example using ravel().\n",
      "  return fit_method(estimator, *args, **kwargs)\n"
     ]
    },
    {
     "name": "stdout",
     "output_type": "stream",
     "text": [
      "Trained and saved RandomForestRegressor model with parameters {'n_estimators': 75, 'max_depth': None, 'min_samples_split': 5, 'min_samples_leaf': 5, 'max_features': 'sqrt', 'bootstrap': False} to ../models/rf_75_estimators_None_depth_5_minsplit_5_minleaf_sqrt_features_False_bootstrap_hot.pkl\n"
     ]
    },
    {
     "name": "stderr",
     "output_type": "stream",
     "text": [
      "/work/Exam/DataScienceExam/env/airbnb/lib/python3.10/site-packages/sklearn/base.py:1474: DataConversionWarning: A column-vector y was passed when a 1d array was expected. Please change the shape of y to (n_samples,), for example using ravel().\n",
      "  return fit_method(estimator, *args, **kwargs)\n"
     ]
    },
    {
     "name": "stdout",
     "output_type": "stream",
     "text": [
      "Trained and saved RandomForestRegressor model with parameters {'n_estimators': 75, 'max_depth': None, 'min_samples_split': 5, 'min_samples_leaf': 5, 'max_features': 'sqrt', 'bootstrap': True} to ../models/rf_75_estimators_None_depth_5_minsplit_5_minleaf_sqrt_features_True_bootstrap_hot.pkl\n"
     ]
    },
    {
     "name": "stderr",
     "output_type": "stream",
     "text": [
      "/work/Exam/DataScienceExam/env/airbnb/lib/python3.10/site-packages/sklearn/base.py:1474: DataConversionWarning: A column-vector y was passed when a 1d array was expected. Please change the shape of y to (n_samples,), for example using ravel().\n",
      "  return fit_method(estimator, *args, **kwargs)\n"
     ]
    },
    {
     "name": "stdout",
     "output_type": "stream",
     "text": [
      "Trained and saved RandomForestRegressor model with parameters {'n_estimators': 75, 'max_depth': None, 'min_samples_split': 5, 'min_samples_leaf': 5, 'max_features': 'log2', 'bootstrap': False} to ../models/rf_75_estimators_None_depth_5_minsplit_5_minleaf_log2_features_False_bootstrap_hot.pkl\n"
     ]
    },
    {
     "name": "stderr",
     "output_type": "stream",
     "text": [
      "/work/Exam/DataScienceExam/env/airbnb/lib/python3.10/site-packages/sklearn/base.py:1474: DataConversionWarning: A column-vector y was passed when a 1d array was expected. Please change the shape of y to (n_samples,), for example using ravel().\n",
      "  return fit_method(estimator, *args, **kwargs)\n"
     ]
    },
    {
     "name": "stdout",
     "output_type": "stream",
     "text": [
      "Trained and saved RandomForestRegressor model with parameters {'n_estimators': 75, 'max_depth': None, 'min_samples_split': 5, 'min_samples_leaf': 5, 'max_features': 'log2', 'bootstrap': True} to ../models/rf_75_estimators_None_depth_5_minsplit_5_minleaf_log2_features_True_bootstrap_hot.pkl\n"
     ]
    },
    {
     "name": "stderr",
     "output_type": "stream",
     "text": [
      "/work/Exam/DataScienceExam/env/airbnb/lib/python3.10/site-packages/sklearn/base.py:1474: DataConversionWarning: A column-vector y was passed when a 1d array was expected. Please change the shape of y to (n_samples,), for example using ravel().\n",
      "  return fit_method(estimator, *args, **kwargs)\n"
     ]
    },
    {
     "name": "stdout",
     "output_type": "stream",
     "text": [
      "Trained and saved RandomForestRegressor model with parameters {'n_estimators': 75, 'max_depth': None, 'min_samples_split': 10, 'min_samples_leaf': 1, 'max_features': 'sqrt', 'bootstrap': False} to ../models/rf_75_estimators_None_depth_10_minsplit_1_minleaf_sqrt_features_False_bootstrap_hot.pkl\n"
     ]
    },
    {
     "name": "stderr",
     "output_type": "stream",
     "text": [
      "/work/Exam/DataScienceExam/env/airbnb/lib/python3.10/site-packages/sklearn/base.py:1474: DataConversionWarning: A column-vector y was passed when a 1d array was expected. Please change the shape of y to (n_samples,), for example using ravel().\n",
      "  return fit_method(estimator, *args, **kwargs)\n"
     ]
    },
    {
     "name": "stdout",
     "output_type": "stream",
     "text": [
      "Trained and saved RandomForestRegressor model with parameters {'n_estimators': 75, 'max_depth': None, 'min_samples_split': 10, 'min_samples_leaf': 1, 'max_features': 'sqrt', 'bootstrap': True} to ../models/rf_75_estimators_None_depth_10_minsplit_1_minleaf_sqrt_features_True_bootstrap_hot.pkl\n"
     ]
    },
    {
     "name": "stderr",
     "output_type": "stream",
     "text": [
      "/work/Exam/DataScienceExam/env/airbnb/lib/python3.10/site-packages/sklearn/base.py:1474: DataConversionWarning: A column-vector y was passed when a 1d array was expected. Please change the shape of y to (n_samples,), for example using ravel().\n",
      "  return fit_method(estimator, *args, **kwargs)\n"
     ]
    },
    {
     "name": "stdout",
     "output_type": "stream",
     "text": [
      "Trained and saved RandomForestRegressor model with parameters {'n_estimators': 75, 'max_depth': None, 'min_samples_split': 10, 'min_samples_leaf': 1, 'max_features': 'log2', 'bootstrap': False} to ../models/rf_75_estimators_None_depth_10_minsplit_1_minleaf_log2_features_False_bootstrap_hot.pkl\n"
     ]
    },
    {
     "name": "stderr",
     "output_type": "stream",
     "text": [
      "/work/Exam/DataScienceExam/env/airbnb/lib/python3.10/site-packages/sklearn/base.py:1474: DataConversionWarning: A column-vector y was passed when a 1d array was expected. Please change the shape of y to (n_samples,), for example using ravel().\n",
      "  return fit_method(estimator, *args, **kwargs)\n"
     ]
    },
    {
     "name": "stdout",
     "output_type": "stream",
     "text": [
      "Trained and saved RandomForestRegressor model with parameters {'n_estimators': 75, 'max_depth': None, 'min_samples_split': 10, 'min_samples_leaf': 1, 'max_features': 'log2', 'bootstrap': True} to ../models/rf_75_estimators_None_depth_10_minsplit_1_minleaf_log2_features_True_bootstrap_hot.pkl\n"
     ]
    },
    {
     "name": "stderr",
     "output_type": "stream",
     "text": [
      "/work/Exam/DataScienceExam/env/airbnb/lib/python3.10/site-packages/sklearn/base.py:1474: DataConversionWarning: A column-vector y was passed when a 1d array was expected. Please change the shape of y to (n_samples,), for example using ravel().\n",
      "  return fit_method(estimator, *args, **kwargs)\n"
     ]
    },
    {
     "name": "stdout",
     "output_type": "stream",
     "text": [
      "Trained and saved RandomForestRegressor model with parameters {'n_estimators': 75, 'max_depth': None, 'min_samples_split': 10, 'min_samples_leaf': 2, 'max_features': 'sqrt', 'bootstrap': False} to ../models/rf_75_estimators_None_depth_10_minsplit_2_minleaf_sqrt_features_False_bootstrap_hot.pkl\n"
     ]
    },
    {
     "name": "stderr",
     "output_type": "stream",
     "text": [
      "/work/Exam/DataScienceExam/env/airbnb/lib/python3.10/site-packages/sklearn/base.py:1474: DataConversionWarning: A column-vector y was passed when a 1d array was expected. Please change the shape of y to (n_samples,), for example using ravel().\n",
      "  return fit_method(estimator, *args, **kwargs)\n"
     ]
    },
    {
     "name": "stdout",
     "output_type": "stream",
     "text": [
      "Trained and saved RandomForestRegressor model with parameters {'n_estimators': 75, 'max_depth': None, 'min_samples_split': 10, 'min_samples_leaf': 2, 'max_features': 'sqrt', 'bootstrap': True} to ../models/rf_75_estimators_None_depth_10_minsplit_2_minleaf_sqrt_features_True_bootstrap_hot.pkl\n"
     ]
    },
    {
     "name": "stderr",
     "output_type": "stream",
     "text": [
      "/work/Exam/DataScienceExam/env/airbnb/lib/python3.10/site-packages/sklearn/base.py:1474: DataConversionWarning: A column-vector y was passed when a 1d array was expected. Please change the shape of y to (n_samples,), for example using ravel().\n",
      "  return fit_method(estimator, *args, **kwargs)\n"
     ]
    },
    {
     "name": "stdout",
     "output_type": "stream",
     "text": [
      "Trained and saved RandomForestRegressor model with parameters {'n_estimators': 75, 'max_depth': None, 'min_samples_split': 10, 'min_samples_leaf': 2, 'max_features': 'log2', 'bootstrap': False} to ../models/rf_75_estimators_None_depth_10_minsplit_2_minleaf_log2_features_False_bootstrap_hot.pkl\n"
     ]
    },
    {
     "name": "stderr",
     "output_type": "stream",
     "text": [
      "/work/Exam/DataScienceExam/env/airbnb/lib/python3.10/site-packages/sklearn/base.py:1474: DataConversionWarning: A column-vector y was passed when a 1d array was expected. Please change the shape of y to (n_samples,), for example using ravel().\n",
      "  return fit_method(estimator, *args, **kwargs)\n"
     ]
    },
    {
     "name": "stdout",
     "output_type": "stream",
     "text": [
      "Trained and saved RandomForestRegressor model with parameters {'n_estimators': 75, 'max_depth': None, 'min_samples_split': 10, 'min_samples_leaf': 2, 'max_features': 'log2', 'bootstrap': True} to ../models/rf_75_estimators_None_depth_10_minsplit_2_minleaf_log2_features_True_bootstrap_hot.pkl\n"
     ]
    },
    {
     "name": "stderr",
     "output_type": "stream",
     "text": [
      "/work/Exam/DataScienceExam/env/airbnb/lib/python3.10/site-packages/sklearn/base.py:1474: DataConversionWarning: A column-vector y was passed when a 1d array was expected. Please change the shape of y to (n_samples,), for example using ravel().\n",
      "  return fit_method(estimator, *args, **kwargs)\n"
     ]
    },
    {
     "name": "stdout",
     "output_type": "stream",
     "text": [
      "Trained and saved RandomForestRegressor model with parameters {'n_estimators': 75, 'max_depth': None, 'min_samples_split': 10, 'min_samples_leaf': 5, 'max_features': 'sqrt', 'bootstrap': False} to ../models/rf_75_estimators_None_depth_10_minsplit_5_minleaf_sqrt_features_False_bootstrap_hot.pkl\n"
     ]
    },
    {
     "name": "stderr",
     "output_type": "stream",
     "text": [
      "/work/Exam/DataScienceExam/env/airbnb/lib/python3.10/site-packages/sklearn/base.py:1474: DataConversionWarning: A column-vector y was passed when a 1d array was expected. Please change the shape of y to (n_samples,), for example using ravel().\n",
      "  return fit_method(estimator, *args, **kwargs)\n"
     ]
    },
    {
     "name": "stdout",
     "output_type": "stream",
     "text": [
      "Trained and saved RandomForestRegressor model with parameters {'n_estimators': 75, 'max_depth': None, 'min_samples_split': 10, 'min_samples_leaf': 5, 'max_features': 'sqrt', 'bootstrap': True} to ../models/rf_75_estimators_None_depth_10_minsplit_5_minleaf_sqrt_features_True_bootstrap_hot.pkl\n"
     ]
    },
    {
     "name": "stderr",
     "output_type": "stream",
     "text": [
      "/work/Exam/DataScienceExam/env/airbnb/lib/python3.10/site-packages/sklearn/base.py:1474: DataConversionWarning: A column-vector y was passed when a 1d array was expected. Please change the shape of y to (n_samples,), for example using ravel().\n",
      "  return fit_method(estimator, *args, **kwargs)\n"
     ]
    },
    {
     "name": "stdout",
     "output_type": "stream",
     "text": [
      "Trained and saved RandomForestRegressor model with parameters {'n_estimators': 75, 'max_depth': None, 'min_samples_split': 10, 'min_samples_leaf': 5, 'max_features': 'log2', 'bootstrap': False} to ../models/rf_75_estimators_None_depth_10_minsplit_5_minleaf_log2_features_False_bootstrap_hot.pkl\n"
     ]
    },
    {
     "name": "stderr",
     "output_type": "stream",
     "text": [
      "/work/Exam/DataScienceExam/env/airbnb/lib/python3.10/site-packages/sklearn/base.py:1474: DataConversionWarning: A column-vector y was passed when a 1d array was expected. Please change the shape of y to (n_samples,), for example using ravel().\n",
      "  return fit_method(estimator, *args, **kwargs)\n"
     ]
    },
    {
     "name": "stdout",
     "output_type": "stream",
     "text": [
      "Trained and saved RandomForestRegressor model with parameters {'n_estimators': 75, 'max_depth': None, 'min_samples_split': 10, 'min_samples_leaf': 5, 'max_features': 'log2', 'bootstrap': True} to ../models/rf_75_estimators_None_depth_10_minsplit_5_minleaf_log2_features_True_bootstrap_hot.pkl\n"
     ]
    },
    {
     "name": "stderr",
     "output_type": "stream",
     "text": [
      "/work/Exam/DataScienceExam/env/airbnb/lib/python3.10/site-packages/sklearn/base.py:1474: DataConversionWarning: A column-vector y was passed when a 1d array was expected. Please change the shape of y to (n_samples,), for example using ravel().\n",
      "  return fit_method(estimator, *args, **kwargs)\n"
     ]
    },
    {
     "name": "stdout",
     "output_type": "stream",
     "text": [
      "Trained and saved RandomForestRegressor model with parameters {'n_estimators': 75, 'max_depth': None, 'min_samples_split': 15, 'min_samples_leaf': 1, 'max_features': 'sqrt', 'bootstrap': False} to ../models/rf_75_estimators_None_depth_15_minsplit_1_minleaf_sqrt_features_False_bootstrap_hot.pkl\n"
     ]
    },
    {
     "name": "stderr",
     "output_type": "stream",
     "text": [
      "/work/Exam/DataScienceExam/env/airbnb/lib/python3.10/site-packages/sklearn/base.py:1474: DataConversionWarning: A column-vector y was passed when a 1d array was expected. Please change the shape of y to (n_samples,), for example using ravel().\n",
      "  return fit_method(estimator, *args, **kwargs)\n"
     ]
    },
    {
     "name": "stdout",
     "output_type": "stream",
     "text": [
      "Trained and saved RandomForestRegressor model with parameters {'n_estimators': 75, 'max_depth': None, 'min_samples_split': 15, 'min_samples_leaf': 1, 'max_features': 'sqrt', 'bootstrap': True} to ../models/rf_75_estimators_None_depth_15_minsplit_1_minleaf_sqrt_features_True_bootstrap_hot.pkl\n"
     ]
    },
    {
     "name": "stderr",
     "output_type": "stream",
     "text": [
      "/work/Exam/DataScienceExam/env/airbnb/lib/python3.10/site-packages/sklearn/base.py:1474: DataConversionWarning: A column-vector y was passed when a 1d array was expected. Please change the shape of y to (n_samples,), for example using ravel().\n",
      "  return fit_method(estimator, *args, **kwargs)\n"
     ]
    },
    {
     "name": "stdout",
     "output_type": "stream",
     "text": [
      "Trained and saved RandomForestRegressor model with parameters {'n_estimators': 75, 'max_depth': None, 'min_samples_split': 15, 'min_samples_leaf': 1, 'max_features': 'log2', 'bootstrap': False} to ../models/rf_75_estimators_None_depth_15_minsplit_1_minleaf_log2_features_False_bootstrap_hot.pkl\n"
     ]
    },
    {
     "name": "stderr",
     "output_type": "stream",
     "text": [
      "/work/Exam/DataScienceExam/env/airbnb/lib/python3.10/site-packages/sklearn/base.py:1474: DataConversionWarning: A column-vector y was passed when a 1d array was expected. Please change the shape of y to (n_samples,), for example using ravel().\n",
      "  return fit_method(estimator, *args, **kwargs)\n"
     ]
    },
    {
     "name": "stdout",
     "output_type": "stream",
     "text": [
      "Trained and saved RandomForestRegressor model with parameters {'n_estimators': 75, 'max_depth': None, 'min_samples_split': 15, 'min_samples_leaf': 1, 'max_features': 'log2', 'bootstrap': True} to ../models/rf_75_estimators_None_depth_15_minsplit_1_minleaf_log2_features_True_bootstrap_hot.pkl\n"
     ]
    },
    {
     "name": "stderr",
     "output_type": "stream",
     "text": [
      "/work/Exam/DataScienceExam/env/airbnb/lib/python3.10/site-packages/sklearn/base.py:1474: DataConversionWarning: A column-vector y was passed when a 1d array was expected. Please change the shape of y to (n_samples,), for example using ravel().\n",
      "  return fit_method(estimator, *args, **kwargs)\n"
     ]
    },
    {
     "name": "stdout",
     "output_type": "stream",
     "text": [
      "Trained and saved RandomForestRegressor model with parameters {'n_estimators': 75, 'max_depth': None, 'min_samples_split': 15, 'min_samples_leaf': 2, 'max_features': 'sqrt', 'bootstrap': False} to ../models/rf_75_estimators_None_depth_15_minsplit_2_minleaf_sqrt_features_False_bootstrap_hot.pkl\n"
     ]
    },
    {
     "name": "stderr",
     "output_type": "stream",
     "text": [
      "/work/Exam/DataScienceExam/env/airbnb/lib/python3.10/site-packages/sklearn/base.py:1474: DataConversionWarning: A column-vector y was passed when a 1d array was expected. Please change the shape of y to (n_samples,), for example using ravel().\n",
      "  return fit_method(estimator, *args, **kwargs)\n"
     ]
    },
    {
     "name": "stdout",
     "output_type": "stream",
     "text": [
      "Trained and saved RandomForestRegressor model with parameters {'n_estimators': 75, 'max_depth': None, 'min_samples_split': 15, 'min_samples_leaf': 2, 'max_features': 'sqrt', 'bootstrap': True} to ../models/rf_75_estimators_None_depth_15_minsplit_2_minleaf_sqrt_features_True_bootstrap_hot.pkl\n"
     ]
    },
    {
     "name": "stderr",
     "output_type": "stream",
     "text": [
      "/work/Exam/DataScienceExam/env/airbnb/lib/python3.10/site-packages/sklearn/base.py:1474: DataConversionWarning: A column-vector y was passed when a 1d array was expected. Please change the shape of y to (n_samples,), for example using ravel().\n",
      "  return fit_method(estimator, *args, **kwargs)\n"
     ]
    },
    {
     "name": "stdout",
     "output_type": "stream",
     "text": [
      "Trained and saved RandomForestRegressor model with parameters {'n_estimators': 75, 'max_depth': None, 'min_samples_split': 15, 'min_samples_leaf': 2, 'max_features': 'log2', 'bootstrap': False} to ../models/rf_75_estimators_None_depth_15_minsplit_2_minleaf_log2_features_False_bootstrap_hot.pkl\n"
     ]
    },
    {
     "name": "stderr",
     "output_type": "stream",
     "text": [
      "/work/Exam/DataScienceExam/env/airbnb/lib/python3.10/site-packages/sklearn/base.py:1474: DataConversionWarning: A column-vector y was passed when a 1d array was expected. Please change the shape of y to (n_samples,), for example using ravel().\n",
      "  return fit_method(estimator, *args, **kwargs)\n"
     ]
    },
    {
     "name": "stdout",
     "output_type": "stream",
     "text": [
      "Trained and saved RandomForestRegressor model with parameters {'n_estimators': 75, 'max_depth': None, 'min_samples_split': 15, 'min_samples_leaf': 2, 'max_features': 'log2', 'bootstrap': True} to ../models/rf_75_estimators_None_depth_15_minsplit_2_minleaf_log2_features_True_bootstrap_hot.pkl\n"
     ]
    },
    {
     "name": "stderr",
     "output_type": "stream",
     "text": [
      "/work/Exam/DataScienceExam/env/airbnb/lib/python3.10/site-packages/sklearn/base.py:1474: DataConversionWarning: A column-vector y was passed when a 1d array was expected. Please change the shape of y to (n_samples,), for example using ravel().\n",
      "  return fit_method(estimator, *args, **kwargs)\n"
     ]
    },
    {
     "name": "stdout",
     "output_type": "stream",
     "text": [
      "Trained and saved RandomForestRegressor model with parameters {'n_estimators': 75, 'max_depth': None, 'min_samples_split': 15, 'min_samples_leaf': 5, 'max_features': 'sqrt', 'bootstrap': False} to ../models/rf_75_estimators_None_depth_15_minsplit_5_minleaf_sqrt_features_False_bootstrap_hot.pkl\n"
     ]
    },
    {
     "name": "stderr",
     "output_type": "stream",
     "text": [
      "/work/Exam/DataScienceExam/env/airbnb/lib/python3.10/site-packages/sklearn/base.py:1474: DataConversionWarning: A column-vector y was passed when a 1d array was expected. Please change the shape of y to (n_samples,), for example using ravel().\n",
      "  return fit_method(estimator, *args, **kwargs)\n"
     ]
    },
    {
     "name": "stdout",
     "output_type": "stream",
     "text": [
      "Trained and saved RandomForestRegressor model with parameters {'n_estimators': 75, 'max_depth': None, 'min_samples_split': 15, 'min_samples_leaf': 5, 'max_features': 'sqrt', 'bootstrap': True} to ../models/rf_75_estimators_None_depth_15_minsplit_5_minleaf_sqrt_features_True_bootstrap_hot.pkl\n"
     ]
    },
    {
     "name": "stderr",
     "output_type": "stream",
     "text": [
      "/work/Exam/DataScienceExam/env/airbnb/lib/python3.10/site-packages/sklearn/base.py:1474: DataConversionWarning: A column-vector y was passed when a 1d array was expected. Please change the shape of y to (n_samples,), for example using ravel().\n",
      "  return fit_method(estimator, *args, **kwargs)\n"
     ]
    },
    {
     "name": "stdout",
     "output_type": "stream",
     "text": [
      "Trained and saved RandomForestRegressor model with parameters {'n_estimators': 75, 'max_depth': None, 'min_samples_split': 15, 'min_samples_leaf': 5, 'max_features': 'log2', 'bootstrap': False} to ../models/rf_75_estimators_None_depth_15_minsplit_5_minleaf_log2_features_False_bootstrap_hot.pkl\n"
     ]
    },
    {
     "name": "stderr",
     "output_type": "stream",
     "text": [
      "/work/Exam/DataScienceExam/env/airbnb/lib/python3.10/site-packages/sklearn/base.py:1474: DataConversionWarning: A column-vector y was passed when a 1d array was expected. Please change the shape of y to (n_samples,), for example using ravel().\n",
      "  return fit_method(estimator, *args, **kwargs)\n"
     ]
    },
    {
     "name": "stdout",
     "output_type": "stream",
     "text": [
      "Trained and saved RandomForestRegressor model with parameters {'n_estimators': 75, 'max_depth': None, 'min_samples_split': 15, 'min_samples_leaf': 5, 'max_features': 'log2', 'bootstrap': True} to ../models/rf_75_estimators_None_depth_15_minsplit_5_minleaf_log2_features_True_bootstrap_hot.pkl\n"
     ]
    },
    {
     "name": "stderr",
     "output_type": "stream",
     "text": [
      "/work/Exam/DataScienceExam/env/airbnb/lib/python3.10/site-packages/sklearn/base.py:1474: DataConversionWarning: A column-vector y was passed when a 1d array was expected. Please change the shape of y to (n_samples,), for example using ravel().\n",
      "  return fit_method(estimator, *args, **kwargs)\n"
     ]
    },
    {
     "name": "stdout",
     "output_type": "stream",
     "text": [
      "Trained and saved RandomForestRegressor model with parameters {'n_estimators': 75, 'max_depth': 20, 'min_samples_split': 5, 'min_samples_leaf': 1, 'max_features': 'sqrt', 'bootstrap': False} to ../models/rf_75_estimators_20_depth_5_minsplit_1_minleaf_sqrt_features_False_bootstrap_hot.pkl\n"
     ]
    },
    {
     "name": "stderr",
     "output_type": "stream",
     "text": [
      "/work/Exam/DataScienceExam/env/airbnb/lib/python3.10/site-packages/sklearn/base.py:1474: DataConversionWarning: A column-vector y was passed when a 1d array was expected. Please change the shape of y to (n_samples,), for example using ravel().\n",
      "  return fit_method(estimator, *args, **kwargs)\n"
     ]
    },
    {
     "name": "stdout",
     "output_type": "stream",
     "text": [
      "Trained and saved RandomForestRegressor model with parameters {'n_estimators': 75, 'max_depth': 20, 'min_samples_split': 5, 'min_samples_leaf': 1, 'max_features': 'sqrt', 'bootstrap': True} to ../models/rf_75_estimators_20_depth_5_minsplit_1_minleaf_sqrt_features_True_bootstrap_hot.pkl\n"
     ]
    },
    {
     "name": "stderr",
     "output_type": "stream",
     "text": [
      "/work/Exam/DataScienceExam/env/airbnb/lib/python3.10/site-packages/sklearn/base.py:1474: DataConversionWarning: A column-vector y was passed when a 1d array was expected. Please change the shape of y to (n_samples,), for example using ravel().\n",
      "  return fit_method(estimator, *args, **kwargs)\n"
     ]
    },
    {
     "name": "stdout",
     "output_type": "stream",
     "text": [
      "Trained and saved RandomForestRegressor model with parameters {'n_estimators': 75, 'max_depth': 20, 'min_samples_split': 5, 'min_samples_leaf': 1, 'max_features': 'log2', 'bootstrap': False} to ../models/rf_75_estimators_20_depth_5_minsplit_1_minleaf_log2_features_False_bootstrap_hot.pkl\n"
     ]
    },
    {
     "name": "stderr",
     "output_type": "stream",
     "text": [
      "/work/Exam/DataScienceExam/env/airbnb/lib/python3.10/site-packages/sklearn/base.py:1474: DataConversionWarning: A column-vector y was passed when a 1d array was expected. Please change the shape of y to (n_samples,), for example using ravel().\n",
      "  return fit_method(estimator, *args, **kwargs)\n"
     ]
    },
    {
     "name": "stdout",
     "output_type": "stream",
     "text": [
      "Trained and saved RandomForestRegressor model with parameters {'n_estimators': 75, 'max_depth': 20, 'min_samples_split': 5, 'min_samples_leaf': 1, 'max_features': 'log2', 'bootstrap': True} to ../models/rf_75_estimators_20_depth_5_minsplit_1_minleaf_log2_features_True_bootstrap_hot.pkl\n"
     ]
    },
    {
     "name": "stderr",
     "output_type": "stream",
     "text": [
      "/work/Exam/DataScienceExam/env/airbnb/lib/python3.10/site-packages/sklearn/base.py:1474: DataConversionWarning: A column-vector y was passed when a 1d array was expected. Please change the shape of y to (n_samples,), for example using ravel().\n",
      "  return fit_method(estimator, *args, **kwargs)\n"
     ]
    },
    {
     "name": "stdout",
     "output_type": "stream",
     "text": [
      "Trained and saved RandomForestRegressor model with parameters {'n_estimators': 75, 'max_depth': 20, 'min_samples_split': 5, 'min_samples_leaf': 2, 'max_features': 'sqrt', 'bootstrap': False} to ../models/rf_75_estimators_20_depth_5_minsplit_2_minleaf_sqrt_features_False_bootstrap_hot.pkl\n"
     ]
    },
    {
     "name": "stderr",
     "output_type": "stream",
     "text": [
      "/work/Exam/DataScienceExam/env/airbnb/lib/python3.10/site-packages/sklearn/base.py:1474: DataConversionWarning: A column-vector y was passed when a 1d array was expected. Please change the shape of y to (n_samples,), for example using ravel().\n",
      "  return fit_method(estimator, *args, **kwargs)\n"
     ]
    },
    {
     "name": "stdout",
     "output_type": "stream",
     "text": [
      "Trained and saved RandomForestRegressor model with parameters {'n_estimators': 75, 'max_depth': 20, 'min_samples_split': 5, 'min_samples_leaf': 2, 'max_features': 'sqrt', 'bootstrap': True} to ../models/rf_75_estimators_20_depth_5_minsplit_2_minleaf_sqrt_features_True_bootstrap_hot.pkl\n"
     ]
    },
    {
     "name": "stderr",
     "output_type": "stream",
     "text": [
      "/work/Exam/DataScienceExam/env/airbnb/lib/python3.10/site-packages/sklearn/base.py:1474: DataConversionWarning: A column-vector y was passed when a 1d array was expected. Please change the shape of y to (n_samples,), for example using ravel().\n",
      "  return fit_method(estimator, *args, **kwargs)\n"
     ]
    },
    {
     "name": "stdout",
     "output_type": "stream",
     "text": [
      "Trained and saved RandomForestRegressor model with parameters {'n_estimators': 75, 'max_depth': 20, 'min_samples_split': 5, 'min_samples_leaf': 2, 'max_features': 'log2', 'bootstrap': False} to ../models/rf_75_estimators_20_depth_5_minsplit_2_minleaf_log2_features_False_bootstrap_hot.pkl\n"
     ]
    },
    {
     "name": "stderr",
     "output_type": "stream",
     "text": [
      "/work/Exam/DataScienceExam/env/airbnb/lib/python3.10/site-packages/sklearn/base.py:1474: DataConversionWarning: A column-vector y was passed when a 1d array was expected. Please change the shape of y to (n_samples,), for example using ravel().\n",
      "  return fit_method(estimator, *args, **kwargs)\n"
     ]
    },
    {
     "name": "stdout",
     "output_type": "stream",
     "text": [
      "Trained and saved RandomForestRegressor model with parameters {'n_estimators': 75, 'max_depth': 20, 'min_samples_split': 5, 'min_samples_leaf': 2, 'max_features': 'log2', 'bootstrap': True} to ../models/rf_75_estimators_20_depth_5_minsplit_2_minleaf_log2_features_True_bootstrap_hot.pkl\n"
     ]
    },
    {
     "name": "stderr",
     "output_type": "stream",
     "text": [
      "/work/Exam/DataScienceExam/env/airbnb/lib/python3.10/site-packages/sklearn/base.py:1474: DataConversionWarning: A column-vector y was passed when a 1d array was expected. Please change the shape of y to (n_samples,), for example using ravel().\n",
      "  return fit_method(estimator, *args, **kwargs)\n"
     ]
    },
    {
     "name": "stdout",
     "output_type": "stream",
     "text": [
      "Trained and saved RandomForestRegressor model with parameters {'n_estimators': 75, 'max_depth': 20, 'min_samples_split': 5, 'min_samples_leaf': 5, 'max_features': 'sqrt', 'bootstrap': False} to ../models/rf_75_estimators_20_depth_5_minsplit_5_minleaf_sqrt_features_False_bootstrap_hot.pkl\n"
     ]
    },
    {
     "name": "stderr",
     "output_type": "stream",
     "text": [
      "/work/Exam/DataScienceExam/env/airbnb/lib/python3.10/site-packages/sklearn/base.py:1474: DataConversionWarning: A column-vector y was passed when a 1d array was expected. Please change the shape of y to (n_samples,), for example using ravel().\n",
      "  return fit_method(estimator, *args, **kwargs)\n"
     ]
    },
    {
     "name": "stdout",
     "output_type": "stream",
     "text": [
      "Trained and saved RandomForestRegressor model with parameters {'n_estimators': 75, 'max_depth': 20, 'min_samples_split': 5, 'min_samples_leaf': 5, 'max_features': 'sqrt', 'bootstrap': True} to ../models/rf_75_estimators_20_depth_5_minsplit_5_minleaf_sqrt_features_True_bootstrap_hot.pkl\n"
     ]
    },
    {
     "name": "stderr",
     "output_type": "stream",
     "text": [
      "/work/Exam/DataScienceExam/env/airbnb/lib/python3.10/site-packages/sklearn/base.py:1474: DataConversionWarning: A column-vector y was passed when a 1d array was expected. Please change the shape of y to (n_samples,), for example using ravel().\n",
      "  return fit_method(estimator, *args, **kwargs)\n"
     ]
    },
    {
     "name": "stdout",
     "output_type": "stream",
     "text": [
      "Trained and saved RandomForestRegressor model with parameters {'n_estimators': 75, 'max_depth': 20, 'min_samples_split': 5, 'min_samples_leaf': 5, 'max_features': 'log2', 'bootstrap': False} to ../models/rf_75_estimators_20_depth_5_minsplit_5_minleaf_log2_features_False_bootstrap_hot.pkl\n"
     ]
    },
    {
     "name": "stderr",
     "output_type": "stream",
     "text": [
      "/work/Exam/DataScienceExam/env/airbnb/lib/python3.10/site-packages/sklearn/base.py:1474: DataConversionWarning: A column-vector y was passed when a 1d array was expected. Please change the shape of y to (n_samples,), for example using ravel().\n",
      "  return fit_method(estimator, *args, **kwargs)\n"
     ]
    },
    {
     "name": "stdout",
     "output_type": "stream",
     "text": [
      "Trained and saved RandomForestRegressor model with parameters {'n_estimators': 75, 'max_depth': 20, 'min_samples_split': 5, 'min_samples_leaf': 5, 'max_features': 'log2', 'bootstrap': True} to ../models/rf_75_estimators_20_depth_5_minsplit_5_minleaf_log2_features_True_bootstrap_hot.pkl\n"
     ]
    },
    {
     "name": "stderr",
     "output_type": "stream",
     "text": [
      "/work/Exam/DataScienceExam/env/airbnb/lib/python3.10/site-packages/sklearn/base.py:1474: DataConversionWarning: A column-vector y was passed when a 1d array was expected. Please change the shape of y to (n_samples,), for example using ravel().\n",
      "  return fit_method(estimator, *args, **kwargs)\n"
     ]
    },
    {
     "name": "stdout",
     "output_type": "stream",
     "text": [
      "Trained and saved RandomForestRegressor model with parameters {'n_estimators': 75, 'max_depth': 20, 'min_samples_split': 10, 'min_samples_leaf': 1, 'max_features': 'sqrt', 'bootstrap': False} to ../models/rf_75_estimators_20_depth_10_minsplit_1_minleaf_sqrt_features_False_bootstrap_hot.pkl\n"
     ]
    },
    {
     "name": "stderr",
     "output_type": "stream",
     "text": [
      "/work/Exam/DataScienceExam/env/airbnb/lib/python3.10/site-packages/sklearn/base.py:1474: DataConversionWarning: A column-vector y was passed when a 1d array was expected. Please change the shape of y to (n_samples,), for example using ravel().\n",
      "  return fit_method(estimator, *args, **kwargs)\n"
     ]
    },
    {
     "name": "stdout",
     "output_type": "stream",
     "text": [
      "Trained and saved RandomForestRegressor model with parameters {'n_estimators': 75, 'max_depth': 20, 'min_samples_split': 10, 'min_samples_leaf': 1, 'max_features': 'sqrt', 'bootstrap': True} to ../models/rf_75_estimators_20_depth_10_minsplit_1_minleaf_sqrt_features_True_bootstrap_hot.pkl\n"
     ]
    },
    {
     "name": "stderr",
     "output_type": "stream",
     "text": [
      "/work/Exam/DataScienceExam/env/airbnb/lib/python3.10/site-packages/sklearn/base.py:1474: DataConversionWarning: A column-vector y was passed when a 1d array was expected. Please change the shape of y to (n_samples,), for example using ravel().\n",
      "  return fit_method(estimator, *args, **kwargs)\n"
     ]
    },
    {
     "name": "stdout",
     "output_type": "stream",
     "text": [
      "Trained and saved RandomForestRegressor model with parameters {'n_estimators': 75, 'max_depth': 20, 'min_samples_split': 10, 'min_samples_leaf': 1, 'max_features': 'log2', 'bootstrap': False} to ../models/rf_75_estimators_20_depth_10_minsplit_1_minleaf_log2_features_False_bootstrap_hot.pkl\n"
     ]
    },
    {
     "name": "stderr",
     "output_type": "stream",
     "text": [
      "/work/Exam/DataScienceExam/env/airbnb/lib/python3.10/site-packages/sklearn/base.py:1474: DataConversionWarning: A column-vector y was passed when a 1d array was expected. Please change the shape of y to (n_samples,), for example using ravel().\n",
      "  return fit_method(estimator, *args, **kwargs)\n"
     ]
    },
    {
     "name": "stdout",
     "output_type": "stream",
     "text": [
      "Trained and saved RandomForestRegressor model with parameters {'n_estimators': 75, 'max_depth': 20, 'min_samples_split': 10, 'min_samples_leaf': 1, 'max_features': 'log2', 'bootstrap': True} to ../models/rf_75_estimators_20_depth_10_minsplit_1_minleaf_log2_features_True_bootstrap_hot.pkl\n"
     ]
    },
    {
     "name": "stderr",
     "output_type": "stream",
     "text": [
      "/work/Exam/DataScienceExam/env/airbnb/lib/python3.10/site-packages/sklearn/base.py:1474: DataConversionWarning: A column-vector y was passed when a 1d array was expected. Please change the shape of y to (n_samples,), for example using ravel().\n",
      "  return fit_method(estimator, *args, **kwargs)\n"
     ]
    },
    {
     "name": "stdout",
     "output_type": "stream",
     "text": [
      "Trained and saved RandomForestRegressor model with parameters {'n_estimators': 75, 'max_depth': 20, 'min_samples_split': 10, 'min_samples_leaf': 2, 'max_features': 'sqrt', 'bootstrap': False} to ../models/rf_75_estimators_20_depth_10_minsplit_2_minleaf_sqrt_features_False_bootstrap_hot.pkl\n"
     ]
    },
    {
     "name": "stderr",
     "output_type": "stream",
     "text": [
      "/work/Exam/DataScienceExam/env/airbnb/lib/python3.10/site-packages/sklearn/base.py:1474: DataConversionWarning: A column-vector y was passed when a 1d array was expected. Please change the shape of y to (n_samples,), for example using ravel().\n",
      "  return fit_method(estimator, *args, **kwargs)\n"
     ]
    },
    {
     "name": "stdout",
     "output_type": "stream",
     "text": [
      "Trained and saved RandomForestRegressor model with parameters {'n_estimators': 75, 'max_depth': 20, 'min_samples_split': 10, 'min_samples_leaf': 2, 'max_features': 'sqrt', 'bootstrap': True} to ../models/rf_75_estimators_20_depth_10_minsplit_2_minleaf_sqrt_features_True_bootstrap_hot.pkl\n"
     ]
    },
    {
     "name": "stderr",
     "output_type": "stream",
     "text": [
      "/work/Exam/DataScienceExam/env/airbnb/lib/python3.10/site-packages/sklearn/base.py:1474: DataConversionWarning: A column-vector y was passed when a 1d array was expected. Please change the shape of y to (n_samples,), for example using ravel().\n",
      "  return fit_method(estimator, *args, **kwargs)\n"
     ]
    },
    {
     "name": "stdout",
     "output_type": "stream",
     "text": [
      "Trained and saved RandomForestRegressor model with parameters {'n_estimators': 75, 'max_depth': 20, 'min_samples_split': 10, 'min_samples_leaf': 2, 'max_features': 'log2', 'bootstrap': False} to ../models/rf_75_estimators_20_depth_10_minsplit_2_minleaf_log2_features_False_bootstrap_hot.pkl\n"
     ]
    },
    {
     "name": "stderr",
     "output_type": "stream",
     "text": [
      "/work/Exam/DataScienceExam/env/airbnb/lib/python3.10/site-packages/sklearn/base.py:1474: DataConversionWarning: A column-vector y was passed when a 1d array was expected. Please change the shape of y to (n_samples,), for example using ravel().\n",
      "  return fit_method(estimator, *args, **kwargs)\n"
     ]
    },
    {
     "name": "stdout",
     "output_type": "stream",
     "text": [
      "Trained and saved RandomForestRegressor model with parameters {'n_estimators': 75, 'max_depth': 20, 'min_samples_split': 10, 'min_samples_leaf': 2, 'max_features': 'log2', 'bootstrap': True} to ../models/rf_75_estimators_20_depth_10_minsplit_2_minleaf_log2_features_True_bootstrap_hot.pkl\n"
     ]
    },
    {
     "name": "stderr",
     "output_type": "stream",
     "text": [
      "/work/Exam/DataScienceExam/env/airbnb/lib/python3.10/site-packages/sklearn/base.py:1474: DataConversionWarning: A column-vector y was passed when a 1d array was expected. Please change the shape of y to (n_samples,), for example using ravel().\n",
      "  return fit_method(estimator, *args, **kwargs)\n"
     ]
    },
    {
     "name": "stdout",
     "output_type": "stream",
     "text": [
      "Trained and saved RandomForestRegressor model with parameters {'n_estimators': 75, 'max_depth': 20, 'min_samples_split': 10, 'min_samples_leaf': 5, 'max_features': 'sqrt', 'bootstrap': False} to ../models/rf_75_estimators_20_depth_10_minsplit_5_minleaf_sqrt_features_False_bootstrap_hot.pkl\n"
     ]
    },
    {
     "name": "stderr",
     "output_type": "stream",
     "text": [
      "/work/Exam/DataScienceExam/env/airbnb/lib/python3.10/site-packages/sklearn/base.py:1474: DataConversionWarning: A column-vector y was passed when a 1d array was expected. Please change the shape of y to (n_samples,), for example using ravel().\n",
      "  return fit_method(estimator, *args, **kwargs)\n"
     ]
    },
    {
     "name": "stdout",
     "output_type": "stream",
     "text": [
      "Trained and saved RandomForestRegressor model with parameters {'n_estimators': 75, 'max_depth': 20, 'min_samples_split': 10, 'min_samples_leaf': 5, 'max_features': 'sqrt', 'bootstrap': True} to ../models/rf_75_estimators_20_depth_10_minsplit_5_minleaf_sqrt_features_True_bootstrap_hot.pkl\n"
     ]
    },
    {
     "name": "stderr",
     "output_type": "stream",
     "text": [
      "/work/Exam/DataScienceExam/env/airbnb/lib/python3.10/site-packages/sklearn/base.py:1474: DataConversionWarning: A column-vector y was passed when a 1d array was expected. Please change the shape of y to (n_samples,), for example using ravel().\n",
      "  return fit_method(estimator, *args, **kwargs)\n"
     ]
    },
    {
     "name": "stdout",
     "output_type": "stream",
     "text": [
      "Trained and saved RandomForestRegressor model with parameters {'n_estimators': 75, 'max_depth': 20, 'min_samples_split': 10, 'min_samples_leaf': 5, 'max_features': 'log2', 'bootstrap': False} to ../models/rf_75_estimators_20_depth_10_minsplit_5_minleaf_log2_features_False_bootstrap_hot.pkl\n"
     ]
    },
    {
     "name": "stderr",
     "output_type": "stream",
     "text": [
      "/work/Exam/DataScienceExam/env/airbnb/lib/python3.10/site-packages/sklearn/base.py:1474: DataConversionWarning: A column-vector y was passed when a 1d array was expected. Please change the shape of y to (n_samples,), for example using ravel().\n",
      "  return fit_method(estimator, *args, **kwargs)\n"
     ]
    },
    {
     "name": "stdout",
     "output_type": "stream",
     "text": [
      "Trained and saved RandomForestRegressor model with parameters {'n_estimators': 75, 'max_depth': 20, 'min_samples_split': 10, 'min_samples_leaf': 5, 'max_features': 'log2', 'bootstrap': True} to ../models/rf_75_estimators_20_depth_10_minsplit_5_minleaf_log2_features_True_bootstrap_hot.pkl\n"
     ]
    },
    {
     "name": "stderr",
     "output_type": "stream",
     "text": [
      "/work/Exam/DataScienceExam/env/airbnb/lib/python3.10/site-packages/sklearn/base.py:1474: DataConversionWarning: A column-vector y was passed when a 1d array was expected. Please change the shape of y to (n_samples,), for example using ravel().\n",
      "  return fit_method(estimator, *args, **kwargs)\n"
     ]
    },
    {
     "name": "stdout",
     "output_type": "stream",
     "text": [
      "Trained and saved RandomForestRegressor model with parameters {'n_estimators': 75, 'max_depth': 20, 'min_samples_split': 15, 'min_samples_leaf': 1, 'max_features': 'sqrt', 'bootstrap': False} to ../models/rf_75_estimators_20_depth_15_minsplit_1_minleaf_sqrt_features_False_bootstrap_hot.pkl\n"
     ]
    },
    {
     "name": "stderr",
     "output_type": "stream",
     "text": [
      "/work/Exam/DataScienceExam/env/airbnb/lib/python3.10/site-packages/sklearn/base.py:1474: DataConversionWarning: A column-vector y was passed when a 1d array was expected. Please change the shape of y to (n_samples,), for example using ravel().\n",
      "  return fit_method(estimator, *args, **kwargs)\n"
     ]
    },
    {
     "name": "stdout",
     "output_type": "stream",
     "text": [
      "Trained and saved RandomForestRegressor model with parameters {'n_estimators': 75, 'max_depth': 20, 'min_samples_split': 15, 'min_samples_leaf': 1, 'max_features': 'sqrt', 'bootstrap': True} to ../models/rf_75_estimators_20_depth_15_minsplit_1_minleaf_sqrt_features_True_bootstrap_hot.pkl\n"
     ]
    },
    {
     "name": "stderr",
     "output_type": "stream",
     "text": [
      "/work/Exam/DataScienceExam/env/airbnb/lib/python3.10/site-packages/sklearn/base.py:1474: DataConversionWarning: A column-vector y was passed when a 1d array was expected. Please change the shape of y to (n_samples,), for example using ravel().\n",
      "  return fit_method(estimator, *args, **kwargs)\n"
     ]
    },
    {
     "name": "stdout",
     "output_type": "stream",
     "text": [
      "Trained and saved RandomForestRegressor model with parameters {'n_estimators': 75, 'max_depth': 20, 'min_samples_split': 15, 'min_samples_leaf': 1, 'max_features': 'log2', 'bootstrap': False} to ../models/rf_75_estimators_20_depth_15_minsplit_1_minleaf_log2_features_False_bootstrap_hot.pkl\n"
     ]
    },
    {
     "name": "stderr",
     "output_type": "stream",
     "text": [
      "/work/Exam/DataScienceExam/env/airbnb/lib/python3.10/site-packages/sklearn/base.py:1474: DataConversionWarning: A column-vector y was passed when a 1d array was expected. Please change the shape of y to (n_samples,), for example using ravel().\n",
      "  return fit_method(estimator, *args, **kwargs)\n"
     ]
    },
    {
     "name": "stdout",
     "output_type": "stream",
     "text": [
      "Trained and saved RandomForestRegressor model with parameters {'n_estimators': 75, 'max_depth': 20, 'min_samples_split': 15, 'min_samples_leaf': 1, 'max_features': 'log2', 'bootstrap': True} to ../models/rf_75_estimators_20_depth_15_minsplit_1_minleaf_log2_features_True_bootstrap_hot.pkl\n"
     ]
    },
    {
     "name": "stderr",
     "output_type": "stream",
     "text": [
      "/work/Exam/DataScienceExam/env/airbnb/lib/python3.10/site-packages/sklearn/base.py:1474: DataConversionWarning: A column-vector y was passed when a 1d array was expected. Please change the shape of y to (n_samples,), for example using ravel().\n",
      "  return fit_method(estimator, *args, **kwargs)\n"
     ]
    },
    {
     "name": "stdout",
     "output_type": "stream",
     "text": [
      "Trained and saved RandomForestRegressor model with parameters {'n_estimators': 75, 'max_depth': 20, 'min_samples_split': 15, 'min_samples_leaf': 2, 'max_features': 'sqrt', 'bootstrap': False} to ../models/rf_75_estimators_20_depth_15_minsplit_2_minleaf_sqrt_features_False_bootstrap_hot.pkl\n"
     ]
    },
    {
     "name": "stderr",
     "output_type": "stream",
     "text": [
      "/work/Exam/DataScienceExam/env/airbnb/lib/python3.10/site-packages/sklearn/base.py:1474: DataConversionWarning: A column-vector y was passed when a 1d array was expected. Please change the shape of y to (n_samples,), for example using ravel().\n",
      "  return fit_method(estimator, *args, **kwargs)\n"
     ]
    },
    {
     "name": "stdout",
     "output_type": "stream",
     "text": [
      "Trained and saved RandomForestRegressor model with parameters {'n_estimators': 75, 'max_depth': 20, 'min_samples_split': 15, 'min_samples_leaf': 2, 'max_features': 'sqrt', 'bootstrap': True} to ../models/rf_75_estimators_20_depth_15_minsplit_2_minleaf_sqrt_features_True_bootstrap_hot.pkl\n"
     ]
    },
    {
     "name": "stderr",
     "output_type": "stream",
     "text": [
      "/work/Exam/DataScienceExam/env/airbnb/lib/python3.10/site-packages/sklearn/base.py:1474: DataConversionWarning: A column-vector y was passed when a 1d array was expected. Please change the shape of y to (n_samples,), for example using ravel().\n",
      "  return fit_method(estimator, *args, **kwargs)\n"
     ]
    },
    {
     "name": "stdout",
     "output_type": "stream",
     "text": [
      "Trained and saved RandomForestRegressor model with parameters {'n_estimators': 75, 'max_depth': 20, 'min_samples_split': 15, 'min_samples_leaf': 2, 'max_features': 'log2', 'bootstrap': False} to ../models/rf_75_estimators_20_depth_15_minsplit_2_minleaf_log2_features_False_bootstrap_hot.pkl\n"
     ]
    },
    {
     "name": "stderr",
     "output_type": "stream",
     "text": [
      "/work/Exam/DataScienceExam/env/airbnb/lib/python3.10/site-packages/sklearn/base.py:1474: DataConversionWarning: A column-vector y was passed when a 1d array was expected. Please change the shape of y to (n_samples,), for example using ravel().\n",
      "  return fit_method(estimator, *args, **kwargs)\n"
     ]
    },
    {
     "name": "stdout",
     "output_type": "stream",
     "text": [
      "Trained and saved RandomForestRegressor model with parameters {'n_estimators': 75, 'max_depth': 20, 'min_samples_split': 15, 'min_samples_leaf': 2, 'max_features': 'log2', 'bootstrap': True} to ../models/rf_75_estimators_20_depth_15_minsplit_2_minleaf_log2_features_True_bootstrap_hot.pkl\n"
     ]
    },
    {
     "name": "stderr",
     "output_type": "stream",
     "text": [
      "/work/Exam/DataScienceExam/env/airbnb/lib/python3.10/site-packages/sklearn/base.py:1474: DataConversionWarning: A column-vector y was passed when a 1d array was expected. Please change the shape of y to (n_samples,), for example using ravel().\n",
      "  return fit_method(estimator, *args, **kwargs)\n"
     ]
    },
    {
     "name": "stdout",
     "output_type": "stream",
     "text": [
      "Trained and saved RandomForestRegressor model with parameters {'n_estimators': 75, 'max_depth': 20, 'min_samples_split': 15, 'min_samples_leaf': 5, 'max_features': 'sqrt', 'bootstrap': False} to ../models/rf_75_estimators_20_depth_15_minsplit_5_minleaf_sqrt_features_False_bootstrap_hot.pkl\n"
     ]
    },
    {
     "name": "stderr",
     "output_type": "stream",
     "text": [
      "/work/Exam/DataScienceExam/env/airbnb/lib/python3.10/site-packages/sklearn/base.py:1474: DataConversionWarning: A column-vector y was passed when a 1d array was expected. Please change the shape of y to (n_samples,), for example using ravel().\n",
      "  return fit_method(estimator, *args, **kwargs)\n"
     ]
    },
    {
     "name": "stdout",
     "output_type": "stream",
     "text": [
      "Trained and saved RandomForestRegressor model with parameters {'n_estimators': 75, 'max_depth': 20, 'min_samples_split': 15, 'min_samples_leaf': 5, 'max_features': 'sqrt', 'bootstrap': True} to ../models/rf_75_estimators_20_depth_15_minsplit_5_minleaf_sqrt_features_True_bootstrap_hot.pkl\n"
     ]
    },
    {
     "name": "stderr",
     "output_type": "stream",
     "text": [
      "/work/Exam/DataScienceExam/env/airbnb/lib/python3.10/site-packages/sklearn/base.py:1474: DataConversionWarning: A column-vector y was passed when a 1d array was expected. Please change the shape of y to (n_samples,), for example using ravel().\n",
      "  return fit_method(estimator, *args, **kwargs)\n"
     ]
    },
    {
     "name": "stdout",
     "output_type": "stream",
     "text": [
      "Trained and saved RandomForestRegressor model with parameters {'n_estimators': 75, 'max_depth': 20, 'min_samples_split': 15, 'min_samples_leaf': 5, 'max_features': 'log2', 'bootstrap': False} to ../models/rf_75_estimators_20_depth_15_minsplit_5_minleaf_log2_features_False_bootstrap_hot.pkl\n"
     ]
    },
    {
     "name": "stderr",
     "output_type": "stream",
     "text": [
      "/work/Exam/DataScienceExam/env/airbnb/lib/python3.10/site-packages/sklearn/base.py:1474: DataConversionWarning: A column-vector y was passed when a 1d array was expected. Please change the shape of y to (n_samples,), for example using ravel().\n",
      "  return fit_method(estimator, *args, **kwargs)\n"
     ]
    },
    {
     "name": "stdout",
     "output_type": "stream",
     "text": [
      "Trained and saved RandomForestRegressor model with parameters {'n_estimators': 75, 'max_depth': 20, 'min_samples_split': 15, 'min_samples_leaf': 5, 'max_features': 'log2', 'bootstrap': True} to ../models/rf_75_estimators_20_depth_15_minsplit_5_minleaf_log2_features_True_bootstrap_hot.pkl\n"
     ]
    },
    {
     "name": "stderr",
     "output_type": "stream",
     "text": [
      "/work/Exam/DataScienceExam/env/airbnb/lib/python3.10/site-packages/sklearn/base.py:1474: DataConversionWarning: A column-vector y was passed when a 1d array was expected. Please change the shape of y to (n_samples,), for example using ravel().\n",
      "  return fit_method(estimator, *args, **kwargs)\n"
     ]
    },
    {
     "name": "stdout",
     "output_type": "stream",
     "text": [
      "Trained and saved RandomForestRegressor model with parameters {'n_estimators': 75, 'max_depth': 30, 'min_samples_split': 5, 'min_samples_leaf': 1, 'max_features': 'sqrt', 'bootstrap': False} to ../models/rf_75_estimators_30_depth_5_minsplit_1_minleaf_sqrt_features_False_bootstrap_hot.pkl\n"
     ]
    },
    {
     "name": "stderr",
     "output_type": "stream",
     "text": [
      "/work/Exam/DataScienceExam/env/airbnb/lib/python3.10/site-packages/sklearn/base.py:1474: DataConversionWarning: A column-vector y was passed when a 1d array was expected. Please change the shape of y to (n_samples,), for example using ravel().\n",
      "  return fit_method(estimator, *args, **kwargs)\n"
     ]
    },
    {
     "name": "stdout",
     "output_type": "stream",
     "text": [
      "Trained and saved RandomForestRegressor model with parameters {'n_estimators': 75, 'max_depth': 30, 'min_samples_split': 5, 'min_samples_leaf': 1, 'max_features': 'sqrt', 'bootstrap': True} to ../models/rf_75_estimators_30_depth_5_minsplit_1_minleaf_sqrt_features_True_bootstrap_hot.pkl\n"
     ]
    },
    {
     "name": "stderr",
     "output_type": "stream",
     "text": [
      "/work/Exam/DataScienceExam/env/airbnb/lib/python3.10/site-packages/sklearn/base.py:1474: DataConversionWarning: A column-vector y was passed when a 1d array was expected. Please change the shape of y to (n_samples,), for example using ravel().\n",
      "  return fit_method(estimator, *args, **kwargs)\n"
     ]
    },
    {
     "name": "stdout",
     "output_type": "stream",
     "text": [
      "Trained and saved RandomForestRegressor model with parameters {'n_estimators': 75, 'max_depth': 30, 'min_samples_split': 5, 'min_samples_leaf': 1, 'max_features': 'log2', 'bootstrap': False} to ../models/rf_75_estimators_30_depth_5_minsplit_1_minleaf_log2_features_False_bootstrap_hot.pkl\n"
     ]
    },
    {
     "name": "stderr",
     "output_type": "stream",
     "text": [
      "/work/Exam/DataScienceExam/env/airbnb/lib/python3.10/site-packages/sklearn/base.py:1474: DataConversionWarning: A column-vector y was passed when a 1d array was expected. Please change the shape of y to (n_samples,), for example using ravel().\n",
      "  return fit_method(estimator, *args, **kwargs)\n"
     ]
    },
    {
     "name": "stdout",
     "output_type": "stream",
     "text": [
      "Trained and saved RandomForestRegressor model with parameters {'n_estimators': 75, 'max_depth': 30, 'min_samples_split': 5, 'min_samples_leaf': 1, 'max_features': 'log2', 'bootstrap': True} to ../models/rf_75_estimators_30_depth_5_minsplit_1_minleaf_log2_features_True_bootstrap_hot.pkl\n"
     ]
    },
    {
     "name": "stderr",
     "output_type": "stream",
     "text": [
      "/work/Exam/DataScienceExam/env/airbnb/lib/python3.10/site-packages/sklearn/base.py:1474: DataConversionWarning: A column-vector y was passed when a 1d array was expected. Please change the shape of y to (n_samples,), for example using ravel().\n",
      "  return fit_method(estimator, *args, **kwargs)\n"
     ]
    },
    {
     "name": "stdout",
     "output_type": "stream",
     "text": [
      "Trained and saved RandomForestRegressor model with parameters {'n_estimators': 75, 'max_depth': 30, 'min_samples_split': 5, 'min_samples_leaf': 2, 'max_features': 'sqrt', 'bootstrap': False} to ../models/rf_75_estimators_30_depth_5_minsplit_2_minleaf_sqrt_features_False_bootstrap_hot.pkl\n"
     ]
    },
    {
     "name": "stderr",
     "output_type": "stream",
     "text": [
      "/work/Exam/DataScienceExam/env/airbnb/lib/python3.10/site-packages/sklearn/base.py:1474: DataConversionWarning: A column-vector y was passed when a 1d array was expected. Please change the shape of y to (n_samples,), for example using ravel().\n",
      "  return fit_method(estimator, *args, **kwargs)\n"
     ]
    },
    {
     "name": "stdout",
     "output_type": "stream",
     "text": [
      "Trained and saved RandomForestRegressor model with parameters {'n_estimators': 75, 'max_depth': 30, 'min_samples_split': 5, 'min_samples_leaf': 2, 'max_features': 'sqrt', 'bootstrap': True} to ../models/rf_75_estimators_30_depth_5_minsplit_2_minleaf_sqrt_features_True_bootstrap_hot.pkl\n"
     ]
    },
    {
     "name": "stderr",
     "output_type": "stream",
     "text": [
      "/work/Exam/DataScienceExam/env/airbnb/lib/python3.10/site-packages/sklearn/base.py:1474: DataConversionWarning: A column-vector y was passed when a 1d array was expected. Please change the shape of y to (n_samples,), for example using ravel().\n",
      "  return fit_method(estimator, *args, **kwargs)\n"
     ]
    },
    {
     "name": "stdout",
     "output_type": "stream",
     "text": [
      "Trained and saved RandomForestRegressor model with parameters {'n_estimators': 75, 'max_depth': 30, 'min_samples_split': 5, 'min_samples_leaf': 2, 'max_features': 'log2', 'bootstrap': False} to ../models/rf_75_estimators_30_depth_5_minsplit_2_minleaf_log2_features_False_bootstrap_hot.pkl\n"
     ]
    },
    {
     "name": "stderr",
     "output_type": "stream",
     "text": [
      "/work/Exam/DataScienceExam/env/airbnb/lib/python3.10/site-packages/sklearn/base.py:1474: DataConversionWarning: A column-vector y was passed when a 1d array was expected. Please change the shape of y to (n_samples,), for example using ravel().\n",
      "  return fit_method(estimator, *args, **kwargs)\n"
     ]
    },
    {
     "name": "stdout",
     "output_type": "stream",
     "text": [
      "Trained and saved RandomForestRegressor model with parameters {'n_estimators': 75, 'max_depth': 30, 'min_samples_split': 5, 'min_samples_leaf': 2, 'max_features': 'log2', 'bootstrap': True} to ../models/rf_75_estimators_30_depth_5_minsplit_2_minleaf_log2_features_True_bootstrap_hot.pkl\n"
     ]
    },
    {
     "name": "stderr",
     "output_type": "stream",
     "text": [
      "/work/Exam/DataScienceExam/env/airbnb/lib/python3.10/site-packages/sklearn/base.py:1474: DataConversionWarning: A column-vector y was passed when a 1d array was expected. Please change the shape of y to (n_samples,), for example using ravel().\n",
      "  return fit_method(estimator, *args, **kwargs)\n"
     ]
    },
    {
     "name": "stdout",
     "output_type": "stream",
     "text": [
      "Trained and saved RandomForestRegressor model with parameters {'n_estimators': 75, 'max_depth': 30, 'min_samples_split': 5, 'min_samples_leaf': 5, 'max_features': 'sqrt', 'bootstrap': False} to ../models/rf_75_estimators_30_depth_5_minsplit_5_minleaf_sqrt_features_False_bootstrap_hot.pkl\n"
     ]
    },
    {
     "name": "stderr",
     "output_type": "stream",
     "text": [
      "/work/Exam/DataScienceExam/env/airbnb/lib/python3.10/site-packages/sklearn/base.py:1474: DataConversionWarning: A column-vector y was passed when a 1d array was expected. Please change the shape of y to (n_samples,), for example using ravel().\n",
      "  return fit_method(estimator, *args, **kwargs)\n"
     ]
    },
    {
     "name": "stdout",
     "output_type": "stream",
     "text": [
      "Trained and saved RandomForestRegressor model with parameters {'n_estimators': 75, 'max_depth': 30, 'min_samples_split': 5, 'min_samples_leaf': 5, 'max_features': 'sqrt', 'bootstrap': True} to ../models/rf_75_estimators_30_depth_5_minsplit_5_minleaf_sqrt_features_True_bootstrap_hot.pkl\n"
     ]
    },
    {
     "name": "stderr",
     "output_type": "stream",
     "text": [
      "/work/Exam/DataScienceExam/env/airbnb/lib/python3.10/site-packages/sklearn/base.py:1474: DataConversionWarning: A column-vector y was passed when a 1d array was expected. Please change the shape of y to (n_samples,), for example using ravel().\n",
      "  return fit_method(estimator, *args, **kwargs)\n"
     ]
    },
    {
     "name": "stdout",
     "output_type": "stream",
     "text": [
      "Trained and saved RandomForestRegressor model with parameters {'n_estimators': 75, 'max_depth': 30, 'min_samples_split': 5, 'min_samples_leaf': 5, 'max_features': 'log2', 'bootstrap': False} to ../models/rf_75_estimators_30_depth_5_minsplit_5_minleaf_log2_features_False_bootstrap_hot.pkl\n"
     ]
    },
    {
     "name": "stderr",
     "output_type": "stream",
     "text": [
      "/work/Exam/DataScienceExam/env/airbnb/lib/python3.10/site-packages/sklearn/base.py:1474: DataConversionWarning: A column-vector y was passed when a 1d array was expected. Please change the shape of y to (n_samples,), for example using ravel().\n",
      "  return fit_method(estimator, *args, **kwargs)\n"
     ]
    },
    {
     "name": "stdout",
     "output_type": "stream",
     "text": [
      "Trained and saved RandomForestRegressor model with parameters {'n_estimators': 75, 'max_depth': 30, 'min_samples_split': 5, 'min_samples_leaf': 5, 'max_features': 'log2', 'bootstrap': True} to ../models/rf_75_estimators_30_depth_5_minsplit_5_minleaf_log2_features_True_bootstrap_hot.pkl\n"
     ]
    },
    {
     "name": "stderr",
     "output_type": "stream",
     "text": [
      "/work/Exam/DataScienceExam/env/airbnb/lib/python3.10/site-packages/sklearn/base.py:1474: DataConversionWarning: A column-vector y was passed when a 1d array was expected. Please change the shape of y to (n_samples,), for example using ravel().\n",
      "  return fit_method(estimator, *args, **kwargs)\n"
     ]
    },
    {
     "name": "stdout",
     "output_type": "stream",
     "text": [
      "Trained and saved RandomForestRegressor model with parameters {'n_estimators': 75, 'max_depth': 30, 'min_samples_split': 10, 'min_samples_leaf': 1, 'max_features': 'sqrt', 'bootstrap': False} to ../models/rf_75_estimators_30_depth_10_minsplit_1_minleaf_sqrt_features_False_bootstrap_hot.pkl\n"
     ]
    },
    {
     "name": "stderr",
     "output_type": "stream",
     "text": [
      "/work/Exam/DataScienceExam/env/airbnb/lib/python3.10/site-packages/sklearn/base.py:1474: DataConversionWarning: A column-vector y was passed when a 1d array was expected. Please change the shape of y to (n_samples,), for example using ravel().\n",
      "  return fit_method(estimator, *args, **kwargs)\n"
     ]
    },
    {
     "name": "stdout",
     "output_type": "stream",
     "text": [
      "Trained and saved RandomForestRegressor model with parameters {'n_estimators': 75, 'max_depth': 30, 'min_samples_split': 10, 'min_samples_leaf': 1, 'max_features': 'sqrt', 'bootstrap': True} to ../models/rf_75_estimators_30_depth_10_minsplit_1_minleaf_sqrt_features_True_bootstrap_hot.pkl\n"
     ]
    },
    {
     "name": "stderr",
     "output_type": "stream",
     "text": [
      "/work/Exam/DataScienceExam/env/airbnb/lib/python3.10/site-packages/sklearn/base.py:1474: DataConversionWarning: A column-vector y was passed when a 1d array was expected. Please change the shape of y to (n_samples,), for example using ravel().\n",
      "  return fit_method(estimator, *args, **kwargs)\n"
     ]
    },
    {
     "name": "stdout",
     "output_type": "stream",
     "text": [
      "Trained and saved RandomForestRegressor model with parameters {'n_estimators': 75, 'max_depth': 30, 'min_samples_split': 10, 'min_samples_leaf': 1, 'max_features': 'log2', 'bootstrap': False} to ../models/rf_75_estimators_30_depth_10_minsplit_1_minleaf_log2_features_False_bootstrap_hot.pkl\n"
     ]
    },
    {
     "name": "stderr",
     "output_type": "stream",
     "text": [
      "/work/Exam/DataScienceExam/env/airbnb/lib/python3.10/site-packages/sklearn/base.py:1474: DataConversionWarning: A column-vector y was passed when a 1d array was expected. Please change the shape of y to (n_samples,), for example using ravel().\n",
      "  return fit_method(estimator, *args, **kwargs)\n"
     ]
    },
    {
     "name": "stdout",
     "output_type": "stream",
     "text": [
      "Trained and saved RandomForestRegressor model with parameters {'n_estimators': 75, 'max_depth': 30, 'min_samples_split': 10, 'min_samples_leaf': 1, 'max_features': 'log2', 'bootstrap': True} to ../models/rf_75_estimators_30_depth_10_minsplit_1_minleaf_log2_features_True_bootstrap_hot.pkl\n"
     ]
    },
    {
     "name": "stderr",
     "output_type": "stream",
     "text": [
      "/work/Exam/DataScienceExam/env/airbnb/lib/python3.10/site-packages/sklearn/base.py:1474: DataConversionWarning: A column-vector y was passed when a 1d array was expected. Please change the shape of y to (n_samples,), for example using ravel().\n",
      "  return fit_method(estimator, *args, **kwargs)\n"
     ]
    },
    {
     "name": "stdout",
     "output_type": "stream",
     "text": [
      "Trained and saved RandomForestRegressor model with parameters {'n_estimators': 75, 'max_depth': 30, 'min_samples_split': 10, 'min_samples_leaf': 2, 'max_features': 'sqrt', 'bootstrap': False} to ../models/rf_75_estimators_30_depth_10_minsplit_2_minleaf_sqrt_features_False_bootstrap_hot.pkl\n"
     ]
    },
    {
     "name": "stderr",
     "output_type": "stream",
     "text": [
      "/work/Exam/DataScienceExam/env/airbnb/lib/python3.10/site-packages/sklearn/base.py:1474: DataConversionWarning: A column-vector y was passed when a 1d array was expected. Please change the shape of y to (n_samples,), for example using ravel().\n",
      "  return fit_method(estimator, *args, **kwargs)\n"
     ]
    },
    {
     "name": "stdout",
     "output_type": "stream",
     "text": [
      "Trained and saved RandomForestRegressor model with parameters {'n_estimators': 75, 'max_depth': 30, 'min_samples_split': 10, 'min_samples_leaf': 2, 'max_features': 'sqrt', 'bootstrap': True} to ../models/rf_75_estimators_30_depth_10_minsplit_2_minleaf_sqrt_features_True_bootstrap_hot.pkl\n"
     ]
    },
    {
     "name": "stderr",
     "output_type": "stream",
     "text": [
      "/work/Exam/DataScienceExam/env/airbnb/lib/python3.10/site-packages/sklearn/base.py:1474: DataConversionWarning: A column-vector y was passed when a 1d array was expected. Please change the shape of y to (n_samples,), for example using ravel().\n",
      "  return fit_method(estimator, *args, **kwargs)\n"
     ]
    },
    {
     "name": "stdout",
     "output_type": "stream",
     "text": [
      "Trained and saved RandomForestRegressor model with parameters {'n_estimators': 75, 'max_depth': 30, 'min_samples_split': 10, 'min_samples_leaf': 2, 'max_features': 'log2', 'bootstrap': False} to ../models/rf_75_estimators_30_depth_10_minsplit_2_minleaf_log2_features_False_bootstrap_hot.pkl\n"
     ]
    },
    {
     "name": "stderr",
     "output_type": "stream",
     "text": [
      "/work/Exam/DataScienceExam/env/airbnb/lib/python3.10/site-packages/sklearn/base.py:1474: DataConversionWarning: A column-vector y was passed when a 1d array was expected. Please change the shape of y to (n_samples,), for example using ravel().\n",
      "  return fit_method(estimator, *args, **kwargs)\n"
     ]
    },
    {
     "name": "stdout",
     "output_type": "stream",
     "text": [
      "Trained and saved RandomForestRegressor model with parameters {'n_estimators': 75, 'max_depth': 30, 'min_samples_split': 10, 'min_samples_leaf': 2, 'max_features': 'log2', 'bootstrap': True} to ../models/rf_75_estimators_30_depth_10_minsplit_2_minleaf_log2_features_True_bootstrap_hot.pkl\n"
     ]
    },
    {
     "name": "stderr",
     "output_type": "stream",
     "text": [
      "/work/Exam/DataScienceExam/env/airbnb/lib/python3.10/site-packages/sklearn/base.py:1474: DataConversionWarning: A column-vector y was passed when a 1d array was expected. Please change the shape of y to (n_samples,), for example using ravel().\n",
      "  return fit_method(estimator, *args, **kwargs)\n"
     ]
    },
    {
     "name": "stdout",
     "output_type": "stream",
     "text": [
      "Trained and saved RandomForestRegressor model with parameters {'n_estimators': 75, 'max_depth': 30, 'min_samples_split': 10, 'min_samples_leaf': 5, 'max_features': 'sqrt', 'bootstrap': False} to ../models/rf_75_estimators_30_depth_10_minsplit_5_minleaf_sqrt_features_False_bootstrap_hot.pkl\n"
     ]
    },
    {
     "name": "stderr",
     "output_type": "stream",
     "text": [
      "/work/Exam/DataScienceExam/env/airbnb/lib/python3.10/site-packages/sklearn/base.py:1474: DataConversionWarning: A column-vector y was passed when a 1d array was expected. Please change the shape of y to (n_samples,), for example using ravel().\n",
      "  return fit_method(estimator, *args, **kwargs)\n"
     ]
    },
    {
     "name": "stdout",
     "output_type": "stream",
     "text": [
      "Trained and saved RandomForestRegressor model with parameters {'n_estimators': 75, 'max_depth': 30, 'min_samples_split': 10, 'min_samples_leaf': 5, 'max_features': 'sqrt', 'bootstrap': True} to ../models/rf_75_estimators_30_depth_10_minsplit_5_minleaf_sqrt_features_True_bootstrap_hot.pkl\n"
     ]
    },
    {
     "name": "stderr",
     "output_type": "stream",
     "text": [
      "/work/Exam/DataScienceExam/env/airbnb/lib/python3.10/site-packages/sklearn/base.py:1474: DataConversionWarning: A column-vector y was passed when a 1d array was expected. Please change the shape of y to (n_samples,), for example using ravel().\n",
      "  return fit_method(estimator, *args, **kwargs)\n"
     ]
    },
    {
     "name": "stdout",
     "output_type": "stream",
     "text": [
      "Trained and saved RandomForestRegressor model with parameters {'n_estimators': 75, 'max_depth': 30, 'min_samples_split': 10, 'min_samples_leaf': 5, 'max_features': 'log2', 'bootstrap': False} to ../models/rf_75_estimators_30_depth_10_minsplit_5_minleaf_log2_features_False_bootstrap_hot.pkl\n"
     ]
    },
    {
     "name": "stderr",
     "output_type": "stream",
     "text": [
      "/work/Exam/DataScienceExam/env/airbnb/lib/python3.10/site-packages/sklearn/base.py:1474: DataConversionWarning: A column-vector y was passed when a 1d array was expected. Please change the shape of y to (n_samples,), for example using ravel().\n",
      "  return fit_method(estimator, *args, **kwargs)\n"
     ]
    },
    {
     "name": "stdout",
     "output_type": "stream",
     "text": [
      "Trained and saved RandomForestRegressor model with parameters {'n_estimators': 75, 'max_depth': 30, 'min_samples_split': 10, 'min_samples_leaf': 5, 'max_features': 'log2', 'bootstrap': True} to ../models/rf_75_estimators_30_depth_10_minsplit_5_minleaf_log2_features_True_bootstrap_hot.pkl\n"
     ]
    },
    {
     "name": "stderr",
     "output_type": "stream",
     "text": [
      "/work/Exam/DataScienceExam/env/airbnb/lib/python3.10/site-packages/sklearn/base.py:1474: DataConversionWarning: A column-vector y was passed when a 1d array was expected. Please change the shape of y to (n_samples,), for example using ravel().\n",
      "  return fit_method(estimator, *args, **kwargs)\n"
     ]
    },
    {
     "name": "stdout",
     "output_type": "stream",
     "text": [
      "Trained and saved RandomForestRegressor model with parameters {'n_estimators': 75, 'max_depth': 30, 'min_samples_split': 15, 'min_samples_leaf': 1, 'max_features': 'sqrt', 'bootstrap': False} to ../models/rf_75_estimators_30_depth_15_minsplit_1_minleaf_sqrt_features_False_bootstrap_hot.pkl\n"
     ]
    },
    {
     "name": "stderr",
     "output_type": "stream",
     "text": [
      "/work/Exam/DataScienceExam/env/airbnb/lib/python3.10/site-packages/sklearn/base.py:1474: DataConversionWarning: A column-vector y was passed when a 1d array was expected. Please change the shape of y to (n_samples,), for example using ravel().\n",
      "  return fit_method(estimator, *args, **kwargs)\n"
     ]
    },
    {
     "name": "stdout",
     "output_type": "stream",
     "text": [
      "Trained and saved RandomForestRegressor model with parameters {'n_estimators': 75, 'max_depth': 30, 'min_samples_split': 15, 'min_samples_leaf': 1, 'max_features': 'sqrt', 'bootstrap': True} to ../models/rf_75_estimators_30_depth_15_minsplit_1_minleaf_sqrt_features_True_bootstrap_hot.pkl\n"
     ]
    },
    {
     "name": "stderr",
     "output_type": "stream",
     "text": [
      "/work/Exam/DataScienceExam/env/airbnb/lib/python3.10/site-packages/sklearn/base.py:1474: DataConversionWarning: A column-vector y was passed when a 1d array was expected. Please change the shape of y to (n_samples,), for example using ravel().\n",
      "  return fit_method(estimator, *args, **kwargs)\n"
     ]
    },
    {
     "name": "stdout",
     "output_type": "stream",
     "text": [
      "Trained and saved RandomForestRegressor model with parameters {'n_estimators': 75, 'max_depth': 30, 'min_samples_split': 15, 'min_samples_leaf': 1, 'max_features': 'log2', 'bootstrap': False} to ../models/rf_75_estimators_30_depth_15_minsplit_1_minleaf_log2_features_False_bootstrap_hot.pkl\n"
     ]
    },
    {
     "name": "stderr",
     "output_type": "stream",
     "text": [
      "/work/Exam/DataScienceExam/env/airbnb/lib/python3.10/site-packages/sklearn/base.py:1474: DataConversionWarning: A column-vector y was passed when a 1d array was expected. Please change the shape of y to (n_samples,), for example using ravel().\n",
      "  return fit_method(estimator, *args, **kwargs)\n"
     ]
    },
    {
     "name": "stdout",
     "output_type": "stream",
     "text": [
      "Trained and saved RandomForestRegressor model with parameters {'n_estimators': 75, 'max_depth': 30, 'min_samples_split': 15, 'min_samples_leaf': 1, 'max_features': 'log2', 'bootstrap': True} to ../models/rf_75_estimators_30_depth_15_minsplit_1_minleaf_log2_features_True_bootstrap_hot.pkl\n"
     ]
    },
    {
     "name": "stderr",
     "output_type": "stream",
     "text": [
      "/work/Exam/DataScienceExam/env/airbnb/lib/python3.10/site-packages/sklearn/base.py:1474: DataConversionWarning: A column-vector y was passed when a 1d array was expected. Please change the shape of y to (n_samples,), for example using ravel().\n",
      "  return fit_method(estimator, *args, **kwargs)\n"
     ]
    },
    {
     "name": "stdout",
     "output_type": "stream",
     "text": [
      "Trained and saved RandomForestRegressor model with parameters {'n_estimators': 75, 'max_depth': 30, 'min_samples_split': 15, 'min_samples_leaf': 2, 'max_features': 'sqrt', 'bootstrap': False} to ../models/rf_75_estimators_30_depth_15_minsplit_2_minleaf_sqrt_features_False_bootstrap_hot.pkl\n"
     ]
    },
    {
     "name": "stderr",
     "output_type": "stream",
     "text": [
      "/work/Exam/DataScienceExam/env/airbnb/lib/python3.10/site-packages/sklearn/base.py:1474: DataConversionWarning: A column-vector y was passed when a 1d array was expected. Please change the shape of y to (n_samples,), for example using ravel().\n",
      "  return fit_method(estimator, *args, **kwargs)\n"
     ]
    },
    {
     "name": "stdout",
     "output_type": "stream",
     "text": [
      "Trained and saved RandomForestRegressor model with parameters {'n_estimators': 75, 'max_depth': 30, 'min_samples_split': 15, 'min_samples_leaf': 2, 'max_features': 'sqrt', 'bootstrap': True} to ../models/rf_75_estimators_30_depth_15_minsplit_2_minleaf_sqrt_features_True_bootstrap_hot.pkl\n"
     ]
    },
    {
     "name": "stderr",
     "output_type": "stream",
     "text": [
      "/work/Exam/DataScienceExam/env/airbnb/lib/python3.10/site-packages/sklearn/base.py:1474: DataConversionWarning: A column-vector y was passed when a 1d array was expected. Please change the shape of y to (n_samples,), for example using ravel().\n",
      "  return fit_method(estimator, *args, **kwargs)\n"
     ]
    },
    {
     "name": "stdout",
     "output_type": "stream",
     "text": [
      "Trained and saved RandomForestRegressor model with parameters {'n_estimators': 75, 'max_depth': 30, 'min_samples_split': 15, 'min_samples_leaf': 2, 'max_features': 'log2', 'bootstrap': False} to ../models/rf_75_estimators_30_depth_15_minsplit_2_minleaf_log2_features_False_bootstrap_hot.pkl\n"
     ]
    },
    {
     "name": "stderr",
     "output_type": "stream",
     "text": [
      "/work/Exam/DataScienceExam/env/airbnb/lib/python3.10/site-packages/sklearn/base.py:1474: DataConversionWarning: A column-vector y was passed when a 1d array was expected. Please change the shape of y to (n_samples,), for example using ravel().\n",
      "  return fit_method(estimator, *args, **kwargs)\n"
     ]
    },
    {
     "name": "stdout",
     "output_type": "stream",
     "text": [
      "Trained and saved RandomForestRegressor model with parameters {'n_estimators': 75, 'max_depth': 30, 'min_samples_split': 15, 'min_samples_leaf': 2, 'max_features': 'log2', 'bootstrap': True} to ../models/rf_75_estimators_30_depth_15_minsplit_2_minleaf_log2_features_True_bootstrap_hot.pkl\n"
     ]
    },
    {
     "name": "stderr",
     "output_type": "stream",
     "text": [
      "/work/Exam/DataScienceExam/env/airbnb/lib/python3.10/site-packages/sklearn/base.py:1474: DataConversionWarning: A column-vector y was passed when a 1d array was expected. Please change the shape of y to (n_samples,), for example using ravel().\n",
      "  return fit_method(estimator, *args, **kwargs)\n"
     ]
    },
    {
     "name": "stdout",
     "output_type": "stream",
     "text": [
      "Trained and saved RandomForestRegressor model with parameters {'n_estimators': 75, 'max_depth': 30, 'min_samples_split': 15, 'min_samples_leaf': 5, 'max_features': 'sqrt', 'bootstrap': False} to ../models/rf_75_estimators_30_depth_15_minsplit_5_minleaf_sqrt_features_False_bootstrap_hot.pkl\n"
     ]
    },
    {
     "name": "stderr",
     "output_type": "stream",
     "text": [
      "/work/Exam/DataScienceExam/env/airbnb/lib/python3.10/site-packages/sklearn/base.py:1474: DataConversionWarning: A column-vector y was passed when a 1d array was expected. Please change the shape of y to (n_samples,), for example using ravel().\n",
      "  return fit_method(estimator, *args, **kwargs)\n"
     ]
    },
    {
     "name": "stdout",
     "output_type": "stream",
     "text": [
      "Trained and saved RandomForestRegressor model with parameters {'n_estimators': 75, 'max_depth': 30, 'min_samples_split': 15, 'min_samples_leaf': 5, 'max_features': 'sqrt', 'bootstrap': True} to ../models/rf_75_estimators_30_depth_15_minsplit_5_minleaf_sqrt_features_True_bootstrap_hot.pkl\n"
     ]
    },
    {
     "name": "stderr",
     "output_type": "stream",
     "text": [
      "/work/Exam/DataScienceExam/env/airbnb/lib/python3.10/site-packages/sklearn/base.py:1474: DataConversionWarning: A column-vector y was passed when a 1d array was expected. Please change the shape of y to (n_samples,), for example using ravel().\n",
      "  return fit_method(estimator, *args, **kwargs)\n"
     ]
    },
    {
     "name": "stdout",
     "output_type": "stream",
     "text": [
      "Trained and saved RandomForestRegressor model with parameters {'n_estimators': 75, 'max_depth': 30, 'min_samples_split': 15, 'min_samples_leaf': 5, 'max_features': 'log2', 'bootstrap': False} to ../models/rf_75_estimators_30_depth_15_minsplit_5_minleaf_log2_features_False_bootstrap_hot.pkl\n"
     ]
    },
    {
     "name": "stderr",
     "output_type": "stream",
     "text": [
      "/work/Exam/DataScienceExam/env/airbnb/lib/python3.10/site-packages/sklearn/base.py:1474: DataConversionWarning: A column-vector y was passed when a 1d array was expected. Please change the shape of y to (n_samples,), for example using ravel().\n",
      "  return fit_method(estimator, *args, **kwargs)\n"
     ]
    },
    {
     "name": "stdout",
     "output_type": "stream",
     "text": [
      "Trained and saved RandomForestRegressor model with parameters {'n_estimators': 75, 'max_depth': 30, 'min_samples_split': 15, 'min_samples_leaf': 5, 'max_features': 'log2', 'bootstrap': True} to ../models/rf_75_estimators_30_depth_15_minsplit_5_minleaf_log2_features_True_bootstrap_hot.pkl\n"
     ]
    },
    {
     "name": "stderr",
     "output_type": "stream",
     "text": [
      "/work/Exam/DataScienceExam/env/airbnb/lib/python3.10/site-packages/sklearn/base.py:1474: DataConversionWarning: A column-vector y was passed when a 1d array was expected. Please change the shape of y to (n_samples,), for example using ravel().\n",
      "  return fit_method(estimator, *args, **kwargs)\n"
     ]
    },
    {
     "name": "stdout",
     "output_type": "stream",
     "text": [
      "Trained and saved RandomForestRegressor model with parameters {'n_estimators': 75, 'max_depth': 40, 'min_samples_split': 5, 'min_samples_leaf': 1, 'max_features': 'sqrt', 'bootstrap': False} to ../models/rf_75_estimators_40_depth_5_minsplit_1_minleaf_sqrt_features_False_bootstrap_hot.pkl\n"
     ]
    },
    {
     "name": "stderr",
     "output_type": "stream",
     "text": [
      "/work/Exam/DataScienceExam/env/airbnb/lib/python3.10/site-packages/sklearn/base.py:1474: DataConversionWarning: A column-vector y was passed when a 1d array was expected. Please change the shape of y to (n_samples,), for example using ravel().\n",
      "  return fit_method(estimator, *args, **kwargs)\n"
     ]
    },
    {
     "name": "stdout",
     "output_type": "stream",
     "text": [
      "Trained and saved RandomForestRegressor model with parameters {'n_estimators': 75, 'max_depth': 40, 'min_samples_split': 5, 'min_samples_leaf': 1, 'max_features': 'sqrt', 'bootstrap': True} to ../models/rf_75_estimators_40_depth_5_minsplit_1_minleaf_sqrt_features_True_bootstrap_hot.pkl\n"
     ]
    },
    {
     "name": "stderr",
     "output_type": "stream",
     "text": [
      "/work/Exam/DataScienceExam/env/airbnb/lib/python3.10/site-packages/sklearn/base.py:1474: DataConversionWarning: A column-vector y was passed when a 1d array was expected. Please change the shape of y to (n_samples,), for example using ravel().\n",
      "  return fit_method(estimator, *args, **kwargs)\n"
     ]
    },
    {
     "name": "stdout",
     "output_type": "stream",
     "text": [
      "Trained and saved RandomForestRegressor model with parameters {'n_estimators': 75, 'max_depth': 40, 'min_samples_split': 5, 'min_samples_leaf': 1, 'max_features': 'log2', 'bootstrap': False} to ../models/rf_75_estimators_40_depth_5_minsplit_1_minleaf_log2_features_False_bootstrap_hot.pkl\n"
     ]
    },
    {
     "name": "stderr",
     "output_type": "stream",
     "text": [
      "/work/Exam/DataScienceExam/env/airbnb/lib/python3.10/site-packages/sklearn/base.py:1474: DataConversionWarning: A column-vector y was passed when a 1d array was expected. Please change the shape of y to (n_samples,), for example using ravel().\n",
      "  return fit_method(estimator, *args, **kwargs)\n"
     ]
    },
    {
     "name": "stdout",
     "output_type": "stream",
     "text": [
      "Trained and saved RandomForestRegressor model with parameters {'n_estimators': 75, 'max_depth': 40, 'min_samples_split': 5, 'min_samples_leaf': 1, 'max_features': 'log2', 'bootstrap': True} to ../models/rf_75_estimators_40_depth_5_minsplit_1_minleaf_log2_features_True_bootstrap_hot.pkl\n"
     ]
    },
    {
     "name": "stderr",
     "output_type": "stream",
     "text": [
      "/work/Exam/DataScienceExam/env/airbnb/lib/python3.10/site-packages/sklearn/base.py:1474: DataConversionWarning: A column-vector y was passed when a 1d array was expected. Please change the shape of y to (n_samples,), for example using ravel().\n",
      "  return fit_method(estimator, *args, **kwargs)\n"
     ]
    },
    {
     "name": "stdout",
     "output_type": "stream",
     "text": [
      "Trained and saved RandomForestRegressor model with parameters {'n_estimators': 75, 'max_depth': 40, 'min_samples_split': 5, 'min_samples_leaf': 2, 'max_features': 'sqrt', 'bootstrap': False} to ../models/rf_75_estimators_40_depth_5_minsplit_2_minleaf_sqrt_features_False_bootstrap_hot.pkl\n"
     ]
    },
    {
     "name": "stderr",
     "output_type": "stream",
     "text": [
      "/work/Exam/DataScienceExam/env/airbnb/lib/python3.10/site-packages/sklearn/base.py:1474: DataConversionWarning: A column-vector y was passed when a 1d array was expected. Please change the shape of y to (n_samples,), for example using ravel().\n",
      "  return fit_method(estimator, *args, **kwargs)\n"
     ]
    },
    {
     "name": "stdout",
     "output_type": "stream",
     "text": [
      "Trained and saved RandomForestRegressor model with parameters {'n_estimators': 75, 'max_depth': 40, 'min_samples_split': 5, 'min_samples_leaf': 2, 'max_features': 'sqrt', 'bootstrap': True} to ../models/rf_75_estimators_40_depth_5_minsplit_2_minleaf_sqrt_features_True_bootstrap_hot.pkl\n"
     ]
    },
    {
     "name": "stderr",
     "output_type": "stream",
     "text": [
      "/work/Exam/DataScienceExam/env/airbnb/lib/python3.10/site-packages/sklearn/base.py:1474: DataConversionWarning: A column-vector y was passed when a 1d array was expected. Please change the shape of y to (n_samples,), for example using ravel().\n",
      "  return fit_method(estimator, *args, **kwargs)\n"
     ]
    },
    {
     "name": "stdout",
     "output_type": "stream",
     "text": [
      "Trained and saved RandomForestRegressor model with parameters {'n_estimators': 75, 'max_depth': 40, 'min_samples_split': 5, 'min_samples_leaf': 2, 'max_features': 'log2', 'bootstrap': False} to ../models/rf_75_estimators_40_depth_5_minsplit_2_minleaf_log2_features_False_bootstrap_hot.pkl\n"
     ]
    },
    {
     "name": "stderr",
     "output_type": "stream",
     "text": [
      "/work/Exam/DataScienceExam/env/airbnb/lib/python3.10/site-packages/sklearn/base.py:1474: DataConversionWarning: A column-vector y was passed when a 1d array was expected. Please change the shape of y to (n_samples,), for example using ravel().\n",
      "  return fit_method(estimator, *args, **kwargs)\n"
     ]
    },
    {
     "name": "stdout",
     "output_type": "stream",
     "text": [
      "Trained and saved RandomForestRegressor model with parameters {'n_estimators': 75, 'max_depth': 40, 'min_samples_split': 5, 'min_samples_leaf': 2, 'max_features': 'log2', 'bootstrap': True} to ../models/rf_75_estimators_40_depth_5_minsplit_2_minleaf_log2_features_True_bootstrap_hot.pkl\n"
     ]
    },
    {
     "name": "stderr",
     "output_type": "stream",
     "text": [
      "/work/Exam/DataScienceExam/env/airbnb/lib/python3.10/site-packages/sklearn/base.py:1474: DataConversionWarning: A column-vector y was passed when a 1d array was expected. Please change the shape of y to (n_samples,), for example using ravel().\n",
      "  return fit_method(estimator, *args, **kwargs)\n"
     ]
    },
    {
     "name": "stdout",
     "output_type": "stream",
     "text": [
      "Trained and saved RandomForestRegressor model with parameters {'n_estimators': 75, 'max_depth': 40, 'min_samples_split': 5, 'min_samples_leaf': 5, 'max_features': 'sqrt', 'bootstrap': False} to ../models/rf_75_estimators_40_depth_5_minsplit_5_minleaf_sqrt_features_False_bootstrap_hot.pkl\n"
     ]
    },
    {
     "name": "stderr",
     "output_type": "stream",
     "text": [
      "/work/Exam/DataScienceExam/env/airbnb/lib/python3.10/site-packages/sklearn/base.py:1474: DataConversionWarning: A column-vector y was passed when a 1d array was expected. Please change the shape of y to (n_samples,), for example using ravel().\n",
      "  return fit_method(estimator, *args, **kwargs)\n"
     ]
    },
    {
     "name": "stdout",
     "output_type": "stream",
     "text": [
      "Trained and saved RandomForestRegressor model with parameters {'n_estimators': 75, 'max_depth': 40, 'min_samples_split': 5, 'min_samples_leaf': 5, 'max_features': 'sqrt', 'bootstrap': True} to ../models/rf_75_estimators_40_depth_5_minsplit_5_minleaf_sqrt_features_True_bootstrap_hot.pkl\n"
     ]
    },
    {
     "name": "stderr",
     "output_type": "stream",
     "text": [
      "/work/Exam/DataScienceExam/env/airbnb/lib/python3.10/site-packages/sklearn/base.py:1474: DataConversionWarning: A column-vector y was passed when a 1d array was expected. Please change the shape of y to (n_samples,), for example using ravel().\n",
      "  return fit_method(estimator, *args, **kwargs)\n"
     ]
    },
    {
     "name": "stdout",
     "output_type": "stream",
     "text": [
      "Trained and saved RandomForestRegressor model with parameters {'n_estimators': 75, 'max_depth': 40, 'min_samples_split': 5, 'min_samples_leaf': 5, 'max_features': 'log2', 'bootstrap': False} to ../models/rf_75_estimators_40_depth_5_minsplit_5_minleaf_log2_features_False_bootstrap_hot.pkl\n"
     ]
    },
    {
     "name": "stderr",
     "output_type": "stream",
     "text": [
      "/work/Exam/DataScienceExam/env/airbnb/lib/python3.10/site-packages/sklearn/base.py:1474: DataConversionWarning: A column-vector y was passed when a 1d array was expected. Please change the shape of y to (n_samples,), for example using ravel().\n",
      "  return fit_method(estimator, *args, **kwargs)\n"
     ]
    },
    {
     "name": "stdout",
     "output_type": "stream",
     "text": [
      "Trained and saved RandomForestRegressor model with parameters {'n_estimators': 75, 'max_depth': 40, 'min_samples_split': 5, 'min_samples_leaf': 5, 'max_features': 'log2', 'bootstrap': True} to ../models/rf_75_estimators_40_depth_5_minsplit_5_minleaf_log2_features_True_bootstrap_hot.pkl\n"
     ]
    },
    {
     "name": "stderr",
     "output_type": "stream",
     "text": [
      "/work/Exam/DataScienceExam/env/airbnb/lib/python3.10/site-packages/sklearn/base.py:1474: DataConversionWarning: A column-vector y was passed when a 1d array was expected. Please change the shape of y to (n_samples,), for example using ravel().\n",
      "  return fit_method(estimator, *args, **kwargs)\n"
     ]
    },
    {
     "name": "stdout",
     "output_type": "stream",
     "text": [
      "Trained and saved RandomForestRegressor model with parameters {'n_estimators': 75, 'max_depth': 40, 'min_samples_split': 10, 'min_samples_leaf': 1, 'max_features': 'sqrt', 'bootstrap': False} to ../models/rf_75_estimators_40_depth_10_minsplit_1_minleaf_sqrt_features_False_bootstrap_hot.pkl\n"
     ]
    },
    {
     "name": "stderr",
     "output_type": "stream",
     "text": [
      "/work/Exam/DataScienceExam/env/airbnb/lib/python3.10/site-packages/sklearn/base.py:1474: DataConversionWarning: A column-vector y was passed when a 1d array was expected. Please change the shape of y to (n_samples,), for example using ravel().\n",
      "  return fit_method(estimator, *args, **kwargs)\n"
     ]
    },
    {
     "name": "stdout",
     "output_type": "stream",
     "text": [
      "Trained and saved RandomForestRegressor model with parameters {'n_estimators': 75, 'max_depth': 40, 'min_samples_split': 10, 'min_samples_leaf': 1, 'max_features': 'sqrt', 'bootstrap': True} to ../models/rf_75_estimators_40_depth_10_minsplit_1_minleaf_sqrt_features_True_bootstrap_hot.pkl\n"
     ]
    },
    {
     "name": "stderr",
     "output_type": "stream",
     "text": [
      "/work/Exam/DataScienceExam/env/airbnb/lib/python3.10/site-packages/sklearn/base.py:1474: DataConversionWarning: A column-vector y was passed when a 1d array was expected. Please change the shape of y to (n_samples,), for example using ravel().\n",
      "  return fit_method(estimator, *args, **kwargs)\n"
     ]
    },
    {
     "name": "stdout",
     "output_type": "stream",
     "text": [
      "Trained and saved RandomForestRegressor model with parameters {'n_estimators': 75, 'max_depth': 40, 'min_samples_split': 10, 'min_samples_leaf': 1, 'max_features': 'log2', 'bootstrap': False} to ../models/rf_75_estimators_40_depth_10_minsplit_1_minleaf_log2_features_False_bootstrap_hot.pkl\n"
     ]
    },
    {
     "name": "stderr",
     "output_type": "stream",
     "text": [
      "/work/Exam/DataScienceExam/env/airbnb/lib/python3.10/site-packages/sklearn/base.py:1474: DataConversionWarning: A column-vector y was passed when a 1d array was expected. Please change the shape of y to (n_samples,), for example using ravel().\n",
      "  return fit_method(estimator, *args, **kwargs)\n"
     ]
    },
    {
     "name": "stdout",
     "output_type": "stream",
     "text": [
      "Trained and saved RandomForestRegressor model with parameters {'n_estimators': 75, 'max_depth': 40, 'min_samples_split': 10, 'min_samples_leaf': 1, 'max_features': 'log2', 'bootstrap': True} to ../models/rf_75_estimators_40_depth_10_minsplit_1_minleaf_log2_features_True_bootstrap_hot.pkl\n"
     ]
    },
    {
     "name": "stderr",
     "output_type": "stream",
     "text": [
      "/work/Exam/DataScienceExam/env/airbnb/lib/python3.10/site-packages/sklearn/base.py:1474: DataConversionWarning: A column-vector y was passed when a 1d array was expected. Please change the shape of y to (n_samples,), for example using ravel().\n",
      "  return fit_method(estimator, *args, **kwargs)\n"
     ]
    },
    {
     "name": "stdout",
     "output_type": "stream",
     "text": [
      "Trained and saved RandomForestRegressor model with parameters {'n_estimators': 75, 'max_depth': 40, 'min_samples_split': 10, 'min_samples_leaf': 2, 'max_features': 'sqrt', 'bootstrap': False} to ../models/rf_75_estimators_40_depth_10_minsplit_2_minleaf_sqrt_features_False_bootstrap_hot.pkl\n"
     ]
    },
    {
     "name": "stderr",
     "output_type": "stream",
     "text": [
      "/work/Exam/DataScienceExam/env/airbnb/lib/python3.10/site-packages/sklearn/base.py:1474: DataConversionWarning: A column-vector y was passed when a 1d array was expected. Please change the shape of y to (n_samples,), for example using ravel().\n",
      "  return fit_method(estimator, *args, **kwargs)\n"
     ]
    },
    {
     "name": "stdout",
     "output_type": "stream",
     "text": [
      "Trained and saved RandomForestRegressor model with parameters {'n_estimators': 75, 'max_depth': 40, 'min_samples_split': 10, 'min_samples_leaf': 2, 'max_features': 'sqrt', 'bootstrap': True} to ../models/rf_75_estimators_40_depth_10_minsplit_2_minleaf_sqrt_features_True_bootstrap_hot.pkl\n"
     ]
    },
    {
     "name": "stderr",
     "output_type": "stream",
     "text": [
      "/work/Exam/DataScienceExam/env/airbnb/lib/python3.10/site-packages/sklearn/base.py:1474: DataConversionWarning: A column-vector y was passed when a 1d array was expected. Please change the shape of y to (n_samples,), for example using ravel().\n",
      "  return fit_method(estimator, *args, **kwargs)\n"
     ]
    },
    {
     "name": "stdout",
     "output_type": "stream",
     "text": [
      "Trained and saved RandomForestRegressor model with parameters {'n_estimators': 75, 'max_depth': 40, 'min_samples_split': 10, 'min_samples_leaf': 2, 'max_features': 'log2', 'bootstrap': False} to ../models/rf_75_estimators_40_depth_10_minsplit_2_minleaf_log2_features_False_bootstrap_hot.pkl\n"
     ]
    },
    {
     "name": "stderr",
     "output_type": "stream",
     "text": [
      "/work/Exam/DataScienceExam/env/airbnb/lib/python3.10/site-packages/sklearn/base.py:1474: DataConversionWarning: A column-vector y was passed when a 1d array was expected. Please change the shape of y to (n_samples,), for example using ravel().\n",
      "  return fit_method(estimator, *args, **kwargs)\n"
     ]
    },
    {
     "name": "stdout",
     "output_type": "stream",
     "text": [
      "Trained and saved RandomForestRegressor model with parameters {'n_estimators': 75, 'max_depth': 40, 'min_samples_split': 10, 'min_samples_leaf': 2, 'max_features': 'log2', 'bootstrap': True} to ../models/rf_75_estimators_40_depth_10_minsplit_2_minleaf_log2_features_True_bootstrap_hot.pkl\n"
     ]
    },
    {
     "name": "stderr",
     "output_type": "stream",
     "text": [
      "/work/Exam/DataScienceExam/env/airbnb/lib/python3.10/site-packages/sklearn/base.py:1474: DataConversionWarning: A column-vector y was passed when a 1d array was expected. Please change the shape of y to (n_samples,), for example using ravel().\n",
      "  return fit_method(estimator, *args, **kwargs)\n"
     ]
    },
    {
     "name": "stdout",
     "output_type": "stream",
     "text": [
      "Trained and saved RandomForestRegressor model with parameters {'n_estimators': 75, 'max_depth': 40, 'min_samples_split': 10, 'min_samples_leaf': 5, 'max_features': 'sqrt', 'bootstrap': False} to ../models/rf_75_estimators_40_depth_10_minsplit_5_minleaf_sqrt_features_False_bootstrap_hot.pkl\n"
     ]
    },
    {
     "name": "stderr",
     "output_type": "stream",
     "text": [
      "/work/Exam/DataScienceExam/env/airbnb/lib/python3.10/site-packages/sklearn/base.py:1474: DataConversionWarning: A column-vector y was passed when a 1d array was expected. Please change the shape of y to (n_samples,), for example using ravel().\n",
      "  return fit_method(estimator, *args, **kwargs)\n"
     ]
    },
    {
     "name": "stdout",
     "output_type": "stream",
     "text": [
      "Trained and saved RandomForestRegressor model with parameters {'n_estimators': 75, 'max_depth': 40, 'min_samples_split': 10, 'min_samples_leaf': 5, 'max_features': 'sqrt', 'bootstrap': True} to ../models/rf_75_estimators_40_depth_10_minsplit_5_minleaf_sqrt_features_True_bootstrap_hot.pkl\n"
     ]
    },
    {
     "name": "stderr",
     "output_type": "stream",
     "text": [
      "/work/Exam/DataScienceExam/env/airbnb/lib/python3.10/site-packages/sklearn/base.py:1474: DataConversionWarning: A column-vector y was passed when a 1d array was expected. Please change the shape of y to (n_samples,), for example using ravel().\n",
      "  return fit_method(estimator, *args, **kwargs)\n"
     ]
    },
    {
     "name": "stdout",
     "output_type": "stream",
     "text": [
      "Trained and saved RandomForestRegressor model with parameters {'n_estimators': 75, 'max_depth': 40, 'min_samples_split': 10, 'min_samples_leaf': 5, 'max_features': 'log2', 'bootstrap': False} to ../models/rf_75_estimators_40_depth_10_minsplit_5_minleaf_log2_features_False_bootstrap_hot.pkl\n"
     ]
    },
    {
     "name": "stderr",
     "output_type": "stream",
     "text": [
      "/work/Exam/DataScienceExam/env/airbnb/lib/python3.10/site-packages/sklearn/base.py:1474: DataConversionWarning: A column-vector y was passed when a 1d array was expected. Please change the shape of y to (n_samples,), for example using ravel().\n",
      "  return fit_method(estimator, *args, **kwargs)\n"
     ]
    },
    {
     "name": "stdout",
     "output_type": "stream",
     "text": [
      "Trained and saved RandomForestRegressor model with parameters {'n_estimators': 75, 'max_depth': 40, 'min_samples_split': 10, 'min_samples_leaf': 5, 'max_features': 'log2', 'bootstrap': True} to ../models/rf_75_estimators_40_depth_10_minsplit_5_minleaf_log2_features_True_bootstrap_hot.pkl\n"
     ]
    },
    {
     "name": "stderr",
     "output_type": "stream",
     "text": [
      "/work/Exam/DataScienceExam/env/airbnb/lib/python3.10/site-packages/sklearn/base.py:1474: DataConversionWarning: A column-vector y was passed when a 1d array was expected. Please change the shape of y to (n_samples,), for example using ravel().\n",
      "  return fit_method(estimator, *args, **kwargs)\n"
     ]
    },
    {
     "name": "stdout",
     "output_type": "stream",
     "text": [
      "Trained and saved RandomForestRegressor model with parameters {'n_estimators': 75, 'max_depth': 40, 'min_samples_split': 15, 'min_samples_leaf': 1, 'max_features': 'sqrt', 'bootstrap': False} to ../models/rf_75_estimators_40_depth_15_minsplit_1_minleaf_sqrt_features_False_bootstrap_hot.pkl\n"
     ]
    },
    {
     "name": "stderr",
     "output_type": "stream",
     "text": [
      "/work/Exam/DataScienceExam/env/airbnb/lib/python3.10/site-packages/sklearn/base.py:1474: DataConversionWarning: A column-vector y was passed when a 1d array was expected. Please change the shape of y to (n_samples,), for example using ravel().\n",
      "  return fit_method(estimator, *args, **kwargs)\n"
     ]
    },
    {
     "name": "stdout",
     "output_type": "stream",
     "text": [
      "Trained and saved RandomForestRegressor model with parameters {'n_estimators': 75, 'max_depth': 40, 'min_samples_split': 15, 'min_samples_leaf': 1, 'max_features': 'sqrt', 'bootstrap': True} to ../models/rf_75_estimators_40_depth_15_minsplit_1_minleaf_sqrt_features_True_bootstrap_hot.pkl\n"
     ]
    },
    {
     "name": "stderr",
     "output_type": "stream",
     "text": [
      "/work/Exam/DataScienceExam/env/airbnb/lib/python3.10/site-packages/sklearn/base.py:1474: DataConversionWarning: A column-vector y was passed when a 1d array was expected. Please change the shape of y to (n_samples,), for example using ravel().\n",
      "  return fit_method(estimator, *args, **kwargs)\n"
     ]
    },
    {
     "name": "stdout",
     "output_type": "stream",
     "text": [
      "Trained and saved RandomForestRegressor model with parameters {'n_estimators': 75, 'max_depth': 40, 'min_samples_split': 15, 'min_samples_leaf': 1, 'max_features': 'log2', 'bootstrap': False} to ../models/rf_75_estimators_40_depth_15_minsplit_1_minleaf_log2_features_False_bootstrap_hot.pkl\n"
     ]
    },
    {
     "name": "stderr",
     "output_type": "stream",
     "text": [
      "/work/Exam/DataScienceExam/env/airbnb/lib/python3.10/site-packages/sklearn/base.py:1474: DataConversionWarning: A column-vector y was passed when a 1d array was expected. Please change the shape of y to (n_samples,), for example using ravel().\n",
      "  return fit_method(estimator, *args, **kwargs)\n"
     ]
    },
    {
     "name": "stdout",
     "output_type": "stream",
     "text": [
      "Trained and saved RandomForestRegressor model with parameters {'n_estimators': 75, 'max_depth': 40, 'min_samples_split': 15, 'min_samples_leaf': 1, 'max_features': 'log2', 'bootstrap': True} to ../models/rf_75_estimators_40_depth_15_minsplit_1_minleaf_log2_features_True_bootstrap_hot.pkl\n"
     ]
    },
    {
     "name": "stderr",
     "output_type": "stream",
     "text": [
      "/work/Exam/DataScienceExam/env/airbnb/lib/python3.10/site-packages/sklearn/base.py:1474: DataConversionWarning: A column-vector y was passed when a 1d array was expected. Please change the shape of y to (n_samples,), for example using ravel().\n",
      "  return fit_method(estimator, *args, **kwargs)\n"
     ]
    },
    {
     "name": "stdout",
     "output_type": "stream",
     "text": [
      "Trained and saved RandomForestRegressor model with parameters {'n_estimators': 75, 'max_depth': 40, 'min_samples_split': 15, 'min_samples_leaf': 2, 'max_features': 'sqrt', 'bootstrap': False} to ../models/rf_75_estimators_40_depth_15_minsplit_2_minleaf_sqrt_features_False_bootstrap_hot.pkl\n"
     ]
    },
    {
     "name": "stderr",
     "output_type": "stream",
     "text": [
      "/work/Exam/DataScienceExam/env/airbnb/lib/python3.10/site-packages/sklearn/base.py:1474: DataConversionWarning: A column-vector y was passed when a 1d array was expected. Please change the shape of y to (n_samples,), for example using ravel().\n",
      "  return fit_method(estimator, *args, **kwargs)\n"
     ]
    },
    {
     "name": "stdout",
     "output_type": "stream",
     "text": [
      "Trained and saved RandomForestRegressor model with parameters {'n_estimators': 75, 'max_depth': 40, 'min_samples_split': 15, 'min_samples_leaf': 2, 'max_features': 'sqrt', 'bootstrap': True} to ../models/rf_75_estimators_40_depth_15_minsplit_2_minleaf_sqrt_features_True_bootstrap_hot.pkl\n"
     ]
    },
    {
     "name": "stderr",
     "output_type": "stream",
     "text": [
      "/work/Exam/DataScienceExam/env/airbnb/lib/python3.10/site-packages/sklearn/base.py:1474: DataConversionWarning: A column-vector y was passed when a 1d array was expected. Please change the shape of y to (n_samples,), for example using ravel().\n",
      "  return fit_method(estimator, *args, **kwargs)\n"
     ]
    },
    {
     "name": "stdout",
     "output_type": "stream",
     "text": [
      "Trained and saved RandomForestRegressor model with parameters {'n_estimators': 75, 'max_depth': 40, 'min_samples_split': 15, 'min_samples_leaf': 2, 'max_features': 'log2', 'bootstrap': False} to ../models/rf_75_estimators_40_depth_15_minsplit_2_minleaf_log2_features_False_bootstrap_hot.pkl\n"
     ]
    },
    {
     "name": "stderr",
     "output_type": "stream",
     "text": [
      "/work/Exam/DataScienceExam/env/airbnb/lib/python3.10/site-packages/sklearn/base.py:1474: DataConversionWarning: A column-vector y was passed when a 1d array was expected. Please change the shape of y to (n_samples,), for example using ravel().\n",
      "  return fit_method(estimator, *args, **kwargs)\n"
     ]
    },
    {
     "name": "stdout",
     "output_type": "stream",
     "text": [
      "Trained and saved RandomForestRegressor model with parameters {'n_estimators': 75, 'max_depth': 40, 'min_samples_split': 15, 'min_samples_leaf': 2, 'max_features': 'log2', 'bootstrap': True} to ../models/rf_75_estimators_40_depth_15_minsplit_2_minleaf_log2_features_True_bootstrap_hot.pkl\n"
     ]
    },
    {
     "name": "stderr",
     "output_type": "stream",
     "text": [
      "/work/Exam/DataScienceExam/env/airbnb/lib/python3.10/site-packages/sklearn/base.py:1474: DataConversionWarning: A column-vector y was passed when a 1d array was expected. Please change the shape of y to (n_samples,), for example using ravel().\n",
      "  return fit_method(estimator, *args, **kwargs)\n"
     ]
    },
    {
     "name": "stdout",
     "output_type": "stream",
     "text": [
      "Trained and saved RandomForestRegressor model with parameters {'n_estimators': 75, 'max_depth': 40, 'min_samples_split': 15, 'min_samples_leaf': 5, 'max_features': 'sqrt', 'bootstrap': False} to ../models/rf_75_estimators_40_depth_15_minsplit_5_minleaf_sqrt_features_False_bootstrap_hot.pkl\n"
     ]
    },
    {
     "name": "stderr",
     "output_type": "stream",
     "text": [
      "/work/Exam/DataScienceExam/env/airbnb/lib/python3.10/site-packages/sklearn/base.py:1474: DataConversionWarning: A column-vector y was passed when a 1d array was expected. Please change the shape of y to (n_samples,), for example using ravel().\n",
      "  return fit_method(estimator, *args, **kwargs)\n"
     ]
    },
    {
     "name": "stdout",
     "output_type": "stream",
     "text": [
      "Trained and saved RandomForestRegressor model with parameters {'n_estimators': 75, 'max_depth': 40, 'min_samples_split': 15, 'min_samples_leaf': 5, 'max_features': 'sqrt', 'bootstrap': True} to ../models/rf_75_estimators_40_depth_15_minsplit_5_minleaf_sqrt_features_True_bootstrap_hot.pkl\n"
     ]
    },
    {
     "name": "stderr",
     "output_type": "stream",
     "text": [
      "/work/Exam/DataScienceExam/env/airbnb/lib/python3.10/site-packages/sklearn/base.py:1474: DataConversionWarning: A column-vector y was passed when a 1d array was expected. Please change the shape of y to (n_samples,), for example using ravel().\n",
      "  return fit_method(estimator, *args, **kwargs)\n"
     ]
    },
    {
     "name": "stdout",
     "output_type": "stream",
     "text": [
      "Trained and saved RandomForestRegressor model with parameters {'n_estimators': 75, 'max_depth': 40, 'min_samples_split': 15, 'min_samples_leaf': 5, 'max_features': 'log2', 'bootstrap': False} to ../models/rf_75_estimators_40_depth_15_minsplit_5_minleaf_log2_features_False_bootstrap_hot.pkl\n"
     ]
    },
    {
     "name": "stderr",
     "output_type": "stream",
     "text": [
      "/work/Exam/DataScienceExam/env/airbnb/lib/python3.10/site-packages/sklearn/base.py:1474: DataConversionWarning: A column-vector y was passed when a 1d array was expected. Please change the shape of y to (n_samples,), for example using ravel().\n",
      "  return fit_method(estimator, *args, **kwargs)\n"
     ]
    },
    {
     "name": "stdout",
     "output_type": "stream",
     "text": [
      "Trained and saved RandomForestRegressor model with parameters {'n_estimators': 75, 'max_depth': 40, 'min_samples_split': 15, 'min_samples_leaf': 5, 'max_features': 'log2', 'bootstrap': True} to ../models/rf_75_estimators_40_depth_15_minsplit_5_minleaf_log2_features_True_bootstrap_hot.pkl\n"
     ]
    }
   ],
   "source": [
    "# Define parameter grid for Random Forest\n",
    "param_grid_rf = [\n",
    "    {'n_estimators': n, 'max_depth': d, 'min_samples_split': s, 'min_samples_leaf': l, 'max_features': f, 'bootstrap': b} \n",
    "    for n in [25, 50, 75]  # including the best n_estimators\n",
    "    for d in [None, 20, 30, 40]  # starting with best max_depth and adding more options\n",
    "    for s in [5, 10, 15]  # including the best min_samples_split\n",
    "    for l in [1, 2, 5]  # including the best min_samples_leaf\n",
    "    for f in ['sqrt', 'log2']  # starting with best max_features and adding more options\n",
    "    for b in [False, True]  # including the best bootstrap\n",
    "]\n",
    "\n",
    "# Initialize a list to store all performances\n",
    "all_performances = []\n",
    "\n",
    "# List of dataset names and their corresponding folder names\n",
    "dataset_names = ['hot']\n",
    "\n",
    "# Load each dataset and perform custom grid search\n",
    "for dataset_name in dataset_names:\n",
    "    X_train, X_val, X_test, y_train, y_val, y_test, scaler_y = load_dataset(dataset_name)\n",
    "    \n",
    "    # Random Forest Grid Search\n",
    "    custom_grid_search_rf(X_train, y_train, param_grid_rf, dataset_name)\n",
    "\n",
    "# Turn into pd.DataFrame\n",
    "perf_df = pd.DataFrame(all_performances)\n",
    "\n",
    "# Save performances to a CSV file\n",
    "perf_df.to_csv('../data/rf_performances.csv', index=False)"
   ]
  }
 ],
 "metadata": {
  "kernelspec": {
   "display_name": "airbnb",
   "language": "python",
   "name": "airbnb"
  },
  "language_info": {
   "codemirror_mode": {
    "name": "ipython",
    "version": 3
   },
   "file_extension": ".py",
   "mimetype": "text/x-python",
   "name": "python",
   "nbconvert_exporter": "python",
   "pygments_lexer": "ipython3",
   "version": "3.10.12"
  },
  "orig_nbformat": 4
 },
 "nbformat": 4,
 "nbformat_minor": 2
}
